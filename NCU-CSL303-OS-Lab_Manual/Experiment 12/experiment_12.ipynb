{
 "cells": [
  {
   "cell_type": "markdown",
   "metadata": {},
   "source": [
    "# Experiment 12"
   ]
  },
  {
   "cell_type": "markdown",
   "metadata": {},
   "source": [
    "#### Problem Statement: \n",
    "Write a program to implement page replacement policy using \n",
    "1. LRU \n",
    "2. FIFO \n",
    "3. Optimal "
   ]
  },
  {
   "cell_type": "markdown",
   "metadata": {},
   "source": [
    "#### Code: "
   ]
  },
  {
   "cell_type": "code",
   "execution_count": 2,
   "metadata": {},
   "outputs": [],
   "source": [
    "# importing required libraries\n",
    "from collections import deque"
   ]
  },
  {
   "cell_type": "code",
   "execution_count": 3,
   "metadata": {},
   "outputs": [
    {
     "name": "stdout",
     "output_type": "stream",
     "text": [
      "Page Faults using LRU: 7\n",
      "Page Faults using FIFO: 7\n",
      "Page Faults using Optimal: 6\n"
     ]
    }
   ],
   "source": [
    "# lru page replacement\n",
    "def lru(pages, n, capacity):\n",
    "    # to represent the set of current pages\n",
    "    s = set()\n",
    "\n",
    "    # to store pages in the order of use\n",
    "    indexes = deque()\n",
    "\n",
    "    page_faults = 0\n",
    "\n",
    "    for i in range(n):\n",
    "        # check if the set can hold more pages\n",
    "        if len(s) < capacity:\n",
    "            # check if the page is not in the set already\n",
    "            if pages[i] not in s:\n",
    "                s.add(pages[i])\n",
    "                page_faults += 1\n",
    "                indexes.append(pages[i])\n",
    "\n",
    "        else:\n",
    "            # check if the page is not present in the set\n",
    "            if pages[i] not in s:\n",
    "                # pop the first page from the queue\n",
    "                val = indexes.popleft()\n",
    "                s.remove(val)\n",
    "\n",
    "                # insert the current page into the set\n",
    "                s.add(pages[i])\n",
    "                indexes.append(pages[i])\n",
    "\n",
    "                # increment page faults\n",
    "                page_faults += 1\n",
    "\n",
    "    return page_faults\n",
    "\n",
    "# FIFO page replacement\n",
    "def fifo(pages, n, capacity):\n",
    "    s = set()\n",
    "    indexes = deque()\n",
    "\n",
    "    page_faults = 0\n",
    "\n",
    "    for i in range(n):\n",
    "        if len(s) < capacity:\n",
    "            if pages[i] not in s:\n",
    "                s.add(pages[i])\n",
    "                page_faults += 1\n",
    "                indexes.append(pages[i])\n",
    "\n",
    "        else:\n",
    "            if pages[i] not in s:\n",
    "                val = indexes.popleft()\n",
    "                s.remove(val)\n",
    "                s.add(pages[i])\n",
    "                indexes.append(pages[i])\n",
    "                page_faults += 1\n",
    "\n",
    "    return page_faults\n",
    "\n",
    "# optimal page replacement\n",
    "def optimal(pages, n, capacity):\n",
    "    s = set()\n",
    "    future = [0] * capacity\n",
    "    page_faults = 0\n",
    "\n",
    "    for i in range(n):\n",
    "        if len(s) < capacity:\n",
    "            if pages[i] not in s:\n",
    "                s.add(pages[i])\n",
    "                page_faults += 1\n",
    "        else:\n",
    "            if pages[i] not in s:\n",
    "                furthest = -1\n",
    "                val = -1\n",
    "                for page in s:\n",
    "                    try:\n",
    "                        idx = pages.index(page, i)\n",
    "                        if idx > furthest:\n",
    "                            furthest = idx\n",
    "                            val = page\n",
    "                    except ValueError:\n",
    "                        val = page\n",
    "                        break\n",
    "\n",
    "                s.remove(val)\n",
    "                s.add(pages[i])\n",
    "                page_faults += 1\n",
    "\n",
    "    return page_faults\n",
    "\n",
    "if __name__ == \"__main__\":\n",
    "    pages = [7, 0, 1, 2, 0, 3, 0, 4, 2, 3, 0, 3, 2]\n",
    "    n = len(pages)\n",
    "    capacity = 4\n",
    "\n",
    "    print(f\"Page Faults using LRU: {lru(pages, n, capacity)}\")\n",
    "    print(f\"Page Faults using FIFO: {fifo(pages, n, capacity)}\")\n",
    "    print(f\"Page Faults using Optimal: {optimal(pages, n, capacity)}\")\n"
   ]
  }
 ],
 "metadata": {
  "kernelspec": {
   "display_name": "Python 3",
   "language": "python",
   "name": "python3"
  },
  "language_info": {
   "codemirror_mode": {
    "name": "ipython",
    "version": 3
   },
   "file_extension": ".py",
   "mimetype": "text/x-python",
   "name": "python",
   "nbconvert_exporter": "python",
   "pygments_lexer": "ipython3",
   "version": "3.12.0"
  },
  "orig_nbformat": 4
 },
 "nbformat": 4,
 "nbformat_minor": 2
}
