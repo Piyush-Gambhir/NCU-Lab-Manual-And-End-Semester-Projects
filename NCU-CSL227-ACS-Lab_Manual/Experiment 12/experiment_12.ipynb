{
 "cells": [
  {
   "attachments": {},
   "cell_type": "markdown",
   "metadata": {},
   "source": [
    "## Experiment 12\n",
    "### Write a python program to conduct a hypothesis test for unknown variance."
   ]
  },
  {
   "cell_type": "code",
   "execution_count": 21,
   "metadata": {},
   "outputs": [],
   "source": [
    "# importing required libraries\n",
    "import math\n",
    "import numpy as np\n",
    "import pandas as pd\n",
    "import matplotlib.pyplot as plt\n",
    "import seaborn as sns\n",
    "import scipy.stats as stats"
   ]
  },
  {
   "attachments": {},
   "cell_type": "markdown",
   "metadata": {},
   "source": [
    "#### One Sample T-Test"
   ]
  },
  {
   "cell_type": "code",
   "execution_count": 22,
   "metadata": {},
   "outputs": [
    {
     "name": "stdout",
     "output_type": "stream",
     "text": [
      "Mean age of the population: 50.48598\n",
      "Mean age of the sample: 42.92\n"
     ]
    }
   ],
   "source": [
    "# Set the random seed for reproducibility\n",
    "np.random.seed(8)\n",
    "\n",
    "# Generate a population age distribution with a mean of 40 and a size of 200,000\n",
    "population_ages1 = stats.poisson.rvs(loc=18, mu=40, size=150000)\n",
    "population_ages2 = stats.poisson.rvs(loc=18, mu=10, size=50000)\n",
    "population_ages = np.concatenate((population_ages1, population_ages2))\n",
    "\n",
    "# Generate a sample from a specific state (e.g., Minnesota) with a mean of 35 and a sample size of 50\n",
    "minnesota_ages1 = stats.poisson.rvs(loc=18, mu=35, size=30)\n",
    "minnesota_ages2 = stats.poisson.rvs(loc=18, mu=10, size=20)\n",
    "minnesota_ages = np.concatenate((minnesota_ages1, minnesota_ages2))\n",
    "\n",
    "# Print the mean age of the population and the sample\n",
    "print(\"Mean age of the population:\", population_ages.mean())\n",
    "print(\"Mean age of the sample:\", minnesota_ages.mean())\n"
   ]
  },
  {
   "cell_type": "code",
   "execution_count": 23,
   "metadata": {},
   "outputs": [
    {
     "name": "stdout",
     "output_type": "stream",
     "text": [
      "The t-statistic is -4.155007645348416 and the p-value is 0.00012990129848405887.\n"
     ]
    }
   ],
   "source": [
    "# Calculate the t-statistic and p-value for the one-sample t-test\n",
    "t_stat, p_val = stats.ttest_1samp(a=minnesota_ages, popmean=population_ages.mean())\n",
    "\n",
    "print(\"The t-statistic is {} and the p-value is {}.\".format(t_stat, p_val))"
   ]
  },
  {
   "cell_type": "code",
   "execution_count": 24,
   "metadata": {},
   "outputs": [
    {
     "name": "stdout",
     "output_type": "stream",
     "text": [
      "The t-quantiles for a 95% confidence level with 49 degrees of freedom are -2.0095752344892093 and 2.009575234489209.\n"
     ]
    }
   ],
   "source": [
    "# Check the quantiles for a 95% confidence level with 49 degrees of freedom\n",
    "t_quantile_low = stats.t.ppf(q=0.025, df=49)\n",
    "t_quantile_high = stats.t.ppf(q=0.975, df=49)\n",
    "print(\"The t-quantiles for a 95% confidence level with 49 degrees of freedom are {} and {}.\".format(t_quantile_low, t_quantile_high))"
   ]
  },
  {
   "cell_type": "code",
   "execution_count": 25,
   "metadata": {},
   "outputs": [
    {
     "name": "stdout",
     "output_type": "stream",
     "text": [
      "The calculated p-value is 0.00012990129848405887.\n"
     ]
    }
   ],
   "source": [
    "# Calculate the p-value with the t-statistic and 49 degrees of freedom\n",
    "p_val_calculated = stats.t.cdf(x=t_stat, df=49) * 2\n",
    "print(\"The calculated p-value is {}.\".format(p_val_calculated))"
   ]
  },
  {
   "cell_type": "code",
   "execution_count": 26,
   "metadata": {},
   "outputs": [],
   "source": [
    "# Calculate the standard error of the mean for the sample\n",
    "sigma = minnesota_ages.std() / math.sqrt(50)"
   ]
  },
  {
   "cell_type": "code",
   "execution_count": 27,
   "metadata": {},
   "outputs": [
    {
     "name": "stdout",
     "output_type": "stream",
     "text": [
      "The 95% confidence interval for the sample mean is (39.29748102093582, 46.542518979064184).\n"
     ]
    },
    {
     "name": "stderr",
     "output_type": "stream",
     "text": [
      "C:\\Users\\mainp\\AppData\\Local\\Temp\\ipykernel_14524\\4103696102.py:2: DeprecationWarning: Use of keyword argument 'alpha' for method 'interval' is deprecated and wil be removed in SciPy 1.11.0. Use first positional argument or keyword argument 'confidence' instead.\n",
      "  conf_int_95 = stats.t.interval(alpha=0.95, df=49, loc=minnesota_ages.mean(), scale=sigma)\n"
     ]
    }
   ],
   "source": [
    "# Construct a 95% confidence interval for the sample mean\n",
    "conf_int_95 = stats.t.interval(alpha=0.95, df=49, loc=minnesota_ages.mean(), scale=sigma)\n",
    "print(\"The 95% confidence interval for the sample mean is {}.\".format(conf_int_95))"
   ]
  },
  {
   "cell_type": "code",
   "execution_count": 28,
   "metadata": {},
   "outputs": [
    {
     "name": "stdout",
     "output_type": "stream",
     "text": [
      "The 99% confidence interval for the sample mean is (38.08904034203606, 47.750959657963946).\n"
     ]
    },
    {
     "name": "stderr",
     "output_type": "stream",
     "text": [
      "C:\\Users\\mainp\\AppData\\Local\\Temp\\ipykernel_14524\\176364369.py:2: DeprecationWarning: Use of keyword argument 'alpha' for method 'interval' is deprecated and wil be removed in SciPy 1.11.0. Use first positional argument or keyword argument 'confidence' instead.\n",
      "  conf_int_99 = stats.t.interval(alpha=0.99, df=49, loc=minnesota_ages.mean(), scale=sigma)\n"
     ]
    }
   ],
   "source": [
    "# Construct a 99% confidence interval for the sample mean\n",
    "conf_int_99 = stats.t.interval(alpha=0.99, df=49, loc=minnesota_ages.mean(), scale=sigma)\n",
    "print(\"The 99% confidence interval for the sample mean is {}.\".format(conf_int_99))"
   ]
  },
  {
   "attachments": {},
   "cell_type": "markdown",
   "metadata": {},
   "source": [
    "#### Two Sample T-Test"
   ]
  },
  {
   "cell_type": "code",
   "execution_count": 29,
   "metadata": {},
   "outputs": [],
   "source": [
    "# Generate a sample of voter age data for Wisconsin\n",
    "np.random.seed(10)\n",
    "wisconsin_ages1 = stats.poisson.rvs(loc=18, mu=30, size=30)\n",
    "wisconsin_ages2 = stats.poisson.rvs(loc=18, mu=15, size=20)\n",
    "wisconsin_ages = np.concatenate((wisconsin_ages1, wisconsin_ages2))"
   ]
  },
  {
   "cell_type": "code",
   "execution_count": 30,
   "metadata": {},
   "outputs": [
    {
     "name": "stdout",
     "output_type": "stream",
     "text": [
      "Wisconsin Sample Mean: 41.8\n"
     ]
    }
   ],
   "source": [
    "# Print the mean of the Wisconsin sample\n",
    "print(\"Wisconsin Sample Mean:\", wisconsin_ages.mean())"
   ]
  },
  {
   "cell_type": "code",
   "execution_count": 31,
   "metadata": {},
   "outputs": [],
   "source": [
    "# Perform a two-sample t-test to compare the Wisconsin sample to the Minnesota sample\n",
    "t_stat, p_val = stats.ttest_ind(a=minnesota_ages, b=wisconsin_ages, equal_var=False)"
   ]
  },
  {
   "cell_type": "code",
   "execution_count": 32,
   "metadata": {},
   "outputs": [
    {
     "name": "stdout",
     "output_type": "stream",
     "text": [
      "P-Value: 0.6175514813720644\n"
     ]
    }
   ],
   "source": [
    "# Print the p-value\n",
    "print(\"P-Value:\", p_val)"
   ]
  },
  {
   "cell_type": "code",
   "execution_count": 33,
   "metadata": {},
   "outputs": [
    {
     "name": "stdout",
     "output_type": "stream",
     "text": [
      "Fail to reject null hypothesis, the means are the same.\n"
     ]
    }
   ],
   "source": [
    "# Check if the p-value is less than the significance level of 0.05\n",
    "if p_val < 0.05:\n",
    "    print(\"Reject null hypothesis, the means are different.\")\n",
    "else:\n",
    "    print(\"Fail to reject null hypothesis, the means are the same.\")"
   ]
  },
  {
   "attachments": {},
   "cell_type": "markdown",
   "metadata": {},
   "source": [
    "#### Paired T-Test"
   ]
  },
  {
   "cell_type": "code",
   "execution_count": 34,
   "metadata": {},
   "outputs": [
    {
     "name": "stdout",
     "output_type": "stream",
     "text": [
      "       weight_before  weight_after  weight_change\n",
      "count     100.000000    100.000000     100.000000\n",
      "mean      250.345546    249.115171      -1.230375\n",
      "std        28.132539     28.422183       4.783696\n",
      "min       170.400443    165.913930     -11.495286\n",
      "25%       230.421042    229.148236      -4.046211\n",
      "50%       250.830805    251.134089      -1.413463\n",
      "75%       270.637145    268.927258       1.738673\n",
      "max       314.700233    316.720357       9.759282\n"
     ]
    }
   ],
   "source": [
    "# set the random seed for reproducibility\n",
    "np.random.seed(11)\n",
    "\n",
    "# generate weight data before and after treatment\n",
    "before = stats.norm.rvs(scale=30, loc=250, size=100)\n",
    "after = before + stats.norm.rvs(scale=5, loc=-1.25, size=100)\n",
    "\n",
    "# create a dataframe to store the weight data\n",
    "weight_df = pd.DataFrame({\"weight_before\": before,\n",
    "                          \"weight_after\": after,\n",
    "                          \"weight_change\": after - before})\n",
    "\n",
    "# print a summary of the weight data\n",
    "print(weight_df.describe())"
   ]
  },
  {
   "cell_type": "code",
   "execution_count": 35,
   "metadata": {},
   "outputs": [],
   "source": [
    "# conduct a paired t-test to check if the means of the samples differ\n",
    "t_statistic, p_value = stats.ttest_rel(a=before, b=after)"
   ]
  },
  {
   "cell_type": "code",
   "execution_count": 36,
   "metadata": {},
   "outputs": [
    {
     "name": "stdout",
     "output_type": "stream",
     "text": [
      "Paired t-test p-value: 0.011596444318439859\n"
     ]
    }
   ],
   "source": [
    "# print the p-value\n",
    "print(\"Paired t-test p-value:\", p_value)"
   ]
  },
  {
   "attachments": {},
   "cell_type": "markdown",
   "metadata": {},
   "source": [
    "#### Type I and Type II Errors"
   ]
  },
  {
   "cell_type": "code",
   "execution_count": 41,
   "metadata": {},
   "outputs": [
    {
     "data": {
      "text/plain": [
       "Text(0, 0.02, 'Type 2 Error')"
      ]
     },
     "execution_count": 41,
     "metadata": {},
     "output_type": "execute_result"
    },
    {
     "data": {
      "image/png": "[encoded data removed]",
      "text/plain": [
       "<Figure size 1200x600 with 1 Axes>"
      ]
     },
     "metadata": {},
     "output_type": "display_data"
    }
   ],
   "source": [
    "# Generate three normal distributions with different means and standard deviations\n",
    "null_distribution = stats.norm(loc=0, scale=1)\n",
    "alternative_distribution = stats.norm(loc=0.5, scale=1)\n",
    "observed_distribution = stats.norm(loc=0.5, scale=1.5)\n",
    "\n",
    "# Set the plot size\n",
    "plt.figure(figsize=(12, 6))\n",
    "\n",
    "# Fill in the areas corresponding to the null distribution\n",
    "plt.fill_between(x=np.arange(-4, -2, 0.01), \n",
    "                 y1= null_distribution.pdf(np.arange(-4, -2, 0.01)),\n",
    "                 facecolor='red', alpha=0.35)\n",
    "plt.fill_between(x=np.arange(-2, 2, 0.01), \n",
    "                 y1= null_distribution.pdf(np.arange(-2, 2, 0.01)),\n",
    "                 facecolor='grey', alpha=0.35)\n",
    "plt.fill_between(x=np.arange(2, 4, 0.01), \n",
    "                 y1= null_distribution.pdf(np.arange(2, 4, 0.01)),\n",
    "                 facecolor='red', alpha=0.5)\n",
    "\n",
    "# Fill in the areas corresponding to the alternative and observed distributions\n",
    "plt.fill_between(x=np.arange(-4, -2, 0.01), \n",
    "                 y1= alternative_distribution.pdf(np.arange(-4, -2, 0.01)),\n",
    "                 facecolor='grey', alpha=0.35)\n",
    "plt.fill_between(x=np.arange(-2, 2, 0.01), \n",
    "                 y1= observed_distribution.pdf(np.arange(-2, 2, 0.01)),\n",
    "                 facecolor='blue', alpha=0.35)\n",
    "plt.fill_between(x=np.arange(2, 10, 0.01), \n",
    "                 y1= alternative_distribution.pdf(np.arange(2, 10, 0.01)),\n",
    "                 facecolor='grey', alpha=0.35)\n",
    "\n",
    "# Add labels to the plot\n",
    "plt.text(x=-0.8, y=0.15, s=\"Null Hypothesis\")\n",
    "plt.text(x=2.5, y=0.13, s=\"Alternative\")\n",
    "plt.text(x=2.1, y=0.01, s=\"Type 1 Error\")\n",
    "plt.text(x=-3.2, y=0.01, s=\"Type 1 Error\")\n",
    "plt.text(x=0, y=0.02, s=\"Type 2 Error\")"
   ]
  },
  {
   "cell_type": "code",
   "execution_count": 38,
   "metadata": {},
   "outputs": [
    {
     "name": "stdout",
     "output_type": "stream",
     "text": [
      "Type II error rate: 0.000\n",
      "Power: 1.000\n"
     ]
    },
    {
     "data": {
      "image/png": "[encoded data removed]",
      "text/plain": [
       "<Figure size 640x480 with 1 Axes>"
      ]
     },
     "metadata": {},
     "output_type": "display_data"
    }
   ],
   "source": [
    "# Set the x and y limits of the plot\n",
    "plt.xlim([-4, 4])\n",
    "plt.ylim([0, 0.4])\n",
    "\n",
    "# Calculate the Type II error rate for the observed distribution compared to the null distribution\n",
    "alpha = 0.05  # Significance level\n",
    "z_alpha = stats.norm.ppf(1 - alpha/2)  # Two-tailed z-score corresponding to alpha\n",
    "z_beta = (0.5 - 0) / (1.5 / np.sqrt(100)) + z_alpha  # z-score corresponding to beta\n",
    "beta = 1 - stats.norm.cdf(z_beta, loc=0, scale=1)  # Calculate beta\n",
    "power = 1 - beta  # Calculate power\n",
    "\n",
    "# Print the Type II error rate and power\n",
    "print(f\"Type II error rate: {beta:.3f}\")\n",
    "print(f\"Power: {power:.3f}\")\n",
    "\n",
    "# Show the plot\n",
    "plt.show()"
   ]
  }
 ],
 "metadata": {
  "kernelspec": {
   "display_name": "Python 3",
   "language": "python",
   "name": "python3"
  },
  "language_info": {
   "codemirror_mode": {
    "name": "ipython",
    "version": 3
   },
   "file_extension": ".py",
   "mimetype": "text/x-python",
   "name": "python",
   "nbconvert_exporter": "python",
   "pygments_lexer": "ipython3",
   "version": "3.11.3"
  },
  "orig_nbformat": 4
 },
 "nbformat": 4,
 "nbformat_minor": 2
}
