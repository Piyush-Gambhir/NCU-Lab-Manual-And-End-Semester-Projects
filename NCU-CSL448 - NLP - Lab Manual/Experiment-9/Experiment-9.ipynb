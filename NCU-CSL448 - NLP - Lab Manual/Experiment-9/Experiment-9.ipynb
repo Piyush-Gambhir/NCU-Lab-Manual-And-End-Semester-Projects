{
 "cells": [
  {
   "cell_type": "markdown",
   "metadata": {},
   "source": [
    "# **Experiment-9**"
   ]
  },
  {
   "cell_type": "markdown",
   "metadata": {},
   "source": [
    "### Objective: \n",
    "Write a program to read text data from a file and perform chunking and chinking."
   ]
  },
  {
   "cell_type": "code",
   "execution_count": 1,
   "metadata": {},
   "outputs": [
    {
     "name": "stdout",
     "output_type": "stream",
     "text": [
      "Requirement already satisfied: numpy in c:\\users\\mainp\\appdata\\local\\programs\\python\\python312\\lib\\site-packages (2.0.2)\n",
      "Requirement already satisfied: pandas in c:\\users\\mainp\\appdata\\local\\programs\\python\\python312\\lib\\site-packages (2.2.3)\n",
      "Requirement already satisfied: python-dateutil>=2.8.2 in c:\\users\\mainp\\appdata\\roaming\\python\\python312\\site-packages (from pandas) (2.9.0.post0)\n",
      "Requirement already satisfied: pytz>=2020.1 in c:\\users\\mainp\\appdata\\local\\programs\\python\\python312\\lib\\site-packages (from pandas) (2024.2)\n",
      "Requirement already satisfied: tzdata>=2022.7 in c:\\users\\mainp\\appdata\\local\\programs\\python\\python312\\lib\\site-packages (from pandas) (2024.2)\n",
      "Requirement already satisfied: six>=1.5 in c:\\users\\mainp\\appdata\\roaming\\python\\python312\\site-packages (from python-dateutil>=2.8.2->pandas) (1.16.0)\n",
      "Note: you may need to restart the kernel to use updated packages.\n"
     ]
    },
    {
     "name": "stderr",
     "output_type": "stream",
     "text": [
      "\n",
      "[notice] A new release of pip is available: 24.2 -> 24.3.1\n",
      "[notice] To update, run: python.exe -m pip install --upgrade pip\n"
     ]
    }
   ],
   "source": [
    "%pip install numpy pandas"
   ]
  },
  {
   "cell_type": "code",
   "execution_count": 2,
   "metadata": {},
   "outputs": [
    {
     "name": "stderr",
     "output_type": "stream",
     "text": [
      "[nltk_data] Downloading package punkt to\n",
      "[nltk_data]     C:\\Users\\mainp\\AppData\\Roaming\\nltk_data...\n",
      "[nltk_data]   Package punkt is already up-to-date!\n",
      "[nltk_data] Downloading package averaged_perceptron_tagger to\n",
      "[nltk_data]     C:\\Users\\mainp\\AppData\\Roaming\\nltk_data...\n",
      "[nltk_data]   Package averaged_perceptron_tagger is already up-to-\n",
      "[nltk_data]       date!\n",
      "[nltk_data] Downloading package maxent_ne_chunker to\n",
      "[nltk_data]     C:\\Users\\mainp\\AppData\\Roaming\\nltk_data...\n",
      "[nltk_data]   Package maxent_ne_chunker is already up-to-date!\n",
      "[nltk_data] Downloading package words to\n",
      "[nltk_data]     C:\\Users\\mainp\\AppData\\Roaming\\nltk_data...\n",
      "[nltk_data]   Package words is already up-to-date!\n"
     ]
    },
    {
     "data": {
      "text/plain": [
       "True"
      ]
     },
     "execution_count": 2,
     "metadata": {},
     "output_type": "execute_result"
    }
   ],
   "source": [
    "# Import necessary libraries\n",
    "import nltk\n",
    "\n",
    "# Download required NLTK data files\n",
    "nltk.download('punkt')\n",
    "nltk.download('averaged_perceptron_tagger')\n",
    "nltk.download('maxent_ne_chunker')\n",
    "nltk.download('words')"
   ]
  },
  {
   "cell_type": "code",
   "execution_count": 3,
   "metadata": {},
   "outputs": [
    {
     "name": "stdout",
     "output_type": "stream",
     "text": [
      "Content of input.txt:\n",
      "Microsoft announced a new product launch event in New York City on December 1st, 2024. \n",
      "Elon Musk, the CEO of Tesla, hinted at a partnership with NASA for a Mars mission. \n",
      "The GDP of India grew by 7% in the first quarter of 2023, according to a report by Reuters. \n",
      "Amazon is planning to open a new data center in Dublin, Ireland next year.\n",
      "Barack Obama gave a keynote speech at Stanford University last Thursday.\n",
      "Bitcoin reached an all-time high of $68,000 in November 2021.\n",
      "The Louvre Museum in Paris saw record-breaking attendance last summer.\n",
      "\n"
     ]
    }
   ],
   "source": [
    "def read_text_file(file_path):\n",
    "    \"\"\"Read text data from the specified file.\"\"\"\n",
    "    with open(file_path, 'r', encoding='utf-8') as file:\n",
    "        text = file.read()\n",
    "    return text\n",
    "\n",
    "# Specify the file path\n",
    "file_path = 'input.txt'\n",
    "\n",
    "# Read the content of input.txt\n",
    "text = read_text_file(file_path)\n",
    "print(\"Content of input.txt:\")\n",
    "print(text)"
   ]
  },
  {
   "cell_type": "code",
   "execution_count": 4,
   "metadata": {},
   "outputs": [
    {
     "name": "stdout",
     "output_type": "stream",
     "text": [
      "\n",
      "Sample POS-Tagged Sentence:\n",
      "[('Microsoft', 'NNP'), ('announced', 'VBD'), ('a', 'DT'), ('new', 'JJ'), ('product', 'NN'), ('launch', 'JJ'), ('event', 'NN'), ('in', 'IN'), ('New', 'NNP'), ('York', 'NNP'), ('City', 'NNP'), ('on', 'IN'), ('December', 'NNP'), ('1st', 'CD'), (',', ','), ('2024', 'CD'), ('.', '.')]\n"
     ]
    }
   ],
   "source": [
    "# Tokenize the text into sentences and words\n",
    "sentences = nltk.sent_tokenize(text)\n",
    "tokens = [nltk.word_tokenize(sentence) for sentence in sentences]\n",
    "\n",
    "# Perform POS tagging on the tokenized text\n",
    "tagged_sentences = [nltk.pos_tag(token) for token in tokens]\n",
    "\n",
    "# Display a sample of POS-tagged sentences\n",
    "print(\"\\nSample POS-Tagged Sentence:\")\n",
    "print(tagged_sentences[0])"
   ]
  },
  {
   "cell_type": "code",
   "execution_count": 5,
   "metadata": {},
   "outputs": [
    {
     "name": "stdout",
     "output_type": "stream",
     "text": [
      "\n",
      "Chunked Sentence (Noun Phrases):\n",
      "(S\n",
      "  Microsoft/NNP\n",
      "  announced/VBD\n",
      "  (NP a/DT new/JJ product/NN)\n",
      "  (NP launch/JJ event/NN)\n",
      "  in/IN\n",
      "  New/NNP\n",
      "  York/NNP\n",
      "  City/NNP\n",
      "  on/IN\n",
      "  December/NNP\n",
      "  1st/CD\n",
      "  ,/,\n",
      "  2024/CD\n",
      "  ./.)\n"
     ]
    }
   ],
   "source": [
    "# Define a chunk grammar (e.g., for noun phrases)\n",
    "chunk_grammar = r\"\"\"\n",
    "    NP: {<DT>?<JJ>*<NN>}   # Chunk sequences of optional determiner, adjectives, and noun\n",
    "\"\"\"\n",
    "\n",
    "# Create a chunk parser\n",
    "chunk_parser = nltk.RegexpParser(chunk_grammar)\n",
    "\n",
    "# Perform chunking on the first tagged sentence\n",
    "chunked_sentence = chunk_parser.parse(tagged_sentences[0])\n",
    "\n",
    "# Display the chunked sentence\n",
    "print(\"\\nChunked Sentence (Noun Phrases):\")\n",
    "print(chunked_sentence)\n",
    "\n",
    "# Visualize the chunked sentence\n",
    "chunked_sentence.draw()"
   ]
  },
  {
   "cell_type": "code",
   "execution_count": 6,
   "metadata": {},
   "outputs": [
    {
     "name": "stdout",
     "output_type": "stream",
     "text": [
      "\n",
      "Chinked Sentence (Excluding Verbs):\n",
      "(S\n",
      "  Microsoft/NNP\n",
      "  announced/VBD\n",
      "  (NP a/DT new/JJ product/NN)\n",
      "  (NP launch/JJ event/NN)\n",
      "  in/IN\n",
      "  New/NNP\n",
      "  York/NNP\n",
      "  City/NNP\n",
      "  on/IN\n",
      "  December/NNP\n",
      "  1st/CD\n",
      "  ,/,\n",
      "  2024/CD\n",
      "  ./.)\n"
     ]
    }
   ],
   "source": [
    "# Define a chunk grammar with chinking (e.g., exclude verbs from the noun phrase)\n",
    "chink_grammar = r\"\"\"\n",
    "    NP: {<DT>?<JJ>*<NN>}      # Chunk sequences of optional determiner, adjectives, and noun\n",
    "        }<VB.*>+{             # Chink (exclude) verbs\n",
    "\"\"\"\n",
    "\n",
    "# Create a chunk parser with chinking\n",
    "chink_parser = nltk.RegexpParser(chink_grammar)\n",
    "\n",
    "# Perform chinking on the first tagged sentence\n",
    "chinked_sentence = chink_parser.parse(tagged_sentences[0])\n",
    "\n",
    "# Display the chinked sentence\n",
    "print(\"\\nChinked Sentence (Excluding Verbs):\")\n",
    "print(chinked_sentence)\n",
    "\n",
    "# Visualize the chinked sentence\n",
    "chinked_sentence.draw()"
   ]
  }
 ],
 "metadata": {
  "kernelspec": {
   "display_name": "Python 3",
   "language": "python",
   "name": "python3"
  },
  "language_info": {
   "codemirror_mode": {
    "name": "ipython",
    "version": 3
   },
   "file_extension": ".py",
   "mimetype": "text/x-python",
   "name": "python",
   "nbconvert_exporter": "python",
   "pygments_lexer": "ipython3",
   "version": "3.12.7"
  }
 },
 "nbformat": 4,
 "nbformat_minor": 2
}
