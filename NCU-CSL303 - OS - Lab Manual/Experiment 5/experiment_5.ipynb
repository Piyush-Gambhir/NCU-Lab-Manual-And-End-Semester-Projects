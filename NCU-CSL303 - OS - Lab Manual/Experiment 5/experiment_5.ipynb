{
 "cells": [
  {
   "cell_type": "markdown",
   "metadata": {},
   "source": [
    "# Experiment 5"
   ]
  },
  {
   "cell_type": "markdown",
   "metadata": {},
   "source": [
    "#### Problem Statement: \n",
    "Implement the following CPU scheduling Algorithms.\n",
    "1. \tFCFS with Arrival time\n",
    "2. FCFS without Arrival time"
   ]
  },
  {
   "cell_type": "markdown",
   "metadata": {},
   "source": [
    "#### Code:"
   ]
  },
  {
   "cell_type": "code",
   "execution_count": 15,
   "metadata": {},
   "outputs": [],
   "source": [
    "# importing requried libraries\n",
    "import pandas as pd"
   ]
  },
  {
   "cell_type": "code",
   "execution_count": 21,
   "metadata": {},
   "outputs": [
    {
     "name": "stdout",
     "output_type": "stream",
     "text": [
      "FCFS with Arrival Time\n",
      "|    |   Processes |   Arrival Time |   Burst Time |   Waiting Time |   Turn-Around Time |\n",
      "|---:|------------:|---------------:|-------------:|---------------:|-------------------:|\n",
      "|  0 |           1 |              2 |            6 |              9 |                 15 |\n",
      "|  1 |           2 |              1 |            8 |              2 |                 10 |\n",
      "|  2 |           3 |              0 |            3 |              0 |                  3 |\n",
      "|  3 |           4 |              4 |            4 |             13 |                 17 |\n",
      "\n",
      "\n",
      "Average Waiting Time: 6.0\n",
      "Average Turn-Around Time: 11.25\n",
      "Completion Time: 21\n"
     ]
    }
   ],
   "source": [
    "def fcfs_with_arrival_time(processes, arrival_time, burst_time):\n",
    "    n = len(processes)\n",
    "    wait_time = [0] * n\n",
    "    turn_around_time = [0] * n\n",
    "    response_time = [0] * n\n",
    "\n",
    "    # sorting processes by arrival time\n",
    "    sorted_indices = sorted(range(n), key=lambda k: arrival_time[k])\n",
    "\n",
    "    completion_time = 0\n",
    "\n",
    "    for i in sorted_indices:\n",
    "        # wait time for a process is completion_time of previous process - arrival_time\n",
    "        wait_time[i] = completion_time - arrival_time[i]\n",
    "\n",
    "        # turn around time = wait_time + burst_time\n",
    "        turn_around_time[i] = wait_time[i] + burst_time[i]\n",
    "\n",
    "        # update completion_time\n",
    "        completion_time += burst_time[i]\n",
    "\n",
    "        # response time = \n",
    "    df = pd.DataFrame({\n",
    "        'Processes': processes,\n",
    "        'Arrival Time': arrival_time,\n",
    "        'Burst Time': burst_time,\n",
    "        'Waiting Time': wait_time,\n",
    "        'Turn-Around Time': turn_around_time\n",
    "    })\n",
    "    print(df.to_markdown())\n",
    "    print(\"\\n\")\n",
    "    print('Average Waiting Time:', sum(wait_time) / n)\n",
    "    print('Average Turn-Around Time:', sum(turn_around_time) / n)\n",
    "    print(\"Completion Time:\", completion_time)\n",
    "\n",
    "\n",
    "processes = [1, 2, 3, 4]\n",
    "arrival_time = [2, 1, 0, 4]\n",
    "burst_time = [6, 8, 3, 4]\n",
    "\n",
    "\n",
    "# waiting time negive (edge case)\n",
    "# processes = [1, 2, 3]\n",
    "# arrival_time = [0, 5, 8]\n",
    "# burst_time = [4, 2, 8]\n",
    "\n",
    "print('FCFS with Arrival Time')\n",
    "fcfs_with_arrival_time(processes, arrival_time, burst_time)"
   ]
  },
  {
   "cell_type": "code",
   "execution_count": 17,
   "metadata": {},
   "outputs": [
    {
     "name": "stdout",
     "output_type": "stream",
     "text": [
      "|    |   Processes |   Burst Time |   Waiting Time |   Turn-Around Time |\n",
      "|---:|------------:|-------------:|---------------:|-------------------:|\n",
      "|  0 |           1 |           24 |              0 |                 24 |\n",
      "|  1 |           2 |            3 |             24 |                 27 |\n",
      "|  2 |           3 |            3 |             27 |                 30 |\n",
      "\n",
      "\n",
      "Average Waiting Time: 17.0\n",
      "Average Turn-Around Time: 27.0\n",
      "Completion Time: 30\n"
     ]
    }
   ],
   "source": [
    "\n",
    "def fcfs_without_arrival_time(processes, burst_time):\n",
    "    n = len(processes)\n",
    "    wait_time = [0] * n\n",
    "    turn_around_time = [0] * n\n",
    "\n",
    "    # Calculate waiting time\n",
    "    for i in range(1, n):\n",
    "        wait_time[i] = wait_time[i-1] + burst_time[i-1]\n",
    "\n",
    "    # Calculate turn-around time\n",
    "    for i in range(n):\n",
    "        turn_around_time[i] = wait_time[i] + burst_time[i]\n",
    "\n",
    "    df = pd.DataFrame({\n",
    "        'Processes': processes,\n",
    "        'Burst Time': burst_time,\n",
    "        'Waiting Time': wait_time,\n",
    "        'Turn-Around Time': turn_around_time\n",
    "    })\n",
    "    print(df.to_markdown())\n",
    "    print(\"\\n\")\n",
    "    print('Average Waiting Time:', sum(wait_time) / n)\n",
    "    print('Average Turn-Around Time:', sum(turn_around_time) / n)\n",
    "    print(\"Completion Time:\", sum(burst_time))\n",
    "\n",
    "\n",
    "# Driver code\n",
    "processes = [1, 2, 3]\n",
    "burst_time = [24, 3, 3]\n",
    "\n",
    "fcfs_without_arrival_time(processes, burst_time)"
   ]
  }
 ],
 "metadata": {
  "kernelspec": {
   "display_name": "Python 3",
   "language": "python",
   "name": "python3"
  },
  "language_info": {
   "codemirror_mode": {
    "name": "ipython",
    "version": 3
   },
   "file_extension": ".py",
   "mimetype": "text/x-python",
   "name": "python",
   "nbconvert_exporter": "python",
   "pygments_lexer": "ipython3",
   "version": "3.11.4"
  },
  "orig_nbformat": 4
 },
 "nbformat": 4,
 "nbformat_minor": 2
}
