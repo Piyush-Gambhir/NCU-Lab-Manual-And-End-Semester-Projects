{
  "cells": [
    {
      "cell_type": "markdown",
      "metadata": {
        "id": "EMiMfdqdb0ko"
      },
      "source": [
        "# Bitcoin Price Prediction - UI"
      ]
    },
    {
      "cell_type": "markdown",
      "metadata": {
        "id": "WM32zw0Tb0kq"
      },
      "source": [
        "## Installing Dependencies"
      ]
    },
    {
      "cell_type": "code",
      "execution_count": null,
      "metadata": {
        "id": "x40gk61Vb0kr"
      },
      "outputs": [],
      "source": [
        "! pip install gradio -q"
      ]
    },
    {
      "cell_type": "markdown",
      "metadata": {
        "id": "V_J-LTzbb0ks"
      },
      "source": [
        "## Code"
      ]
    },
    {
      "cell_type": "code",
      "execution_count": null,
      "metadata": {
        "colab": {
          "base_uri": "https://localhost:8080/",
          "height": 650
        },
        "id": "R0J2CLFLb0kt",
        "outputId": "69145eb2-b6a5-4110-bf15-922e8d8f1970"
      },
      "outputs": [
        {
          "output_type": "stream",
          "name": "stdout",
          "text": [
            "Setting queue=True in a Colab notebook requires sharing enabled. Setting `share=True` (you can turn this off by setting `share=False` in `launch()` explicitly).\n",
            "\n",
            "Colab notebook detected. This cell will run indefinitely so that you can see errors and logs. To turn off, set debug=False in launch().\n",
            "Running on public URL: https://866dd1a1a77f6dc3ce.gradio.live\n",
            "\n",
            "This share link expires in 72 hours. For free permanent hosting and GPU upgrades, run `gradio deploy` from Terminal to deploy to Spaces (https://huggingface.co/spaces)\n"
          ]
        },
        {
          "output_type": "display_data",
          "data": {
            "text/plain": [
              "<IPython.core.display.HTML object>"
            ],
            "text/html": [
              "<div><iframe src=\"https://866dd1a1a77f6dc3ce.gradio.live\" width=\"100%\" height=\"500\" allow=\"autoplay; camera; microphone; clipboard-read; clipboard-write;\" frameborder=\"0\" allowfullscreen></iframe></div>"
            ]
          },
          "metadata": {}
        }
      ],
      "source": [
        "import numpy as np\n",
        "import pandas as pd\n",
        "from sklearn.preprocessing import MinMaxScaler\n",
        "from keras.models import model_from_json\n",
        "import gradio as gr\n",
        "from keras.models import load_model\n",
        "import datetime\n",
        "\n",
        "def predict_prices(start_date, n_days):\n",
        "    # Basic input validation\n",
        "    if not start_date:\n",
        "        return [\"Please provide a starting date.\"]\n",
        "    if not str(n_days).isdigit():\n",
        "        return [\"Please enter a valid integer for the number of days.\"]\n",
        "    if int(n_days) < 1:\n",
        "        return [\"The number of days must be at least 1.\"]\n",
        "    if int(n_days) > 31:\n",
        "        return [\"The number of days cannot exceed 31. Please enter a number of days that is 31 or less.\"]\n",
        "\n",
        "    try:\n",
        "        start_date = pd.to_datetime(start_date, dayfirst=True)\n",
        "    except ValueError:\n",
        "        return [\"Invalid date format. Please use DD-MM-YYYY.\"]\n",
        "\n",
        "    current_date = pd.to_datetime(\"today\").normalize()  # Ensure time part is stripped off for comparison\n",
        "    if start_date < current_date or start_date > current_date + pd.DateOffset(days=30):  # Adjusted to include today in the 31 days\n",
        "        return [\"The starting date must be today or within the next 30 days.\"]\n",
        "\n",
        "    # Load model and data\n",
        "    with open(\"/content/model.json\", \"r\") as json_file:\n",
        "        loaded_model_json = json_file.read()\n",
        "    model = model_from_json(loaded_model_json)\n",
        "    model.load_weights(\"/content/model.h5\")\n",
        "    df = pd.read_csv('/content/BTC-USD.csv')\n",
        "    df['Date'] = pd.to_datetime(df['Date'])\n",
        "    df.dropna(inplace=True)\n",
        "    df['Volume'] = pd.to_numeric(df['Volume'], errors='coerce')\n",
        "\n",
        "    # Ensure the start_date is within or can be extended from the dataset\n",
        "    latest_date = df['Date'].max()\n",
        "    if start_date > latest_date:\n",
        "        # Predict from the latest available data\n",
        "        start_date = latest_date\n",
        "\n",
        "    look_back = 15\n",
        "    start_index = df[df['Date'] == start_date].index.tolist()[0] if start_date in df['Date'].values else -1\n",
        "    if start_index == -1:\n",
        "        return [\"Starting date is before the beginning of the dataset.\"]\n",
        "\n",
        "    data = df['Close'].values[start_index-look_back:start_index].reshape(-1, 1)\n",
        "    min_max_scaler = MinMaxScaler(feature_range=(0, 1))\n",
        "    scaled_data = min_max_scaler.fit_transform(data)\n",
        "    x_input = scaled_data.reshape(1, -1)\n",
        "    temp_input = list(x_input[0])\n",
        "    predicted_prices = []\n",
        "\n",
        "    i = 0\n",
        "    while i < n_days:\n",
        "        if len(temp_input) > look_back:\n",
        "            x_input = np.array(temp_input[-look_back:])\n",
        "        x_input = x_input.reshape((1, look_back, 1))\n",
        "        yhat = model.predict(x_input, verbose=0)\n",
        "        temp_input.append(yhat[0][0])\n",
        "        predicted_price = min_max_scaler.inverse_transform(yhat)[0][0]\n",
        "        predicted_prices.append(f\"Predicted price for Day {i+1} is {predicted_price:.2f}\")\n",
        "        i += 1\n",
        "\n",
        "    return predicted_prices\n",
        "\n",
        "# Gradio interface setup\n",
        "date_input = gr.Textbox(label=\"Enter Starting date\", placeholder=\"DD-MM-YYYY\")\n",
        "days_input = gr.Number(label=\"Enter the number of days\")\n",
        "output = gr.Textbox(label=\"Predicted prices\")\n",
        "interface = gr.Interface(\n",
        "    fn=predict_prices,\n",
        "    inputs=[date_input, days_input],\n",
        "    outputs=output,\n",
        "    title=\"Bitcoin Price Prediction\",\n",
        "    description=\"Enter the starting date and the number of days to predict Bitcoin prices, up to a maximum of 31 days.\"\n",
        ")\n",
        "\n",
        "# Launch the Gradio interface\n",
        "interface.launch(debug=True)\n"
      ]
    }
  ],
  "metadata": {
    "colab": {
      "provenance": []
    },
    "kernelspec": {
      "display_name": "Python 3",
      "language": "python",
      "name": "python3"
    },
    "language_info": {
      "codemirror_mode": {
        "name": "ipython",
        "version": 3
      },
      "file_extension": ".py",
      "mimetype": "text/x-python",
      "name": "python",
      "nbconvert_exporter": "python",
      "pygments_lexer": "ipython3",
      "version": "3.11.9"
    }
  },
  "nbformat": 4,
  "nbformat_minor": 0
}