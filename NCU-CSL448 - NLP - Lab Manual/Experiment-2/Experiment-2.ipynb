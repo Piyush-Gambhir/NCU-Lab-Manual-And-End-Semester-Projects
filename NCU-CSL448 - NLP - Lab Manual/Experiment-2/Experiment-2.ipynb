{
 "cells": [
  {
   "cell_type": "markdown",
   "id": "4355ef04",
   "metadata": {},
   "source": [
    "# **Experiment 2**"
   ]
  },
  {
   "cell_type": "markdown",
   "id": "a5f5d9b1",
   "metadata": {},
   "source": [
    "### Objective\n",
    "Find the most frequently occurring five words from a piece of text."
   ]
  },
  {
   "cell_type": "code",
   "execution_count": 1,
   "id": "943ef9ce",
   "metadata": {},
   "outputs": [
    {
     "name": "stdout",
     "output_type": "stream",
     "text": [
      "Requirement already satisfied: nltk in c:\\users\\mainp\\appdata\\local\\programs\\python\\python312\\lib\\site-packages (3.9.1)\n",
      "Requirement already satisfied: pandas in c:\\users\\mainp\\appdata\\local\\programs\\python\\python312\\lib\\site-packages (2.2.3)\n",
      "Requirement already satisfied: click in c:\\users\\mainp\\appdata\\local\\programs\\python\\python312\\lib\\site-packages (from nltk) (8.1.7)\n",
      "Requirement already satisfied: joblib in c:\\users\\mainp\\appdata\\local\\programs\\python\\python312\\lib\\site-packages (from nltk) (1.4.2)\n",
      "Requirement already satisfied: regex>=2021.8.3 in c:\\users\\mainp\\appdata\\local\\programs\\python\\python312\\lib\\site-packages (from nltk) (2024.11.6)\n",
      "Requirement already satisfied: tqdm in c:\\users\\mainp\\appdata\\local\\programs\\python\\python312\\lib\\site-packages (from nltk) (4.67.0)\n",
      "Requirement already satisfied: numpy>=1.26.0 in c:\\users\\mainp\\appdata\\local\\programs\\python\\python312\\lib\\site-packages (from pandas) (2.0.2)\n",
      "Requirement already satisfied: python-dateutil>=2.8.2 in c:\\users\\mainp\\appdata\\roaming\\python\\python312\\site-packages (from pandas) (2.9.0.post0)\n",
      "Requirement already satisfied: pytz>=2020.1 in c:\\users\\mainp\\appdata\\local\\programs\\python\\python312\\lib\\site-packages (from pandas) (2024.2)\n",
      "Requirement already satisfied: tzdata>=2022.7 in c:\\users\\mainp\\appdata\\local\\programs\\python\\python312\\lib\\site-packages (from pandas) (2024.2)\n",
      "Requirement already satisfied: six>=1.5 in c:\\users\\mainp\\appdata\\roaming\\python\\python312\\site-packages (from python-dateutil>=2.8.2->pandas) (1.16.0)\n",
      "Requirement already satisfied: colorama in c:\\users\\mainp\\appdata\\roaming\\python\\python312\\site-packages (from click->nltk) (0.4.6)\n",
      "Note: you may need to restart the kernel to use updated packages.\n"
     ]
    },
    {
     "name": "stderr",
     "output_type": "stream",
     "text": [
      "\n",
      "[notice] A new release of pip is available: 24.2 -> 24.3.1\n",
      "[notice] To update, run: python.exe -m pip install --upgrade pip\n"
     ]
    }
   ],
   "source": [
    "%pip install nltk pandas"
   ]
  },
  {
   "cell_type": "code",
   "execution_count": 2,
   "id": "935c3750",
   "metadata": {},
   "outputs": [
    {
     "name": "stderr",
     "output_type": "stream",
     "text": [
      "[nltk_data] Downloading package punkt to C:/nltk_data...\n",
      "[nltk_data]   Package punkt is already up-to-date!\n"
     ]
    },
    {
     "data": {
      "text/plain": [
       "True"
      ]
     },
     "execution_count": 2,
     "metadata": {},
     "output_type": "execute_result"
    }
   ],
   "source": [
    "# Import necessary libraries\n",
    "import nltk\n",
    "from nltk import bigrams, trigrams\n",
    "from collections import Counter\n",
    "import re\n",
    "\n",
    "# Download required NLTK data files\n",
    "nltk.download(\"punkt\", download_dir=\"C:/nltk_data\")"
   ]
  },
  {
   "cell_type": "code",
   "execution_count": 3,
   "id": "4ec7b7c7",
   "metadata": {},
   "outputs": [
    {
     "name": "stdout",
     "output_type": "stream",
     "text": [
      "Tokens: ['technology', 'has', 'transformed', 'the', 'world', 'we', 'live', 'in', 'creating', 'unprecedented']\n"
     ]
    }
   ],
   "source": [
    "def read_text_file(file_path):\n",
    "    \"\"\"Read text data from the specified file.\"\"\"\n",
    "    with open(file_path, 'r', encoding='utf-8') as file:\n",
    "        text = file.read()\n",
    "    return text\n",
    "\n",
    "# Specify the file path\n",
    "file_path = 'input.txt'\n",
    "\n",
    "# Read and preprocess the text\n",
    "text = read_text_file(file_path).lower()\n",
    "\n",
    "# Remove punctuation using regular expressions\n",
    "text = re.sub(r'[^\\w\\s]', '', text)\n",
    "\n",
    "# Tokenize the text into words\n",
    "tokens = nltk.word_tokenize(text)\n",
    "print(\"Tokens:\", tokens[:10])  # Display a sample of tokens"
   ]
  },
  {
   "cell_type": "code",
   "execution_count": 4,
   "id": "7e677241",
   "metadata": {},
   "outputs": [
    {
     "name": "stdout",
     "output_type": "stream",
     "text": [
      "\n",
      "Top 5 Most Frequent Words:\n",
      "Word: 'the', Frequency: 9\n",
      "Word: 'and', Frequency: 4\n",
      "Word: 'of', Frequency: 4\n",
      "Word: 'to', Frequency: 4\n",
      "Word: 'we', Frequency: 3\n"
     ]
    }
   ],
   "source": [
    "# Use Counter to count the frequency of each word\n",
    "word_freq = Counter(tokens)\n",
    "\n",
    "# Get the 5 most common words\n",
    "most_common_words = word_freq.most_common(5)\n",
    "\n",
    "# Display the results\n",
    "print(\"\\nTop 5 Most Frequent Words:\")\n",
    "for word, freq in most_common_words:\n",
    "    print(f\"Word: '{word}', Frequency: {freq}\")"
   ]
  },
  {
   "cell_type": "markdown",
   "id": "5f307dd6",
   "metadata": {},
   "source": [
    "### **Finding Bigrams and Trigrams**"
   ]
  },
  {
   "cell_type": "code",
   "execution_count": 5,
   "id": "8f97a5cd",
   "metadata": {},
   "outputs": [
    {
     "name": "stdout",
     "output_type": "stream",
     "text": [
      "\n",
      "Sample Bigrams: [('technology', 'has'), ('has', 'transformed'), ('transformed', 'the'), ('the', 'world'), ('world', 'we')]\n",
      "Sample Trigrams: [('technology', 'has', 'transformed'), ('has', 'transformed', 'the'), ('transformed', 'the', 'world'), ('the', 'world', 'we'), ('world', 'we', 'live')]\n"
     ]
    }
   ],
   "source": [
    "# Generate bigrams and trigrams\n",
    "bigrams_list = list(bigrams(tokens))\n",
    "trigrams_list = list(trigrams(tokens))\n",
    "\n",
    "# Display a sample of bigrams and trigrams\n",
    "print(\"\\nSample Bigrams:\", bigrams_list[:5])\n",
    "print(\"Sample Trigrams:\", trigrams_list[:5])"
   ]
  },
  {
   "cell_type": "code",
   "execution_count": 6,
   "id": "6d98c514",
   "metadata": {},
   "outputs": [],
   "source": [
    "# Count the frequency of each bigram and trigram\n",
    "bigram_freq = Counter(bigrams_list)\n",
    "trigram_freq = Counter(trigrams_list)\n",
    "\n",
    "# Get the 5 most common bigrams and trigrams\n",
    "most_common_bigrams = bigram_freq.most_common(5)\n",
    "most_common_trigrams = trigram_freq.most_common(5)"
   ]
  },
  {
   "cell_type": "code",
   "execution_count": 7,
   "id": "bd93d6b5",
   "metadata": {},
   "outputs": [
    {
     "name": "stdout",
     "output_type": "stream",
     "text": [
      "\n",
      "Top 5 Most Frequent Bigrams:\n",
      "Bigram: ('to', 'the'), Frequency: 2\n",
      "Bigram: ('as', 'we'), Frequency: 2\n",
      "Bigram: ('is', 'more'), Frequency: 2\n",
      "Bigram: ('technology', 'has'), Frequency: 1\n",
      "Bigram: ('has', 'transformed'), Frequency: 1\n",
      "\n",
      "Top 5 Most Frequent Trigrams:\n",
      "Trigram: ('technology', 'has', 'transformed'), Frequency: 1\n",
      "Trigram: ('has', 'transformed', 'the'), Frequency: 1\n",
      "Trigram: ('transformed', 'the', 'world'), Frequency: 1\n",
      "Trigram: ('the', 'world', 'we'), Frequency: 1\n",
      "Trigram: ('world', 'we', 'live'), Frequency: 1\n"
     ]
    }
   ],
   "source": [
    "print(\"\\nTop 5 Most Frequent Bigrams:\")\n",
    "for bigram, freq in most_common_bigrams:\n",
    "    print(f\"Bigram: {bigram}, Frequency: {freq}\")\n",
    "\n",
    "print(\"\\nTop 5 Most Frequent Trigrams:\")\n",
    "for trigram, freq in most_common_trigrams:\n",
    "    print(f\"Trigram: {trigram}, Frequency: {freq}\")"
   ]
  }
 ],
 "metadata": {
  "kernelspec": {
   "display_name": "Python 3",
   "language": "python",
   "name": "python3"
  },
  "language_info": {
   "codemirror_mode": {
    "name": "ipython",
    "version": 3
   },
   "file_extension": ".py",
   "mimetype": "text/x-python",
   "name": "python",
   "nbconvert_exporter": "python",
   "pygments_lexer": "ipython3",
   "version": "3.12.7"
  }
 },
 "nbformat": 4,
 "nbformat_minor": 5
}
