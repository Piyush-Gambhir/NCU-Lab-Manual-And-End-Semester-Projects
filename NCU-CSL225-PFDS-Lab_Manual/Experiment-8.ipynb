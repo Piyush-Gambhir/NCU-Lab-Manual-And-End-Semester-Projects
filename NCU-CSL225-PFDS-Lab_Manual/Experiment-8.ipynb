{
 "cells": [
  {
   "cell_type": "markdown",
   "id": "79186366",
   "metadata": {},
   "source": [
    "## Problem Statement"
   ]
  },
  {
   "cell_type": "markdown",
   "id": "2739ac73",
   "metadata": {},
   "source": [
    "Give the commands to print each fruit in a fruit list, add a fruit to the list and remove a fruit from the list."
   ]
  },
  {
   "cell_type": "code",
   "execution_count": 8,
   "id": "2fcc8037",
   "metadata": {},
   "outputs": [
    {
     "name": "stdout",
     "output_type": "stream",
     "text": [
      "Original Fruit List:  apple, banana, cherry, durian, elderberry, fig, grape, honeydew, jackfruit, kiwi, lemon, mango, nectarine, orange, papaya, quince, raspberry, strawberry, tomato, ugli fruit, watermelon, \n",
      "\n",
      "Updated Fruit List:  apple, banana, cherry, durian, elderberry, fig, grape, honeydew, jackfruit, kiwi, lemon, mango, nectarine, orange, papaya, quince, raspberry, strawberry, tomato, ugli fruit, watermelon, pineapple, \n",
      "\n",
      "Updated Fruit List:  banana, cherry, durian, elderberry, fig, grape, honeydew, jackfruit, kiwi, lemon, mango, nectarine, orange, papaya, quince, raspberry, strawberry, tomato, ugli fruit, watermelon, pineapple, \n",
      "\n"
     ]
    }
   ],
   "source": [
    "# Fruit list\n",
    "fruit_list = [\"apple\", \"banana\", \"cherry\", \"durian\", \"elderberry\", \n",
    "              \"fig\", \"grape\", \"honeydew\", \"jackfruit\", \"kiwi\", \n",
    "              \"lemon\", \"mango\", \"nectarine\", \"orange\", \"papaya\", \n",
    "              \"quince\", \"raspberry\", \"strawberry\", \"tomato\", \n",
    "              \"ugli fruit\", \"watermelon\"]\n",
    "\n",
    "# Printing the fruit list\n",
    "print(\"Original Fruit List: \", end = \" \")\n",
    "for fruit in fruit_list:\n",
    "    print(fruit, end = \", \")\n",
    "print(\"\\n\")\n",
    "\n",
    "# Adding a fruit to the end of the list\n",
    "fruit_list.append(\"pineapple\")\n",
    "\n",
    "# Printing the updated fruit list\n",
    "print(\"Updated Fruit List: \", end = \" \")\n",
    "for fruit in fruit_list:\n",
    "    print(fruit, end = \", \")\n",
    "print(\"\\n\")\n",
    "\n",
    "# Removing the first fruit from the list\n",
    "fruit_list.pop(0)\n",
    "\n",
    "# Printing the updated fruit list\n",
    "print(\"Updated Fruit List: \", end = \" \")\n",
    "for fruit in fruit_list:\n",
    "    print(fruit, end = \", \")\n",
    "print(\"\\n\")"
   ]
  }
 ],
 "metadata": {
  "kernelspec": {
   "display_name": "Python 3 (ipykernel)",
   "language": "python",
   "name": "python3"
  },
  "language_info": {
   "codemirror_mode": {
    "name": "ipython",
    "version": 3
   },
   "file_extension": ".py",
   "mimetype": "text/x-python",
   "name": "python",
   "nbconvert_exporter": "python",
   "pygments_lexer": "ipython3",
   "version": "3.10.7"
  },
  "vscode": {
   "interpreter": {
    "hash": "5827bb77950f6316d9e848194dfccdbe99cc9d8eabac60195b2d068013bba3d3"
   }
  }
 },
 "nbformat": 4,
 "nbformat_minor": 5
}
