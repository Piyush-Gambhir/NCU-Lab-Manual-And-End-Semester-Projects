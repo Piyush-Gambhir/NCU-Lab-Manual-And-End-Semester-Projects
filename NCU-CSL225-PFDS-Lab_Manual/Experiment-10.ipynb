{
 "cells": [
  {
   "cell_type": "markdown",
   "id": "79186366",
   "metadata": {},
   "source": [
    "## Problem Statement"
   ]
  },
  {
   "cell_type": "markdown",
   "id": "2739ac73",
   "metadata": {},
   "source": [
    "Give the commands to create a tuple of computer parts, print the tuple. Create another tuple and join with the existing one."
   ]
  },
  {
   "cell_type": "code",
   "execution_count": 3,
   "id": "2fcc8037",
   "metadata": {},
   "outputs": [
    {
     "name": "stdout",
     "output_type": "stream",
     "text": [
      "Tuple computer_parts_1: ('computer', 'monitor')\n",
      "Tuple computer_parts_2: ('keyboard', 'mouse')\n",
      "\n",
      "Tuple computer_parts (Joined Tuple): ('computer', 'monitor', 'keyboard', 'mouse')\n"
     ]
    }
   ],
   "source": [
    "computer_parts_1 = (\"computer\", \"monitor\")\n",
    "print(\"Tuple computer_parts_1:\", computer_parts_1)\n",
    "computer_parts_2 = (\"keyboard\", \"mouse\")\n",
    "print(\"Tuple computer_parts_2:\", computer_parts_2)\n",
    "\n",
    "computer_parts = computer_parts_1 + computer_parts_2\n",
    "print(\"\\nTuple computer_parts (Joined Tuple):\", computer_parts)\n"
   ]
  }
 ],
 "metadata": {
  "kernelspec": {
   "display_name": "Python 3 (ipykernel)",
   "language": "python",
   "name": "python3"
  },
  "language_info": {
   "codemirror_mode": {
    "name": "ipython",
    "version": 3
   },
   "file_extension": ".py",
   "mimetype": "text/x-python",
   "name": "python",
   "nbconvert_exporter": "python",
   "pygments_lexer": "ipython3",
   "version": "3.10.7"
  },
  "vscode": {
   "interpreter": {
    "hash": "5827bb77950f6316d9e848194dfccdbe99cc9d8eabac60195b2d068013bba3d3"
   }
  }
 },
 "nbformat": 4,
 "nbformat_minor": 5
}
