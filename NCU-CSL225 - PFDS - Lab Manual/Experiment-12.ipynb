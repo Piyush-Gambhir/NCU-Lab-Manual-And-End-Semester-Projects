{
 "cells": [
  {
   "cell_type": "markdown",
   "id": "79186366",
   "metadata": {},
   "source": [
    "## Problem Statement"
   ]
  },
  {
   "cell_type": "markdown",
   "id": "2739ac73",
   "metadata": {},
   "source": [
    "Give the commands to find length of the dictionary, add an item, remove an item, create copy of the dictionary."
   ]
  },
  {
   "cell_type": "code",
   "execution_count": 8,
   "id": "2fcc8037",
   "metadata": {},
   "outputs": [
    {
     "name": "stdout",
     "output_type": "stream",
     "text": [
      "Original Dictionary:  {'brand': 'Ford', 'model': 'Mustang', 'year': 1964}\n",
      "Length of Original Dictionary:  3\n",
      "\n",
      "Copy of Dictionary:  {'brand': 'Ford', 'model': 'Mustang', 'year': 1964}\n",
      "\n",
      "Updated Original Dictionary:  {'brand': 'Ford', 'model': 'Mustang', 'year': 1964, 'color': 'Red'}\n",
      "Updated Original Dictionary:  {'brand': 'Ford', 'model': 'Mustang', 'color': 'Red'}\n"
     ]
    }
   ],
   "source": [
    "car_dict = {'brand': 'Ford', 'model': 'Mustang', 'year': 1964}\n",
    "print(\"Original Dictionary: \", car_dict)\n",
    "print(\"Length of Original Dictionary: \", len(car_dict))\n",
    "\n",
    "print()\n",
    "car_dict_copy = car_dict.copy()\n",
    "print(\"Copy of Dictionary: \", car_dict_copy)\n",
    "\n",
    "print()\n",
    "# Adding a new key-value pair\n",
    "car_dict['color'] = 'Red'\n",
    "print(\"Updated Original Dictionary: \", car_dict)\n",
    "\n",
    "# Removing a key-value pair\n",
    "del car_dict['year']\n",
    "print(\"Updated Original Dictionary: \", car_dict)"
   ]
  }
 ],
 "metadata": {
  "kernelspec": {
   "display_name": "Python 3 (ipykernel)",
   "language": "python",
   "name": "python3"
  },
  "language_info": {
   "codemirror_mode": {
    "name": "ipython",
    "version": 3
   },
   "file_extension": ".py",
   "mimetype": "text/x-python",
   "name": "python",
   "nbconvert_exporter": "python",
   "pygments_lexer": "ipython3",
   "version": "3.10.7"
  },
  "vscode": {
   "interpreter": {
    "hash": "5827bb77950f6316d9e848194dfccdbe99cc9d8eabac60195b2d068013bba3d3"
   }
  }
 },
 "nbformat": 4,
 "nbformat_minor": 5
}
