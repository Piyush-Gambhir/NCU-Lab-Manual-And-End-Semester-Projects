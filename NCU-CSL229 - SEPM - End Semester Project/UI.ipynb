{
  "cells": [
    {
      "cell_type": "markdown",
      "metadata": {
        "id": "EMiMfdqdb0ko"
      },
      "source": [
        "# Bitcoin Price Prediction - UI"
      ]
    },
    {
      "cell_type": "markdown",
      "metadata": {
        "id": "WM32zw0Tb0kq"
      },
      "source": [
        "## Installing Dependencies"
      ]
    },
    {
      "cell_type": "code",
      "execution_count": null,
      "metadata": {
        "id": "x40gk61Vb0kr"
      },
      "outputs": [],
      "source": [
        "! pip install gradio -q"
      ]
    },
    {
      "cell_type": "markdown",
      "metadata": {
        "id": "V_J-LTzbb0ks"
      },
      "source": [
        "## Code"
      ]
    },
    {
      "cell_type": "code",
      "execution_count": null,
      "metadata": {
        "colab": {
          "background_save": true,
          "base_uri": "https://localhost:8080/",
          "height": 637
        },
        "id": "R0J2CLFLb0kt",
        "outputId": "f1e6aae8-a3ca-4467-a732-daf14857b1c5"
      },
      "outputs": [
        {
          "name": "stdout",
          "output_type": "stream",
          "text": [
            "Setting queue=True in a Colab notebook requires sharing enabled. Setting `share=True` (you can turn this off by setting `share=False` in `launch()` explicitly).\n",
            "\n",
            "Colab notebook detected. This cell will run indefinitely so that you can see errors and logs. To turn off, set debug=False in launch().\n",
            "\n",
            "Could not create share link. Please check your internet connection or our status page: https://status.gradio.app.\n"
          ]
        },
        {
          "data": {
            "application/javascript": [
              "(async (port, path, width, height, cache, element) => {\n",
              "                        if (!google.colab.kernel.accessAllowed && !cache) {\n",
              "                            return;\n",
              "                        }\n",
              "                        element.appendChild(document.createTextNode(''));\n",
              "                        const url = await google.colab.kernel.proxyPort(port, {cache});\n",
              "\n",
              "                        const external_link = document.createElement('div');\n",
              "                        external_link.innerHTML = `\n",
              "                            <div style=\"font-family: monospace; margin-bottom: 0.5rem\">\n",
              "                                Running on <a href=${new URL(path, url).toString()} target=\"_blank\">\n",
              "                                    https://localhost:${port}${path}\n",
              "                                </a>\n",
              "                            </div>\n",
              "                        `;\n",
              "                        element.appendChild(external_link);\n",
              "\n",
              "                        const iframe = document.createElement('iframe');\n",
              "                        iframe.src = new URL(path, url).toString();\n",
              "                        iframe.height = height;\n",
              "                        iframe.allow = \"autoplay; camera; microphone; clipboard-read; clipboard-write;\"\n",
              "                        iframe.width = width;\n",
              "                        iframe.style.border = 0;\n",
              "                        element.appendChild(iframe);\n",
              "                    })(7860, \"/\", \"100%\", 500, false, window.element)"
            ],
            "text/plain": [
              "<IPython.core.display.Javascript object>"
            ]
          },
          "metadata": {},
          "output_type": "display_data"
        }
      ],
      "source": [
        "import numpy as np\n",
        "import pandas as pd\n",
        "from sklearn.preprocessing import MinMaxScaler\n",
        "from keras.models import model_from_json\n",
        "import gradio as gr\n",
        "from keras.models import load_model\n",
        "import datetime\n",
        "\n",
        "def predict_prices(start_date, n_days):\n",
        "    # Basic input validation\n",
        "    if not start_date:\n",
        "        return [\"Please provide a starting date.\"]\n",
        "    if not str(n_days).isdigit():\n",
        "        return [\"Please enter a valid integer for the number of days.\"]\n",
        "    if int(n_days) < 1:\n",
        "        return [\"The number of days must be at least 1.\"]\n",
        "    if int(n_days) > 31:\n",
        "        return [\"The number of days cannot exceed 31. Please enter a number of days that is 31 or less.\"]\n",
        "\n",
        "    try:\n",
        "        start_date = pd.to_datetime(start_date, dayfirst=True)\n",
        "    except ValueError:\n",
        "        return [\"Invalid date format. Please use DD-MM-YYYY.\"]\n",
        "\n",
        "    current_date = pd.to_datetime(\"today\")\n",
        "    if start_date < current_date or start_date > current_date + pd.DateOffset(days=31):\n",
        "        return [\"The starting date must be within 31 days from today.\"]\n",
        "\n",
        "    # Load model and data\n",
        "    with open(\"/content/model.json\", \"r\") as json_file:\n",
        "        loaded_model_json = json_file.read()\n",
        "    model = model_from_json(loaded_model_json)\n",
        "    model.load_weights(\"/content/model.h5\")\n",
        "    df = pd.read_csv('/content/BTC-USD.csv')\n",
        "    df['Date'] = pd.to_datetime(df['Date'])\n",
        "    df.dropna(inplace=True)\n",
        "    df['Volume'] = pd.to_numeric(df['Volume'], errors='coerce')\n",
        "\n",
        "    # Ensure the start_date is within or can be extended from the dataset\n",
        "    latest_date = df['Date'].max()\n",
        "    if start_date > latest_date:\n",
        "        # Predict from the latest available data\n",
        "        start_date = latest_date\n",
        "\n",
        "    look_back = 15\n",
        "    start_index = df[df['Date'] == start_date].index.tolist()[0] if start_date in df['Date'].values else -1\n",
        "    if start_index == -1:\n",
        "        return [\"Starting date is before the beginning of the dataset.\"]\n",
        "\n",
        "    data = df['Close'].values[start_index-look_back:start_index].reshape(-1, 1)\n",
        "    min_max_scaler = MinMaxScaler(feature_range=(0, 1))\n",
        "    scaled_data = min_max_scaler.fit_transform(data)\n",
        "    x_input = scaled_data.reshape(1, -1)\n",
        "    temp_input = list(x_input[0])\n",
        "    predicted_prices = []\n",
        "\n",
        "    i = 0\n",
        "    while i < n_days:\n",
        "        if len(temp_input) > look_back:\n",
        "            x_input = np.array(temp_input[-look_back:])\n",
        "        x_input = x_input.reshape((1, look_back, 1))\n",
        "        yhat = model.predict(x_input, verbose=0)\n",
        "        temp_input.append(yhat[0][0])\n",
        "        predicted_price = min_max_scaler.inverse_transform(yhat)[0][0]\n",
        "        predicted_prices.append(f\"Predicted price for Day {i+1} is {predicted_price:.2f}\")\n",
        "        i += 1\n",
        "\n",
        "    return predicted_prices\n",
        "\n",
        "# Gradio interface setup\n",
        "date_input = gr.Textbox(label=\"Enter Starting date\", placeholder=\"DD-MM-YYYY\")\n",
        "days_input = gr.Number(label=\"Enter the number of days\")\n",
        "output = gr.Textbox(label=\"Predicted prices\")\n",
        "interface = gr.Interface(\n",
        "    fn=predict_prices,\n",
        "    inputs=[date_input, days_input],\n",
        "    outputs=output,\n",
        "    title=\"Bitcoin Price Prediction\",\n",
        "    description=\"Enter the starting date and the number of days to predict Bitcoin prices, up to a maximum of 31 days.\"\n",
        ")\n",
        "\n",
        "# Launch the Gradio interface\n",
        "interface.launch(debug=True)\n"
      ]
    }
  ],
  "metadata": {
    "colab": {
      "provenance": []
    },
    "kernelspec": {
      "display_name": "Python 3",
      "language": "python",
      "name": "python3"
    },
    "language_info": {
      "codemirror_mode": {
        "name": "ipython",
        "version": 3
      },
      "file_extension": ".py",
      "mimetype": "text/x-python",
      "name": "python",
      "nbconvert_exporter": "python",
      "pygments_lexer": "ipython3",
      "version": "3.11.9"
    }
  },
  "nbformat": 4,
  "nbformat_minor": 0
}