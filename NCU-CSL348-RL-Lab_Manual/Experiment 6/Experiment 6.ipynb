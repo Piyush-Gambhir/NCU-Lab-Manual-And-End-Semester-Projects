{
 "cells": [
  {
   "cell_type": "markdown",
   "metadata": {},
   "source": [
    "# Experiment 6"
   ]
  },
  {
   "cell_type": "markdown",
   "metadata": {},
   "source": [
    "## Problem Statement:"
   ]
  },
  {
   "cell_type": "markdown",
   "metadata": {},
   "source": [
    "To implement Markov Process in python."
   ]
  },
  {
   "cell_type": "markdown",
   "metadata": {},
   "source": [
    "## Code"
   ]
  },
  {
   "cell_type": "code",
   "execution_count": 1,
   "metadata": {},
   "outputs": [],
   "source": [
    "# importing required libraries\n",
    "import numpy as np"
   ]
  },
  {
   "cell_type": "code",
   "execution_count": 2,
   "metadata": {},
   "outputs": [],
   "source": [
    "class MarkovProcess:\n",
    "    def __init__(self, transition_matrix, initial_state):\n",
    "        self.transition_matrix = transition_matrix\n",
    "        self.current_state = initial_state\n",
    "\n",
    "    def step(self):\n",
    "        transition_probs = self.transition_matrix[self.current_state]\n",
    "        new_state = np.random.choice(len(transition_probs), p=transition_probs)\n",
    "        self.current_state = new_state\n",
    "        return new_state"
   ]
  },
  {
   "cell_type": "code",
   "execution_count": 3,
   "metadata": {},
   "outputs": [
    {
     "name": "stdout",
     "output_type": "stream",
     "text": [
      "Current State: 0, Next State: 0\n",
      "Current State: 0, Next State: 0\n",
      "Current State: 0, Next State: 0\n",
      "Current State: 2, Next State: 2\n",
      "Current State: 2, Next State: 2\n",
      "Current State: 2, Next State: 2\n",
      "Current State: 2, Next State: 2\n",
      "Current State: 0, Next State: 0\n",
      "Current State: 0, Next State: 0\n",
      "Current State: 0, Next State: 0\n"
     ]
    }
   ],
   "source": [
    "\n",
    "if __name__ == \"__main__\":\n",
    "    transition_matrix = np.array([\n",
    "        [0.7, 0.2, 0.1],\n",
    "        [0.3, 0.4, 0.3],\n",
    "        [0.1, 0.3, 0.6]\n",
    "    ])\n",
    "\n",
    "    initial_state = 0\n",
    "\n",
    "    markov_process = MarkovProcess(transition_matrix, initial_state)\n",
    "\n",
    "    for _ in range(10):\n",
    "        new_state = markov_process.step()\n",
    "        print(\n",
    "            f\"Current State: {markov_process.current_state}, Next State: {new_state}\")"
   ]
  }
 ],
 "metadata": {
  "kernelspec": {
   "display_name": "Python 3",
   "language": "python",
   "name": "python3"
  },
  "language_info": {
   "codemirror_mode": {
    "name": "ipython",
    "version": 3
   },
   "file_extension": ".py",
   "mimetype": "text/x-python",
   "name": "python",
   "nbconvert_exporter": "python",
   "pygments_lexer": "ipython3",
   "version": "3.11.6"
  }
 },
 "nbformat": 4,
 "nbformat_minor": 2
}
