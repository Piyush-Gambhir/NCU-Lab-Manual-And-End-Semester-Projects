{
 "cells": [
  {
   "attachments": {},
   "cell_type": "markdown",
   "metadata": {},
   "source": [
    "## Experiment 7\n",
    "### Implementation of probability mass function for discrete random variable using Python.\n"
   ]
  },
  {
   "cell_type": "code",
   "execution_count": 1,
   "metadata": {},
   "outputs": [],
   "source": [
    "# importing required libraries\n",
    "from scipy.stats import bernoulli\n",
    "from scipy.stats import binom\n",
    "from scipy.stats import geom\n",
    "from scipy.stats import hypergeom\n",
    "from scipy.stats import poisson"
   ]
  },
  {
   "attachments": {},
   "cell_type": "markdown",
   "metadata": {},
   "source": [
    "#### 1. Bernoulli Distribution"
   ]
  },
  {
   "cell_type": "code",
   "execution_count": 2,
   "metadata": {},
   "outputs": [
    {
     "name": "stdout",
     "output_type": "stream",
     "text": [
      "Mean 0.5\n",
      "Variance 0.25\n"
     ]
    }
   ],
   "source": [
    "# defining paratemers\n",
    "n = 10 # number of trials\n",
    "p = 0.5 # probability of success\n",
    "\n",
    "print('Mean' , bernoulli.mean(p))\n",
    "print('Variance' , bernoulli.var(p))"
   ]
  },
  {
   "attachments": {},
   "cell_type": "markdown",
   "metadata": {},
   "source": [
    "#### 2. Binomial Distribution"
   ]
  },
  {
   "cell_type": "code",
   "execution_count": 3,
   "metadata": {},
   "outputs": [
    {
     "name": "stdout",
     "output_type": "stream",
     "text": [
      "Mean:  2.0\n",
      "Variance:  1.6\n",
      "Probability Mass Function:  0.0007864320000000002\n",
      "Cumulative Distribution Function:  0.9999220736\n"
     ]
    }
   ],
   "source": [
    "# defining paratemers\n",
    "n = 10 # number of trials\n",
    "x = 7 # number of successes\n",
    "p = 0.2 # probability of success\n",
    "\n",
    "print(\"Mean: \", binom.mean(n, p))\n",
    "print(\"Variance: \", binom.var(n, p))\n",
    "print(\"Probability Mass Function: \", binom.pmf(x, n, p))\n",
    "print(\"Cumulative Distribution Function: \", binom.cdf(x,n,p))"
   ]
  },
  {
   "attachments": {},
   "cell_type": "markdown",
   "metadata": {},
   "source": [
    "#### 3. Geomteric Distribution"
   ]
  },
  {
   "cell_type": "code",
   "execution_count": 4,
   "metadata": {},
   "outputs": [
    {
     "name": "stdout",
     "output_type": "stream",
     "text": [
      "Mean:  5.0\n",
      "Variance:  20.0\n",
      "Probability Mass Function:  0.12800000000000003\n",
      "Cumulative Distribution Function:  0.488\n"
     ]
    }
   ],
   "source": [
    "# defining paratemers\n",
    "n = 10 # number of trials\n",
    "p = 0.2 # probability of success\n",
    "\n",
    "print(\"Mean: \", geom.mean(p))\n",
    "print(\"Variance: \", geom.var(p))\n",
    "print(\"Probability Mass Function: \", geom.pmf(3, p))\n",
    "print(\"Cumulative Distribution Function: \", geom.cdf(3, p))"
   ]
  },
  {
   "attachments": {},
   "cell_type": "markdown",
   "metadata": {},
   "source": [
    "#### 4. Hypergeometric Distribution"
   ]
  },
  {
   "cell_type": "code",
   "execution_count": 5,
   "metadata": {},
   "outputs": [
    {
     "name": "stdout",
     "output_type": "stream",
     "text": [
      "Mean:  5.0\n",
      "Variance:  1.3157894736842106\n",
      "Probability Mass Function:  0.07794063521617701\n",
      "Cumulative Distribution Function:  0.9884929312173895\n"
     ]
    }
   ],
   "source": [
    "# defining paratemers\n",
    "n = 10 # number of trials\n",
    "x = 7 # number of successes\n",
    "M = 20 # number of balls in urn\n",
    "N = 10 # number of balls drawn\n",
    "\n",
    "print(\"Mean: \", hypergeom.mean(M, n, N))\n",
    "print(\"Variance: \", hypergeom.var(M, n, N))\n",
    "print(\"Probability Mass Function: \", hypergeom.pmf(x, M, n, N))\n",
    "print(\"Cumulative Distribution Function: \", hypergeom.cdf(x, M, n, N))"
   ]
  },
  {
   "attachments": {},
   "cell_type": "markdown",
   "metadata": {},
   "source": [
    "#### 5. Poisson Distribution"
   ]
  },
  {
   "cell_type": "code",
   "execution_count": 6,
   "metadata": {},
   "outputs": [
    {
     "name": "stdout",
     "output_type": "stream",
     "text": [
      "Mean:  0.4\n",
      "Variance:  0.4\n",
      "Probability mass function:  5.720064392837453e-05\n",
      "Cumulative distribution function:  0.999995957316826\n"
     ]
    }
   ],
   "source": [
    "# defining parameters\n",
    "x = 5 # number of events\n",
    "Lambda = 2/5 # lambda parameter\n",
    "\n",
    "print(\"Mean: \", poisson.mean(Lambda))\n",
    "print(\"Variance: \", poisson.var(Lambda))\n",
    "print(\"Probability mass function: \", poisson.pmf(x, Lambda))\n",
    "print(\"Cumulative distribution function: \", poisson.cdf(x, Lambda))"
   ]
  }
 ],
 "metadata": {
  "kernelspec": {
   "display_name": "Python 3",
   "language": "python",
   "name": "python3"
  },
  "language_info": {
   "codemirror_mode": {
    "name": "ipython",
    "version": 3
   },
   "file_extension": ".py",
   "mimetype": "text/x-python",
   "name": "python",
   "nbconvert_exporter": "python",
   "pygments_lexer": "ipython3",
   "version": "3.11.3"
  },
  "orig_nbformat": 4
 },
 "nbformat": 4,
 "nbformat_minor": 2
}
