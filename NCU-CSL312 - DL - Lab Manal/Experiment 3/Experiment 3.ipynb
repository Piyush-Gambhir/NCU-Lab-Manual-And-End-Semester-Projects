{
 "cells": [
  {
   "cell_type": "markdown",
   "metadata": {},
   "source": [
    "# Experiment : Keras Regression - Housing Prices Prediction\n"
   ]
  },
  {
   "cell_type": "markdown",
   "metadata": {},
   "source": [
    "## Dataset\n",
    "\n",
    "**Dataset Link**: https://www.kaggle.com/harlfoxem/housesalesprediction\n",
    "\n",
    "### Dataset Description\n",
    "\n",
    "This dataset contains house sale prices for King County, which includes Seattle. It includes homes sold between May 2014 and May 2015.\n",
    "\n",
    "#### Feature Columns\n",
    "\n",
    "- id - Unique ID for each home sold\n",
    "- date - Date of the home sale\n",
    "- price - Price of each home sold\n",
    "- bedrooms - Number of bedrooms\n",
    "- bathrooms - Number of bathrooms, where .5 accounts for a room with a toilet but no shower\n",
    "- sqft_living - Square footage of the apartments interior living space\n",
    "- sqft_lot - Square footage of the land space\n",
    "- floors - Number of floors\n",
    "- waterfront - A dummy variable for whether the apartment was overlooking the waterfront or not\n",
    "- view - An index from 0 to 4 of how good the view of the property was\n",
    "- condition - An index from 1 to 5 on the condition of the apartment,\n",
    "- grade - An index from 1 to 13, where 1-3 falls short of building construction and design, 7 has an average level of construction and design, and 11-13 have a high quality level of construction and design.\n",
    "- sqft_above - The square footage of the interior housing space that is above ground level\n",
    "- sqft_basement - The square footage of the interior housing space that is below ground level\n",
    "- yr_built - The year the house was initially built\n",
    "- yr_renovated - The year of the house’s last renovation\n",
    "- zipcode - What zipcode area the house is in\n",
    "- lat - Lattitude\n",
    "- long - Longitude\n",
    "- sqft_living15 - The square footage of interior housing living space for the nearest 15 neighbors\n",
    "- sqft_lot15 - The square footage of the land lots of the nearest 15 neighbors\n"
   ]
  },
  {
   "cell_type": "markdown",
   "metadata": {},
   "source": [
    "## Code\n"
   ]
  },
  {
   "cell_type": "code",
   "execution_count": 1,
   "metadata": {},
   "outputs": [
    {
     "name": "stdout",
     "output_type": "stream",
     "text": [
      "WARNING:tensorflow:From c:\\Users\\mainp\\AppData\\Local\\Programs\\Python\\Python311\\Lib\\site-packages\\keras\\src\\losses.py:2976: The name tf.losses.sparse_softmax_cross_entropy is deprecated. Please use tf.compat.v1.losses.sparse_softmax_cross_entropy instead.\n",
      "\n"
     ]
    }
   ],
   "source": [
    "import pandas as pd\n",
    "import numpy as np\n",
    "import matplotlib.pyplot as plt\n",
    "import seaborn as sns\n",
    "from sklearn.model_selection import train_test_split\n",
    "from sklearn.preprocessing import MinMaxScaler\n",
    "from sklearn.metrics import mean_squared_error, mean_absolute_error, explained_variance_score\n",
    "from tensorflow.keras.models import Sequential\n",
    "from tensorflow.keras.layers import Dense\n",
    "from tensorflow.keras.optimizers import Adam"
   ]
  },
  {
   "cell_type": "code",
   "execution_count": 2,
   "metadata": {},
   "outputs": [],
   "source": [
    "# Load the Dataset\n",
    "df = pd.read_csv('kc_house_data.csv')"
   ]
  },
  {
   "cell_type": "code",
   "execution_count": 3,
   "metadata": {},
   "outputs": [
    {
     "name": "stdout",
     "output_type": "stream",
     "text": [
      "id               0\n",
      "date             0\n",
      "price            0\n",
      "bedrooms         0\n",
      "bathrooms        0\n",
      "sqft_living      0\n",
      "sqft_lot         0\n",
      "floors           0\n",
      "waterfront       0\n",
      "view             0\n",
      "condition        0\n",
      "grade            0\n",
      "sqft_above       0\n",
      "sqft_basement    0\n",
      "yr_built         0\n",
      "yr_renovated     0\n",
      "zipcode          0\n",
      "lat              0\n",
      "long             0\n",
      "sqft_living15    0\n",
      "sqft_lot15       0\n",
      "dtype: int64\n",
      "                 count          mean           std           min  \\\n",
      "id             21597.0  4.580474e+09  2.876736e+09  1.000102e+06   \n",
      "price          21597.0  5.402966e+05  3.673681e+05  7.800000e+04   \n",
      "bedrooms       21597.0  3.373200e+00  9.262989e-01  1.000000e+00   \n",
      "bathrooms      21597.0  2.115826e+00  7.689843e-01  5.000000e-01   \n",
      "sqft_living    21597.0  2.080322e+03  9.181061e+02  3.700000e+02   \n",
      "sqft_lot       21597.0  1.509941e+04  4.141264e+04  5.200000e+02   \n",
      "floors         21597.0  1.494096e+00  5.396828e-01  1.000000e+00   \n",
      "waterfront     21597.0  7.547345e-03  8.654900e-02  0.000000e+00   \n",
      "view           21597.0  2.342918e-01  7.663898e-01  0.000000e+00   \n",
      "condition      21597.0  3.409825e+00  6.505456e-01  1.000000e+00   \n",
      "grade          21597.0  7.657915e+00  1.173200e+00  3.000000e+00   \n",
      "sqft_above     21597.0  1.788597e+03  8.277598e+02  3.700000e+02   \n",
      "sqft_basement  21597.0  2.917250e+02  4.426678e+02  0.000000e+00   \n",
      "yr_built       21597.0  1.971000e+03  2.937523e+01  1.900000e+03   \n",
      "yr_renovated   21597.0  8.446479e+01  4.018214e+02  0.000000e+00   \n",
      "zipcode        21597.0  9.807795e+04  5.351307e+01  9.800100e+04   \n",
      "lat            21597.0  4.756009e+01  1.385518e-01  4.715590e+01   \n",
      "long           21597.0 -1.222140e+02  1.407235e-01 -1.225190e+02   \n",
      "sqft_living15  21597.0  1.986620e+03  6.852305e+02  3.990000e+02   \n",
      "sqft_lot15     21597.0  1.275828e+04  2.727444e+04  6.510000e+02   \n",
      "\n",
      "                        25%           50%           75%           max  \n",
      "id             2.123049e+09  3.904930e+09  7.308900e+09  9.900000e+09  \n",
      "price          3.220000e+05  4.500000e+05  6.450000e+05  7.700000e+06  \n",
      "bedrooms       3.000000e+00  3.000000e+00  4.000000e+00  3.300000e+01  \n",
      "bathrooms      1.750000e+00  2.250000e+00  2.500000e+00  8.000000e+00  \n",
      "sqft_living    1.430000e+03  1.910000e+03  2.550000e+03  1.354000e+04  \n",
      "sqft_lot       5.040000e+03  7.618000e+03  1.068500e+04  1.651359e+06  \n",
      "floors         1.000000e+00  1.500000e+00  2.000000e+00  3.500000e+00  \n",
      "waterfront     0.000000e+00  0.000000e+00  0.000000e+00  1.000000e+00  \n",
      "view           0.000000e+00  0.000000e+00  0.000000e+00  4.000000e+00  \n",
      "condition      3.000000e+00  3.000000e+00  4.000000e+00  5.000000e+00  \n",
      "grade          7.000000e+00  7.000000e+00  8.000000e+00  1.300000e+01  \n",
      "sqft_above     1.190000e+03  1.560000e+03  2.210000e+03  9.410000e+03  \n",
      "sqft_basement  0.000000e+00  0.000000e+00  5.600000e+02  4.820000e+03  \n",
      "yr_built       1.951000e+03  1.975000e+03  1.997000e+03  2.015000e+03  \n",
      "yr_renovated   0.000000e+00  0.000000e+00  0.000000e+00  2.015000e+03  \n",
      "zipcode        9.803300e+04  9.806500e+04  9.811800e+04  9.819900e+04  \n",
      "lat            4.747110e+01  4.757180e+01  4.767800e+01  4.777760e+01  \n",
      "long          -1.223280e+02 -1.222310e+02 -1.221250e+02 -1.213150e+02  \n",
      "sqft_living15  1.490000e+03  1.840000e+03  2.360000e+03  6.210000e+03  \n",
      "sqft_lot15     5.100000e+03  7.620000e+03  1.008300e+04  8.712000e+05  \n"
     ]
    }
   ],
   "source": [
    "# Preliminary Data Exploration\n",
    "print(df.isnull().sum())  # Check for null values\n",
    "print(df.describe().transpose())  # Summary statistics"
   ]
  },
  {
   "cell_type": "code",
   "execution_count": 4,
   "metadata": {},
   "outputs": [
    {
     "data": {
      "text/plain": [
       "<Axes: xlabel='bedrooms', ylabel='price'>"
      ]
     },
     "execution_count": 4,
     "metadata": {},
     "output_type": "execute_result"
    },
    {
     "data": {
      "text/plain": [
       "<Figure size 1200x800 with 0 Axes>"
      ]
     },
     "metadata": {},
     "output_type": "display_data"
    },
    {
     "data": {
      "image/png": "[encoded data removed]",
      "text/plain": [
       "<Figure size 500x500 with 1 Axes>"
      ]
     },
     "metadata": {},
     "output_type": "display_data"
    }
   ],
   "source": [
    "# Visualizing the Data\n",
    "print(\"Visualizing the Data\")\n",
    "\n",
    "plt.figure(figsize=(12, 8))\n",
    "sns.displot(df['price'])  # Distribution of house prices\n",
    "\n",
    "plt.figure(figsize=(12, 8))\n",
    "sns.countplot(df['bedrooms'])  # Count of bedrooms\n",
    "\n",
    "plt.figure(figsize=(12, 8))\n",
    "sns.scatterplot(x='price', y='sqft_living', data=df)  # Price vs. living area\n",
    "\n",
    "plt.figure(figsize=(12, 8))\n",
    "sns.boxplot(x='bedrooms', y='price', data=df)  # Price by bedroom count"
   ]
  },
  {
   "cell_type": "code",
   "execution_count": null,
   "metadata": {},
   "outputs": [],
   "source": [
    "\n",
    "# Dropping unnecessary features\n",
    "df.drop(['id', 'date', 'zipcode'], axis=1, inplace=True)\n",
    "\n",
    "# Feature Engineering from 'yr_renovated' and 'sqft_basement'\n",
    "df['yr_renovated'] = df['yr_renovated'].apply(lambda x: 1 if x > 0 else 0)\n",
    "df['has_basement'] = df['sqft_basement'].apply(lambda x: 1 if x > 0 else 0)\n",
    "df.drop('sqft_basement', axis=1, inplace=True)\n",
    "\n",
    "# Scaling and Train Test Split\n",
    "X = df.drop('price', axis=1).values\n",
    "y = df['price'].values\n",
    "\n",
    "X_train, X_test, y_train, y_test = train_test_split(\n",
    "    X, y, test_size=0.3, random_state=101)\n",
    "\n",
    "scaler = MinMaxScaler()\n",
    "X_train = scaler.fit_transform(X_train)\n",
    "X_test = scaler.transform(X_test)"
   ]
  },
  {
   "cell_type": "code",
   "execution_count": null,
   "metadata": {},
   "outputs": [],
   "source": [
    "# Creating the Neural Network Model\n",
    "model = Sequential([\n",
    "    Dense(19, activation='relu'),\n",
    "    Dense(19, activation='relu'),\n",
    "    Dense(19, activation='relu'),\n",
    "    Dense(19, activation='relu'),\n",
    "    Dense(1)\n",
    "])\n",
    "\n",
    "model.compile(optimizer=Adam(), loss='mse')\n",
    "\n",
    "# Training the Model\n",
    "model.fit(x=X_train, y=y_train, validation_data=(\n",
    "    X_test, y_test), batch_size=128, epochs=400, verbose=0)"
   ]
  },
  {
   "cell_type": "code",
   "execution_count": null,
   "metadata": {},
   "outputs": [],
   "source": [
    "# Evaluating Model Performance\n",
    "losses = pd.DataFrame(model.history.history)\n",
    "losses.plot()\n",
    "\n",
    "predictions = model.predict(X_test)\n",
    "print(f\"MAE: {mean_absolute_error(y_test, predictions)}\")\n",
    "print(f\"RMSE: {np.sqrt(mean_squared_error(y_test, predictions))}\")\n",
    "print(\n",
    "    f\"Explained Variance Score: {explained_variance_score(y_test, predictions)}\")\n",
    "\n",
    "# Plotting predictions vs actual prices\n",
    "plt.scatter(y_test, predictions)\n",
    "plt.plot(y_test, y_test, 'r')"
   ]
  }
 ],
 "metadata": {
  "kernelspec": {
   "display_name": "Python 3",
   "language": "python",
   "name": "python3"
  },
  "language_info": {
   "codemirror_mode": {
    "name": "ipython",
    "version": 3
   },
   "file_extension": ".py",
   "mimetype": "text/x-python",
   "name": "python",
   "nbconvert_exporter": "python",
   "pygments_lexer": "ipython3",
   "version": "3.11.7"
  }
 },
 "nbformat": 4,
 "nbformat_minor": 2
}
