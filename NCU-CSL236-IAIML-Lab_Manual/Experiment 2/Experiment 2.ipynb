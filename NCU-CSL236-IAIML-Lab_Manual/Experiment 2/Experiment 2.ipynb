{
 "cells": [
  {
   "cell_type": "markdown",
   "metadata": {},
   "source": [
    "# Experiment 2"
   ]
  },
  {
   "cell_type": "markdown",
   "metadata": {},
   "source": [
    "## Problem Statement"
   ]
  },
  {
   "cell_type": "markdown",
   "metadata": {},
   "source": [
    "Write a program to perform data pre-processing techniques for effective machine learning."
   ]
  },
  {
   "cell_type": "markdown",
   "metadata": {},
   "source": [
    "## Code"
   ]
  },
  {
   "cell_type": "code",
   "execution_count": 36,
   "metadata": {},
   "outputs": [],
   "source": [
    "# importing required libraries\n",
    "import numpy as np\n",
    "import pandas as pd\n",
    "import matplotlib.pyplot as plt\n",
    "import seaborn as sns"
   ]
  },
  {
   "cell_type": "markdown",
   "metadata": {},
   "source": [
    "Getting the Datasets"
   ]
  },
  {
   "cell_type": "code",
   "execution_count": 37,
   "metadata": {},
   "outputs": [
    {
     "name": "stdout",
     "output_type": "stream",
     "text": [
      "Dataset 1\n",
      "|    |   common_id |   feature1 |   feature2 | feature3   |   feature4 |\n",
      "|---:|------------:|-----------:|-----------:|:-----------|-----------:|\n",
      "|  0 |           0 |    37.454  |   0.870471 | B          |        971 |\n",
      "|  1 |           1 |    95.0714 |  -2.99007  | A          |        882 |\n",
      "|  2 |           2 |    73.1994 |   0.917608 | B          |        470 |\n",
      "|  3 |           3 |    59.8658 | -19.8757   | A          |        142 |\n",
      "|  4 |           4 |    15.6019 |  -2.19672  | D          |         91 |\n",
      "\n",
      "Dataset 2\n",
      "\n",
      "Dataset 2\n",
      "|    |   common_id |   feature5 | feature6   |   feature7 |   feature8 |\n",
      "|---:|------------:|-----------:|:-----------|-----------:|-----------:|\n",
      "|  0 |          50 |    6.00823 | F          |   -4.48618 |       1337 |\n",
      "|  1 |          51 |   17.094   | H          |    7.62915 |       1012 |\n",
      "|  2 |          52 |    4.58995 | E          |    1.83455 |       1144 |\n",
      "|  3 |          53 |    4.70785 | E          |    1.04748 |        732 |\n",
      "|  4 |          54 |   15.5707  | F          |   -4.37781 |       1023 |\n"
     ]
    }
   ],
   "source": [
    "dataset_1_file_path = \"dataset1.csv\"\n",
    "dataset_2_file_path = \"dataset2.csv\"\n",
    "\n",
    "dataset_1 = pd.read_csv(dataset_1_file_path)\n",
    "dataset_2 = pd.read_csv(dataset_2_file_path)\n",
    "\n",
    "print(\"Dataset 1\")\n",
    "print(dataset_1.head().to_markdown())\n",
    "\n",
    "print(\"\\nDataset 2\")\n",
    "\n",
    "print(\"\\nDataset 2\")\n",
    "print(dataset_2.head().to_markdown())"
   ]
  },
  {
   "cell_type": "markdown",
   "metadata": {},
   "source": [
    "Checking For Noise and Removing It (If Any)"
   ]
  },
  {
   "cell_type": "code",
   "execution_count": 38,
   "metadata": {},
   "outputs": [
    {
     "name": "stdout",
     "output_type": "stream",
     "text": [
      "Missing values in the dataset_1:  0\n",
      "Missing values in the dataset_2:  0\n"
     ]
    }
   ],
   "source": [
    "# checking for missing values in both the datasets\n",
    "print(\"Missing values in the dataset_1: \", dataset_1.isnull().sum().sum())\n",
    "print(\"Missing values in the dataset_2: \", dataset_2.isnull().sum().sum())"
   ]
  },
  {
   "cell_type": "code",
   "execution_count": 39,
   "metadata": {},
   "outputs": [
    {
     "data": {
      "image/png": "[encoded data removed]",
      "text/plain": [
       "<Figure size 640x480 with 1 Axes>"
      ]
     },
     "metadata": {},
     "output_type": "display_data"
    },
    {
     "data": {
      "image/png": "[encoded data removed]",
      "text/plain": [
       "<Figure size 640x480 with 1 Axes>"
      ]
     },
     "metadata": {},
     "output_type": "display_data"
    },
    {
     "data": {
      "image/png": "[encoded data removed]",
      "text/plain": [
       "<Figure size 640x480 with 1 Axes>"
      ]
     },
     "metadata": {},
     "output_type": "display_data"
    }
   ],
   "source": [
    "# plotting all the features in the dataset_1 to check the outliers\n",
    "\n",
    "dataset_1['feature1'].plot(kind='box', layout=(5,5))\n",
    "plt.show()\n",
    "dataset_1['feature2'].plot(kind='box', layout=(5,5))\n",
    "plt.show()\n",
    "dataset_1['feature4'].plot(kind='box', layout=(5,5))\n",
    "plt.show()"
   ]
  },
  {
   "cell_type": "code",
   "execution_count": 46,
   "metadata": {},
   "outputs": [
    {
     "name": "stdout",
     "output_type": "stream",
     "text": [
      "Dataset 1 Cleaned\n",
      "|    |   common_id |   feature1 |   feature2 | feature3   |   feature4 |\n",
      "|---:|------------:|-----------:|-----------:|:-----------|-----------:|\n",
      "|  0 |           0 |    37.454  |   0.870471 | B          |        971 |\n",
      "|  1 |           1 |    95.0714 |  -2.99007  | A          |        882 |\n",
      "|  2 |           2 |    73.1994 |   0.917608 | B          |        470 |\n",
      "|  3 |           3 |    59.8658 | -19.8757   | A          |        142 |\n",
      "|  4 |           4 |    15.6019 |  -2.19672  | D          |         91 |\n",
      "\n",
      "\n",
      "Dataset 2 Cleaned\n",
      "|    |   common_id |   feature5 | feature6   |   feature7 |   feature8 |\n",
      "|---:|------------:|-----------:|:-----------|-----------:|-----------:|\n",
      "|  0 |          50 |    6.00823 | F          |   -4.48618 |       1337 |\n",
      "|  1 |          51 |   17.094   | H          |    7.62915 |       1012 |\n",
      "|  2 |          52 |    4.58995 | E          |    1.83455 |       1144 |\n",
      "|  3 |          53 |    4.70785 | E          |    1.04748 |        732 |\n",
      "|  4 |          54 |   15.5707  | F          |   -4.37781 |       1023 |\n"
     ]
    }
   ],
   "source": [
    "def replace_outliers_with_mean(df, column_name):\n",
    "    Q1 = df[column_name].quantile(0.25)\n",
    "    Q3 = df[column_name].quantile(0.75)\n",
    "    IQR = Q3 - Q1\n",
    "    lower_bound = Q1 - 1.5 * IQR\n",
    "    upper_bound = Q3 + 1.5 * IQR\n",
    "    mean_value = df[column_name].mean()\n",
    "    df[column_name] = df.apply(\n",
    "        lambda row: mean_value if (\n",
    "            row[column_name] < lower_bound or row[column_name] > upper_bound) else row[column_name],\n",
    "        axis=1\n",
    "    )\n",
    "    return df\n",
    "\n",
    "\n",
    "# Handle outliers for dataset1 and dataset2\n",
    "dataset1_cleaned = dataset_1.copy()\n",
    "dataset2_cleaned = dataset_2.copy()\n",
    "for column in [\"feature1\", \"feature2\", \"feature4\"]:\n",
    "    dataset1_cleaned = replace_outliers_with_mean(dataset1_cleaned, column)\n",
    "for column in [\"feature5\", \"feature7\", \"feature8\"]:\n",
    "    dataset2_cleaned = replace_outliers_with_mean(dataset2_cleaned, column)\n",
    "\n",
    "print(\"Dataset 1 Cleaned\")\n",
    "print(dataset1_cleaned.head().to_markdown())\n",
    "\n",
    "print(\"\\n\")\n",
    "\n",
    "print(\"Dataset 2 Cleaned\")\n",
    "print(dataset2_cleaned.head().to_markdown())\n"
   ]
  },
  {
   "cell_type": "markdown",
   "metadata": {},
   "source": [
    "Normalizing Data"
   ]
  },
  {
   "cell_type": "code",
   "execution_count": 47,
   "metadata": {},
   "outputs": [
    {
     "name": "stdout",
     "output_type": "stream",
     "text": [
      "Dataset 1 After Normalization\n",
      "|    |   common_id |   feature1 |   feature2 | feature3   |   feature4 |\n",
      "|---:|------------:|-----------:|-----------:|:-----------|-----------:|\n",
      "|  0 |           0 |   0.376025 |   0.496554 | B          |  0.972837  |\n",
      "|  1 |           1 |   0.96314  |   0.404153 | A          |  0.8833    |\n",
      "|  2 |           2 |   0.740267 |   0.497682 | B          |  0.468813  |\n",
      "|  3 |           3 |   0.604399 |   0        | A          |  0.138833  |\n",
      "|  4 |           4 |   0.153354 |   0.423142 | D          |  0.0875252 |\n",
      "\n",
      "\n",
      "Dataset 2 Cleaned After Normalization\n",
      "|    |   common_id |   feature5 | feature6   |   feature7 |   feature8 |\n",
      "|---:|------------:|-----------:|:-----------|-----------:|-----------:|\n",
      "|  0 |          50 |  0.106932  | F          |   0.253226 |   0.850305 |\n",
      "|  1 |          51 |  0.333027  | H          |   0.779775 |   0.519348 |\n",
      "|  2 |          52 |  0.0780058 | E          |   0.527933 |   0.653768 |\n",
      "|  3 |          53 |  0.0804103 | E          |   0.493727 |   0.234216 |\n",
      "|  4 |          54 |  0.301959  | F          |   0.257936 |   0.53055  |\n"
     ]
    }
   ],
   "source": [
    "def normalize_column(df, column_name):\n",
    "    min_value = df[column_name].min()\n",
    "    max_value = df[column_name].max()\n",
    "    df[column_name] = (df[column_name] - min_value) / (max_value - min_value)\n",
    "    return df\n",
    "\n",
    "# Normalize numeric features for dataset1_cleaned and dataset2_cleaned\n",
    "for column in [\"feature1\", \"feature2\", \"feature4\"]:\n",
    "    dataset1_cleaned = normalize_column(dataset1_cleaned, column)\n",
    "for column in [\"feature5\", \"feature7\", \"feature8\"]:\n",
    "    dataset2_cleaned = normalize_column(dataset2_cleaned, column)\n",
    "\n",
    "print(\"Dataset 1 After Normalization\")\n",
    "print(dataset1_cleaned.head().to_markdown())\n",
    "\n",
    "print(\"\\n\")\n",
    "\n",
    "print(\"Dataset 2 Cleaned After Normalization\")\n",
    "print(dataset2_cleaned.head().to_markdown())"
   ]
  },
  {
   "cell_type": "markdown",
   "metadata": {},
   "source": [
    "Integrating the Datasets"
   ]
  },
  {
   "cell_type": "code",
   "execution_count": 59,
   "metadata": {},
   "outputs": [
    {
     "name": "stdout",
     "output_type": "stream",
     "text": [
      "Merged Dataset: \n",
      "|    |   common_id |   feature1 |   feature2 | feature3   |   feature4 |   feature5 | feature6   |   feature7 |   feature8 |\n",
      "|---:|------------:|-----------:|-----------:|:-----------|-----------:|-----------:|:-----------|-----------:|-----------:|\n",
      "|  0 |          50 |   0.982369 |   0.238637 | A          |   0.634809 |  0.106932  | F          |   0.253226 |   0.850305 |\n",
      "|  1 |          51 |   0.784225 |   0.340178 | B          |   0.10161  |  0.333027  | H          |   0.779775 |   0.519348 |\n",
      "|  2 |          52 |   0.951712 |   0.499571 | C          |   0.669014 |  0.0780058 | E          |   0.527933 |   0.653768 |\n",
      "|  3 |          53 |   0.906192 |   0.355214 | B          |   0.657948 |  0.0804103 | E          |   0.493727 |   0.234216 |\n",
      "|  4 |          54 |   0.603627 |   0.104572 | B          |   0.655936 |  0.301959  | F          |   0.257936 |   0.53055  |\n"
     ]
    }
   ],
   "source": [
    "merged_dataset = pd.merge(dataset1_cleaned, dataset2_cleaned, on=\"common_id\", how=\"inner\")\n",
    "\n",
    "print(\"Merged Dataset: \")\n",
    "print(merged_dataset.head().to_markdown())"
   ]
  },
  {
   "cell_type": "markdown",
   "metadata": {},
   "source": [
    "Perfroming Reduction on Merged Dataset"
   ]
  },
  {
   "cell_type": "code",
   "execution_count": 61,
   "metadata": {},
   "outputs": [
    {
     "name": "stdout",
     "output_type": "stream",
     "text": [
      "Rows Where Feature3 is 'C' or 'D':\n",
      "| common_id   | feature1   | feature2   | feature3   | feature4   | feature5   | feature6   | feature7   | feature8   |\n",
      "|-------------|------------|------------|------------|------------|------------|------------|------------|------------|\n",
      "\n",
      "\n",
      "Merged Dataset After Removing Rows Where Feature3 is 'C' or 'D':\n",
      "|    |   common_id |   feature1 |   feature2 | feature3   |   feature4 |   feature5 | feature6   |   feature7 |   feature8 |\n",
      "|---:|------------:|-----------:|-----------:|:-----------|-----------:|-----------:|:-----------|-----------:|-----------:|\n",
      "|  0 |          50 |   0.982369 |   0.238637 | A          |   0.634809 | 0.106932   | F          |   0.253226 |   0.850305 |\n",
      "|  1 |          51 |   0.784225 |   0.340178 | B          |   0.10161  | 0.333027   | H          |   0.779775 |   0.519348 |\n",
      "|  3 |          53 |   0.906192 |   0.355214 | B          |   0.657948 | 0.0804103  | E          |   0.493727 |   0.234216 |\n",
      "|  4 |          54 |   0.603627 |   0.104572 | B          |   0.655936 | 0.301959   | F          |   0.257936 |   0.53055  |\n",
      "|  7 |          57 |   0.194077 |   0.589073 | B          |   0.78672  | 0.00189324 | E          |   0.341468 |   0.552953 |\n"
     ]
    }
   ],
   "source": [
    "# Remove rows where feature3 is 'C' or 'D' \n",
    "reduced_data = merged_dataset[merged_dataset['feature3'].isin(['C', 'D'])]\n",
    "print(\"Rows Where Feature3 is 'C' or 'D':\")\n",
    "print(reduced_data.head().to_markdown())\n",
    "\n",
    "print(\"\\n\")\n",
    "\n",
    "# Updating the merged dataset\n",
    "merged_dataset = merged_dataset.drop(reduced_data.index)\n",
    "print(\"Merged Dataset After Removing Rows Where Feature3 is 'C' or 'D':\")\n",
    "print(merged_dataset.head().to_markdown())"
   ]
  }
 ],
 "metadata": {
  "kernelspec": {
   "display_name": "Python 3",
   "language": "python",
   "name": "python3"
  },
  "language_info": {
   "codemirror_mode": {
    "name": "ipython",
    "version": 3
   },
   "file_extension": ".py",
   "mimetype": "text/x-python",
   "name": "python",
   "nbconvert_exporter": "python",
   "pygments_lexer": "ipython3",
   "version": "3.11.5"
  },
  "orig_nbformat": 4
 },
 "nbformat": 4,
 "nbformat_minor": 2
}
