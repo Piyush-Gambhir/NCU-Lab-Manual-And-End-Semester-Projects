{
 "cells": [
  {
   "attachments": {},
   "cell_type": "markdown",
   "metadata": {},
   "source": [
    "## Experiment 9\n",
    "### Write Python Program for Continuous Probability Distributions.\n"
   ]
  },
  {
   "cell_type": "markdown",
   "metadata": {},
   "source": [
    "#### 1. Uniform Distribution"
   ]
  },
  {
   "cell_type": "code",
   "execution_count": 1,
   "metadata": {},
   "outputs": [
    {
     "name": "stdout",
     "output_type": "stream",
     "text": [
      "Mean:  50.5\n",
      "Variance:  114.08333333333333\n",
      "PDF:  0.0\n",
      "CDF:  0.0\n"
     ]
    }
   ],
   "source": [
    "# importing required libraries\n",
    "from scipy.stats import uniform\n",
    "\n",
    "# setting the values of a and b\n",
    "a = 32\n",
    "b = 37\n",
    "\n",
    "# printing the mean, variance, PDF, CDF\n",
    "print(\"Mean: \", uniform.mean(a, b))\n",
    "print(\"Variance: \", uniform.var(a, b))\n",
    "print(\"PDF: \", uniform.pdf(a, b))\n",
    "print(\"CDF: \", uniform.cdf(a, b))\n",
    "\n"
   ]
  },
  {
   "attachments": {},
   "cell_type": "markdown",
   "metadata": {},
   "source": [
    "#### 2. Normal Distribution"
   ]
  },
  {
   "cell_type": "code",
   "execution_count": 2,
   "metadata": {},
   "outputs": [
    {
     "name": "stdout",
     "output_type": "stream",
     "text": [
      "Mean:  1.6\n",
      "Variance:  1.0\n",
      "PDF:  0.11092083467945554\n",
      "CDF:  0.945200708300442\n"
     ]
    }
   ],
   "source": [
    "# importing required libraries\n",
    "from scipy.stats import norm as normal\n",
    "\n",
    "# setting the values of mean and standard deviation \n",
    "x = 1.6\n",
    "mean = 8\n",
    "sd = 5\n",
    "\n",
    "# printing the mean, variance, PDF, CDF\n",
    "print(\"Mean: \", normal.mean(x))\n",
    "print(\"Variance: \", normal.var(x))\n",
    "print(\"PDF: \", normal.pdf(x))\n",
    "print(\"CDF: \", normal.cdf(x))"
   ]
  },
  {
   "attachments": {},
   "cell_type": "markdown",
   "metadata": {},
   "source": [
    "#### 3. Chi-Square Distribution"
   ]
  },
  {
   "cell_type": "code",
   "execution_count": 3,
   "metadata": {},
   "outputs": [
    {
     "name": "stdout",
     "output_type": "stream",
     "text": [
      "Mean:  6.0\n",
      "Variance:  12.0\n",
      "PDF:  0.12551071508349182\n",
      "CDF:  0.1911531694619418\n",
      "Survival Function:  0.8088468305380582\n",
      "Percent Point Function:  3.3789420922671023\n",
      "Critical Value:  7.974194328808714\n"
     ]
    }
   ],
   "source": [
    "# importing required libraries\n",
    "from scipy.stats import chi2 as chi\n",
    "\n",
    "# setting the values of degrees of freedom, variable, critical value\n",
    "nu = 6  # degrees of freedom\n",
    "x = 3  # variable\n",
    "alpha = 0.24  # critical value\n",
    "\n",
    "# printing the mean, variance, PDF, CDF, survival function, percent point function, critical value\n",
    "print(\"Mean: \", chi.mean(nu))\n",
    "print(\"Variance: \", chi.var(nu))\n",
    "print(\"PDF: \", chi.pdf(x, nu))\n",
    "print(\"CDF: \", chi.cdf(x, nu))\n",
    "print(\"Survival Function: \", chi.sf(x, nu))\n",
    "print(\"Percent Point Function: \", chi.ppf(alpha, nu))\n",
    "print(\"Critical Value: \", chi.isf(alpha, nu))"
   ]
  },
  {
   "attachments": {},
   "cell_type": "markdown",
   "metadata": {},
   "source": [
    "#### 4. The t-Distribution"
   ]
  },
  {
   "cell_type": "code",
   "execution_count": 4,
   "metadata": {},
   "outputs": [
    {
     "name": "stdout",
     "output_type": "stream",
     "text": [
      "Expectation:  0.0\n",
      "Variance:  1.0303030303030303\n",
      "Probability Distribution Function:  0.2402023823138007\n",
      "Cumulative Distribution Function:  0.8395721066953445\n",
      "Survival Function (1-cdf):  0.1604278933046555\n",
      "Percent Point Function (inverse of cdf):  1.455979454119329\n",
      "Inverse Survival Function (inverse of (1-cdf)):  -1.455979454119329\n"
     ]
    }
   ],
   "source": [
    "# importing required libraries\n",
    "from scipy.stats import t\n",
    "\n",
    "# setting the values of degrees of freedom, variable, critical value\n",
    "nu = 68 # degrees of freedom\n",
    "x = 1 # variable\n",
    "alpha = 0.925 # critical value\n",
    "\n",
    "# printing the mean, variance, PDF, CDF, survival function, percent point function, critical value\n",
    "print(\"Expectation: \", t.mean(nu))\n",
    "print(\"Variance: \", t.var(nu))\n",
    "print(\"Probability Distribution Function: \", t.pdf(x ,nu))\n",
    "print(\"Cumulative Distribution Function: \", t.cdf(x, nu))\n",
    "print(\"Survival Function (1-cdf): \", t.sf(x, nu))\n",
    "print(\"Percent Point Function (inverse of cdf): \", t.ppf(alpha, nu))\n",
    "print(\"Inverse Survival Function (inverse of (1-cdf)): \", t.isf(alpha, nu)) # Useful for finding the critical value"
   ]
  },
  {
   "attachments": {},
   "cell_type": "markdown",
   "metadata": {},
   "source": [
    "#### 5. The F-Distribution"
   ]
  },
  {
   "cell_type": "code",
   "execution_count": 5,
   "metadata": {},
   "outputs": [
    {
     "name": "stdout",
     "output_type": "stream",
     "text": [
      "Expectation:  1.1428571428571428\n",
      "Variance:  0.34467120181405897\n",
      "Probability Distribution Function:  0.14612805411889215\n",
      "Cumulative Distribution Function:  0.922542818763759\n",
      "Survival Function (1-cdf):  0.07745718123624103\n",
      "Percent Point Function (inverse of cdf):  2.0171044619502414\n",
      "Inverse Survival Function (inverse of (1-cdf)):  0.5257867781767004\n"
     ]
    }
   ],
   "source": [
    "# importing required libraries\n",
    "from scipy.stats import f\n",
    "\n",
    "\n",
    "# setting the values of degrees of freedom, variable, critical value\n",
    "nu1 = 24 # degree of freedom 1\n",
    "nu2 = 16 # degree of freedom 2\n",
    "x = 2 # variable\n",
    "alpha = 0.925 # critical value\n",
    "\n",
    "# printing the mean, variance, PDF, CDF, survival function, percent point function, critical value\n",
    "print(\"Expectation: \", f.mean(nu1, nu2))\n",
    "print(\"Variance: \", f.var(nu1, nu2))\n",
    "print(\"Probability Distribution Function: \", f.pdf(x ,nu1, nu2))\n",
    "print(\"Cumulative Distribution Function: \", f.cdf(x, nu1, nu2))\n",
    "print(\"Survival Function (1-cdf): \", f.sf(x, nu1, nu2))\n",
    "print(\"Percent Point Function (inverse of cdf): \", f.ppf(alpha, nu1, nu2))\n",
    "print(\"Inverse Survival Function (inverse of (1-cdf)): \", f.isf(alpha, nu1, nu2)) # Useful for finding the critical value"
   ]
  }
 ],
 "metadata": {
  "kernelspec": {
   "display_name": "Python 3",
   "language": "python",
   "name": "python3"
  },
  "language_info": {
   "codemirror_mode": {
    "name": "ipython",
    "version": 3
   },
   "file_extension": ".py",
   "mimetype": "text/x-python",
   "name": "python",
   "nbconvert_exporter": "python",
   "pygments_lexer": "ipython3",
   "version": "3.11.3"
  },
  "orig_nbformat": 4
 },
 "nbformat": 4,
 "nbformat_minor": 2
}
