{
 "cells": [
  {
   "cell_type": "markdown",
   "metadata": {},
   "source": [
    "# Experiment 7"
   ]
  },
  {
   "cell_type": "markdown",
   "metadata": {},
   "source": [
    "## Problem Statement:"
   ]
  },
  {
   "cell_type": "markdown",
   "metadata": {},
   "source": [
    "Write a python program to implement value iteration in dynamic programming."
   ]
  },
  {
   "cell_type": "markdown",
   "metadata": {},
   "source": [
    "## Code"
   ]
  },
  {
   "cell_type": "code",
   "execution_count": 1,
   "metadata": {},
   "outputs": [],
   "source": [
    "# importing required libraries\n",
    "import numpy as np"
   ]
  },
  {
   "cell_type": "code",
   "execution_count": 2,
   "metadata": {},
   "outputs": [],
   "source": [
    "\n",
    "def compute_state_value(state, policy, V, gamma, transition_model):\n",
    "    new_v = 0\n",
    "    for next_state, reward, probability in transition_model.get((state, policy[state]), []):\n",
    "        new_v += probability * (reward + gamma * V[next_state])\n",
    "    return new_v"
   ]
  },
  {
   "cell_type": "code",
   "execution_count": 3,
   "metadata": {},
   "outputs": [],
   "source": [
    "def policy_evaluation(V, policy, gamma, transition_model):\n",
    "    while True:\n",
    "        delta = 0\n",
    "        for state in V:\n",
    "            v = V[state]\n",
    "            new_v = compute_state_value(state, policy, V, gamma, transition_model)\n",
    "            V[state] = new_v\n",
    "            delta = max(delta, abs(v - new_v))\n",
    "        if delta < 1e-6:\n",
    "            break\n"
   ]
  },
  {
   "cell_type": "code",
   "execution_count": 4,
   "metadata": {},
   "outputs": [],
   "source": [
    "\n",
    "def policy_improvement(V, policy, gamma, transition_model):\n",
    "    policy_stable = True\n",
    "    for state in V:\n",
    "        old_action = policy[state]\n",
    "        action_values = {}\n",
    "        for action in transition_model.keys():\n",
    "            action_values[action] = compute_state_value(state, {state: action}, V, gamma, transition_model)\n",
    "        best_action = max(action_values, key=action_values.get)\n",
    "        policy[state] = best_action\n",
    "        if old_action != best_action:\n",
    "            policy_stable = False\n",
    "    return policy_stable"
   ]
  },
  {
   "cell_type": "code",
   "execution_count": 5,
   "metadata": {},
   "outputs": [
    {
     "name": "stdout",
     "output_type": "stream",
     "text": [
      "Optimal Policy:\n",
      "State 0: Action (0, 'A')\n",
      "State 1: Action (0, 'A')\n"
     ]
    }
   ],
   "source": [
    "if __name__ == \"__main__\":\n",
    "    transition_model = {\n",
    "        (0, 'A'): [(0, 10, 0.8), (1, -10, 0.2)],\n",
    "        (0, 'B'): [(1, 0, 1.0)],\n",
    "        (1, 'A'): [(0, 0, 1.0)],\n",
    "        (1, 'B'): [(1, 0, 1.0)]\n",
    "    }\n",
    "\n",
    "    policy = {0: 'A', 1: 'A'}\n",
    "    V = {0: 0, 1: 0}\n",
    "    gamma = 0.9\n",
    "\n",
    "    while True:\n",
    "        policy_evaluation(V, policy, gamma, transition_model)\n",
    "        policy_stable = policy_improvement(V, policy, gamma, transition_model)\n",
    "        if policy_stable:\n",
    "            break\n",
    "\n",
    "    print(\"Optimal Policy:\")\n",
    "    for state, action in policy.items():\n",
    "        print(f\"State {state}: Action {action}\")\n",
    "\n"
   ]
  }
 ],
 "metadata": {
  "kernelspec": {
   "display_name": "Python 3",
   "language": "python",
   "name": "python3"
  },
  "language_info": {
   "codemirror_mode": {
    "name": "ipython",
    "version": 3
   },
   "file_extension": ".py",
   "mimetype": "text/x-python",
   "name": "python",
   "nbconvert_exporter": "python",
   "pygments_lexer": "ipython3",
   "version": "3.11.6"
  }
 },
 "nbformat": 4,
 "nbformat_minor": 2
}
