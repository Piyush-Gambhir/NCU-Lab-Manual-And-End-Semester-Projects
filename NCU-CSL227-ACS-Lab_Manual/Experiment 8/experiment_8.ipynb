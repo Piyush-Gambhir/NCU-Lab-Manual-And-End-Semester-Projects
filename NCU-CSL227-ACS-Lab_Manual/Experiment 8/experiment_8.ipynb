{
 "cells": [
  {
   "attachments": {},
   "cell_type": "markdown",
   "metadata": {},
   "source": [
    "## Experiment 8\n",
    "### Write a python program to find expectation and variance in discrete distribution."
   ]
  },
  {
   "cell_type": "code",
   "execution_count": 1,
   "metadata": {},
   "outputs": [],
   "source": [
    "# importing required libraries\n",
    "from scipy.stats import rv_discrete"
   ]
  },
  {
   "cell_type": "code",
   "execution_count": 2,
   "metadata": {},
   "outputs": [
    {
     "name": "stdout",
     "output_type": "stream",
     "text": [
      "Expectation:  2.7\n",
      "Variance:  1.4099999999999984\n"
     ]
    }
   ],
   "source": [
    "# define the distribution\n",
    "x = [1, 2, 3, 4]\n",
    "p = [0.2, 0.3, 0.1, 0.4]  \n",
    "\n",
    "# create a discrete random variable\n",
    "random_variable = rv_discrete(values=(x, p))\n",
    "\n",
    "# calculate the expectation\n",
    "expectation = random_variable.expect()\n",
    "\n",
    "# calculate the variance\n",
    "variance = random_variable.var()\n",
    "\n",
    "print(\"Expectation: \", expectation)\n",
    "print(\"Variance: \", variance)"
   ]
  }
 ],
 "metadata": {
  "kernelspec": {
   "display_name": "Python 3",
   "language": "python",
   "name": "python3"
  },
  "language_info": {
   "codemirror_mode": {
    "name": "ipython",
    "version": 3
   },
   "file_extension": ".py",
   "mimetype": "text/x-python",
   "name": "python",
   "nbconvert_exporter": "python",
   "pygments_lexer": "ipython3",
   "version": "3.11.3"
  },
  "orig_nbformat": 4
 },
 "nbformat": 4,
 "nbformat_minor": 2
}
