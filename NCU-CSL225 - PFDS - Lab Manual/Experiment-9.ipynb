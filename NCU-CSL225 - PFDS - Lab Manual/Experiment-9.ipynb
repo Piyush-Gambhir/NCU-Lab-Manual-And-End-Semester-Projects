{
 "cells": [
  {
   "cell_type": "markdown",
   "id": "79186366",
   "metadata": {},
   "source": [
    "## Problem Statement"
   ]
  },
  {
   "cell_type": "markdown",
   "id": "2739ac73",
   "metadata": {},
   "source": [
    "Give the commands to find length of the list and check if some fruit exists in the list, create copy of the list."
   ]
  },
  {
   "cell_type": "code",
   "execution_count": 6,
   "id": "2fcc8037",
   "metadata": {},
   "outputs": [
    {
     "name": "stdout",
     "output_type": "stream",
     "text": [
      "Original Fruit List:  apple banana cherry durian elderberry fig grape honeydew jackfruit kiwi lemon mango nectarine orange papaya quince raspberry strawberry tomato ugli fruit watermelon xigua yuzu zucchini \n",
      "\n",
      "Length of original fruit list:  24\n",
      "'apple' in Fruit List:  False\n",
      "Copied Fruit List:  apple banana cherry durian elderberry fig grape honeydew jackfruit kiwi lemon mango nectarine orange papaya quince raspberry strawberry tomato ugli fruit watermelon xigua yuzu zucchini \n",
      "\n",
      "Length of copied fruit listlist:  24\n"
     ]
    }
   ],
   "source": [
    "fruit_list = ['apple', 'banana', 'cherry', 'durian', 'elderberry', 'fig', \n",
    "              'grape', 'honeydew', 'jackfruit', 'kiwi', 'lemon', 'mango',\n",
    "              'nectarine', 'orange', 'papaya', 'quince', 'raspberry', \n",
    "              'strawberry', 'tomato', 'ugli fruit', 'watermelon', \n",
    "              'xigua', 'yuzu', 'zucchini']\n",
    "\n",
    "print(\"Original Fruit List: \", end=\" \")\n",
    "for fruit in fruit_list:\n",
    "    print(fruit, end=' ')\n",
    "\n",
    "print(\"\\n\\nLength of original fruit list: \", len(fruit_list))\n",
    "\n",
    "\n",
    "fruit_list_copy = fruit_list.copy()\n",
    "\n",
    "\n",
    "print(\"Copied Fruit List: \", end=\" \")\n",
    "for fruit in fruit_list:\n",
    "    print(fruit, end=' ')\n",
    "\n",
    "print(\"\\n\\nLength of copied fruit listlist: \", len(fruit_list))\n",
    "\n"
   ]
  }
 ],
 "metadata": {
  "kernelspec": {
   "display_name": "Python 3 (ipykernel)",
   "language": "python",
   "name": "python3"
  },
  "language_info": {
   "codemirror_mode": {
    "name": "ipython",
    "version": 3
   },
   "file_extension": ".py",
   "mimetype": "text/x-python",
   "name": "python",
   "nbconvert_exporter": "python",
   "pygments_lexer": "ipython3",
   "version": "3.10.7"
  },
  "vscode": {
   "interpreter": {
    "hash": "5827bb77950f6316d9e848194dfccdbe99cc9d8eabac60195b2d068013bba3d3"
   }
  }
 },
 "nbformat": 4,
 "nbformat_minor": 5
}
