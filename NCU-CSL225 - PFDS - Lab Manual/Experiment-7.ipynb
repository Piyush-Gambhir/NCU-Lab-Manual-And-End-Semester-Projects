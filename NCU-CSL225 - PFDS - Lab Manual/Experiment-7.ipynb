{
 "cells": [
  {
   "cell_type": "markdown",
   "id": "79186366",
   "metadata": {},
   "source": [
    "## Problem Statement"
   ]
  },
  {
   "cell_type": "markdown",
   "id": "2739ac73",
   "metadata": {},
   "source": [
    "Students will be familiarized with the concepts of recursion functions in Python."
   ]
  },
  {
   "cell_type": "code",
   "execution_count": 5,
   "id": "2fcc8037",
   "metadata": {},
   "outputs": [
    {
     "name": "stdout",
     "output_type": "stream",
     "text": [
      "Fibonacci Series:  1 1 2 3 5 8 13 21 34 55 \n",
      "First n Natural Numbers:  1 2 3 4 5 6 7 8 9 10 "
     ]
    }
   ],
   "source": [
    "def print_fibonacci_series(n):\n",
    "    if n < 1:\n",
    "        return []\n",
    "    if n == 1:\n",
    "        return [1]\n",
    "    if n == 2:\n",
    "        return [1, 1]\n",
    "    fib = print_fibonacci_series(n-1)\n",
    "    return fib + [fib[-1] + fib[-2]]\n",
    "\n",
    "\n",
    "def print_n_natural_numbers(n):\n",
    "    if n < 1:\n",
    "        return []\n",
    "    return print_n_natural_numbers(n-1) + [n]\n",
    "\n",
    "\n",
    "n = int(input(\"Enter the Value of n: \"))\n",
    "print(\"Fibonacci Series: \", end=\" \")\n",
    "for i in print_fibonacci_series(n):\n",
    "    print(i, end=\" \")\n",
    "\n",
    "print()\n",
    "\n",
    "n = int(input(\"Enter the Value of n: \"))\n",
    "print(\"First n Natural Numbers: \", end=\" \")\n",
    "for i in print_n_natural_numbers(n):\n",
    "    print(i, end=\" \")"
   ]
  }
 ],
 "metadata": {
  "kernelspec": {
   "display_name": "Python 3.10.7 64-bit",
   "language": "python",
   "name": "python3"
  },
  "language_info": {
   "codemirror_mode": {
    "name": "ipython",
    "version": 3
   },
   "file_extension": ".py",
   "mimetype": "text/x-python",
   "name": "python",
   "nbconvert_exporter": "python",
   "pygments_lexer": "ipython3",
   "version": "3.10.7"
  },
  "vscode": {
   "interpreter": {
    "hash": "5827bb77950f6316d9e848194dfccdbe99cc9d8eabac60195b2d068013bba3d3"
   }
  }
 },
 "nbformat": 4,
 "nbformat_minor": 5
}
