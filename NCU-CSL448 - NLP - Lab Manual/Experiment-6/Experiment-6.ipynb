{
 "cells": [
  {
   "cell_type": "markdown",
   "id": "5acd2396",
   "metadata": {},
   "source": [
    "# **Experiment-6**"
   ]
  },
  {
   "cell_type": "markdown",
   "id": "a0937bb1",
   "metadata": {},
   "source": [
    "### Objective: \n",
    "Write a program to read text data from a file and perform tokenization on sentences and word level using different tokenizers in python NLTK."
   ]
  },
  {
   "cell_type": "code",
   "execution_count": 1,
   "id": "d04d0cd6",
   "metadata": {},
   "outputs": [
    {
     "name": "stdout",
     "output_type": "stream",
     "text": [
      "Requirement already satisfied: nltk in c:\\users\\mainp\\appdata\\local\\programs\\python\\python312\\lib\\site-packages (3.9.1)\n",
      "Requirement already satisfied: pandas in c:\\users\\mainp\\appdata\\local\\programs\\python\\python312\\lib\\site-packages (2.2.3)\n",
      "Requirement already satisfied: click in c:\\users\\mainp\\appdata\\local\\programs\\python\\python312\\lib\\site-packages (from nltk) (8.1.7)\n",
      "Requirement already satisfied: joblib in c:\\users\\mainp\\appdata\\local\\programs\\python\\python312\\lib\\site-packages (from nltk) (1.4.2)\n",
      "Requirement already satisfied: regex>=2021.8.3 in c:\\users\\mainp\\appdata\\local\\programs\\python\\python312\\lib\\site-packages (from nltk) (2024.11.6)\n",
      "Requirement already satisfied: tqdm in c:\\users\\mainp\\appdata\\local\\programs\\python\\python312\\lib\\site-packages (from nltk) (4.67.0)\n",
      "Requirement already satisfied: numpy>=1.26.0 in c:\\users\\mainp\\appdata\\local\\programs\\python\\python312\\lib\\site-packages (from pandas) (2.0.2)\n",
      "Requirement already satisfied: python-dateutil>=2.8.2 in c:\\users\\mainp\\appdata\\roaming\\python\\python312\\site-packages (from pandas) (2.9.0.post0)\n",
      "Requirement already satisfied: pytz>=2020.1 in c:\\users\\mainp\\appdata\\local\\programs\\python\\python312\\lib\\site-packages (from pandas) (2024.2)\n",
      "Requirement already satisfied: tzdata>=2022.7 in c:\\users\\mainp\\appdata\\local\\programs\\python\\python312\\lib\\site-packages (from pandas) (2024.2)\n",
      "Requirement already satisfied: six>=1.5 in c:\\users\\mainp\\appdata\\roaming\\python\\python312\\site-packages (from python-dateutil>=2.8.2->pandas) (1.16.0)\n",
      "Requirement already satisfied: colorama in c:\\users\\mainp\\appdata\\roaming\\python\\python312\\site-packages (from click->nltk) (0.4.6)\n",
      "Note: you may need to restart the kernel to use updated packages.\n"
     ]
    },
    {
     "name": "stderr",
     "output_type": "stream",
     "text": [
      "\n",
      "[notice] A new release of pip is available: 24.2 -> 24.3.1\n",
      "[notice] To update, run: python.exe -m pip install --upgrade pip\n"
     ]
    }
   ],
   "source": [
    "%pip install nltk pandas"
   ]
  },
  {
   "cell_type": "markdown",
   "id": "8114dc54",
   "metadata": {},
   "source": [
    "### **Importing Libraries**"
   ]
  },
  {
   "cell_type": "code",
   "execution_count": 2,
   "id": "bacebd0c",
   "metadata": {},
   "outputs": [
    {
     "name": "stderr",
     "output_type": "stream",
     "text": [
      "[nltk_data] Downloading package punkt to C:/nltk_data...\n",
      "[nltk_data]   Package punkt is already up-to-date!\n"
     ]
    },
    {
     "data": {
      "text/plain": [
       "True"
      ]
     },
     "execution_count": 2,
     "metadata": {},
     "output_type": "execute_result"
    }
   ],
   "source": [
    "import nltk\n",
    "from nltk.tokenize import (\n",
    "    sent_tokenize,\n",
    "    word_tokenize,\n",
    "    PunktSentenceTokenizer,\n",
    "    TreebankWordTokenizer,\n",
    "    WordPunctTokenizer,\n",
    "    WhitespaceTokenizer,\n",
    "    RegexpTokenizer\n",
    ")\n",
    "\n",
    "# Download required NLTK data files\n",
    "nltk.download(\"punkt\", download_dir=\"C:/nltk_data\")"
   ]
  },
  {
   "cell_type": "markdown",
   "id": "4c0a62ac",
   "metadata": {},
   "source": [
    "### **Reading Text from a Text File**"
   ]
  },
  {
   "cell_type": "code",
   "execution_count": 3,
   "id": "9e0aa3bd",
   "metadata": {},
   "outputs": [
    {
     "name": "stdout",
     "output_type": "stream",
     "text": [
      "Content of input.txt:\n",
      "Microsoft announced a new product launch event in New York City on December 1st, 2024. \n",
      "Elon Musk, the CEO of Tesla, hinted at a partnership with NASA for a Mars mission. \n",
      "The GDP of India grew by 7% in the first quarter of 2023, according to a report by Reuters. \n",
      "Amazon is planning to open a new data center in Dublin, Ireland next year.\n",
      "Barack Obama gave a keynote speech at Stanford University last Thursday.\n",
      "Bitcoin reached an all-time high of $68,000 in November 2021.\n",
      "The Louvre Museum in Paris saw record-breaking attendance last summer.\n",
      "\n"
     ]
    }
   ],
   "source": [
    "# Cell 2: Read Text Data from a File\n",
    "def read_text_file(file_path):\n",
    "    \"\"\"Read text data from the specified file.\"\"\"\n",
    "    with open(file_path, 'r', encoding='utf-8') as file:\n",
    "        text = file.read()\n",
    "    return text\n",
    "\n",
    "# Specify the file path\n",
    "file_path = 'input.txt'\n",
    "\n",
    "# Read the content of input.txt\n",
    "text = read_text_file(file_path)\n",
    "print(\"Content of input.txt:\")\n",
    "print(text)\n"
   ]
  },
  {
   "cell_type": "code",
   "execution_count": 4,
   "id": "81612435",
   "metadata": {},
   "outputs": [
    {
     "name": "stdout",
     "output_type": "stream",
     "text": [
      "\n",
      "Default Sentence Tokenizer:\n",
      "['Microsoft announced a new product launch event in New York City on December 1st, 2024.', 'Elon Musk, the CEO of Tesla, hinted at a partnership with NASA for a Mars mission.', 'The GDP of India grew by 7% in the first quarter of 2023, according to a report by Reuters.', 'Amazon is planning to open a new data center in Dublin, Ireland next year.', 'Barack Obama gave a keynote speech at Stanford University last Thursday.', 'Bitcoin reached an all-time high of $68,000 in November 2021.', 'The Louvre Museum in Paris saw record-breaking attendance last summer.']\n",
      "\n",
      "Punkt Sentence Tokenizer:\n",
      "['Microsoft announced a new product launch event in New York City on December 1st, 2024.', 'Elon Musk, the CEO of Tesla, hinted at a partnership with NASA for a Mars mission.', 'The GDP of India grew by 7% in the first quarter of 2023, according to a report by Reuters.', 'Amazon is planning to open a new data center in Dublin, Ireland next year.', 'Barack Obama gave a keynote speech at Stanford University last Thursday.', 'Bitcoin reached an all-time high of $68,000 in November 2021.', 'The Louvre Museum in Paris saw record-breaking attendance last summer.']\n"
     ]
    }
   ],
   "source": [
    "# Default sentence tokenizer\n",
    "default_sentences = sent_tokenize(text)\n",
    "print(\"\\nDefault Sentence Tokenizer:\")\n",
    "print(default_sentences)\n",
    "\n",
    "# PunktSentenceTokenizer\n",
    "punkt_tokenizer = PunktSentenceTokenizer()\n",
    "punkt_sentences = punkt_tokenizer.tokenize(text)\n",
    "print(\"\\nPunkt Sentence Tokenizer:\")\n",
    "print(punkt_sentences)"
   ]
  },
  {
   "cell_type": "code",
   "execution_count": 5,
   "id": "bfef85dd",
   "metadata": {},
   "outputs": [
    {
     "name": "stdout",
     "output_type": "stream",
     "text": [
      "\n",
      "Default Word Tokenizer:\n",
      "['Microsoft', 'announced', 'a', 'new', 'product', 'launch', 'event', 'in', 'New', 'York', 'City', 'on', 'December', '1st', ',', '2024', '.', 'Elon', 'Musk', ',', 'the', 'CEO', 'of', 'Tesla', ',', 'hinted', 'at', 'a', 'partnership', 'with', 'NASA', 'for', 'a', 'Mars', 'mission', '.', 'The', 'GDP', 'of', 'India', 'grew', 'by', '7', '%', 'in', 'the', 'first', 'quarter', 'of', '2023', ',', 'according', 'to', 'a', 'report', 'by', 'Reuters', '.', 'Amazon', 'is', 'planning', 'to', 'open', 'a', 'new', 'data', 'center', 'in', 'Dublin', ',', 'Ireland', 'next', 'year', '.', 'Barack', 'Obama', 'gave', 'a', 'keynote', 'speech', 'at', 'Stanford', 'University', 'last', 'Thursday', '.', 'Bitcoin', 'reached', 'an', 'all-time', 'high', 'of', '$', '68,000', 'in', 'November', '2021', '.', 'The', 'Louvre', 'Museum', 'in', 'Paris', 'saw', 'record-breaking', 'attendance', 'last', 'summer', '.']\n",
      "\n",
      "Treebank Word Tokenizer:\n",
      "['Microsoft', 'announced', 'a', 'new', 'product', 'launch', 'event', 'in', 'New', 'York', 'City', 'on', 'December', '1st', ',', '2024.', 'Elon', 'Musk', ',', 'the', 'CEO', 'of', 'Tesla', ',', 'hinted', 'at', 'a', 'partnership', 'with', 'NASA', 'for', 'a', 'Mars', 'mission.', 'The', 'GDP', 'of', 'India', 'grew', 'by', '7', '%', 'in', 'the', 'first', 'quarter', 'of', '2023', ',', 'according', 'to', 'a', 'report', 'by', 'Reuters.', 'Amazon', 'is', 'planning', 'to', 'open', 'a', 'new', 'data', 'center', 'in', 'Dublin', ',', 'Ireland', 'next', 'year.', 'Barack', 'Obama', 'gave', 'a', 'keynote', 'speech', 'at', 'Stanford', 'University', 'last', 'Thursday.', 'Bitcoin', 'reached', 'an', 'all-time', 'high', 'of', '$', '68,000', 'in', 'November', '2021.', 'The', 'Louvre', 'Museum', 'in', 'Paris', 'saw', 'record-breaking', 'attendance', 'last', 'summer', '.']\n",
      "\n",
      "WordPunct Tokenizer:\n",
      "['Microsoft', 'announced', 'a', 'new', 'product', 'launch', 'event', 'in', 'New', 'York', 'City', 'on', 'December', '1st', ',', '2024', '.', 'Elon', 'Musk', ',', 'the', 'CEO', 'of', 'Tesla', ',', 'hinted', 'at', 'a', 'partnership', 'with', 'NASA', 'for', 'a', 'Mars', 'mission', '.', 'The', 'GDP', 'of', 'India', 'grew', 'by', '7', '%', 'in', 'the', 'first', 'quarter', 'of', '2023', ',', 'according', 'to', 'a', 'report', 'by', 'Reuters', '.', 'Amazon', 'is', 'planning', 'to', 'open', 'a', 'new', 'data', 'center', 'in', 'Dublin', ',', 'Ireland', 'next', 'year', '.', 'Barack', 'Obama', 'gave', 'a', 'keynote', 'speech', 'at', 'Stanford', 'University', 'last', 'Thursday', '.', 'Bitcoin', 'reached', 'an', 'all', '-', 'time', 'high', 'of', '$', '68', ',', '000', 'in', 'November', '2021', '.', 'The', 'Louvre', 'Museum', 'in', 'Paris', 'saw', 'record', '-', 'breaking', 'attendance', 'last', 'summer', '.']\n",
      "\n",
      "Whitespace Tokenizer:\n",
      "['Microsoft', 'announced', 'a', 'new', 'product', 'launch', 'event', 'in', 'New', 'York', 'City', 'on', 'December', '1st,', '2024.', 'Elon', 'Musk,', 'the', 'CEO', 'of', 'Tesla,', 'hinted', 'at', 'a', 'partnership', 'with', 'NASA', 'for', 'a', 'Mars', 'mission.', 'The', 'GDP', 'of', 'India', 'grew', 'by', '7%', 'in', 'the', 'first', 'quarter', 'of', '2023,', 'according', 'to', 'a', 'report', 'by', 'Reuters.', 'Amazon', 'is', 'planning', 'to', 'open', 'a', 'new', 'data', 'center', 'in', 'Dublin,', 'Ireland', 'next', 'year.', 'Barack', 'Obama', 'gave', 'a', 'keynote', 'speech', 'at', 'Stanford', 'University', 'last', 'Thursday.', 'Bitcoin', 'reached', 'an', 'all-time', 'high', 'of', '$68,000', 'in', 'November', '2021.', 'The', 'Louvre', 'Museum', 'in', 'Paris', 'saw', 'record-breaking', 'attendance', 'last', 'summer.']\n",
      "\n",
      "Regexp Tokenizer:\n",
      "['', '', '', '', '', '', '', '', '', '', '', '', '', '', '', '', '', '', '', '', '', '', '', '', '', '', '', '', '', '', '', '', '', '', '', '', '', '', '', '', '', '', '', '', '', '', '', '', '', '', '', '', '', '', '', '', '', '', '', '', '', '', '', '', '', '', '', '', '', '', '', '', '', '', '', '', '', '', '', '', '', '', '', '', '', '', '', '', '', '', '', '', '', '', '', '', '', '']\n"
     ]
    }
   ],
   "source": [
    "# Default word tokenizer\n",
    "default_words = word_tokenize(text)\n",
    "print(\"\\nDefault Word Tokenizer:\")\n",
    "print(default_words)\n",
    "\n",
    "# TreebankWordTokenizer\n",
    "treebank_tokenizer = TreebankWordTokenizer()\n",
    "treebank_words = treebank_tokenizer.tokenize(text)\n",
    "print(\"\\nTreebank Word Tokenizer:\")\n",
    "print(treebank_words)\n",
    "\n",
    "# WordPunctTokenizer\n",
    "word_punct_tokenizer = WordPunctTokenizer()\n",
    "word_punct_words = word_punct_tokenizer.tokenize(text)\n",
    "print(\"\\nWordPunct Tokenizer:\")\n",
    "print(word_punct_words)\n",
    "\n",
    "# WhitespaceTokenizer\n",
    "whitespace_tokenizer = WhitespaceTokenizer()\n",
    "whitespace_words = whitespace_tokenizer.tokenize(text)\n",
    "print(\"\\nWhitespace Tokenizer:\")\n",
    "print(whitespace_words)\n",
    "\n",
    "# RegexpTokenizer (e.g., tokenizing words with apostrophes)\n",
    "regexp_tokenizer = RegexpTokenizer(r\"\\w+('\\w+)?\")\n",
    "regexp_words = regexp_tokenizer.tokenize(text)\n",
    "print(\"\\nRegexp Tokenizer:\")\n",
    "print(regexp_words)"
   ]
  }
 ],
 "metadata": {
  "kernelspec": {
   "display_name": "Python 3",
   "language": "python",
   "name": "python3"
  },
  "language_info": {
   "codemirror_mode": {
    "name": "ipython",
    "version": 3
   },
   "file_extension": ".py",
   "mimetype": "text/x-python",
   "name": "python",
   "nbconvert_exporter": "python",
   "pygments_lexer": "ipython3",
   "version": "3.12.7"
  }
 },
 "nbformat": 4,
 "nbformat_minor": 5
}
