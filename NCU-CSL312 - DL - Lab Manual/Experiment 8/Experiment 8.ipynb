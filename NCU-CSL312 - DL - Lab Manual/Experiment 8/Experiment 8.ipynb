{
 "cells": [
  {
   "cell_type": "markdown",
   "metadata": {},
   "source": [
    "# Experiment 8 - MNIST Digit Classification using Keras  "
   ]
  },
  {
   "cell_type": "markdown",
   "metadata": {},
   "source": [
    "## Problem Statement:\n",
    "To build an image classifier with Keras and Convolutional Neural Networks for the Fashion MNIST dataset.\n",
    "\n",
    "**Objective**:\n",
    "\n",
    "Your task is to build an image classifier with Keras and Convolutional Neural Networks for the Fashion MNIST dataset. This data set includes 10 labels of different clothing types with 28 by 28 *grayscale* images. There is a training set of 60,000 images and 10,000 test images."
   ]
  },
  {
   "cell_type": "markdown",
   "metadata": {},
   "source": [
    "## GitHub & Google Colab Link: "
   ]
  },
  {
   "cell_type": "markdown",
   "metadata": {},
   "source": [
    "GitHub Link: https://github.com/piyush-gambhir/ncu-lab-manual-and-end-semester-projects/blob/main/NCU-CSL312%20-%20DL%20-%20Lab%20Manual/Experiment%208/Experiment%208.ipynb"
   ]
  },
  {
   "cell_type": "markdown",
   "metadata": {},
   "source": [
    "Google Colab Link:\n",
    "\n",
    "[![Open In Colab](https://colab.research.google.com/assets/colab-badge.svg)](https://colab.research.google.com/github/piyush-gambhir/ncu-lab-manual-and-end-semester-projects/blob/main/NCU-CSL312%20-%20DL%20-%20Lab%20Manual/Experiment%208/Experiment%208.ipynb)\n"
   ]
  },
  {
   "cell_type": "markdown",
   "metadata": {},
   "source": [
    "## Installing Dependencies:"
   ]
  },
  {
   "cell_type": "code",
   "execution_count": 5,
   "metadata": {},
   "outputs": [
    {
     "name": "stdout",
     "output_type": "stream",
     "text": [
      "Requirement already satisfied: tabulate in c:\\users\\mainp\\appdata\\local\\programs\\python\\python311\\lib\\site-packages (0.9.0)\n",
      "Requirement already satisfied: numpy in c:\\users\\mainp\\appdata\\local\\programs\\python\\python311\\lib\\site-packages (1.26.4)\n",
      "Requirement already satisfied: pandas in c:\\users\\mainp\\appdata\\local\\programs\\python\\python311\\lib\\site-packages (2.2.2)\n",
      "Requirement already satisfied: matplotlib in c:\\users\\mainp\\appdata\\local\\programs\\python\\python311\\lib\\site-packages (3.8.4)\n",
      "Requirement already satisfied: seaborn in c:\\users\\mainp\\appdata\\local\\programs\\python\\python311\\lib\\site-packages (0.13.2)\n",
      "Requirement already satisfied: torch in c:\\users\\mainp\\appdata\\local\\programs\\python\\python311\\lib\\site-packages (2.3.0)\n",
      "Requirement already satisfied: torchvision in c:\\users\\mainp\\appdata\\local\\programs\\python\\python311\\lib\\site-packages (0.18.0)\n",
      "Requirement already satisfied: python-dateutil>=2.8.2 in c:\\users\\mainp\\appdata\\local\\programs\\python\\python311\\lib\\site-packages (from pandas) (2.9.0.post0)\n",
      "Requirement already satisfied: pytz>=2020.1 in c:\\users\\mainp\\appdata\\local\\programs\\python\\python311\\lib\\site-packages (from pandas) (2024.1)\n",
      "Requirement already satisfied: tzdata>=2022.7 in c:\\users\\mainp\\appdata\\local\\programs\\python\\python311\\lib\\site-packages (from pandas) (2024.1)\n",
      "Requirement already satisfied: contourpy>=1.0.1 in c:\\users\\mainp\\appdata\\local\\programs\\python\\python311\\lib\\site-packages (from matplotlib) (1.2.1)\n",
      "Requirement already satisfied: cycler>=0.10 in c:\\users\\mainp\\appdata\\local\\programs\\python\\python311\\lib\\site-packages (from matplotlib) (0.12.1)\n",
      "Requirement already satisfied: fonttools>=4.22.0 in c:\\users\\mainp\\appdata\\local\\programs\\python\\python311\\lib\\site-packages (from matplotlib) (4.51.0)\n",
      "Requirement already satisfied: kiwisolver>=1.3.1 in c:\\users\\mainp\\appdata\\local\\programs\\python\\python311\\lib\\site-packages (from matplotlib) (1.4.5)\n",
      "Requirement already satisfied: packaging>=20.0 in c:\\users\\mainp\\appdata\\local\\programs\\python\\python311\\lib\\site-packages (from matplotlib) (24.0)\n",
      "Requirement already satisfied: pillow>=8 in c:\\users\\mainp\\appdata\\local\\programs\\python\\python311\\lib\\site-packages (from matplotlib) (10.3.0)\n",
      "Requirement already satisfied: pyparsing>=2.3.1 in c:\\users\\mainp\\appdata\\local\\programs\\python\\python311\\lib\\site-packages (from matplotlib) (3.1.2)\n",
      "Requirement already satisfied: filelock in c:\\users\\mainp\\appdata\\local\\programs\\python\\python311\\lib\\site-packages (from torch) (3.13.4)\n",
      "Requirement already satisfied: typing-extensions>=4.8.0 in c:\\users\\mainp\\appdata\\local\\programs\\python\\python311\\lib\\site-packages (from torch) (4.11.0)\n",
      "Requirement already satisfied: sympy in c:\\users\\mainp\\appdata\\local\\programs\\python\\python311\\lib\\site-packages (from torch) (1.12)\n",
      "Requirement already satisfied: networkx in c:\\users\\mainp\\appdata\\local\\programs\\python\\python311\\lib\\site-packages (from torch) (3.3)\n",
      "Requirement already satisfied: jinja2 in c:\\users\\mainp\\appdata\\local\\programs\\python\\python311\\lib\\site-packages (from torch) (3.1.3)\n",
      "Requirement already satisfied: fsspec in c:\\users\\mainp\\appdata\\local\\programs\\python\\python311\\lib\\site-packages (from torch) (2024.3.1)\n",
      "Requirement already satisfied: mkl<=2021.4.0,>=2021.1.1 in c:\\users\\mainp\\appdata\\local\\programs\\python\\python311\\lib\\site-packages (from torch) (2021.4.0)\n",
      "Requirement already satisfied: intel-openmp==2021.* in c:\\users\\mainp\\appdata\\local\\programs\\python\\python311\\lib\\site-packages (from mkl<=2021.4.0,>=2021.1.1->torch) (2021.4.0)\n",
      "Requirement already satisfied: tbb==2021.* in c:\\users\\mainp\\appdata\\local\\programs\\python\\python311\\lib\\site-packages (from mkl<=2021.4.0,>=2021.1.1->torch) (2021.12.0)\n",
      "Requirement already satisfied: six>=1.5 in c:\\users\\mainp\\appdata\\local\\programs\\python\\python311\\lib\\site-packages (from python-dateutil>=2.8.2->pandas) (1.16.0)\n",
      "Requirement already satisfied: MarkupSafe>=2.0 in c:\\users\\mainp\\appdata\\local\\programs\\python\\python311\\lib\\site-packages (from jinja2->torch) (2.1.5)\n",
      "Requirement already satisfied: mpmath>=0.19 in c:\\users\\mainp\\appdata\\local\\programs\\python\\python311\\lib\\site-packages (from sympy->torch) (1.3.0)\n"
     ]
    }
   ],
   "source": [
    "! pip install tabulate numpy pandas matplotlib seaborn torch torchvision"
   ]
  },
  {
   "cell_type": "markdown",
   "metadata": {},
   "source": [
    "## Code"
   ]
  },
  {
   "cell_type": "code",
   "execution_count": 6,
   "metadata": {},
   "outputs": [],
   "source": [
    "import numpy as np\n",
    "import torch\n",
    "import torch.nn as nn\n",
    "import torch.optim as optim\n",
    "from torchvision import datasets, transforms\n",
    "import matplotlib.pyplot as plt\n",
    "from torch.utils.data.sampler import SubsetRandomSampler\n",
    "from torch.utils.data import DataLoader\n",
    "from collections import OrderedDict"
   ]
  },
  {
   "cell_type": "code",
   "execution_count": 7,
   "metadata": {},
   "outputs": [],
   "source": [
    "\n",
    "\n",
    "# Configuration\n",
    "config = {\n",
    "    'batch_size': 64,\n",
    "    'n_epochs': 35,\n",
    "    'lr': 0.0007,\n",
    "    'dropout': 0.25,\n",
    "    'input_size': 784,  # 28x28 images\n",
    "    'hidden_sizes': [392, 196, 98, 49],\n",
    "    'output_size': 10\n",
    "}"
   ]
  },
  {
   "cell_type": "code",
   "execution_count": 8,
   "metadata": {},
   "outputs": [],
   "source": [
    "\n",
    "\n",
    "# Data Preparation\n",
    "def load_data():\n",
    "    transform = transforms.Compose([\n",
    "        transforms.ToTensor(),\n",
    "        transforms.Normalize((0.5,), (0.5,))\n",
    "    ])\n",
    "    train_ds = datasets.FashionMNIST('F_MNIST_data', download=True, train=True, transform=transform)\n",
    "    test_ds = datasets.FashionMNIST('F_MNIST_data', download=True, train=False, transform=transform)\n",
    "\n",
    "    # Split train set into training and validation set (80/20)\n",
    "    num_train = len(train_ds)\n",
    "    indices = list(range(num_train))\n",
    "    np.random.shuffle(indices)\n",
    "    split = int(np.floor(0.2 * num_train))\n",
    "    train_idx, val_idx = indices[split:], indices[:split]\n",
    "\n",
    "    # Creating data samplers and loaders\n",
    "    train_sampler = SubsetRandomSampler(train_idx)\n",
    "    val_sampler = SubsetRandomSampler(val_idx)\n",
    "    \n",
    "    train_dl = DataLoader(train_ds, batch_size=config['batch_size'], sampler=train_sampler)\n",
    "    val_dl = DataLoader(train_ds, batch_size=config['batch_size'], sampler=val_sampler)\n",
    "    test_dl = DataLoader(test_ds, batch_size=config['batch_size'], shuffle=True)\n",
    "\n",
    "    return train_dl, val_dl, test_dl\n"
   ]
  },
  {
   "cell_type": "code",
   "execution_count": 9,
   "metadata": {},
   "outputs": [],
   "source": [
    "# Model Architecture\n",
    "def build_network():\n",
    "    layers = OrderedDict([\n",
    "        ('fc1', nn.Linear(config['input_size'], config['hidden_sizes'][0])),\n",
    "        ('relu1', nn.ReLU()),\n",
    "        ('drop1', nn.Dropout(config['dropout'])),\n",
    "        ('fc2', nn.Linear(config['hidden_sizes'][0], config['hidden_sizes'][1])),\n",
    "        ('relu2', nn.ReLU()),\n",
    "        ('drop2', nn.Dropout(config['dropout'])),\n",
    "        ('fc3', nn.Linear(config['hidden_sizes'][1], config['hidden_sizes'][2])),\n",
    "        ('relu3', nn.ReLU()),\n",
    "        ('drop3', nn.Dropout(config['dropout'])),\n",
    "        ('fc4', nn.Linear(config['hidden_sizes'][2], config['hidden_sizes'][3])),\n",
    "        ('relu4', nn.ReLU()),\n",
    "        ('output', nn.Linear(config['hidden_sizes'][3], config['output_size'])),\n",
    "        ('logsoftmax', nn.LogSoftmax(dim=1))\n",
    "    ])\n",
    "    model = nn.Sequential(layers)\n",
    "    device = torch.device(\"cuda\" if torch.cuda.is_available() else \"cpu\")\n",
    "    model.to(device)\n",
    "    return model, device\n"
   ]
  },
  {
   "cell_type": "code",
   "execution_count": 10,
   "metadata": {},
   "outputs": [],
   "source": [
    "# Training and Validation\n",
    "def train_validate(model, device, train_dl, val_dl, n_epochs):\n",
    "    loss_fn = nn.NLLLoss()\n",
    "    optimizer = optim.Adam(model.parameters(), lr=config['lr'])\n",
    "    train_losses, val_losses = [], []\n",
    "\n",
    "    for epoch in range(n_epochs):\n",
    "        model.train()\n",
    "        total_train_loss = 0\n",
    "        for images, labels in train_dl:\n",
    "            images, labels = images.to(device), labels.to(device)\n",
    "            images = images.view(images.shape[0], -1)\n",
    "            optimizer.zero_grad()\n",
    "            outputs = model(images)\n",
    "            loss = loss_fn(outputs, labels)\n",
    "            loss.backward()\n",
    "            optimizer.step()\n",
    "            total_train_loss += loss.item()\n",
    "\n",
    "        avg_train_loss = total_train_loss / len(train_dl)\n",
    "        train_losses.append(avg_train_loss)\n",
    "        val_loss, val_acc = validate(model, device, val_dl, loss_fn)\n",
    "        val_losses.append(val_loss)\n",
    "        print(f'Epoch {epoch}: Train Loss: {avg_train_loss:.4f}, Val Loss: {val_loss:.4f}, Val Acc: {val_acc:.2f}%')\n",
    "\n",
    "    plot_losses(train_losses, val_losses)"
   ]
  },
  {
   "cell_type": "code",
   "execution_count": 11,
   "metadata": {},
   "outputs": [],
   "source": [
    "\n",
    "\n",
    "\n",
    "def validate(model, device, loader, loss_fn):\n",
    "    total_loss, total_correct = 0, 0\n",
    "    model.eval()\n",
    "    with torch.no_grad():\n",
    "        for images, labels in loader:\n",
    "            images, labels = images.to(device), labels.to(device)\n",
    "            images = images.view(images.shape[0], -1)\n",
    "            outputs = model(images)\n",
    "            loss = loss_fn(outputs, labels)\n",
    "            total_loss += loss.item()\n",
    "            total_correct += (outputs.argmax(1) == labels).type(torch.float).sum().item()\n",
    "\n",
    "    avg_loss = total_loss / len(loader)\n",
    "    accuracy = 100 * total_correct / (len(loader) * config['batch_size'])\n",
    "    return avg_loss, accuracy\n",
    "\n",
    "\n"
   ]
  },
  {
   "cell_type": "code",
   "execution_count": 12,
   "metadata": {},
   "outputs": [],
   "source": [
    "\n",
    "def plot_losses(train_losses, val_losses):\n",
    "    plt.figure(figsize=(10, 5))\n",
    "    plt.plot(train_losses, label='Training loss')\n",
    "    plt.plot(val_losses, label='Validation loss')\n",
    "    plt.title('Losses over epochs')\n",
    "    plt.xlabel('Epochs')\n",
    "    plt.ylabel('Loss')\n",
    "    plt.legend()\n",
    "    plt.grid(True)\n",
    "    plt.show()"
   ]
  },
  {
   "cell_type": "code",
   "execution_count": 13,
   "metadata": {},
   "outputs": [
    {
     "name": "stdout",
     "output_type": "stream",
     "text": [
      "Downloading http://fashion-mnist.s3-website.eu-central-1.amazonaws.com/train-images-idx3-ubyte.gz\n",
      "Downloading http://fashion-mnist.s3-website.eu-central-1.amazonaws.com/train-images-idx3-ubyte.gz to F_MNIST_data\\FashionMNIST\\raw\\train-images-idx3-ubyte.gz\n"
     ]
    },
    {
     "name": "stderr",
     "output_type": "stream",
     "text": [
      "100.0%\n"
     ]
    },
    {
     "name": "stdout",
     "output_type": "stream",
     "text": [
      "Extracting F_MNIST_data\\FashionMNIST\\raw\\train-images-idx3-ubyte.gz to F_MNIST_data\\FashionMNIST\\raw\n",
      "\n",
      "Downloading http://fashion-mnist.s3-website.eu-central-1.amazonaws.com/train-labels-idx1-ubyte.gz\n",
      "Downloading http://fashion-mnist.s3-website.eu-central-1.amazonaws.com/train-labels-idx1-ubyte.gz to F_MNIST_data\\FashionMNIST\\raw\\train-labels-idx1-ubyte.gz\n"
     ]
    },
    {
     "name": "stderr",
     "output_type": "stream",
     "text": [
      "100.0%\n"
     ]
    },
    {
     "name": "stdout",
     "output_type": "stream",
     "text": [
      "Extracting F_MNIST_data\\FashionMNIST\\raw\\train-labels-idx1-ubyte.gz to F_MNIST_data\\FashionMNIST\\raw\n",
      "\n",
      "Downloading http://fashion-mnist.s3-website.eu-central-1.amazonaws.com/t10k-images-idx3-ubyte.gz\n",
      "Downloading http://fashion-mnist.s3-website.eu-central-1.amazonaws.com/t10k-images-idx3-ubyte.gz to F_MNIST_data\\FashionMNIST\\raw\\t10k-images-idx3-ubyte.gz\n"
     ]
    },
    {
     "name": "stderr",
     "output_type": "stream",
     "text": [
      "100.0%\n"
     ]
    },
    {
     "name": "stdout",
     "output_type": "stream",
     "text": [
      "Extracting F_MNIST_data\\FashionMNIST\\raw\\t10k-images-idx3-ubyte.gz to F_MNIST_data\\FashionMNIST\\raw\n",
      "\n",
      "Downloading http://fashion-mnist.s3-website.eu-central-1.amazonaws.com/t10k-labels-idx1-ubyte.gz\n",
      "Downloading http://fashion-mnist.s3-website.eu-central-1.amazonaws.com/t10k-labels-idx1-ubyte.gz to F_MNIST_data\\FashionMNIST\\raw\\t10k-labels-idx1-ubyte.gz\n"
     ]
    },
    {
     "name": "stderr",
     "output_type": "stream",
     "text": [
      "100.0%\n"
     ]
    },
    {
     "name": "stdout",
     "output_type": "stream",
     "text": [
      "Extracting F_MNIST_data\\FashionMNIST\\raw\\t10k-labels-idx1-ubyte.gz to F_MNIST_data\\FashionMNIST\\raw\n",
      "\n",
      "Epoch 0: Train Loss: 0.6731, Val Loss: 0.4556, Val Acc: 83.71%\n",
      "Epoch 1: Train Loss: 0.4570, Val Loss: 0.3980, Val Acc: 85.53%\n",
      "Epoch 2: Train Loss: 0.4171, Val Loss: 0.3694, Val Acc: 86.74%\n",
      "Epoch 3: Train Loss: 0.3895, Val Loss: 0.3762, Val Acc: 85.88%\n",
      "Epoch 4: Train Loss: 0.3706, Val Loss: 0.3435, Val Acc: 87.28%\n",
      "Epoch 5: Train Loss: 0.3525, Val Loss: 0.3322, Val Acc: 87.66%\n",
      "Epoch 6: Train Loss: 0.3388, Val Loss: 0.3231, Val Acc: 88.18%\n",
      "Epoch 7: Train Loss: 0.3290, Val Loss: 0.3338, Val Acc: 87.33%\n",
      "Epoch 8: Train Loss: 0.3182, Val Loss: 0.3175, Val Acc: 88.33%\n",
      "Epoch 9: Train Loss: 0.3079, Val Loss: 0.3125, Val Acc: 88.60%\n",
      "Epoch 10: Train Loss: 0.3026, Val Loss: 0.3400, Val Acc: 87.74%\n",
      "Epoch 11: Train Loss: 0.2941, Val Loss: 0.3029, Val Acc: 89.05%\n",
      "Epoch 12: Train Loss: 0.2840, Val Loss: 0.3207, Val Acc: 88.74%\n",
      "Epoch 13: Train Loss: 0.2808, Val Loss: 0.2983, Val Acc: 88.92%\n",
      "Epoch 14: Train Loss: 0.2738, Val Loss: 0.3065, Val Acc: 89.10%\n",
      "Epoch 15: Train Loss: 0.2682, Val Loss: 0.3083, Val Acc: 89.01%\n",
      "Epoch 16: Train Loss: 0.2648, Val Loss: 0.3060, Val Acc: 89.06%\n",
      "Epoch 17: Train Loss: 0.2543, Val Loss: 0.2988, Val Acc: 89.34%\n",
      "Epoch 18: Train Loss: 0.2529, Val Loss: 0.3073, Val Acc: 89.47%\n",
      "Epoch 19: Train Loss: 0.2536, Val Loss: 0.2972, Val Acc: 89.54%\n",
      "Epoch 20: Train Loss: 0.2477, Val Loss: 0.2971, Val Acc: 89.51%\n",
      "Epoch 21: Train Loss: 0.2412, Val Loss: 0.2977, Val Acc: 89.81%\n",
      "Epoch 22: Train Loss: 0.2395, Val Loss: 0.2938, Val Acc: 89.40%\n",
      "Epoch 23: Train Loss: 0.2359, Val Loss: 0.2933, Val Acc: 89.70%\n",
      "Epoch 24: Train Loss: 0.2326, Val Loss: 0.3064, Val Acc: 89.49%\n",
      "Epoch 25: Train Loss: 0.2287, Val Loss: 0.2993, Val Acc: 89.39%\n",
      "Epoch 26: Train Loss: 0.2271, Val Loss: 0.3078, Val Acc: 89.43%\n",
      "Epoch 27: Train Loss: 0.2238, Val Loss: 0.2955, Val Acc: 89.46%\n",
      "Epoch 28: Train Loss: 0.2181, Val Loss: 0.2995, Val Acc: 89.36%\n",
      "Epoch 29: Train Loss: 0.2149, Val Loss: 0.2944, Val Acc: 89.84%\n",
      "Epoch 30: Train Loss: 0.2131, Val Loss: 0.2933, Val Acc: 90.28%\n",
      "Epoch 31: Train Loss: 0.2077, Val Loss: 0.3046, Val Acc: 89.83%\n",
      "Epoch 32: Train Loss: 0.2091, Val Loss: 0.3172, Val Acc: 89.39%\n",
      "Epoch 33: Train Loss: 0.2033, Val Loss: 0.3081, Val Acc: 89.68%\n",
      "Epoch 34: Train Loss: 0.2047, Val Loss: 0.3006, Val Acc: 89.79%\n"
     ]
    },
    {
     "data": {
      "image/png": "[encoded data removed]",
      "text/plain": [
       "<Figure size 1000x500 with 1 Axes>"
      ]
     },
     "metadata": {},
     "output_type": "display_data"
    }
   ],
   "source": [
    "\n",
    "# Main\n",
    "def main():\n",
    "    train_dl, val_dl, test_dl = load_data()\n",
    "    model, device = build_network()\n",
    "    train_validate(model, device, train_dl, val_dl, config['n_epochs'])\n",
    "\n",
    "if __name__ == '__main__':\n",
    "    main()\n"
   ]
  }
 ],
 "metadata": {
  "kernelspec": {
   "display_name": "Python 3",
   "language": "python",
   "name": "python3"
  },
  "language_info": {
   "codemirror_mode": {
    "name": "ipython",
    "version": 3
   },
   "file_extension": ".py",
   "mimetype": "text/x-python",
   "name": "python",
   "nbconvert_exporter": "python",
   "pygments_lexer": "ipython3",
   "version": "3.11.9"
  }
 },
 "nbformat": 4,
 "nbformat_minor": 2
}
