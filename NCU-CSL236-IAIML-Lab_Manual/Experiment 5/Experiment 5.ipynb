{
 "cells": [
  {
   "cell_type": "markdown",
   "metadata": {},
   "source": [
    "# Experiment 5\n",
    "\n",
    "#### Problem Statement:\n",
    "\n",
    "Students will be familiarized with Dimensionality Reduction especially Principal Component\n",
    "Analysis (PCA).\n"
   ]
  },
  {
   "cell_type": "markdown",
   "metadata": {},
   "source": [
    "#### Dataset Link\n",
    "\n",
    "https://www.kaggle.com/datasets/uciml/iris\n"
   ]
  },
  {
   "cell_type": "markdown",
   "metadata": {},
   "source": [
    "#### Code\n"
   ]
  },
  {
   "cell_type": "code",
   "execution_count": 48,
   "metadata": {},
   "outputs": [],
   "source": [
    "# importing required libraries\n",
    "import numpy as np\n",
    "import pandas as pd\n",
    "import matplotlib.pyplot as plt\n",
    "import seaborn as sns\n",
    "from sklearn.preprocessing import StandardScaler\n",
    "from sklearn.decomposition import PCA\n",
    "from sklearn.svm import SVC"
   ]
  },
  {
   "cell_type": "code",
   "execution_count": 49,
   "metadata": {},
   "outputs": [
    {
     "name": "stdout",
     "output_type": "stream",
     "text": [
      "|    |   Id |   SepalLengthCm |   SepalWidthCm |   PetalLengthCm |   PetalWidthCm | Species     |\n",
      "|---:|-----:|----------------:|---------------:|----------------:|---------------:|:------------|\n",
      "|  0 |    1 |             5.1 |            3.5 |             1.4 |            0.2 | Iris-setosa |\n",
      "|  1 |    2 |             4.9 |            3   |             1.4 |            0.2 | Iris-setosa |\n",
      "|  2 |    3 |             4.7 |            3.2 |             1.3 |            0.2 | Iris-setosa |\n",
      "|  3 |    4 |             4.6 |            3.1 |             1.5 |            0.2 | Iris-setosa |\n",
      "|  4 |    5 |             5   |            3.6 |             1.4 |            0.2 | Iris-setosa |\n"
     ]
    }
   ],
   "source": [
    "# importing the dataset\n",
    "iris_data = pd.read_csv('iris.csv')\n",
    "\n",
    "# reading the dataset\n",
    "print(iris_data.head().to_markdown())"
   ]
  },
  {
   "cell_type": "code",
   "execution_count": 50,
   "metadata": {},
   "outputs": [
    {
     "name": "stdout",
     "output_type": "stream",
     "text": [
      "[[-0.90068117  1.03205722 -1.3412724  -1.31297673]\n",
      " [-1.14301691 -0.1249576  -1.3412724  -1.31297673]\n",
      " [-1.38535265  0.33784833 -1.39813811 -1.31297673]\n",
      " [-1.50652052  0.10644536 -1.2844067  -1.31297673]\n",
      " [-1.02184904  1.26346019 -1.3412724  -1.31297673]]\n",
      "['Iris-setosa' 'Iris-versicolor' 'Iris-virginica']\n"
     ]
    }
   ],
   "source": [
    "# Dropping the Id column\n",
    "iris_data.drop(\"Id\", axis=1, inplace=True)\n",
    "\n",
    "# Separating the features and the target variable\n",
    "X = iris_data.drop(\"Species\", axis=1)\n",
    "y = iris_data[\"Species\"]\n",
    "\n",
    "# Scaling the features\n",
    "scaler = StandardScaler()\n",
    "X_scaled = scaler.fit_transform(X)\n",
    "\n",
    "print(X_scaled[:5])\n",
    "print(y.unique())"
   ]
  },
  {
   "cell_type": "markdown",
   "metadata": {},
   "source": [
    "##### Principal Component Analysis (PCA)\n"
   ]
  },
  {
   "cell_type": "code",
   "execution_count": 51,
   "metadata": {},
   "outputs": [
    {
     "name": "stdout",
     "output_type": "stream",
     "text": [
      "0.7277045209380135\n",
      "0.23030523267680633\n",
      "0.03683831957627393\n"
     ]
    },
    {
     "data": {
      "image/png": "[encoded data removed]",
      "text/plain": [
       "<Figure size 640x480 with 1 Axes>"
      ]
     },
     "metadata": {},
     "output_type": "display_data"
    }
   ],
   "source": [
    "# Applying PCA and reducing the data to 2 principal components\n",
    "pca = PCA(n_components=3)\n",
    "principal_components = pca.fit_transform(X_scaled)\n",
    "\n",
    "explained_var = pca.explained_variance_ratio_\n",
    "for var in explained_var:\n",
    "    print(var)\n",
    "    plt.bar([1, 2, 3], explained_var, label=var)\n",
    "    plt.xlabel(\"Component #\")\n",
    "    plt.ylabel(\"% Variance Contribution\")\n",
    "    plt.legend()\n",
    "plt.show()"
   ]
  },
  {
   "cell_type": "code",
   "execution_count": 53,
   "metadata": {},
   "outputs": [
    {
     "name": "stdout",
     "output_type": "stream",
     "text": [
      "|    |      PC1 |       PC2 |\n",
      "|---:|---------:|----------:|\n",
      "|  0 | -2.26454 |  0.505704 |\n",
      "|  1 | -2.08643 | -0.655405 |\n",
      "|  2 | -2.36795 | -0.318477 |\n",
      "|  3 | -2.3042  | -0.575368 |\n",
      "|  4 | -2.38878 |  0.674767 |\n"
     ]
    }
   ],
   "source": [
    "# dropping the third principal component\n",
    "pca = PCA(n_components=2)\n",
    "principal_components = pca.fit_transform(X_scaled)\n",
    "\n",
    "# creating a dataframe of the principal components\n",
    "principal_df = pd.DataFrame(data=principal_components, columns=[\"PC1\", \"PC2\"])\n",
    "print(principal_df.head().to_markdown())"
   ]
  }
 ],
 "metadata": {
  "kernelspec": {
   "display_name": "Python 3",
   "language": "python",
   "name": "python3"
  },
  "language_info": {
   "codemirror_mode": {
    "name": "ipython",
    "version": 3
   },
   "file_extension": ".py",
   "mimetype": "text/x-python",
   "name": "python",
   "nbconvert_exporter": "python",
   "pygments_lexer": "ipython3",
   "version": "3.11.4"
  },
  "orig_nbformat": 4
 },
 "nbformat": 4,
 "nbformat_minor": 2
}
