{
 "cells": [
  {
   "cell_type": "markdown",
   "metadata": {},
   "source": [
    "# Experiment 8"
   ]
  },
  {
   "cell_type": "markdown",
   "metadata": {},
   "source": [
    "## Problem Statement"
   ]
  },
  {
   "cell_type": "markdown",
   "metadata": {},
   "source": [
    "To apply Polynomial Linear Regression on the given dataset."
   ]
  },
  {
   "cell_type": "markdown",
   "metadata": {},
   "source": [
    "## Code"
   ]
  },
  {
   "cell_type": "code",
   "execution_count": 1,
   "metadata": {},
   "outputs": [],
   "source": [
    "# importing required libraries\n",
    "import pandas as pd\n",
    "import numpy as np"
   ]
  },
  {
   "cell_type": "code",
   "execution_count": 2,
   "metadata": {},
   "outputs": [
    {
     "name": "stdout",
     "output_type": "stream",
     "text": [
      "Number of data points: 6\n"
     ]
    }
   ],
   "source": [
    "# data\n",
    "X = [-3, -2, -1, -0.2, 1, 3]\n",
    "y = [0.9, 0.8, 0.4, 0.2, 0.1, 0]\n",
    "\n",
    "# degree of polynomial\n",
    "degree = 2\n",
    "\n",
    "# calculating the number of data points\n",
    "n = len(X)\n",
    "print(\"Number of data points:\", n)\n"
   ]
  },
  {
   "cell_type": "code",
   "execution_count": 3,
   "metadata": {},
   "outputs": [
    {
     "name": "stdout",
     "output_type": "stream",
     "text": [
      "Summations for X, Y, and powers of X\n",
      "X Sum: -2.2\n",
      "Y Sum: 2.4000000000000004\n",
      "X^2 Sum: 24.04\n",
      "X^3 Sum: -8.008000000000003\n",
      "X^4 Sum: 180.0016\n",
      "Summations for products of X and Y\n",
      "X*Y Sum: -4.6400000000000015\n",
      "X^2*Y Sum: 11.808\n"
     ]
    }
   ],
   "source": [
    "# calculating the summations for X, Y, and powers of X\n",
    "sum_x = sum(X)\n",
    "sum_y = sum(y)\n",
    "sum_x2 = sum([x**2 for x in X])\n",
    "sum_x3 = sum([x**3 for x in X])\n",
    "sum_x4 = sum([x**4 for x in X])\n",
    "\n",
    "# calculating summations for products of X and Y\n",
    "sum_xy = sum([x * y_val for x, y_val in zip(X, y)])\n",
    "sum_x2y = sum([x**2 * y_val for x, y_val in zip(X, y)])\n",
    "\n",
    "# printing the summations\n",
    "print(\"Summations for X, Y, and powers of X\")\n",
    "print(\"X Sum:\", sum_x)\n",
    "print(\"Y Sum:\", sum_y)\n",
    "print(\"X^2 Sum:\", sum_x2)\n",
    "print(\"X^3 Sum:\", sum_x3)\n",
    "print(\"X^4 Sum:\", sum_x4)\n",
    "print(\"Summations for products of X and Y\")\n",
    "print(\"X*Y Sum:\", sum_xy)\n",
    "print(\"X^2*Y Sum:\", sum_x2y)"
   ]
  },
  {
   "cell_type": "code",
   "execution_count": 4,
   "metadata": {},
   "outputs": [
    {
     "name": "stdout",
     "output_type": "stream",
     "text": [
      "\n",
      "Coefficients (a0, a1, a2): [ 0.22906556 -0.16280041  0.02776397]\n"
     ]
    }
   ],
   "source": [
    "# creating normal equations matrices\n",
    "A = [[n, sum_x, sum_x2],\n",
    "     [sum_x, sum_x2, sum_x3],\n",
    "     [sum_x2, sum_x3, sum_x4]]\n",
    "B = [sum_y, sum_xy, sum_x2y]\n",
    "\n",
    "# solving the system of equations\n",
    "coefficients = np.linalg.solve(A, B)\n",
    "print(\"\\nCoefficients (a0, a1, a2):\", coefficients)"
   ]
  },
  {
   "cell_type": "code",
   "execution_count": 5,
   "metadata": {},
   "outputs": [],
   "source": [
    "# define the polynomial function\n",
    "def polynomial(x):\n",
    "    return coefficients[0] + coefficients[1] * x + coefficients[2] * x**2"
   ]
  },
  {
   "cell_type": "code",
   "execution_count": 6,
   "metadata": {},
   "outputs": [],
   "source": [
    "# evaluating the polynomial function at each data point\n",
    "predicted_y = [polynomial(x_val) for x_val in X]"
   ]
  },
  {
   "cell_type": "code",
   "execution_count": 7,
   "metadata": {},
   "outputs": [
    {
     "name": "stdout",
     "output_type": "stream",
     "text": [
      "\n",
      "Original and Predicted Data\n",
      "X: -3, Original Y: 0.9, Predicted Y: 0.967342489931803\n",
      "X: -2, Original Y: 0.8, Predicted Y: 0.6657222483828868\n",
      "X: -1, Original Y: 0.4, Predicted Y: 0.419629938191314\n",
      "X: -0.2, Original Y: 0.2, Predicted Y: 0.2627362006153428\n",
      "X: 1, Original Y: 0.1, Predicted Y: 0.09402911188019804\n",
      "X: 3, Original Y: 0, Predicted Y: -0.009459989001544655\n"
     ]
    }
   ],
   "source": [
    "# display the original data and the predicted values\n",
    "print(\"\\nOriginal and Predicted Data\")\n",
    "for x_val, orig_y, pred_y in zip(X, y, predicted_y):\n",
    "    print(f\"X: {x_val}, Original Y: {orig_y}, Predicted Y: {pred_y}\")"
   ]
  }
 ],
 "metadata": {
  "kernelspec": {
   "display_name": "Python 3",
   "language": "python",
   "name": "python3"
  },
  "language_info": {
   "codemirror_mode": {
    "name": "ipython",
    "version": 3
   },
   "file_extension": ".py",
   "mimetype": "text/x-python",
   "name": "python",
   "nbconvert_exporter": "python",
   "pygments_lexer": "ipython3",
   "version": "3.11.6"
  }
 },
 "nbformat": 4,
 "nbformat_minor": 2
}
