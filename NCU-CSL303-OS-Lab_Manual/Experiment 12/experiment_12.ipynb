{
 "cells": [
  {
   "cell_type": "markdown",
   "metadata": {},
   "source": [
    "# Experiment 12"
   ]
  },
  {
   "cell_type": "markdown",
   "metadata": {},
   "source": [
    "#### Problem Statement: \n",
    "Write a program to implement page replacement policy using \n",
    "1. LRU \n",
    "2. FIFO \n",
    "3. Optimal "
   ]
  },
  {
   "cell_type": "markdown",
   "metadata": {},
   "source": [
    "#### Code: "
   ]
  },
  {
   "cell_type": "code",
   "execution_count": 3,
   "metadata": {},
   "outputs": [],
   "source": [
    "# importing required libraries\n",
    "from collections import deque"
   ]
  },
  {
   "cell_type": "code",
   "execution_count": 7,
   "metadata": {},
   "outputs": [
    {
     "name": "stdout",
     "output_type": "stream",
     "text": [
      "Page Faults using LRU: 12\n",
      "Page Faults using FIFO: 14\n",
      "Page Faults using Optimal: 9\n"
     ]
    }
   ],
   "source": [
    "def lru(pages, n, capacity):\n",
    "    s = []\n",
    "    page_faults = 0\n",
    "\n",
    "    for i in pages:\n",
    "        if i not in s:\n",
    "            if len(s) == capacity:\n",
    "                s.remove(s[0])\n",
    "            s.append(i)\n",
    "            page_faults += 1\n",
    "        else:\n",
    "            s.remove(i)\n",
    "            s.append(i)\n",
    "\n",
    "    return page_faults\n",
    "\n",
    "\n",
    "def fifo(pages, n, capacity):\n",
    "    queue = []\n",
    "    page_faults = 0\n",
    "\n",
    "    for i in pages:\n",
    "        if i not in queue:\n",
    "            if len(queue) == capacity:\n",
    "                queue.pop(0)\n",
    "            queue.append(i)\n",
    "            page_faults += 1\n",
    "\n",
    "    return page_faults\n",
    "\n",
    "\n",
    "def optimal(pages, n, capacity):\n",
    "    s = []\n",
    "    page_faults = 0\n",
    "    occurance = [None for i in range(capacity)]\n",
    "\n",
    "    for i in range(n):\n",
    "        if pages[i] not in s:\n",
    "            if len(s) < capacity:\n",
    "                s.append(pages[i])5\n",
    "            else:\n",
    "                for x in range(len(s)):\n",
    "                    if s[x] not in pages[i+1:]:\n",
    "                        occurance[x] = 999999\n",
    "                    else:\n",
    "                        occurance[x] = pages[i+1:].index(s[x])\n",
    "                s[occurance.index(max(occurance))] = pages[i]\n",
    "            page_faults += 1\n",
    "\n",
    "    return page_faults\n",
    "\n",
    "\n",
    "if __name__ == \"__main__\":\n",
    "    pages = [7, 0, 1, 2, 0, 3, 0, 4, 2, 3, 0, 3, 2, 1, 2, 0, 1, 7, 0]\n",
    "    n = len(pages)\n",
    "    capacity = 3\n",
    "\n",
    "    print(f\"Page Faults using LRU: {lru(pages, n, capacity)}\")\n",
    "    print(f\"Page Faults using FIFO: {fifo(pages, n, capacity)}\")\n",
    "    print(f\"Page Faults using Optimal: {optimal(pages, n, capacity)}\")"
   ]
  }
 ],
 "metadata": {
  "kernelspec": {
   "display_name": "Python 3",
   "language": "python",
   "name": "python3"
  },
  "language_info": {
   "codemirror_mode": {
    "name": "ipython",
    "version": 3
   },
   "file_extension": ".py",
   "mimetype": "text/x-python",
   "name": "python",
   "nbconvert_exporter": "python",
   "pygments_lexer": "ipython3",
   "version": "3.11.6"
  },
  "orig_nbformat": 4
 },
 "nbformat": 4,
 "nbformat_minor": 2
}
