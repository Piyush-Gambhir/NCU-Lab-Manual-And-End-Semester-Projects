{
 "cells": [
  {
   "cell_type": "markdown",
   "metadata": {},
   "source": [
    "# Experiment 6"
   ]
  },
  {
   "cell_type": "markdown",
   "metadata": {},
   "source": [
    "#### Problem Statement: \n",
    "Applying wrapper methods for feature selection on the dataset."
   ]
  },
  {
   "cell_type": "markdown",
   "metadata": {},
   "source": [
    "#### Code: "
   ]
  },
  {
   "cell_type": "code",
   "execution_count": 42,
   "metadata": {},
   "outputs": [],
   "source": [
    "# import the requied libraries\n",
    "import pandas as pd\n",
    "import numpy as np\n",
    "from sklearn.feature_selection import SelectKBest, f_regression, RFE, SequentialFeatureSelector\n",
    "from sklearn.linear_model import LogisticRegression, Lasso\n",
    "from sklearn.preprocessing import LabelEncoder"
   ]
  },
  {
   "cell_type": "code",
   "execution_count": 43,
   "metadata": {},
   "outputs": [
    {
     "name": "stdout",
     "output_type": "stream",
     "text": [
      "|    |   Id |   SepalLengthCm |   SepalWidthCm |   PetalLengthCm |   PetalWidthCm | Species     |\n",
      "|---:|-----:|----------------:|---------------:|----------------:|---------------:|:------------|\n",
      "|  0 |    1 |             5.1 |            3.5 |             1.4 |            0.2 | Iris-setosa |\n",
      "|  1 |    2 |             4.9 |            3   |             1.4 |            0.2 | Iris-setosa |\n",
      "|  2 |    3 |             4.7 |            3.2 |             1.3 |            0.2 | Iris-setosa |\n",
      "|  3 |    4 |             4.6 |            3.1 |             1.5 |            0.2 | Iris-setosa |\n",
      "|  4 |    5 |             5   |            3.6 |             1.4 |            0.2 | Iris-setosa |\n"
     ]
    }
   ],
   "source": [
    "# import the datatset\n",
    "iris_data = pd.read_csv('iris.csv')\n",
    "\n",
    "# print the dataset\n",
    "print(iris_data.head().to_markdown())"
   ]
  },
  {
   "cell_type": "code",
   "execution_count": 44,
   "metadata": {},
   "outputs": [],
   "source": [
    "# ecnode the categorical data into numerical data\n",
    "iris_data['Species'] = iris_data['Species'].replace(['Iris-setosa', 'Iris-versicolor', 'Iris-virginica'], [0, 1, 2])"
   ]
  },
  {
   "cell_type": "code",
   "execution_count": 45,
   "metadata": {},
   "outputs": [
    {
     "name": "stdout",
     "output_type": "stream",
     "text": [
      "Id                 int64\n",
      "SepalLengthCm    float64\n",
      "SepalWidthCm     float64\n",
      "PetalLengthCm    float64\n",
      "PetalWidthCm     float64\n",
      "Species            int64\n",
      "dtype: object\n"
     ]
    }
   ],
   "source": [
    "# print the datatype of the dataset\n",
    "print(iris_data.dtypes)"
   ]
  },
  {
   "cell_type": "code",
   "execution_count": 46,
   "metadata": {},
   "outputs": [],
   "source": [
    "X = iris_data.drop(columns=['Id', 'Species'])\n",
    "y = iris_data['Species']"
   ]
  },
  {
   "cell_type": "code",
   "execution_count": 47,
   "metadata": {},
   "outputs": [
    {
     "name": "stdout",
     "output_type": "stream",
     "text": [
      "Filter Method:\n",
      "                     Score\n",
      "SepalLengthCm   233.838996\n",
      "SepalWidthCm     31.597508\n",
      "PetalLengthCm  1342.159189\n",
      "PetalWidthCm   1589.559204\n",
      "\n",
      "\n"
     ]
    }
   ],
   "source": [
    "# Filter Method\n",
    "fs = SelectKBest(score_func=f_regression, k=2)\n",
    "X_selected = fs.fit_transform(X, y)\n",
    "feature_scores = pd.DataFrame(fs.scores_, index=X.columns, columns=['Score'])\n",
    "print(\"Filter Method:\")\n",
    "print(feature_scores)\n",
    "print(\"\\n\")"
   ]
  },
  {
   "cell_type": "code",
   "execution_count": 48,
   "metadata": {},
   "outputs": [
    {
     "name": "stdout",
     "output_type": "stream",
     "text": [
      "Wrapper Method: RFE\n",
      "         Feature  Ranking\n",
      "1   SepalWidthCm        1\n",
      "2  PetalLengthCm        1\n",
      "3   PetalWidthCm        1\n",
      "0  SepalLengthCm        2\n",
      "\n",
      "\n"
     ]
    }
   ],
   "source": [
    "# Wrapper Method: RFE with Logistic Regression\n",
    "model = LogisticRegression(max_iter=1000)\n",
    "rfe = RFE(estimator=model, n_features_to_select=3)\n",
    "fit = rfe.fit(X, y)\n",
    "feature_ranking = pd.DataFrame(\n",
    "    {'Feature': X.columns, 'Ranking': fit.ranking_}).sort_values(by='Ranking')\n",
    "print(\"Wrapper Method: RFE\")\n",
    "print(feature_ranking)\n",
    "print(\"\\n\")"
   ]
  },
  {
   "cell_type": "code",
   "execution_count": 49,
   "metadata": {},
   "outputs": [
    {
     "name": "stdout",
     "output_type": "stream",
     "text": [
      "Wrapper Method: Backward Elimination\n",
      "         Feature  Ranking\n",
      "0  SepalLengthCm    False\n",
      "1   SepalWidthCm     True\n",
      "2  PetalLengthCm     True\n",
      "3   PetalWidthCm     True\n"
     ]
    }
   ],
   "source": [
    "# Wrapper Method: Backward Elimination\n",
    "model = LogisticRegression(max_iter=1000)\n",
    "sfs_backward = SequentialFeatureSelector(estimator=model, n_features_to_select=3, direction='backward')\n",
    "sfs_backward.fit(X, y)\n",
    "feature_ranking = pd.DataFrame(\n",
    "    {'Feature': X.columns, 'Ranking': sfs_backward.get_support()}).sort_values(by='Ranking')\n",
    "print(\"Wrapper Method: Backward Elimination\")\n",
    "print(feature_ranking)"
   ]
  },
  {
   "cell_type": "code",
   "execution_count": 51,
   "metadata": {},
   "outputs": [
    {
     "name": "stdout",
     "output_type": "stream",
     "text": [
      "Wrapper Method: Forward Selection\n",
      "         Feature  Ranking\n",
      "0  SepalLengthCm    False\n",
      "1   SepalWidthCm     True\n",
      "2  PetalLengthCm     True\n",
      "3   PetalWidthCm     True\n"
     ]
    }
   ],
   "source": [
    "# Wrapper Method: Forward Selection\n",
    "model = LogisticRegression(max_iter=1000)\n",
    "sfs_forward = SequentialFeatureSelector(estimator=model, n_features_to_select=3, direction='forward')\n",
    "sfs_forward.fit(X, y)\n",
    "feature_ranking = pd.DataFrame(\n",
    "    {'Feature': X.columns, 'Ranking': sfs_forward.get_support()}).sort_values(by='Ranking')\n",
    "print(\"Wrapper Method: Forward Selection\")\n",
    "print(feature_ranking)"
   ]
  }
 ],
 "metadata": {
  "kernelspec": {
   "display_name": "Python 3",
   "language": "python",
   "name": "python3"
  },
  "language_info": {
   "codemirror_mode": {
    "name": "ipython",
    "version": 3
   },
   "file_extension": ".py",
   "mimetype": "text/x-python",
   "name": "python",
   "nbconvert_exporter": "python",
   "pygments_lexer": "ipython3",
   "version": "3.11.4"
  },
  "orig_nbformat": 4
 },
 "nbformat": 4,
 "nbformat_minor": 2
}
