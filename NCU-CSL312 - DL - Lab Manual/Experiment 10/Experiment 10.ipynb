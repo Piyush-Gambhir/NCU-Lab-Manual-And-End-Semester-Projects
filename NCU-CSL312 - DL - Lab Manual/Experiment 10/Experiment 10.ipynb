{
 "cells": [
  {
   "cell_type": "markdown",
   "metadata": {},
   "source": [
    "# Experiment 10 - Transfer Learning - Pre Trained Model VGG16  "
   ]
  },
  {
   "cell_type": "markdown",
   "metadata": {},
   "source": [
    "## Problem Statement:\n",
    "To implement transfer learning using the pre-trained model (VGG16) on image dataset."
   ]
  },
  {
   "cell_type": "markdown",
   "metadata": {},
   "source": [
    "## Installing Dependencies:"
   ]
  },
  {
   "cell_type": "code",
   "execution_count": 3,
   "metadata": {},
   "outputs": [
    {
     "name": "stdout",
     "output_type": "stream",
     "text": [
      "Collecting tabulate\n",
      "  Downloading tabulate-0.9.0-py3-none-any.whl.metadata (34 kB)\n",
      "Requirement already satisfied: numpy in c:\\users\\mainp\\appdata\\local\\programs\\python\\python311\\lib\\site-packages (1.26.4)\n",
      "Collecting pandas\n",
      "  Downloading pandas-2.2.2-cp311-cp311-win_amd64.whl.metadata (19 kB)\n",
      "Requirement already satisfied: matplotlib in c:\\users\\mainp\\appdata\\local\\programs\\python\\python311\\lib\\site-packages (3.8.4)\n",
      "Collecting seaborn\n",
      "  Downloading seaborn-0.13.2-py3-none-any.whl.metadata (5.4 kB)\n",
      "Requirement already satisfied: python-dateutil>=2.8.2 in c:\\users\\mainp\\appdata\\local\\programs\\python\\python311\\lib\\site-packages (from pandas) (2.9.0.post0)\n",
      "Collecting pytz>=2020.1 (from pandas)\n",
      "  Downloading pytz-2024.1-py2.py3-none-any.whl.metadata (22 kB)\n",
      "Collecting tzdata>=2022.7 (from pandas)\n",
      "  Downloading tzdata-2024.1-py2.py3-none-any.whl.metadata (1.4 kB)\n",
      "Requirement already satisfied: contourpy>=1.0.1 in c:\\users\\mainp\\appdata\\local\\programs\\python\\python311\\lib\\site-packages (from matplotlib) (1.2.1)\n",
      "Requirement already satisfied: cycler>=0.10 in c:\\users\\mainp\\appdata\\local\\programs\\python\\python311\\lib\\site-packages (from matplotlib) (0.12.1)\n",
      "Requirement already satisfied: fonttools>=4.22.0 in c:\\users\\mainp\\appdata\\local\\programs\\python\\python311\\lib\\site-packages (from matplotlib) (4.51.0)\n",
      "Requirement already satisfied: kiwisolver>=1.3.1 in c:\\users\\mainp\\appdata\\local\\programs\\python\\python311\\lib\\site-packages (from matplotlib) (1.4.5)\n",
      "Requirement already satisfied: packaging>=20.0 in c:\\users\\mainp\\appdata\\local\\programs\\python\\python311\\lib\\site-packages (from matplotlib) (24.0)\n",
      "Requirement already satisfied: pillow>=8 in c:\\users\\mainp\\appdata\\local\\programs\\python\\python311\\lib\\site-packages (from matplotlib) (10.3.0)\n",
      "Requirement already satisfied: pyparsing>=2.3.1 in c:\\users\\mainp\\appdata\\local\\programs\\python\\python311\\lib\\site-packages (from matplotlib) (3.1.2)\n",
      "Requirement already satisfied: six>=1.5 in c:\\users\\mainp\\appdata\\local\\programs\\python\\python311\\lib\\site-packages (from python-dateutil>=2.8.2->pandas) (1.16.0)\n",
      "Downloading tabulate-0.9.0-py3-none-any.whl (35 kB)\n",
      "Downloading pandas-2.2.2-cp311-cp311-win_amd64.whl (11.6 MB)\n",
      "   ---------------------------------------- 0.0/11.6 MB ? eta -:--:--\n",
      "   - -------------------------------------- 0.5/11.6 MB 14.9 MB/s eta 0:00:01\n",
      "   ---- ----------------------------------- 1.2/11.6 MB 14.8 MB/s eta 0:00:01\n",
      "   ---- ----------------------------------- 1.4/11.6 MB 11.0 MB/s eta 0:00:01\n",
      "   ------ --------------------------------- 1.8/11.6 MB 10.2 MB/s eta 0:00:01\n",
      "   --------- ------------------------------ 2.8/11.6 MB 12.9 MB/s eta 0:00:01\n",
      "   ------------ --------------------------- 3.5/11.6 MB 13.9 MB/s eta 0:00:01\n",
      "   ----------------- ---------------------- 5.0/11.6 MB 15.9 MB/s eta 0:00:01\n",
      "   --------------------- ------------------ 6.3/11.6 MB 17.5 MB/s eta 0:00:01\n",
      "   -------------------------- ------------- 7.7/11.6 MB 18.9 MB/s eta 0:00:01\n",
      "   ------------------------------- -------- 9.2/11.6 MB 20.2 MB/s eta 0:00:01\n",
      "   ----------------------------------- ---- 10.4/11.6 MB 21.1 MB/s eta 0:00:01\n",
      "   ---------------------------------------  11.6/11.6 MB 26.2 MB/s eta 0:00:01\n",
      "   ---------------------------------------- 11.6/11.6 MB 24.2 MB/s eta 0:00:00\n",
      "Downloading seaborn-0.13.2-py3-none-any.whl (294 kB)\n",
      "   ---------------------------------------- 0.0/294.9 kB ? eta -:--:--\n",
      "   --------------------------------------- 294.9/294.9 kB 17.8 MB/s eta 0:00:00\n",
      "Downloading pytz-2024.1-py2.py3-none-any.whl (505 kB)\n",
      "   ---------------------------------------- 0.0/505.5 kB ? eta -:--:--\n",
      "   --------------------------------------- 505.5/505.5 kB 16.0 MB/s eta 0:00:00\n",
      "Downloading tzdata-2024.1-py2.py3-none-any.whl (345 kB)\n",
      "   ---------------------------------------- 0.0/345.4 kB ? eta -:--:--\n",
      "   --------------------------------------- 345.4/345.4 kB 20.9 MB/s eta 0:00:00\n",
      "Installing collected packages: pytz, tzdata, tabulate, pandas, seaborn\n",
      "Successfully installed pandas-2.2.2 pytz-2024.1 seaborn-0.13.2 tabulate-0.9.0 tzdata-2024.1\n"
     ]
    }
   ],
   "source": [
    "! pip install tabulate numpy pandas matplotlib seaborn"
   ]
  },
  {
   "cell_type": "markdown",
   "metadata": {},
   "source": [
    "## Code"
   ]
  },
  {
   "cell_type": "code",
   "execution_count": 4,
   "metadata": {},
   "outputs": [],
   "source": [
    "import cv2\n",
    "from keras.applications import vgg16\n",
    "from keras.preprocessing import image\n",
    "from keras.applications.vgg16 import preprocess_input, decode_predictions\n",
    "import numpy as np\n",
    "from os import listdir\n",
    "from os.path import isfile, join\n"
   ]
  },
  {
   "cell_type": "code",
   "execution_count": 5,
   "metadata": {},
   "outputs": [],
   "source": [
    "\n",
    "# Define the path to your images\n",
    "IMAGE_PATH = \"images/\"\n",
    "\n",
    "# Load the VGG16 model\n",
    "vgg_model = vgg16.VGG16(weights='imagenet')\n",
    "\n"
   ]
  },
  {
   "cell_type": "code",
   "execution_count": 6,
   "metadata": {},
   "outputs": [],
   "source": [
    "\n",
    "def load_and_preprocess_image(img_path):\n",
    "    target_size = (224, 224)  # VGG16 uses 224x224 images\n",
    "    img = image.load_img(img_path, target_size=target_size)\n",
    "    x = image.img_to_array(img)\n",
    "    x = np.expand_dims(x, axis=0)\n",
    "    x = preprocess_input(x)\n",
    "    return x\n",
    "\n",
    "def get_predictions(model, x):\n",
    "    preds = model.predict(x)\n",
    "    return decode_predictions(preds, top=3)[0]\n",
    "\n",
    "def draw_test(name, predictions, input_im):\n",
    "    BLACK = [0, 0, 0]\n",
    "    # Calculate needed expansion to fit text\n",
    "    extra_width = max(len(pred[1]) for pred in predictions) * 20\n",
    "    expanded_image = cv2.copyMakeBorder(input_im, 0, 0, 0, input_im.shape[1] + extra_width, cv2.BORDER_CONSTANT, value=BLACK)\n",
    "    img_width = input_im.shape[1]\n",
    "    cv2.putText(expanded_image, str(name), (img_width + 10, 30), cv2.FONT_HERSHEY_COMPLEX_SMALL, 1, (0, 0, 255), 1)\n",
    "    y_offset = 60\n",
    "    for i, prediction in enumerate(predictions):\n",
    "        string = f\"{prediction[1]}: {prediction[2]:.2f}\"\n",
    "        cv2.putText(expanded_image, string, (img_width + 10, y_offset + (i * 30)), cv2.FONT_HERSHEY_COMPLEX_SMALL, 1, (0, 255, 0), 1)\n",
    "    cv2.imshow(name, expanded_image)\n",
    "\n",
    "def process_images():\n",
    "    file_names = [f for f in listdir(IMAGE_PATH) if isfile(join(IMAGE_PATH, f))]\n",
    "\n",
    "    for file in file_names:\n",
    "        img_path = join(IMAGE_PATH, file)\n",
    "        x = load_and_preprocess_image(img_path)\n",
    "\n",
    "        # Load image using opencv for display\n",
    "        img_display = cv2.imread(img_path)\n",
    "        img_display = cv2.resize(img_display, None, fx=0.5, fy=0.5, interpolation=cv2.INTER_CUBIC)\n",
    "\n",
    "        # Get predictions from VGG16 model\n",
    "        predictions_vgg = get_predictions(vgg_model, x)\n",
    "\n",
    "        # Display results\n",
    "        draw_test(f\"VGG16 Predictions - {file}\", predictions_vgg, img_display)\n",
    "        cv2.waitKey(0)  # Wait for key press to continue\n",
    "\n",
    "    cv2.destroyAllWindows()\n"
   ]
  },
  {
   "cell_type": "code",
   "execution_count": 7,
   "metadata": {},
   "outputs": [
    {
     "name": "stdout",
     "output_type": "stream",
     "text": [
      "\u001b[1m1/1\u001b[0m \u001b[32m━━━━━━━━━━━━━━━━━━━━\u001b[0m\u001b[37m\u001b[0m \u001b[1m1s\u001b[0m 903ms/step\n"
     ]
    }
   ],
   "source": [
    "# Main function to execute the process\n",
    "if __name__ == '__main__':\n",
    "    process_images()\n"
   ]
  },
  {
   "cell_type": "markdown",
   "metadata": {},
   "source": [
    "## Output Explanation"
   ]
  },
  {
   "cell_type": "markdown",
   "metadata": {},
   "source": [
    "Example Output Interpretation:\n",
    "When you run the script, for each image, it displays:\n",
    "\n",
    "- Name of the image file.\n",
    "- Top 3 predictions where each line shows:\n",
    "    - The predicted category.\n",
    "    - The model's confidence in that prediction expressed as a percentage.\n",
    "\n",
    "For instance, if the output for an image is:\n",
    "\n",
    "\n",
    "```bash\n",
    "VGG16 Predictions - cat.jpg\n",
    "Persian cat: 0.45\n",
    "Tabby cat: 0.30\n",
    "Siamese cat: 0.10\n",
    "```\n",
    "\n",
    "This means:\n",
    "\n",
    "- The model is 45% confident that the image is of a Persian cat.\n",
    "- The second most likely category, according to the model, is a tabby cat, with 30% confidence.\n",
    "- The third guess is a Siamese cat, with 10% confidence."
   ]
  }
 ],
 "metadata": {
  "kernelspec": {
   "display_name": "Python 3",
   "language": "python",
   "name": "python3"
  },
  "language_info": {
   "codemirror_mode": {
    "name": "ipython",
    "version": 3
   },
   "file_extension": ".py",
   "mimetype": "text/x-python",
   "name": "python",
   "nbconvert_exporter": "python",
   "pygments_lexer": "ipython3",
   "version": "3.11.9"
  }
 },
 "nbformat": 4,
 "nbformat_minor": 2
}
