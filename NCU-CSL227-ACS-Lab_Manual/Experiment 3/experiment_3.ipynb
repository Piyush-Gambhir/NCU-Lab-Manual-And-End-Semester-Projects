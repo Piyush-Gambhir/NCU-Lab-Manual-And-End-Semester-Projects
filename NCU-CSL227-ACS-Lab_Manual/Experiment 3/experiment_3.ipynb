{
 "cells": [
  {
   "attachments": {},
   "cell_type": "markdown",
   "metadata": {},
   "source": [
    "## Experiment 3\n",
    "### Demonstrate measures of shape using Python."
   ]
  },
  {
   "cell_type": "code",
   "execution_count": 1,
   "metadata": {},
   "outputs": [],
   "source": [
    "# importing required libraries\n",
    "import math\n",
    "import pandas as pd\n",
    "import numpy as np\n",
    "import matplotlib.pyplot as plt\n",
    "import seaborn as snss\n",
    "\n",
    "import scipy\n",
    "from scipy import stats\n",
    "from scipy.stats import zscore, kurtosis, variation, scoreatpercentile\n",
    "from scipy.stats.mstats import gmean\n"
   ]
  },
  {
   "cell_type": "code",
   "execution_count": 2,
   "metadata": {},
   "outputs": [],
   "source": [
    "# Read the data\n",
    "data = pd.read_csv('iris_dataset.csv')\n"
   ]
  },
  {
   "cell_type": "code",
   "execution_count": 3,
   "metadata": {},
   "outputs": [],
   "source": [
    "# Drop the Id column\n",
    "data = data.drop('Id', axis=1)\n"
   ]
  },
  {
   "cell_type": "code",
   "execution_count": 4,
   "metadata": {},
   "outputs": [
    {
     "name": "stdout",
     "output_type": "stream",
     "text": [
      "|    |   SepalLengthCm |   SepalWidthCm |   PetalLengthCm |   PetalWidthCm | Species     |\n",
      "|---:|----------------:|---------------:|----------------:|---------------:|:------------|\n",
      "|  0 |             5.1 |            3.5 |             1.4 |            0.2 | Iris-setosa |\n",
      "|  1 |             4.9 |            3   |             1.4 |            0.2 | Iris-setosa |\n",
      "|  2 |             4.7 |            3.2 |             1.3 |            0.2 | Iris-setosa |\n",
      "|  3 |             4.6 |            3.1 |             1.5 |            0.2 | Iris-setosa |\n",
      "|  4 |             5   |            3.6 |             1.4 |            0.2 | Iris-setosa |\n"
     ]
    }
   ],
   "source": [
    "# Print the first 5 rows of the data\n",
    "print(data.head().to_markdown())\n"
   ]
  },
  {
   "cell_type": "code",
   "execution_count": 5,
   "metadata": {},
   "outputs": [
    {
     "name": "stdout",
     "output_type": "stream",
     "text": [
      "<class 'pandas.core.frame.DataFrame'>\n",
      "RangeIndex: 150 entries, 0 to 149\n",
      "Data columns (total 5 columns):\n",
      " #   Column         Non-Null Count  Dtype  \n",
      "---  ------         --------------  -----  \n",
      " 0   SepalLengthCm  150 non-null    float64\n",
      " 1   SepalWidthCm   150 non-null    float64\n",
      " 2   PetalLengthCm  150 non-null    float64\n",
      " 3   PetalWidthCm   150 non-null    float64\n",
      " 4   Species        150 non-null    object \n",
      "dtypes: float64(4), object(1)\n",
      "memory usage: 6.0+ KB\n",
      "None\n"
     ]
    }
   ],
   "source": [
    "# Information about the data\n",
    "print(data.info())\n"
   ]
  },
  {
   "cell_type": "code",
   "execution_count": 6,
   "metadata": {},
   "outputs": [
    {
     "name": "stdout",
     "output_type": "stream",
     "text": [
      "                SepalLengthCm                                               \n",
      "                        count   mean       std  min    25%  50%  75%  max   \n",
      "Species                                                                     \n",
      "Iris-setosa              50.0  5.006  0.352490  4.3  4.800  5.0  5.2  5.8  \\\n",
      "Iris-versicolor          50.0  5.936  0.516171  4.9  5.600  5.9  6.3  7.0   \n",
      "Iris-virginica           50.0  6.588  0.635880  4.9  6.225  6.5  6.9  7.9   \n",
      "\n",
      "                SepalWidthCm         ... PetalLengthCm      PetalWidthCm   \n",
      "                       count   mean  ...           75%  max        count   \n",
      "Species                              ...                                   \n",
      "Iris-setosa             50.0  3.418  ...         1.575  1.9         50.0  \\\n",
      "Iris-versicolor         50.0  2.770  ...         4.600  5.1         50.0   \n",
      "Iris-virginica          50.0  2.974  ...         5.875  6.9         50.0   \n",
      "\n",
      "                                                           \n",
      "                  mean       std  min  25%  50%  75%  max  \n",
      "Species                                                    \n",
      "Iris-setosa      0.244  0.107210  0.1  0.2  0.2  0.3  0.6  \n",
      "Iris-versicolor  1.326  0.197753  1.0  1.2  1.3  1.5  1.8  \n",
      "Iris-virginica   2.026  0.274650  1.4  1.8  2.0  2.3  2.5  \n",
      "\n",
      "[3 rows x 32 columns]\n"
     ]
    }
   ],
   "source": [
    "# Describe the data\n",
    "print(data.groupby('Species').describe())\n"
   ]
  },
  {
   "cell_type": "markdown",
   "metadata": {},
   "source": [
    "Z-Score\n"
   ]
  },
  {
   "cell_type": "code",
   "execution_count": 7,
   "metadata": {},
   "outputs": [
    {
     "name": "stdout",
     "output_type": "stream",
     "text": [
      "|                         |   SepalLengthCm |   SepalWidthCm |   PetalLengthCm |   PetalWidthCm |\n",
      "|:------------------------|----------------:|---------------:|----------------:|---------------:|\n",
      "| ('Iris-setosa', 0)      |       0.269382  |      0.217394  |      -0.372597  |      -0.414578 |\n",
      "| ('Iris-setosa', 1)      |      -0.303771  |     -1.10818   |      -0.372597  |      -0.414578 |\n",
      "| ('Iris-setosa', 2)      |      -0.876924  |     -0.577951  |      -0.95478   |      -0.414578 |\n",
      "| ('Iris-setosa', 3)      |      -1.1635    |     -0.843065  |       0.209586  |      -0.414578 |\n",
      "| ('Iris-setosa', 4)      |      -0.0171946 |      0.482509  |      -0.372597  |      -0.414578 |\n",
      "| ('Iris-setosa', 5)      |       1.12911   |      1.27785   |       1.37395   |       1.46987  |\n",
      "| ('Iris-setosa', 6)      |      -1.1635    |     -0.0477207 |      -0.372597  |       0.527645 |\n",
      "| ('Iris-setosa', 7)      |      -0.0171946 |     -0.0477207 |       0.209586  |      -0.414578 |\n",
      "| ('Iris-setosa', 8)      |      -1.73665   |     -1.3733    |      -0.372597  |      -0.414578 |\n",
      "| ('Iris-setosa', 9)      |      -0.303771  |     -0.843065  |       0.209586  |      -1.3568   |\n",
      "| ('Iris-setosa', 10)     |       1.12911   |      0.747624  |       0.209586  |      -0.414578 |\n",
      "| ('Iris-setosa', 11)     |      -0.590348  |     -0.0477207 |       0.791769  |      -0.414578 |\n",
      "| ('Iris-setosa', 12)     |      -0.590348  |     -1.10818   |      -0.372597  |      -1.3568   |\n",
      "| ('Iris-setosa', 13)     |      -2.02323   |     -1.10818   |      -2.11915   |      -1.3568   |\n",
      "| ('Iris-setosa', 14)     |       2.27542   |      1.54297   |      -1.53696   |      -0.414578 |\n",
      "| ('Iris-setosa', 15)     |       1.98884   |      2.60343   |       0.209586  |       1.46987  |\n",
      "| ('Iris-setosa', 16)     |       1.12911   |      1.27785   |      -0.95478   |       1.46987  |\n",
      "| ('Iris-setosa', 17)     |       0.269382  |      0.217394  |      -0.372597  |       0.527645 |\n",
      "| ('Iris-setosa', 18)     |       1.98884   |      1.01274   |       1.37395   |       0.527645 |\n",
      "| ('Iris-setosa', 19)     |       0.269382  |      1.01274   |       0.209586  |       0.527645 |\n",
      "| ('Iris-setosa', 20)     |       1.12911   |     -0.0477207 |       1.37395   |      -0.414578 |\n",
      "| ('Iris-setosa', 21)     |       0.269382  |      0.747624  |       0.209586  |       1.46987  |\n",
      "| ('Iris-setosa', 22)     |      -1.1635    |      0.482509  |      -2.70133   |      -0.414578 |\n",
      "| ('Iris-setosa', 23)     |       0.269382  |     -0.312836  |       1.37395   |       2.41209  |\n",
      "| ('Iris-setosa', 24)     |      -0.590348  |     -0.0477207 |       2.53832   |      -0.414578 |\n",
      "| ('Iris-setosa', 25)     |      -0.0171946 |     -1.10818   |       0.791769  |      -0.414578 |\n",
      "| ('Iris-setosa', 26)     |      -0.0171946 |     -0.0477207 |       0.791769  |       1.46987  |\n",
      "| ('Iris-setosa', 27)     |       0.555958  |      0.217394  |       0.209586  |      -0.414578 |\n",
      "| ('Iris-setosa', 28)     |       0.555958  |     -0.0477207 |      -0.372597  |      -0.414578 |\n",
      "| ('Iris-setosa', 29)     |      -0.876924  |     -0.577951  |       0.791769  |      -0.414578 |\n",
      "| ('Iris-setosa', 30)     |      -0.590348  |     -0.843065  |       0.791769  |      -0.414578 |\n",
      "| ('Iris-setosa', 31)     |       1.12911   |     -0.0477207 |       0.209586  |       1.46987  |\n",
      "| ('Iris-setosa', 32)     |       0.555958  |      1.80808   |       0.209586  |      -1.3568   |\n",
      "| ('Iris-setosa', 33)     |       1.41569   |      2.0732    |      -0.372597  |      -0.414578 |\n",
      "| ('Iris-setosa', 34)     |      -0.303771  |     -0.843065  |       0.209586  |      -1.3568   |\n",
      "| ('Iris-setosa', 35)     |      -0.0171946 |     -0.577951  |      -1.53696   |      -0.414578 |\n",
      "| ('Iris-setosa', 36)     |       1.41569   |      0.217394  |      -0.95478   |      -0.414578 |\n",
      "| ('Iris-setosa', 37)     |      -0.303771  |     -0.843065  |       0.209586  |      -1.3568   |\n",
      "| ('Iris-setosa', 38)     |      -1.73665   |     -1.10818   |      -0.95478   |      -0.414578 |\n",
      "| ('Iris-setosa', 39)     |       0.269382  |     -0.0477207 |       0.209586  |      -0.414578 |\n",
      "| ('Iris-setosa', 40)     |      -0.0171946 |      0.217394  |      -0.95478   |       0.527645 |\n",
      "| ('Iris-setosa', 41)     |      -1.45008   |     -2.96398   |      -0.95478   |       0.527645 |\n",
      "| ('Iris-setosa', 42)     |      -1.73665   |     -0.577951  |      -0.95478   |      -0.414578 |\n",
      "| ('Iris-setosa', 43)     |      -0.0171946 |      0.217394  |       0.791769  |       3.35431  |\n",
      "| ('Iris-setosa', 44)     |       0.269382  |      1.01274   |       2.53832   |       1.46987  |\n",
      "| ('Iris-setosa', 45)     |      -0.590348  |     -1.10818   |      -0.372597  |       0.527645 |\n",
      "| ('Iris-setosa', 46)     |       0.269382  |      1.01274   |       0.791769  |      -0.414578 |\n",
      "| ('Iris-setosa', 47)     |      -1.1635    |     -0.577951  |      -0.372597  |      -0.414578 |\n",
      "| ('Iris-setosa', 48)     |       0.842535  |      0.747624  |       0.209586  |      -0.414578 |\n",
      "| ('Iris-setosa', 49)     |      -0.0171946 |     -0.312836  |      -0.372597  |      -0.414578 |\n",
      "| ('Iris-versicolor', 50) |       2.08226   |      1.38422   |       0.945854  |       0.378004 |\n",
      "| ('Iris-versicolor', 51) |       0.908053  |      1.38422   |       0.51592   |       0.88882  |\n",
      "| ('Iris-versicolor', 52) |       1.88656   |      1.06231   |       1.37579   |       0.88882  |\n",
      "| ('Iris-versicolor', 53) |      -0.853257  |     -1.51298   |      -0.558914  |      -0.132812 |\n",
      "| ('Iris-versicolor', 54) |       1.10375   |      0.0965734 |       0.730887  |       0.88882  |\n",
      "| ('Iris-versicolor', 55) |      -0.461855  |      0.0965734 |       0.51592   |      -0.132812 |\n",
      "| ('Iris-versicolor', 56) |       0.712352  |      1.70613   |       0.945854  |       1.39964  |\n",
      "| ('Iris-versicolor', 57) |      -2.02746   |     -1.19107   |      -2.06368   |      -1.66526  |\n",
      "| ('Iris-versicolor', 58) |       1.29946   |      0.418485  |       0.730887  |      -0.132812 |\n",
      "| ('Iris-versicolor', 59) |      -1.44036   |     -0.225338  |      -0.77388   |       0.378004 |\n",
      "| ('Iris-versicolor', 60) |      -1.83176   |     -2.47872   |      -1.63375   |      -1.66526  |\n",
      "| ('Iris-versicolor', 61) |      -0.0704524 |      0.740396  |      -0.12898   |       0.88882  |\n",
      "| ('Iris-versicolor', 62) |       0.125249  |     -1.83489   |      -0.558914  |      -1.66526  |\n",
      "| ('Iris-versicolor', 63) |       0.32095   |      0.418485  |       0.945854  |       0.378004 |\n",
      "| ('Iris-versicolor', 64) |      -0.657556  |      0.418485  |      -1.41878   |      -0.132812 |\n",
      "| ('Iris-versicolor', 65) |       1.49516   |      1.06231   |       0.300954  |       0.378004 |\n",
      "| ('Iris-versicolor', 66) |      -0.657556  |      0.740396  |       0.51592   |       0.88882  |\n",
      "| ('Iris-versicolor', 67) |      -0.266153  |     -0.225338  |      -0.343947  |      -1.66526  |\n",
      "| ('Iris-versicolor', 68) |       0.516651  |     -1.83489   |       0.51592   |       0.88882  |\n",
      "| ('Iris-versicolor', 69) |      -0.657556  |     -0.869161  |      -0.77388   |      -1.15444  |\n",
      "| ('Iris-versicolor', 70) |      -0.0704524 |      1.38422   |       1.16082   |       2.42127  |\n",
      "| ('Iris-versicolor', 71) |       0.32095   |      0.0965734 |      -0.558914  |      -0.132812 |\n",
      "| ('Iris-versicolor', 72) |       0.712352  |     -0.869161  |       1.37579   |       0.88882  |\n",
      "| ('Iris-versicolor', 73) |       0.32095   |      0.0965734 |       0.945854  |      -0.643628 |\n",
      "| ('Iris-versicolor', 74) |       0.908053  |      0.418485  |       0.0859867 |      -0.132812 |\n",
      "| ('Iris-versicolor', 75) |       1.29946   |      0.740396  |       0.300954  |       0.378004 |\n",
      "| ('Iris-versicolor', 76) |       1.69086   |      0.0965734 |       1.16082   |       0.378004 |\n",
      "| ('Iris-versicolor', 77) |       1.49516   |      0.740396  |       1.59075   |       1.91045  |\n",
      "| ('Iris-versicolor', 78) |       0.125249  |      0.418485  |       0.51592   |       0.88882  |\n",
      "| ('Iris-versicolor', 79) |      -0.461855  |     -0.547249  |      -1.63375   |      -1.66526  |\n",
      "| ('Iris-versicolor', 80) |      -0.853257  |     -1.19107   |      -0.988847  |      -1.15444  |\n",
      "| ('Iris-versicolor', 81) |      -0.853257  |     -1.19107   |      -1.20381   |      -1.66526  |\n",
      "| ('Iris-versicolor', 82) |      -0.266153  |     -0.225338  |      -0.77388   |      -0.643628 |\n",
      "| ('Iris-versicolor', 83) |       0.125249  |     -0.225338  |       1.80572   |       1.39964  |\n",
      "| ('Iris-versicolor', 84) |      -1.04896   |      0.740396  |       0.51592   |       0.88882  |\n",
      "| ('Iris-versicolor', 85) |       0.125249  |      2.02804   |       0.51592   |       1.39964  |\n",
      "| ('Iris-versicolor', 86) |       1.49516   |      1.06231   |       0.945854  |       0.88882  |\n",
      "| ('Iris-versicolor', 87) |       0.712352  |     -1.51298   |       0.300954  |      -0.132812 |\n",
      "| ('Iris-versicolor', 88) |      -0.657556  |      0.740396  |      -0.343947  |      -0.132812 |\n",
      "| ('Iris-versicolor', 89) |      -0.853257  |     -0.869161  |      -0.558914  |      -0.132812 |\n",
      "| ('Iris-versicolor', 90) |      -0.853257  |     -0.547249  |       0.300954  |      -0.643628 |\n",
      "| ('Iris-versicolor', 91) |       0.32095   |      0.740396  |       0.730887  |       0.378004 |\n",
      "| ('Iris-versicolor', 92) |      -0.266153  |     -0.547249  |      -0.558914  |      -0.643628 |\n",
      "| ('Iris-versicolor', 93) |      -1.83176   |     -1.51298   |      -2.06368   |      -1.66526  |\n",
      "| ('Iris-versicolor', 94) |      -0.657556  |     -0.225338  |      -0.12898   |      -0.132812 |\n",
      "| ('Iris-versicolor', 95) |      -0.461855  |      0.740396  |      -0.12898   |      -0.643628 |\n",
      "| ('Iris-versicolor', 96) |      -0.461855  |      0.418485  |      -0.12898   |      -0.132812 |\n",
      "| ('Iris-versicolor', 97) |       0.516651  |      0.418485  |       0.0859867 |      -0.132812 |\n",
      "| ('Iris-versicolor', 98) |      -1.63606   |     -0.869161  |      -2.70858   |      -1.15444  |\n",
      "| ('Iris-versicolor', 99) |      -0.461855  |      0.0965734 |      -0.343947  |      -0.132812 |\n",
      "| ('Iris-virginica', 100) |      -0.457514  |      1.02113   |       0.81999   |       1.74335  |\n",
      "| ('Iris-virginica', 101) |      -1.25181   |     -0.858247  |      -0.827312  |      -0.463423 |\n",
      "| ('Iris-virginica', 102) |       0.813359  |      0.0814395 |       0.636957  |       0.272169 |\n",
      "| ('Iris-virginica', 103) |      -0.457514  |     -0.231789  |       0.0878561 |      -0.831219 |\n",
      "| ('Iris-virginica', 104) |      -0.139796  |      0.0814395 |       0.453923  |       0.639965 |\n",
      "| ('Iris-virginica', 105) |       1.60765   |      0.0814395 |       1.91819   |       0.272169 |\n",
      "| ('Iris-virginica', 106) |      -2.68154   |     -1.4847    |      -1.92551   |      -1.19902  |\n",
      "| ('Iris-virginica', 107) |       1.13108   |     -0.231789  |       1.36909   |      -0.831219 |\n",
      "| ('Iris-virginica', 108) |       0.177922  |     -1.4847    |       0.453923  |      -0.831219 |\n",
      "| ('Iris-virginica', 109) |       0.972218  |      1.96081   |       1.00302   |       1.74335  |\n",
      "| ('Iris-virginica', 110) |      -0.139796  |      0.707897  |      -0.827312  |      -0.095627 |\n",
      "| ('Iris-virginica', 111) |      -0.298655  |     -0.858247  |      -0.461245  |      -0.463423 |\n",
      "| ('Iris-virginica', 112) |       0.336781  |      0.0814395 |      -0.0951775 |       0.272169 |\n",
      "| ('Iris-virginica', 113) |      -1.41067   |     -1.4847    |      -1.01035   |      -0.095627 |\n",
      "| ('Iris-virginica', 114) |      -1.25181   |     -0.545018  |      -0.827312  |       1.37556  |\n",
      "| ('Iris-virginica', 115) |      -0.298655  |      0.707897  |      -0.461245  |       1.00776  |\n",
      "| ('Iris-virginica', 116) |      -0.139796  |      0.0814395 |      -0.0951775 |      -0.831219 |\n",
      "| ('Iris-virginica', 117) |       1.76651   |      2.58727   |       2.10123   |       0.639965 |\n",
      "| ('Iris-virginica', 118) |       1.76651   |     -1.17148   |       2.46729   |       1.00776  |\n",
      "| ('Iris-virginica', 119) |      -0.934091  |     -2.42439   |      -1.01035   |      -1.93461  |\n",
      "| ('Iris-virginica', 120) |       0.49564   |      0.707897  |       0.27089   |       1.00776  |\n",
      "| ('Iris-virginica', 121) |      -1.56953   |     -0.545018  |      -1.19338   |      -0.095627 |\n",
      "| ('Iris-virginica', 122) |       1.76651   |     -0.545018  |       2.10123   |      -0.095627 |\n",
      "| ('Iris-virginica', 123) |      -0.457514  |     -0.858247  |      -1.19338   |      -0.831219 |\n",
      "| ('Iris-virginica', 124) |       0.177922  |      1.02113   |       0.27089   |       0.272169 |\n",
      "| ('Iris-virginica', 125) |       0.972218  |      0.707897  |       0.81999   |      -0.831219 |\n",
      "| ('Iris-virginica', 126) |      -0.616373  |     -0.545018  |      -1.37641   |      -0.831219 |\n",
      "| ('Iris-virginica', 127) |      -0.775232  |      0.0814395 |      -1.19338   |      -0.831219 |\n",
      "| ('Iris-virginica', 128) |      -0.298655  |     -0.545018  |       0.0878561 |       0.272169 |\n",
      "| ('Iris-virginica', 129) |       0.972218  |      0.0814395 |       0.453923  |      -1.56681  |\n",
      "| ('Iris-virginica', 130) |       1.28994   |     -0.545018  |       1.00302   |      -0.463423 |\n",
      "| ('Iris-virginica', 131) |       2.08423   |      2.58727   |       1.55212   |      -0.095627 |\n",
      "| ('Iris-virginica', 132) |      -0.298655  |     -0.545018  |       0.0878561 |       0.639965 |\n",
      "| ('Iris-virginica', 133) |      -0.457514  |     -0.545018  |      -0.827312  |      -1.93461  |\n",
      "| ('Iris-virginica', 134) |      -0.775232  |     -1.17148   |       0.0878561 |      -2.3024   |\n",
      "| ('Iris-virginica', 135) |       1.76651   |      0.0814395 |       1.00302   |       1.00776  |\n",
      "| ('Iris-virginica', 136) |      -0.457514  |      1.33435   |       0.0878561 |       1.37556  |\n",
      "| ('Iris-virginica', 137) |      -0.298655  |      0.394668  |      -0.0951775 |      -0.831219 |\n",
      "| ('Iris-virginica', 138) |      -0.934091  |      0.0814395 |      -1.37641   |      -0.831219 |\n",
      "| ('Iris-virginica', 139) |       0.49564   |      0.394668  |      -0.278211  |       0.272169 |\n",
      "| ('Iris-virginica', 140) |       0.177922  |      0.394668  |       0.0878561 |       1.37556  |\n",
      "| ('Iris-virginica', 141) |       0.49564   |      0.394668  |      -0.827312  |       1.00776  |\n",
      "| ('Iris-virginica', 142) |      -1.25181   |     -0.858247  |      -0.827312  |      -0.463423 |\n",
      "| ('Iris-virginica', 143) |       0.336781  |      0.707897  |       0.636957  |       1.00776  |\n",
      "| ('Iris-virginica', 144) |       0.177922  |      1.02113   |       0.27089   |       1.74335  |\n",
      "| ('Iris-virginica', 145) |       0.177922  |      0.0814395 |      -0.644278  |       1.00776  |\n",
      "| ('Iris-virginica', 146) |      -0.457514  |     -1.4847    |      -1.01035   |      -0.463423 |\n",
      "| ('Iris-virginica', 147) |      -0.139796  |      0.0814395 |      -0.644278  |      -0.095627 |\n",
      "| ('Iris-virginica', 148) |      -0.616373  |      1.33435   |      -0.278211  |       1.00776  |\n",
      "| ('Iris-virginica', 149) |      -1.09295   |      0.0814395 |      -0.827312  |      -0.831219 |\n"
     ]
    }
   ],
   "source": [
    "# Z-Score of the data\n",
    "print(data.groupby('Species').apply(zscore).to_markdown())\n"
   ]
  },
  {
   "cell_type": "markdown",
   "metadata": {},
   "source": [
    "Skewness\n"
   ]
  },
  {
   "cell_type": "code",
   "execution_count": 8,
   "metadata": {},
   "outputs": [
    {
     "name": "stdout",
     "output_type": "stream",
     "text": [
      "| Species         |   SepalLengthCm |   SepalWidthCm |   PetalLengthCm |   PetalWidthCm |\n",
      "|:----------------|----------------:|---------------:|----------------:|---------------:|\n",
      "| Iris-setosa     |        0.120087 |       0.107053 |       0.0718461 |      1.19724   |\n",
      "| Iris-versicolor |        0.105378 |      -0.362845 |      -0.606508  |     -0.0311796 |\n",
      "| Iris-virginica  |        0.118015 |       0.365949 |       0.549445  |     -0.129477  |\n"
     ]
    }
   ],
   "source": [
    "# Skewness\n",
    "print(data.groupby('Species').skew().to_markdown())\n"
   ]
  },
  {
   "cell_type": "markdown",
   "metadata": {},
   "source": [
    "Kurtosis\n"
   ]
  },
  {
   "cell_type": "code",
   "execution_count": 9,
   "metadata": {},
   "outputs": [
    {
     "name": "stdout",
     "output_type": "stream",
     "text": [
      "|    | Species         |   SepalLengthCm |   SepalWidthCm |   PetalLengthCm |   PetalWidthCm |\n",
      "|---:|:----------------|----------------:|---------------:|----------------:|---------------:|\n",
      "|  0 | Iris-setosa     |      -0.345765  |       0.685134 |       0.813665  |       1.29648  |\n",
      "|  1 | Iris-versicolor |      -0.598827  |      -0.448272 |      -0.0744018 |      -0.487833 |\n",
      "|  2 | Iris-virginica  |      -0.0879422 |       0.519766 |      -0.256472  |      -0.661348 |\n"
     ]
    }
   ],
   "source": [
    "# Kurtosis\n",
    "data_agg = data.groupby('Species').agg({'SepalLengthCm': kurtosis, 'SepalWidthCm': kurtosis,\n",
    "                                        'PetalLengthCm': kurtosis, 'PetalWidthCm': kurtosis}).reset_index()\n",
    "print(data_agg.to_markdown())\n"
   ]
  }
 ],
 "metadata": {
  "kernelspec": {
   "display_name": "Python 3",
   "language": "python",
   "name": "python3"
  },
  "language_info": {
   "codemirror_mode": {
    "name": "ipython",
    "version": 3
   },
   "file_extension": ".py",
   "mimetype": "text/x-python",
   "name": "python",
   "nbconvert_exporter": "python",
   "pygments_lexer": "ipython3",
   "version": "3.11.3"
  },
  "orig_nbformat": 4
 },
 "nbformat": 4,
 "nbformat_minor": 2
}
