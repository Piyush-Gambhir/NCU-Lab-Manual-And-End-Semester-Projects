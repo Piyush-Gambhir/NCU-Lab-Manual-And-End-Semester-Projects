{
 "cells": [
  {
   "cell_type": "markdown",
   "metadata": {},
   "source": [
    "# Experiment 4"
   ]
  },
  {
   "cell_type": "markdown",
   "metadata": {},
   "source": [
    "## Problem Statement:"
   ]
  },
  {
   "cell_type": "markdown",
   "metadata": {},
   "source": [
    "Implement a python program to solve the muti-armed bandit problem using the Upper Confidence Bound Algorithm. Compare the reward obtained with random sampling. "
   ]
  },
  {
   "cell_type": "markdown",
   "metadata": {},
   "source": [
    "## Code"
   ]
  },
  {
   "cell_type": "code",
   "execution_count": 4,
   "metadata": {},
   "outputs": [],
   "source": [
    "# importing required libraries\n",
    "import numpy as np\n",
    "import pandas as pd\n",
    "import matplotlib.pyplot as plt\n",
    "import seaborn as sns\n",
    "import os"
   ]
  },
  {
   "cell_type": "code",
   "execution_count": 5,
   "metadata": {},
   "outputs": [],
   "source": [
    "# ignore warnings\n",
    "import warnings\n",
    "warnings.filterwarnings('ignore')"
   ]
  },
  {
   "cell_type": "code",
   "execution_count": 6,
   "metadata": {},
   "outputs": [
    {
     "name": "stdout",
     "output_type": "stream",
     "text": [
      "UCB Total Cumulative Reward: 8957.614307351323\n"
     ]
    }
   ],
   "source": [
    "# define the number of slot machines\n",
    "num_machines = 5\n",
    "\n",
    "# initialize the total number of trials\n",
    "total_trials = 1000\n",
    "\n",
    "# initialize the mean values for each machine\n",
    "mean_values = np.random.randint(1, 10, size=num_machines)\n",
    "\n",
    "# initialize the number of times each machine is pulled\n",
    "num_pulls = np.zeros(num_machines)\n",
    "\n",
    "# initialize the sum of rewards for each machine\n",
    "sum_rewards = np.zeros(num_machines)\n",
    "\n",
    "# initialize the total cumulative reward\n",
    "total_cumulative_reward = 0\n",
    "\n",
    "# UCB algorithm\n",
    "for t in range(1, total_trials + 1):\n",
    "    # calculate UCB values\n",
    "    ucb_values = sum_rewards / num_pulls + np.sqrt(2 * np.log(t) / num_pulls)\n",
    "\n",
    "    # determine machine with max UCB value\n",
    "    machine_to_pull = np.argmax(ucb_values)\n",
    "\n",
    "    # generate reward\n",
    "    reward = np.random.normal(mean_values[machine_to_pull], 1)\n",
    "\n",
    "    # update counters\n",
    "    num_pulls[machine_to_pull] += 1\n",
    "    sum_rewards[machine_to_pull] += reward\n",
    "\n",
    "    # update total reward\n",
    "    total_cumulative_reward += reward\n",
    "\n",
    "print(f\"UCB Total Cumulative Reward: {total_cumulative_reward}\")"
   ]
  }
 ],
 "metadata": {
  "kernelspec": {
   "display_name": "Python 3",
   "language": "python",
   "name": "python3"
  },
  "language_info": {
   "codemirror_mode": {
    "name": "ipython",
    "version": 3
   },
   "file_extension": ".py",
   "mimetype": "text/x-python",
   "name": "python",
   "nbconvert_exporter": "python",
   "pygments_lexer": "ipython3",
   "version": "3.11.6"
  }
 },
 "nbformat": 4,
 "nbformat_minor": 2
}
