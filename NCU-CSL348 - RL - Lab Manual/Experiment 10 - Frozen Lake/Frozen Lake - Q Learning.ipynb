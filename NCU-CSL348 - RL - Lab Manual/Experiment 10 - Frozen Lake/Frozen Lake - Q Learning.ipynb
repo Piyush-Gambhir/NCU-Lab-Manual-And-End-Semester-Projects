{
 "cells": [
  {
   "cell_type": "markdown",
   "metadata": {},
   "source": [
    "# Experiment 10"
   ]
  },
  {
   "cell_type": "markdown",
   "metadata": {},
   "source": [
    "## Problem Statement"
   ]
  },
  {
   "cell_type": "markdown",
   "metadata": {},
   "source": [
    "Write a program to implement Q-Learning on Frozen Lake Environment."
   ]
  },
  {
   "cell_type": "markdown",
   "metadata": {},
   "source": [
    "## Installing Dependencies"
   ]
  },
  {
   "cell_type": "code",
   "execution_count": 1,
   "metadata": {},
   "outputs": [
    {
     "name": "stdout",
     "output_type": "stream",
     "text": [
      "Requirement already satisfied: gymnasium in c:\\users\\mainp\\appdata\\local\\programs\\python\\python311\\lib\\site-packages (0.28.1)\n",
      "Requirement already satisfied: numpy>=1.21.0 in c:\\users\\mainp\\appdata\\local\\programs\\python\\python311\\lib\\site-packages (from gymnasium) (1.25.0)\n",
      "Requirement already satisfied: jax-jumpy>=1.0.0 in c:\\users\\mainp\\appdata\\local\\programs\\python\\python311\\lib\\site-packages (from gymnasium) (1.0.0)\n",
      "Requirement already satisfied: cloudpickle>=1.2.0 in c:\\users\\mainp\\appdata\\local\\programs\\python\\python311\\lib\\site-packages (from gymnasium) (2.2.1)\n",
      "Requirement already satisfied: typing-extensions>=4.3.0 in c:\\users\\mainp\\appdata\\local\\programs\\python\\python311\\lib\\site-packages (from gymnasium) (4.6.3)\n",
      "Requirement already satisfied: farama-notifications>=0.0.1 in c:\\users\\mainp\\appdata\\local\\programs\\python\\python311\\lib\\site-packages (from gymnasium) (0.0.4)\n"
     ]
    }
   ],
   "source": [
    "! pip install gymnasium"
   ]
  },
  {
   "cell_type": "markdown",
   "metadata": {},
   "source": [
    "## Code: "
   ]
  },
  {
   "cell_type": "markdown",
   "metadata": {},
   "source": [
    "### Importing the Required Libraries"
   ]
  },
  {
   "cell_type": "code",
   "execution_count": 2,
   "metadata": {},
   "outputs": [],
   "source": [
    "# importing the required libraries\n",
    "import numpy as np\n",
    "import matplotlib.pyplot as plt\n",
    "import pickle\n",
    "import gymnasium as gym\n",
    "from gymnasium.envs.toy_text.frozen_lake import generate_random_map"
   ]
  },
  {
   "cell_type": "code",
   "execution_count": 3,
   "metadata": {},
   "outputs": [],
   "source": [
    "training = True\n",
    "render = False"
   ]
  },
  {
   "cell_type": "markdown",
   "metadata": {},
   "source": [
    "### Creating the Environment"
   ]
  },
  {
   "cell_type": "code",
   "execution_count": 4,
   "metadata": {},
   "outputs": [],
   "source": [
    "# creating the frozen lake environment\n",
    "frozen_lake_environment = gym.make(\n",
    "    'FrozenLake-v1', map_name=\"4x4\", is_slippery=True, render_mode='human' if render else None)"
   ]
  },
  {
   "cell_type": "code",
   "execution_count": 5,
   "metadata": {},
   "outputs": [
    {
     "name": "stdout",
     "output_type": "stream",
     "text": [
      "Action space: Discrete(4)\n",
      "Observation space: Discrete(16)\n"
     ]
    }
   ],
   "source": [
    "# action space of the frozen lake environment\n",
    "environment_action_space = frozen_lake_environment.action_space\n",
    "print(\"Action space:\", environment_action_space)\n",
    "\n",
    "# observation space of the frozen lake environment\n",
    "environment_observation_space = frozen_lake_environment.observation_space\n",
    "print(\"Observation space:\", environment_observation_space)"
   ]
  },
  {
   "cell_type": "markdown",
   "metadata": {},
   "source": [
    "### Implementing the Q-learning Algorithm"
   ]
  },
  {
   "cell_type": "markdown",
   "metadata": {},
   "source": [
    "#### Creating/Loading the Q-table"
   ]
  },
  {
   "cell_type": "code",
   "execution_count": 6,
   "metadata": {},
   "outputs": [
    {
     "name": "stdout",
     "output_type": "stream",
     "text": [
      "Q table size: (16, 4)\n",
      "Q table: [[0. 0. 0. 0.]\n",
      " [0. 0. 0. 0.]\n",
      " [0. 0. 0. 0.]\n",
      " [0. 0. 0. 0.]\n",
      " [0. 0. 0. 0.]\n",
      " [0. 0. 0. 0.]\n",
      " [0. 0. 0. 0.]\n",
      " [0. 0. 0. 0.]\n",
      " [0. 0. 0. 0.]\n",
      " [0. 0. 0. 0.]\n",
      " [0. 0. 0. 0.]\n",
      " [0. 0. 0. 0.]\n",
      " [0. 0. 0. 0.]\n",
      " [0. 0. 0. 0.]\n",
      " [0. 0. 0. 0.]\n",
      " [0. 0. 0. 0.]]\n"
     ]
    }
   ],
   "source": [
    "if (training):\n",
    "    # creating the Q table for the frozen lake environment\n",
    "    q_table = np.zeros((environment_observation_space.n,\n",
    "                        environment_action_space.n))\n",
    "    print(\"Q table size:\", q_table.shape)\n",
    "    print(\"Q table:\", q_table)\n",
    "else:\n",
    "    # loading the Q table from the file\n",
    "    q_table = pickle.load(open(\"q_table.pkl\", \"rb\"))\n",
    "    print(\"Q table size:\", q_table.shape)\n",
    "    print(\"Q table:\", q_table)"
   ]
  },
  {
   "cell_type": "markdown",
   "metadata": {},
   "source": [
    "#### Setting the Hyperparameters"
   ]
  },
  {
   "cell_type": "code",
   "execution_count": 7,
   "metadata": {},
   "outputs": [],
   "source": [
    "# specifying the hyperparameters\n",
    "\n",
    "# number of episodes\n",
    "total_episodes = 10000\n",
    "\n",
    "# maximum number of steps per episode\n",
    "maximum_steps_per_episode = 100\n",
    "\n",
    "# learning rate\n",
    "learning_rate = 0.9\n",
    "\n",
    "# discounting rate\n",
    "discounting_rate = 0.9\n",
    "\n",
    "# exploration rate\n",
    "exploration_rate = 1.0\n",
    "\n",
    "# maximum exploration rate\n",
    "maximum_exploration_rate = 1.0\n",
    "\n",
    "# minimum exploration rate\n",
    "minimum_exploration_rate = 0.01\n",
    "\n",
    "# exploration rate decay\n",
    "exploration_rate_decay = 0.001"
   ]
  },
  {
   "cell_type": "markdown",
   "metadata": {},
   "source": [
    "#### Applying the Q-learning Algorithm"
   ]
  },
  {
   "cell_type": "code",
   "execution_count": 8,
   "metadata": {},
   "outputs": [],
   "source": [
    "rewards_per_episode = np.zeros(total_episodes)\n",
    "for i in range(total_episodes):\n",
    "    # reset the environment to get the initial state\n",
    "    state = frozen_lake_environment.reset()[0]\n",
    "    terminal_state = False  # initialize the terminal state to False\n",
    "    truncated = False  # initialize the truncate to False\n",
    "\n",
    "    while (not terminal_state and not truncated):\n",
    "        if (training and np.random.random() < exploration_rate):\n",
    "            # choose an action randomly\n",
    "            action = frozen_lake_environment.action_space.sample()\n",
    "        else:\n",
    "            # choose the action with the highest Q value for the current state\n",
    "            action = np.argmax(q_table[state, :])\n",
    "\n",
    "        # choose an action\n",
    "\n",
    "        new_state, reward, terminal_state, truncated, prob = frozen_lake_environment.step(\n",
    "            action)\n",
    "\n",
    "        if (training):\n",
    "            q_table[state, action] = q_table[state, action] + learning_rate * \\\n",
    "                (reward + discounting_rate *\n",
    "                 np.max(q_table[new_state, :]) - q_table[state, action])\n",
    "\n",
    "        state = new_state\n",
    "\n",
    "    exploration_rate = max(exploration_rate - exploration_rate_decay, 0)\n",
    "\n",
    "    if (exploration_rate == 0):\n",
    "        learning_rate = 0.0001\n",
    "\n",
    "    if (reward == 1):\n",
    "        rewards_per_episode[i] = 1\n",
    "\n",
    "frozen_lake_environment.close()"
   ]
  },
  {
   "cell_type": "code",
   "execution_count": 9,
   "metadata": {},
   "outputs": [],
   "source": [
    "# save the Q table if training\n",
    "if (training):\n",
    "    with open(\"q_table.pkl\", \"wb\") as file:\n",
    "        pickle.dump(q_table, file)"
   ]
  },
  {
   "cell_type": "code",
   "execution_count": 10,
   "metadata": {},
   "outputs": [
    {
     "data": {
      "image/png": "[encoded data removed]",
      "text/plain": [
       "<Figure size 640x480 with 1 Axes>"
      ]
     },
     "metadata": {},
     "output_type": "display_data"
    }
   ],
   "source": [
    "sum_of_rewards = np.zeros(total_episodes)\n",
    "for i in range(total_episodes):\n",
    "    sum_of_rewards[i] = np.sum(rewards_per_episode[max(0, i-100):i+1])\n",
    "\n",
    "plt.plot(sum_of_rewards)\n",
    "plt.xlabel(\"Episode\")\n",
    "plt.ylabel(\"Sum of rewards\")\n",
    "plt.show()"
   ]
  }
 ],
 "metadata": {
  "kernelspec": {
   "display_name": "Python 3",
   "language": "python",
   "name": "python3"
  },
  "language_info": {
   "codemirror_mode": {
    "name": "ipython",
    "version": 3
   },
   "file_extension": ".py",
   "mimetype": "text/x-python",
   "name": "python",
   "nbconvert_exporter": "python",
   "pygments_lexer": "ipython3",
   "version": "3.11.6"
  }
 },
 "nbformat": 4,
 "nbformat_minor": 2
}
