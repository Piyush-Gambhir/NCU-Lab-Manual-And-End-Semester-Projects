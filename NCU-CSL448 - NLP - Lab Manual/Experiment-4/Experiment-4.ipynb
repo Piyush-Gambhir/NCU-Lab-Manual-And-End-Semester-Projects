{
 "cells": [
  {
   "cell_type": "markdown",
   "id": "5acd2396",
   "metadata": {},
   "source": [
    "# **Experiment-4**"
   ]
  },
  {
   "cell_type": "markdown",
   "id": "a0937bb1",
   "metadata": {},
   "source": [
    "### Objective: \n",
    "Write a program to print all the bigrams and trigrams from a given corpus and sorting them by frequency."
   ]
  },
  {
   "cell_type": "code",
   "execution_count": 1,
   "id": "d04d0cd6",
   "metadata": {},
   "outputs": [
    {
     "name": "stdout",
     "output_type": "stream",
     "text": [
      "Defaulting to user installation because normal site-packages is not writeable\n",
      "Requirement already satisfied: nltk in c:\\users\\mainp\\appdata\\roaming\\python\\python313\\site-packages (3.9.1)\n",
      "Requirement already satisfied: pandas in c:\\users\\mainp\\appdata\\roaming\\python\\python313\\site-packages (2.2.3)\n",
      "Requirement already satisfied: click in c:\\users\\mainp\\appdata\\roaming\\python\\python313\\site-packages (from nltk) (8.1.7)\n",
      "Requirement already satisfied: joblib in c:\\users\\mainp\\appdata\\roaming\\python\\python313\\site-packages (from nltk) (1.4.2)\n",
      "Requirement already satisfied: regex>=2021.8.3 in c:\\users\\mainp\\appdata\\roaming\\python\\python313\\site-packages (from nltk) (2024.11.6)\n",
      "Requirement already satisfied: tqdm in c:\\users\\mainp\\appdata\\roaming\\python\\python313\\site-packages (from nltk) (4.67.0)\n",
      "Requirement already satisfied: numpy>=1.26.0 in c:\\users\\mainp\\appdata\\roaming\\python\\python313\\site-packages (from pandas) (2.1.2)\n",
      "Requirement already satisfied: python-dateutil>=2.8.2 in c:\\users\\mainp\\appdata\\roaming\\python\\python313\\site-packages (from pandas) (2.9.0.post0)\n",
      "Requirement already satisfied: pytz>=2020.1 in c:\\users\\mainp\\appdata\\roaming\\python\\python313\\site-packages (from pandas) (2024.2)\n",
      "Requirement already satisfied: tzdata>=2022.7 in c:\\users\\mainp\\appdata\\roaming\\python\\python313\\site-packages (from pandas) (2024.2)\n",
      "Requirement already satisfied: six>=1.5 in c:\\users\\mainp\\appdata\\roaming\\python\\python313\\site-packages (from python-dateutil>=2.8.2->pandas) (1.16.0)\n",
      "Requirement already satisfied: colorama in c:\\users\\mainp\\appdata\\roaming\\python\\python313\\site-packages (from click->nltk) (0.4.6)\n",
      "Note: you may need to restart the kernel to use updated packages.\n"
     ]
    }
   ],
   "source": [
    "%pip install nltk pandas"
   ]
  },
  {
   "cell_type": "markdown",
   "id": "8114dc54",
   "metadata": {},
   "source": [
    "### **Importing Libraries**"
   ]
  },
  {
   "cell_type": "code",
   "execution_count": 2,
   "id": "bacebd0c",
   "metadata": {},
   "outputs": [
    {
     "name": "stderr",
     "output_type": "stream",
     "text": [
      "[nltk_data] Downloading package punkt to C:/nltk_data...\n",
      "[nltk_data]   Package punkt is already up-to-date!\n"
     ]
    },
    {
     "data": {
      "text/plain": [
       "True"
      ]
     },
     "execution_count": 2,
     "metadata": {},
     "output_type": "execute_result"
    }
   ],
   "source": [
    "import nltk\n",
    "from nltk import bigrams, trigrams\n",
    "from nltk.probability import FreqDist\n",
    "import pandas as pd\n",
    "\n",
    "# Download necessary NLTK data files\n",
    "nltk.download(\"punkt\", download_dir=\"C:/nltk_data\")"
   ]
  },
  {
   "cell_type": "markdown",
   "id": "4c0a62ac",
   "metadata": {},
   "source": [
    "### **Reading Text from a Text File**"
   ]
  },
  {
   "cell_type": "code",
   "execution_count": 3,
   "id": "9e0aa3bd",
   "metadata": {},
   "outputs": [
    {
     "name": "stdout",
     "output_type": "stream",
     "text": [
      "Content of input.txt:\n",
      "Microsoft announced a new product launch event in New York City on December 1st, 2024. \n",
      "Elon Musk, the CEO of Tesla, hinted at a partnership with NASA for a Mars mission. \n",
      "The GDP of India grew by 7% in the first quarter of 2023, according to a report by Reuters. \n",
      "Amazon is planning to open a new data center in Dublin, Ireland next year.\n",
      "Barack Obama gave a keynote speech at Stanford University last Thursday.\n",
      "Bitcoin reached an all-time high of $68,000 in November 2021.\n",
      "The Louvre Museum in Paris saw record-breaking attendance last summer.\n",
      "\n"
     ]
    }
   ],
   "source": [
    "def read_text_file(file_path):\n",
    "    \"\"\"Read text data from the specified file.\"\"\"\n",
    "    with open(file_path, 'r', encoding='utf-8') as file:\n",
    "        text = file.read()\n",
    "    return text\n",
    "\n",
    "# Specify the file path\n",
    "file_path = 'input.txt'\n",
    "\n",
    "# Read the content of input.txt\n",
    "text = read_text_file(file_path)\n",
    "print(\"Content of input.txt:\")\n",
    "print(text)\n"
   ]
  },
  {
   "cell_type": "code",
   "execution_count": 4,
   "id": "7c74b7f3",
   "metadata": {},
   "outputs": [
    {
     "name": "stdout",
     "output_type": "stream",
     "text": [
      "Content of input.txt:\n",
      "Microsoft announced a new product launch event in New York City on December 1st, 2024. \n",
      "Elon Musk, the CEO of Tesla, hinted at a partnership with NASA for a Mars mission. \n",
      "The GDP of India grew by 7% in the first quarter of 2023, according to a report by Reuters. \n",
      "Amazon is planning to open a new data center in Dublin, Ireland next year.\n",
      "Barack Obama gave a keynote speech at Stanford University last Thursday.\n",
      "Bitcoin reached an all-time high of $68,000 in November 2021.\n",
      "The Louvre Museum in Paris saw record-breaking attendance last summer.\n",
      "\n"
     ]
    }
   ],
   "source": [
    "def read_text_file(file_path):\n",
    "    \"\"\"Read text data from the specified file.\"\"\"\n",
    "    with open(file_path, 'r', encoding='utf-8') as file:\n",
    "        text = file.read()\n",
    "    return text\n",
    "\n",
    "# Specify the file path\n",
    "file_path = 'input.txt'\n",
    "\n",
    "# Read the content of input.txt\n",
    "text = read_text_file(file_path)\n",
    "print(\"Content of input.txt:\")\n",
    "print(text)"
   ]
  },
  {
   "cell_type": "code",
   "execution_count": 5,
   "id": "a1cc85e7",
   "metadata": {},
   "outputs": [
    {
     "name": "stdout",
     "output_type": "stream",
     "text": [
      "Tokens: ['microsoft', 'announced', 'a', 'new', 'product', 'launch', 'event', 'in', 'new', 'york', 'city', 'on', 'december', '1st', ',', '2024.', 'elon', 'musk', ',', 'the', 'ceo', 'of', 'tesla', ',', 'hinted', 'at', 'a', 'partnership', 'with', 'nasa', 'for', 'a', 'mars', 'mission', '.', 'the', 'gdp', 'of', 'india', 'grew', 'by', '7', '%', 'in', 'the', 'first', 'quarter', 'of', '2023', ',', 'according', 'to', 'a', 'report', 'by', 'reuters', '.', 'amazon', 'is', 'planning', 'to', 'open', 'a', 'new', 'data', 'center', 'in', 'dublin', ',', 'ireland', 'next', 'year', '.', 'barack', 'obama', 'gave', 'a', 'keynote', 'speech', 'at', 'stanford', 'university', 'last', 'thursday', '.', 'bitcoin', 'reached', 'an', 'all-time', 'high', 'of', '$', '68,000', 'in', 'november', '2021.', 'the', 'louvre', 'museum', 'in', 'paris', 'saw', 'record-breaking', 'attendance', 'last', 'summer', '.']\n"
     ]
    }
   ],
   "source": [
    "# Tokenize the text into words\n",
    "tokens = nltk.word_tokenize(text.lower())\n",
    "print(\"Tokens:\", tokens)"
   ]
  },
  {
   "cell_type": "code",
   "execution_count": 6,
   "id": "fdc3c721",
   "metadata": {},
   "outputs": [
    {
     "name": "stdout",
     "output_type": "stream",
     "text": [
      "\n",
      "Sample Bigrams: [('microsoft', 'announced'), ('announced', 'a'), ('a', 'new'), ('new', 'product'), ('product', 'launch')]\n",
      "Sample Trigrams: [('microsoft', 'announced', 'a'), ('announced', 'a', 'new'), ('a', 'new', 'product'), ('new', 'product', 'launch'), ('product', 'launch', 'event')]\n"
     ]
    }
   ],
   "source": [
    "# Generate bigrams and trigrams\n",
    "bigrams_list = list(bigrams(tokens))\n",
    "trigrams_list = list(trigrams(tokens))\n",
    "\n",
    "print(\"\\nSample Bigrams:\", bigrams_list[:5])\n",
    "print(\"Sample Trigrams:\", trigrams_list[:5])"
   ]
  },
  {
   "cell_type": "code",
   "execution_count": 7,
   "id": "2b3a586a",
   "metadata": {},
   "outputs": [],
   "source": [
    "# Calculate frequency distribution of bigrams and trigrams\n",
    "bigram_freq = FreqDist(bigrams_list)\n",
    "trigram_freq = FreqDist(trigrams_list)\n",
    "\n",
    "# Convert frequency distributions to DataFrames\n",
    "df_bigrams = pd.DataFrame(bigram_freq.items(), columns=[\"Bigram\", \"Frequency\"]).sort_values(by=\"Frequency\", ascending=False)\n",
    "df_trigrams = pd.DataFrame(trigram_freq.items(), columns=[\"Trigram\", \"Frequency\"]).sort_values(by=\"Frequency\", ascending=False)"
   ]
  },
  {
   "cell_type": "code",
   "execution_count": 8,
   "id": "fc6e9da0",
   "metadata": {},
   "outputs": [
    {
     "name": "stdout",
     "output_type": "stream",
     "text": [
      "\n",
      "Top 10 Bigrams by Frequency:\n"
     ]
    },
    {
     "data": {
      "text/html": [
       "<div>\n",
       "<style scoped>\n",
       "    .dataframe tbody tr th:only-of-type {\n",
       "        vertical-align: middle;\n",
       "    }\n",
       "\n",
       "    .dataframe tbody tr th {\n",
       "        vertical-align: top;\n",
       "    }\n",
       "\n",
       "    .dataframe thead th {\n",
       "        text-align: right;\n",
       "    }\n",
       "</style>\n",
       "<table border=\"1\" class=\"dataframe\">\n",
       "  <thead>\n",
       "    <tr style=\"text-align: right;\">\n",
       "      <th></th>\n",
       "      <th>Bigram</th>\n",
       "      <th>Frequency</th>\n",
       "    </tr>\n",
       "  </thead>\n",
       "  <tbody>\n",
       "    <tr>\n",
       "      <th>2</th>\n",
       "      <td>(a, new)</td>\n",
       "      <td>2</td>\n",
       "    </tr>\n",
       "    <tr>\n",
       "      <th>0</th>\n",
       "      <td>(microsoft, announced)</td>\n",
       "      <td>1</td>\n",
       "    </tr>\n",
       "    <tr>\n",
       "      <th>1</th>\n",
       "      <td>(announced, a)</td>\n",
       "      <td>1</td>\n",
       "    </tr>\n",
       "    <tr>\n",
       "      <th>3</th>\n",
       "      <td>(new, product)</td>\n",
       "      <td>1</td>\n",
       "    </tr>\n",
       "    <tr>\n",
       "      <th>4</th>\n",
       "      <td>(product, launch)</td>\n",
       "      <td>1</td>\n",
       "    </tr>\n",
       "    <tr>\n",
       "      <th>5</th>\n",
       "      <td>(launch, event)</td>\n",
       "      <td>1</td>\n",
       "    </tr>\n",
       "    <tr>\n",
       "      <th>6</th>\n",
       "      <td>(event, in)</td>\n",
       "      <td>1</td>\n",
       "    </tr>\n",
       "    <tr>\n",
       "      <th>7</th>\n",
       "      <td>(in, new)</td>\n",
       "      <td>1</td>\n",
       "    </tr>\n",
       "    <tr>\n",
       "      <th>8</th>\n",
       "      <td>(new, york)</td>\n",
       "      <td>1</td>\n",
       "    </tr>\n",
       "    <tr>\n",
       "      <th>9</th>\n",
       "      <td>(york, city)</td>\n",
       "      <td>1</td>\n",
       "    </tr>\n",
       "  </tbody>\n",
       "</table>\n",
       "</div>"
      ],
      "text/plain": [
       "                   Bigram  Frequency\n",
       "2                (a, new)          2\n",
       "0  (microsoft, announced)          1\n",
       "1          (announced, a)          1\n",
       "3          (new, product)          1\n",
       "4       (product, launch)          1\n",
       "5         (launch, event)          1\n",
       "6             (event, in)          1\n",
       "7               (in, new)          1\n",
       "8             (new, york)          1\n",
       "9            (york, city)          1"
      ]
     },
     "execution_count": 8,
     "metadata": {},
     "output_type": "execute_result"
    }
   ],
   "source": [
    "print(\"\\nTop 10 Bigrams by Frequency:\")\n",
    "df_bigrams.head(10)"
   ]
  },
  {
   "cell_type": "code",
   "execution_count": 9,
   "id": "de47fdb7",
   "metadata": {},
   "outputs": [
    {
     "name": "stdout",
     "output_type": "stream",
     "text": [
      "\n",
      "Top 10 Trigrams by Frequency:\n"
     ]
    },
    {
     "data": {
      "text/html": [
       "<div>\n",
       "<style scoped>\n",
       "    .dataframe tbody tr th:only-of-type {\n",
       "        vertical-align: middle;\n",
       "    }\n",
       "\n",
       "    .dataframe tbody tr th {\n",
       "        vertical-align: top;\n",
       "    }\n",
       "\n",
       "    .dataframe thead th {\n",
       "        text-align: right;\n",
       "    }\n",
       "</style>\n",
       "<table border=\"1\" class=\"dataframe\">\n",
       "  <thead>\n",
       "    <tr style=\"text-align: right;\">\n",
       "      <th></th>\n",
       "      <th>Trigram</th>\n",
       "      <th>Frequency</th>\n",
       "    </tr>\n",
       "  </thead>\n",
       "  <tbody>\n",
       "    <tr>\n",
       "      <th>0</th>\n",
       "      <td>(microsoft, announced, a)</td>\n",
       "      <td>1</td>\n",
       "    </tr>\n",
       "    <tr>\n",
       "      <th>1</th>\n",
       "      <td>(announced, a, new)</td>\n",
       "      <td>1</td>\n",
       "    </tr>\n",
       "    <tr>\n",
       "      <th>2</th>\n",
       "      <td>(a, new, product)</td>\n",
       "      <td>1</td>\n",
       "    </tr>\n",
       "    <tr>\n",
       "      <th>3</th>\n",
       "      <td>(new, product, launch)</td>\n",
       "      <td>1</td>\n",
       "    </tr>\n",
       "    <tr>\n",
       "      <th>4</th>\n",
       "      <td>(product, launch, event)</td>\n",
       "      <td>1</td>\n",
       "    </tr>\n",
       "    <tr>\n",
       "      <th>5</th>\n",
       "      <td>(launch, event, in)</td>\n",
       "      <td>1</td>\n",
       "    </tr>\n",
       "    <tr>\n",
       "      <th>6</th>\n",
       "      <td>(event, in, new)</td>\n",
       "      <td>1</td>\n",
       "    </tr>\n",
       "    <tr>\n",
       "      <th>7</th>\n",
       "      <td>(in, new, york)</td>\n",
       "      <td>1</td>\n",
       "    </tr>\n",
       "    <tr>\n",
       "      <th>8</th>\n",
       "      <td>(new, york, city)</td>\n",
       "      <td>1</td>\n",
       "    </tr>\n",
       "    <tr>\n",
       "      <th>9</th>\n",
       "      <td>(york, city, on)</td>\n",
       "      <td>1</td>\n",
       "    </tr>\n",
       "  </tbody>\n",
       "</table>\n",
       "</div>"
      ],
      "text/plain": [
       "                     Trigram  Frequency\n",
       "0  (microsoft, announced, a)          1\n",
       "1        (announced, a, new)          1\n",
       "2          (a, new, product)          1\n",
       "3     (new, product, launch)          1\n",
       "4   (product, launch, event)          1\n",
       "5        (launch, event, in)          1\n",
       "6           (event, in, new)          1\n",
       "7            (in, new, york)          1\n",
       "8          (new, york, city)          1\n",
       "9           (york, city, on)          1"
      ]
     },
     "execution_count": 9,
     "metadata": {},
     "output_type": "execute_result"
    }
   ],
   "source": [
    "print(\"\\nTop 10 Trigrams by Frequency:\")\n",
    "df_trigrams.head(10)"
   ]
  }
 ],
 "metadata": {
  "kernelspec": {
   "display_name": "Python 3",
   "language": "python",
   "name": "python3"
  },
  "language_info": {
   "codemirror_mode": {
    "name": "ipython",
    "version": 3
   },
   "file_extension": ".py",
   "mimetype": "text/x-python",
   "name": "python",
   "nbconvert_exporter": "python",
   "pygments_lexer": "ipython3",
   "version": "3.13.0"
  }
 },
 "nbformat": 4,
 "nbformat_minor": 5
}
