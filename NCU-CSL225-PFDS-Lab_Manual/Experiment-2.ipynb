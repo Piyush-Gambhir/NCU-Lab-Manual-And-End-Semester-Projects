{
 "cells": [
  {
   "cell_type": "markdown",
   "id": "79186366",
   "metadata": {},
   "source": [
    "## Problem Statement"
   ]
  },
  {
   "cell_type": "markdown",
   "id": "2739ac73",
   "metadata": {},
   "source": [
    "Write a Program to display a number if it is positive or negative and check if integer is odd or even. \n",
    "Apply it to n numbers."
   ]
  },
  {
   "cell_type": "code",
   "execution_count": 1,
   "id": "08e470cb",
   "metadata": {},
   "outputs": [
    {
     "name": "stdout",
     "output_type": "stream",
     "text": [
      "Enter the Number of Number You Wish to Enter: 5\n",
      "Enter a Number: 23\n",
      "\n",
      "The Entered Number is Positive.\n",
      "The Entered Number is Odd.\n",
      "Enter a Number: -8\n",
      "\n",
      "The Entered Number is Negative.\n",
      "The Entered Number is Even.\n",
      "Enter a Number: 84\n",
      "\n",
      "The Entered Number is Positive.\n",
      "The Entered Number is Even.\n",
      "Enter a Number: 6\n",
      "\n",
      "The Entered Number is Positive.\n",
      "The Entered Number is Even.\n",
      "Enter a Number: 21\n",
      "\n",
      "The Entered Number is Positive.\n",
      "The Entered Number is Odd.\n"
     ]
    }
   ],
   "source": [
    "n = int(input(\"Enter the Number of Number You Wish to Enter: \"))\n",
    "while(n>0):\n",
    "    number = int(input(\"Enter a Number: \"))\n",
    "\n",
    "    print(\"\")\n",
    "\n",
    "    if(number>0):\n",
    "        print(\"The Entered Number is Positive.\")\n",
    "    elif(number<0):\n",
    "        print(\"The Entered Number is Negative.\")\n",
    "    else:\n",
    "        print(\"The Entered Number is Zero.\")\n",
    "\n",
    "    if(number%2 == 0):\n",
    "        print(\"The Entered Number is Even.\")\n",
    "    else:\n",
    "        print(\"The Entered Number is Odd.\")\n",
    "    \n",
    "    n = n - 1\n"
   ]
  }
 ],
 "metadata": {
  "kernelspec": {
   "display_name": "Python 3 (ipykernel)",
   "language": "python",
   "name": "python3"
  },
  "language_info": {
   "codemirror_mode": {
    "name": "ipython",
    "version": 3
   },
   "file_extension": ".py",
   "mimetype": "text/x-python",
   "name": "python",
   "nbconvert_exporter": "python",
   "pygments_lexer": "ipython3",
   "version": "3.10.7"
  }
 },
 "nbformat": 4,
 "nbformat_minor": 5
}
