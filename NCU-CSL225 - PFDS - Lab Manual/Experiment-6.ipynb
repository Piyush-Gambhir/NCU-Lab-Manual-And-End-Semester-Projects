{
 "cells": [
  {
   "cell_type": "markdown",
   "id": "79186366",
   "metadata": {},
   "source": [
    "## Problem Statement"
   ]
  },
  {
   "cell_type": "markdown",
   "id": "2739ac73",
   "metadata": {},
   "source": [
    "Program to illustrate use of existing string functions in Python"
   ]
  },
  {
   "cell_type": "code",
   "execution_count": 14,
   "id": "2fcc8037",
   "metadata": {},
   "outputs": [
    {
     "name": "stdout",
     "output_type": "stream",
     "text": [
      "Original String Hello World\n",
      "String in Upper Case: HELLO WORLD\n",
      "String in Lower Case: hello world\n",
      "String is in Upper Case: False\n",
      "String is in Lower Case: False\n",
      "String is in Title Case: True\n",
      "String is in Alphabets: False\n",
      "String is in Digits: False\n",
      "String is Alphanumeric: False\n",
      "String is in Space: False\n",
      "String Ends With 'd': True\n",
      "H\n",
      "llo\n",
      "llo World\n",
      "Hello WorldHello World\n",
      "Hello WorldTEST\n",
      "Hlo\n",
      "dlroW olleH\n"
     ]
    }
   ],
   "source": [
    "str = \"Hello World\"\n",
    "print(\"Original String\", str)  # Prints complete string\n",
    "print()\n",
    "\n",
    "# Prints string in upper case\n",
    "print(\"String in Upper Case:\", str.upper())\n",
    "# Prints string in lower case\n",
    "print(\"String in Lower Case:\", str.lower())\n",
    "print()\n",
    "\n",
    "# Prints True if string is in upper case\n",
    "print(\"String is in Upper Case:\", str.isupper())\n",
    "# Prints True if string is in lower case\n",
    "print(\"String is in Lower Case:\", str.islower())\n",
    "# Prints True if string is in title case\n",
    "print(\"String is in Title Case:\", str.istitle())\n",
    "print()\n",
    "\n",
    "# Prints True if string is in alphabets\n",
    "print(\"String is in Alphabets:\", str.isalpha())\n",
    "# Prints True if string is in digits\n",
    "print(\"String is in Digits:\", str.isdigit())\n",
    "# Prints True if string is in alphanumeric\n",
    "print(\"String is Alphanumeric:\", str.isalnum())\n",
    "# Prints True if string is in space\n",
    "print(\"String is in Space:\", str.isspace())\n",
    "# Prints True if string ends with d\n",
    "print(\"String Ends With 'd':\", str.endswith('d'))\n",
    "print()\n",
    "\n",
    "# Prints first character of the string\n",
    "print(str[0])\n",
    "# Prints characters starting from 3rd to 5th\n",
    "print(str[2:5])\n",
    "# Prints string starting from 3rd character\n",
    "print(str[2:])\n",
    "print()\n",
    "\n",
    "# Prints string two times\n",
    "print(str * 2)\n",
    "print()\n",
    "\n",
    "# Prints concatenated string\n",
    "print(str + \"TEST\")\n",
    "print()\n",
    "\n",
    "# Prints string with step size 2\n",
    "print(str[0:5:2])\n",
    "# Prints string in reverse order\n",
    "print(str[::-1])\n",
    "print()"
   ]
  }
 ],
 "metadata": {
  "kernelspec": {
   "display_name": "Python 3 (ipykernel)",
   "language": "python",
   "name": "python3"
  },
  "language_info": {
   "codemirror_mode": {
    "name": "ipython",
    "version": 3
   },
   "file_extension": ".py",
   "mimetype": "text/x-python",
   "name": "python",
   "nbconvert_exporter": "python",
   "pygments_lexer": "ipython3",
   "version": "3.10.7"
  },
  "vscode": {
   "interpreter": {
    "hash": "5827bb77950f6316d9e848194dfccdbe99cc9d8eabac60195b2d068013bba3d3"
   }
  }
 },
 "nbformat": 4,
 "nbformat_minor": 5
}
