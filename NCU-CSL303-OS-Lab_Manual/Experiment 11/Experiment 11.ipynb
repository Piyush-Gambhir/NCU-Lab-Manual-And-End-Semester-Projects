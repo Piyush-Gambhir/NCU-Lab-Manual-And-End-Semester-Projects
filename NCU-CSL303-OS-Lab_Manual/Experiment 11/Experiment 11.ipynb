{
 "cells": [
  {
   "cell_type": "markdown",
   "metadata": {},
   "source": [
    "# Experiment 11"
   ]
  },
  {
   "cell_type": "markdown",
   "metadata": {},
   "source": [
    "#### Problem Statement: \n",
    "Write a program to implement Banker’s algorithm for deadlock avoidance."
   ]
  },
  {
   "cell_type": "markdown",
   "metadata": {},
   "source": [
    "#### Code: "
   ]
  },
  {
   "cell_type": "code",
   "execution_count": 2,
   "metadata": {},
   "outputs": [],
   "source": [
    "# importing required libraries\n",
    "import numpy as np"
   ]
  },
  {
   "cell_type": "code",
   "execution_count": 3,
   "metadata": {},
   "outputs": [
    {
     "name": "stdout",
     "output_type": "stream",
     "text": [
      "The request from process 1 is not safe.\n"
     ]
    }
   ],
   "source": [
    "class BankersAlgorithm:\n",
    "    def __init__(self, num_processes, num_resources):\n",
    "        self.available = [0] * num_resources\n",
    "        self.maximum = np.zeros((num_processes, num_resources), dtype=int)\n",
    "        self.allocated = np.zeros((num_processes, num_resources), dtype=int)\n",
    "        self.need = np.zeros((num_processes, num_resources), dtype=int)\n",
    "\n",
    "    def is_request_safe(self, process_id, request_vector):\n",
    "        if any(request_vector[i] > self.need[process_id][i] for i in range(len(request_vector))):\n",
    "            return False\n",
    "        if any(request_vector[i] > self.available[i] for i in range(len(request_vector))):\n",
    "            return False\n",
    "        self.available = [self.available[i] - request_vector[i] for i in range(len(request_vector))]\n",
    "        self.allocated[process_id] = [self.allocated[process_id][i] + request_vector[i] for i in range(len(request_vector))]\n",
    "        self.need[process_id] = [self.need[process_id][i] - request_vector[i] for i in range(len(request_vector))]\n",
    "        if self.check_safety():\n",
    "            return True\n",
    "        self.available = [self.available[i] + request_vector[i] for i in range(len(request_vector))]\n",
    "        self.allocated[process_id] = [self.allocated[process_id][i] - request_vector[i] for i in range(len(request_vector))]\n",
    "        self.need[process_id] = [self.need[process_id][i] + request_vector[i] for i in range(len(request_vector))]\n",
    "        return False\n",
    "\n",
    "    def check_safety(self):\n",
    "        work = list(self.available)\n",
    "        finish = [False] * len(self.need)\n",
    "\n",
    "        while True:\n",
    "            for i, (need, alloc) in enumerate(zip(self.need, self.allocated)):\n",
    "                if not finish[i] and all(need[j] <= work[j] for j in range(len(work))):\n",
    "                    work = [work[j] + alloc[j] for j in range(len(work))]\n",
    "                    finish[i] = True\n",
    "                    break\n",
    "            else:\n",
    "                break\n",
    "        \n",
    "        return all(finish)\n",
    "\n",
    "if __name__ == \"__main__\":\n",
    "    num_processes = 5\n",
    "    num_resources = 3\n",
    "\n",
    "    bankers = BankersAlgorithm(num_processes, num_resources)\n",
    "    \n",
    "    bankers.maximum = np.array([[7, 5, 3], [3, 2, 2], [9, 0, 2], [2, 2, 2], [4, 3, 3]])\n",
    "    bankers.allocated = np.array([[0, 1, 0], [2, 0, 0], [3, 0, 2], [2, 1, 1], [0, 0, 2]])\n",
    "    bankers.available = [3, 2, 2]\n",
    "    bankers.need = bankers.maximum - bankers.allocated\n",
    "\n",
    "    process_id = 1\n",
    "    request_vector = [1, 0, 2]\n",
    "\n",
    "    if bankers.is_request_safe(process_id, request_vector):\n",
    "        print(f\"The request from process {process_id} is safe.\")\n",
    "    else:\n",
    "        print(f\"The request from process {process_id} is not safe.\")\n"
   ]
  },
  {
   "cell_type": "code",
   "execution_count": null,
   "metadata": {},
   "outputs": [],
   "source": []
  }
 ],
 "metadata": {
  "kernelspec": {
   "display_name": "Python 3",
   "language": "python",
   "name": "python3"
  },
  "language_info": {
   "codemirror_mode": {
    "name": "ipython",
    "version": 3
   },
   "file_extension": ".py",
   "mimetype": "text/x-python",
   "name": "python",
   "nbconvert_exporter": "python",
   "pygments_lexer": "ipython3",
   "version": "3.10.11"
  },
  "orig_nbformat": 4
 },
 "nbformat": 4,
 "nbformat_minor": 2
}
