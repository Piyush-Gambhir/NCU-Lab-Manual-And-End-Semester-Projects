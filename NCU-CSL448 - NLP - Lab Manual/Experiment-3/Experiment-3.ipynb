{
 "cells": [
  {
   "cell_type": "markdown",
   "id": "4355ef04",
   "metadata": {},
   "source": [
    "# **Experiment 3**"
   ]
  },
  {
   "cell_type": "markdown",
   "id": "a5f5d9b1",
   "metadata": {},
   "source": [
    "### Objective\n",
    "Write a program to list all instances of the word ‘the’ in the Brown corpus using regular expression."
   ]
  },
  {
   "cell_type": "code",
   "execution_count": 7,
   "id": "a2873135",
   "metadata": {},
   "outputs": [
    {
     "name": "stdout",
     "output_type": "stream",
     "text": [
      "Defaulting to user installation because normal site-packages is not writeable\n",
      "Requirement already satisfied: nltk in c:\\users\\mainp\\appdata\\roaming\\python\\python313\\site-packages (3.9.1)\n",
      "Requirement already satisfied: pandas in c:\\users\\mainp\\appdata\\roaming\\python\\python313\\site-packages (2.2.3)\n",
      "Requirement already satisfied: click in c:\\users\\mainp\\appdata\\roaming\\python\\python313\\site-packages (from nltk) (8.1.7)\n",
      "Requirement already satisfied: joblib in c:\\users\\mainp\\appdata\\roaming\\python\\python313\\site-packages (from nltk) (1.4.2)\n",
      "Requirement already satisfied: regex>=2021.8.3 in c:\\users\\mainp\\appdata\\roaming\\python\\python313\\site-packages (from nltk) (2024.11.6)\n",
      "Requirement already satisfied: tqdm in c:\\users\\mainp\\appdata\\roaming\\python\\python313\\site-packages (from nltk) (4.67.0)\n",
      "Requirement already satisfied: numpy>=1.26.0 in c:\\users\\mainp\\appdata\\roaming\\python\\python313\\site-packages (from pandas) (2.1.2)\n",
      "Requirement already satisfied: python-dateutil>=2.8.2 in c:\\users\\mainp\\appdata\\roaming\\python\\python313\\site-packages (from pandas) (2.9.0.post0)\n",
      "Requirement already satisfied: pytz>=2020.1 in c:\\users\\mainp\\appdata\\roaming\\python\\python313\\site-packages (from pandas) (2024.2)\n",
      "Requirement already satisfied: tzdata>=2022.7 in c:\\users\\mainp\\appdata\\roaming\\python\\python313\\site-packages (from pandas) (2024.2)\n",
      "Requirement already satisfied: six>=1.5 in c:\\users\\mainp\\appdata\\roaming\\python\\python313\\site-packages (from python-dateutil>=2.8.2->pandas) (1.16.0)\n",
      "Requirement already satisfied: colorama in c:\\users\\mainp\\appdata\\roaming\\python\\python313\\site-packages (from click->nltk) (0.4.6)\n",
      "Note: you may need to restart the kernel to use updated packages.\n"
     ]
    }
   ],
   "source": [
    "%pip install nltk pandas"
   ]
  },
  {
   "cell_type": "code",
   "execution_count": 8,
   "id": "935c3750",
   "metadata": {},
   "outputs": [
    {
     "name": "stderr",
     "output_type": "stream",
     "text": [
      "[nltk_data] Downloading package brown to C:/nltk_data...\n",
      "[nltk_data]   Package brown is already up-to-date!\n"
     ]
    },
    {
     "data": {
      "text/plain": [
       "True"
      ]
     },
     "execution_count": 8,
     "metadata": {},
     "output_type": "execute_result"
    }
   ],
   "source": [
    "# Import necessary libraries\n",
    "import nltk\n",
    "import re\n",
    "from nltk.corpus import brown\n",
    "import pandas as pd\n",
    "\n",
    "# Download necessary NLTK data files\n",
    "nltk.download(\"brown\", download_dir=\"C:/nltk_data\")"
   ]
  },
  {
   "cell_type": "code",
   "execution_count": 9,
   "id": "055312f9",
   "metadata": {},
   "outputs": [
    {
     "name": "stdout",
     "output_type": "stream",
     "text": [
      "Sample Text from Brown Corpus:\n",
      "the fulton county grand jury said friday an investigation of atlanta's recent primary election produced `` no evidence '' that any irregularities took place . the jury further said in term-end presentments that the city executive committee , which had over-all charge of the election , `` deserves the praise and thanks of the city of atlanta '' for the manner in which the election was conducted . the september-october term jury had been charged by fulton superior court judge durwood pye to invest\n"
     ]
    }
   ],
   "source": [
    "# Load the Brown Corpus\n",
    "brown_words = brown.words()\n",
    "\n",
    "# Join all words into a single string for regex search\n",
    "brown_text = \" \".join(brown_words).lower()\n",
    "\n",
    "print(\"Sample Text from Brown Corpus:\")\n",
    "print(brown_text[:500])  # Display a sample of the text"
   ]
  },
  {
   "cell_type": "code",
   "execution_count": 10,
   "id": "8f97a5cd",
   "metadata": {},
   "outputs": [
    {
     "name": "stdout",
     "output_type": "stream",
     "text": [
      "\n",
      "Total instances of the word 'the': 70003\n",
      "Sample matches: ['the', 'the', 'the', 'the', 'the', 'the', 'the', 'the', 'the', 'the']\n"
     ]
    }
   ],
   "source": [
    "# Define the regular expression pattern for the word 'the'\n",
    "pattern = r\"\\bthe\\b\"\n",
    "\n",
    "# Find all matches of the word 'the'\n",
    "matches = re.findall(pattern, brown_text)\n",
    "\n",
    "# Display the number of matches and a sample of the matches\n",
    "print(f\"\\nTotal instances of the word 'the': {len(matches)}\")\n",
    "print(\"Sample matches:\", matches[:10])"
   ]
  },
  {
   "cell_type": "code",
   "execution_count": 11,
   "id": "ce10e1b3",
   "metadata": {},
   "outputs": [
    {
     "name": "stdout",
     "output_type": "stream",
     "text": [
      "\n",
      "Total instances of the word 'the': 70003\n",
      "Sample matches: ['the', 'the', 'the', 'the', 'the', 'the', 'the', 'the', 'the', 'the']\n"
     ]
    }
   ],
   "source": [
    "# Define the regular expression pattern for the word 'the'\n",
    "pattern = r\"\\bthe\\b\"\n",
    "\n",
    "# Find all matches of the word 'the'\n",
    "matches = re.findall(pattern, brown_text)\n",
    "\n",
    "# Display the number of matches and a sample of the matches\n",
    "print(f\"\\nTotal instances of the word 'the': {len(matches)}\")\n",
    "print(\"Sample matches:\", matches[:10])"
   ]
  },
  {
   "cell_type": "code",
   "execution_count": 12,
   "id": "844fe9b2",
   "metadata": {},
   "outputs": [
    {
     "data": {
      "text/html": [
       "<div>\n",
       "<style scoped>\n",
       "    .dataframe tbody tr th:only-of-type {\n",
       "        vertical-align: middle;\n",
       "    }\n",
       "\n",
       "    .dataframe tbody tr th {\n",
       "        vertical-align: top;\n",
       "    }\n",
       "\n",
       "    .dataframe thead th {\n",
       "        text-align: right;\n",
       "    }\n",
       "</style>\n",
       "<table border=\"1\" class=\"dataframe\">\n",
       "  <thead>\n",
       "    <tr style=\"text-align: right;\">\n",
       "      <th></th>\n",
       "      <th>Instances of 'the'</th>\n",
       "    </tr>\n",
       "  </thead>\n",
       "  <tbody>\n",
       "    <tr>\n",
       "      <th>0</th>\n",
       "      <td>the</td>\n",
       "    </tr>\n",
       "    <tr>\n",
       "      <th>1</th>\n",
       "      <td>the</td>\n",
       "    </tr>\n",
       "    <tr>\n",
       "      <th>2</th>\n",
       "      <td>the</td>\n",
       "    </tr>\n",
       "    <tr>\n",
       "      <th>3</th>\n",
       "      <td>the</td>\n",
       "    </tr>\n",
       "    <tr>\n",
       "      <th>4</th>\n",
       "      <td>the</td>\n",
       "    </tr>\n",
       "    <tr>\n",
       "      <th>5</th>\n",
       "      <td>the</td>\n",
       "    </tr>\n",
       "    <tr>\n",
       "      <th>6</th>\n",
       "      <td>the</td>\n",
       "    </tr>\n",
       "    <tr>\n",
       "      <th>7</th>\n",
       "      <td>the</td>\n",
       "    </tr>\n",
       "    <tr>\n",
       "      <th>8</th>\n",
       "      <td>the</td>\n",
       "    </tr>\n",
       "    <tr>\n",
       "      <th>9</th>\n",
       "      <td>the</td>\n",
       "    </tr>\n",
       "    <tr>\n",
       "      <th>10</th>\n",
       "      <td>the</td>\n",
       "    </tr>\n",
       "    <tr>\n",
       "      <th>11</th>\n",
       "      <td>the</td>\n",
       "    </tr>\n",
       "    <tr>\n",
       "      <th>12</th>\n",
       "      <td>the</td>\n",
       "    </tr>\n",
       "    <tr>\n",
       "      <th>13</th>\n",
       "      <td>the</td>\n",
       "    </tr>\n",
       "    <tr>\n",
       "      <th>14</th>\n",
       "      <td>the</td>\n",
       "    </tr>\n",
       "    <tr>\n",
       "      <th>15</th>\n",
       "      <td>the</td>\n",
       "    </tr>\n",
       "    <tr>\n",
       "      <th>16</th>\n",
       "      <td>the</td>\n",
       "    </tr>\n",
       "    <tr>\n",
       "      <th>17</th>\n",
       "      <td>the</td>\n",
       "    </tr>\n",
       "    <tr>\n",
       "      <th>18</th>\n",
       "      <td>the</td>\n",
       "    </tr>\n",
       "    <tr>\n",
       "      <th>19</th>\n",
       "      <td>the</td>\n",
       "    </tr>\n",
       "  </tbody>\n",
       "</table>\n",
       "</div>"
      ],
      "text/plain": [
       "   Instances of 'the'\n",
       "0                 the\n",
       "1                 the\n",
       "2                 the\n",
       "3                 the\n",
       "4                 the\n",
       "5                 the\n",
       "6                 the\n",
       "7                 the\n",
       "8                 the\n",
       "9                 the\n",
       "10                the\n",
       "11                the\n",
       "12                the\n",
       "13                the\n",
       "14                the\n",
       "15                the\n",
       "16                the\n",
       "17                the\n",
       "18                the\n",
       "19                the"
      ]
     },
     "execution_count": 12,
     "metadata": {},
     "output_type": "execute_result"
    }
   ],
   "source": [
    "# Create a DataFrame to display the matches\n",
    "df_matches = pd.DataFrame(matches, columns=[\"Instances of 'the'\"])\n",
    "df_matches.head(20)  # Display the first 20 matches"
   ]
  }
 ],
 "metadata": {
  "kernelspec": {
   "display_name": "Python 3",
   "language": "python",
   "name": "python3"
  },
  "language_info": {
   "codemirror_mode": {
    "name": "ipython",
    "version": 3
   },
   "file_extension": ".py",
   "mimetype": "text/x-python",
   "name": "python",
   "nbconvert_exporter": "python",
   "pygments_lexer": "ipython3",
   "version": "3.13.0"
  }
 },
 "nbformat": 4,
 "nbformat_minor": 5
}
