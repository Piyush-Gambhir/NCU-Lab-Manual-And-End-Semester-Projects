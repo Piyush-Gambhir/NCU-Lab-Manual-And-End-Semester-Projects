{
 "cells": [
  {
   "cell_type": "markdown",
   "metadata": {},
   "source": [
    "# Experiment 3"
   ]
  },
  {
   "cell_type": "markdown",
   "metadata": {},
   "source": [
    "## Problem Statement:"
   ]
  },
  {
   "cell_type": "markdown",
   "metadata": {},
   "source": [
    "Implement a python program to solve the muti-armed bandit problem using the Upper Confidence Bound Algorithm. Compare the reward obtained with random sampling. "
   ]
  },
  {
   "cell_type": "markdown",
   "metadata": {},
   "source": [
    "## Code"
   ]
  },
  {
   "cell_type": "code",
   "execution_count": 1,
   "metadata": {},
   "outputs": [],
   "source": [
    "# importing required libraries\n",
    "import numpy as np"
   ]
  },
  {
   "cell_type": "code",
   "execution_count": 2,
   "metadata": {},
   "outputs": [],
   "source": [
    "# implementing the bandit class to create a bandit object\n",
    "class Bandit:\n",
    "    def __init__(self, name, estimated_reward):\n",
    "        self.name = name\n",
    "        self.estimated_reward = estimated_reward\n",
    "        self.estimated_mean_reward = 0\n",
    "        self.n = 0\n",
    "\n",
    "    def pull(self):\n",
    "        return np.random.randn() + self.estimated_reward\n",
    "        # return np.random.randint(1, 10)\n",
    "\n",
    "    def update(self, reward):\n",
    "        self.n += 1\n",
    "        self.estimated_mean_reward = (1 - 1.0/self.n) * \\\n",
    "            self.estimated_mean_reward + 1.0/self.n * reward"
   ]
  },
  {
   "cell_type": "code",
   "execution_count": 3,
   "metadata": {},
   "outputs": [],
   "source": [
    "# implementing exploration by random sampling\n",
    "def random_explore(bandits, num_iterations):\n",
    "    for i in range(num_iterations):\n",
    "        j = np.random.randint(0, len(bandits))\n",
    "        x = bandits[j].pull()\n",
    "        bandits[j].update(x)"
   ]
  },
  {
   "cell_type": "code",
   "execution_count": 4,
   "metadata": {},
   "outputs": [],
   "source": [
    "# implementing exploration by mean sampling\n",
    "def mean_explore(bandits, num_iterations):\n",
    "    for i in range(num_iterations):\n",
    "        j = np.argmax([b.estimated_mean_reward for b in bandits])\n",
    "        x = bandits[j].pull()\n",
    "        bandits[j].update(x)"
   ]
  },
  {
   "cell_type": "code",
   "execution_count": 5,
   "metadata": {},
   "outputs": [],
   "source": [
    "\n",
    "# implementing the greedy_exploit function to return the best bandit\n",
    "def greedy_exploit(bandits):\n",
    "    return max(bandits, key=lambda x: x.estimated_mean_reward)\n",
    "\n",
    "# implementing the epsilon greedy function to return the best bandit\n",
    "def epsilon_greedy_exploit(bandits, epsilon=0.1):\n",
    "    if np.random.random() < epsilon:\n",
    "        # Randomly select a bandit with probability epsilon (exploration)\n",
    "        return np.random.choice(bandits)\n",
    "    else:\n",
    "        # Exploit the bandit with the highest current estimated reward with probability 1-epsilon\n",
    "        return max(bandits, key=lambda x: x.estimated_reward)"
   ]
  },
  {
   "cell_type": "code",
   "execution_count": 6,
   "metadata": {},
   "outputs": [],
   "source": [
    "# initialize machines A, B, C, D, E with true means between 5 and 10\n",
    "np.random.seed(5)\n",
    "machines = ['A', 'B', 'C', 'D', 'E']\n",
    "# bandits = [Bandit(machine, 5 + 5 * np.random.rand()) for machine in machines]\n",
    "estimated_rewards = [4, 3, 5, 7, 2]\n",
    "bandits = [Bandit(machine, mean_reward) for machine, mean_reward in zip(machines, estimated_rewards)]"
   ]
  },
  {
   "cell_type": "code",
   "execution_count": 7,
   "metadata": {},
   "outputs": [],
   "source": [
    "# random_explore(bandits, 1000)\n",
    "# print(\"Bandit Details Using Random\\n\")\n",
    "# for bandit in bandits:\n",
    "#     print(\"Bandit:\", bandit.name, \"Number of Times: \", bandit.n,\"Estimated Mean Reward: \",\n",
    "#           bandit.estimated_mean_reward)"
   ]
  },
  {
   "cell_type": "code",
   "execution_count": 8,
   "metadata": {},
   "outputs": [
    {
     "name": "stdout",
     "output_type": "stream",
     "text": [
      "Bandit Details Using Greedy Algorithm \n",
      "\n",
      "Machine A - Number of Times 21 Estimated Reward: 4.00, Estimated Mean Reward: 4.42\n",
      "Machine B - Number of Times 30 Estimated Reward: 3.00, Estimated Mean Reward: 2.84\n",
      "Machine C - Number of Times 17 Estimated Reward: 5.00, Estimated Mean Reward: 5.33\n",
      "Machine D - Number of Times 914 Estimated Reward: 7.00, Estimated Mean Reward: 7.03\n",
      "Machine E - Number of Times 18 Estimated Reward: 2.00, Estimated Mean Reward: 2.24\n",
      "\n",
      "Final Mean Reward: 6.73\n",
      "Final Cumulative Reward: 6734.47\n"
     ]
    }
   ],
   "source": [
    "# initial pull for each bandit\n",
    "all_rewards = []\n",
    "for bandit in bandits:\n",
    "    reward = bandit.pull()\n",
    "    bandit.update(reward)\n",
    "    all_rewards.append(reward)\n",
    "\n",
    "# Number of trials\n",
    "N = 1000 - len(bandits)\n",
    "for _ in range(N):\n",
    "    chosen_bandit = epsilon_greedy_exploit(bandits)\n",
    "    reward = chosen_bandit.pull()\n",
    "    chosen_bandit.update(reward)\n",
    "    all_rewards.append(reward)\n",
    "\n",
    "# calculating mean and cumulative reward\n",
    "mean_rewards = [np.mean(all_rewards[:i+1]) for i in range(len(all_rewards))]\n",
    "cumulative_rewards = np.cumsum(all_rewards).tolist()\n",
    "\n",
    "print(\"Bandit Details Using Greedy Algorithm \\n\")\n",
    "for bandit in bandits:\n",
    "    print(\n",
    "        f\"Machine {bandit.name} - Number of Times {bandit.n} Estimated Reward: {bandit.estimated_reward:.2f}, Estimated Mean Reward: {bandit.estimated_mean_reward:.2f}\")\n",
    "\n",
    "print(f\"\\nFinal Mean Reward: {mean_rewards[-1]:.2f}\")\n",
    "print(f\"Final Cumulative Reward: {cumulative_rewards[-1]:.2f}\")"
   ]
  }
 ],
 "metadata": {
  "kernelspec": {
   "display_name": "Python 3",
   "language": "python",
   "name": "python3"
  },
  "language_info": {
   "codemirror_mode": {
    "name": "ipython",
    "version": 3
   },
   "file_extension": ".py",
   "mimetype": "text/x-python",
   "name": "python",
   "nbconvert_exporter": "python",
   "pygments_lexer": "ipython3",
   "version": "3.11.6"
  },
  "orig_nbformat": 4
 },
 "nbformat": 4,
 "nbformat_minor": 2
}
