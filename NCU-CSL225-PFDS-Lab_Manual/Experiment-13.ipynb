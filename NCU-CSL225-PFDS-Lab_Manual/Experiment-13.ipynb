{
 "cells": [
  {
   "cell_type": "markdown",
   "id": "79186366",
   "metadata": {},
   "source": [
    "## Problem Statement"
   ]
  },
  {
   "cell_type": "markdown",
   "id": "2739ac73",
   "metadata": {},
   "source": [
    "Use NumPy to generate an array of 25 random numbers sampled from a standard normal distribution. Further compute the min and max, values of the array; and their index locations."
   ]
  },
  {
   "cell_type": "code",
   "execution_count": 8,
   "id": "2fcc8037",
   "metadata": {},
   "outputs": [
    {
     "name": "stdout",
     "output_type": "stream",
     "text": [
      "Generated Array: [75 23 88 56 46 91  5 73 48 64 62 79 81 92 41 13 71 79  4 92 45 61 37 58]\n",
      "\n",
      "Maximum Value: 92\n",
      "Maximum Value Index: (array([13, 19], dtype=int64),)\n",
      "\n",
      "Minimum Value: 4\n",
      "Minimum Value Index: (array([18], dtype=int64),)\n"
     ]
    }
   ],
   "source": [
    "import numpy as np\n",
    "arr = np.random.randint(1, 100, 24)\n",
    "print(\"Generated Array:\", arr)\n",
    "print()\n",
    "\n",
    "max = np.max(arr)\n",
    "min = np.min(arr)\n",
    "\n",
    "print(\"Maximum Value:\", max)\n",
    "print(\"Maximum Value Index:\", np.where(arr == max))\n",
    "print()\n",
    "print(\"Minimum Value:\", min)\n",
    "print(\"Minimum Value Index:\", np.where(arr == min))"
   ]
  }
 ],
 "metadata": {
  "kernelspec": {
   "display_name": "Python 3 (ipykernel)",
   "language": "python",
   "name": "python3"
  },
  "language_info": {
   "codemirror_mode": {
    "name": "ipython",
    "version": 3
   },
   "file_extension": ".py",
   "mimetype": "text/x-python",
   "name": "python",
   "nbconvert_exporter": "python",
   "pygments_lexer": "ipython3",
   "version": "3.10.7"
  },
  "vscode": {
   "interpreter": {
    "hash": "5827bb77950f6316d9e848194dfccdbe99cc9d8eabac60195b2d068013bba3d3"
   }
  }
 },
 "nbformat": 4,
 "nbformat_minor": 5
}
