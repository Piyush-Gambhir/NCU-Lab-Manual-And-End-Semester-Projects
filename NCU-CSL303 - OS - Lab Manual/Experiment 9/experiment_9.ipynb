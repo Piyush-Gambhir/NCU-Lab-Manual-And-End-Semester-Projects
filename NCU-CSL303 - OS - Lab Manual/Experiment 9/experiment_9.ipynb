{
 "cells": [
  {
   "cell_type": "markdown",
   "metadata": {},
   "source": [
    "# Experiment 9"
   ]
  },
  {
   "cell_type": "markdown",
   "metadata": {},
   "source": [
    "#### Problem Statement: \n",
    "Write a program to implement reader/writer problem using semaphore."
   ]
  },
  {
   "cell_type": "markdown",
   "metadata": {},
   "source": [
    "#### Code: "
   ]
  },
  {
   "cell_type": "code",
   "execution_count": 8,
   "metadata": {},
   "outputs": [],
   "source": [
    "# importing required libraries\n",
    "import threading\n",
    "import time"
   ]
  },
  {
   "cell_type": "code",
   "execution_count": 9,
   "metadata": {},
   "outputs": [
    {
     "name": "stdout",
     "output_type": "stream",
     "text": [
      "Reader-0 is reading\n",
      "Reader-1 is reading\n",
      "Reader-2 is reading\n",
      "Writer-1 is writing\n",
      "Reader-0 is readingReader-1 is reading\n",
      "\n",
      "Reader-2 is reading\n",
      "Writer-1 is writing\n",
      "Reader-1 is readingReader-0 is reading\n",
      "Reader-2 is reading\n",
      "\n",
      "Writer-1 is writing\n",
      "Reader-0 is readingReader-2 is reading\n",
      "\n",
      "Reader-1 is reading\n"
     ]
    },
    {
     "name": "stdout",
     "output_type": "stream",
     "text": [
      "Writer-1 is writing\n",
      "Reader-4 is reading\n",
      "Reader-3 is reading\n"
     ]
    }
   ],
   "source": [
    "class ReaderWriterLock:\n",
    "    def __init__(self):\n",
    "        self.reader_count = 0\n",
    "        self.writer_count = 0\n",
    "        self.reader_lock = threading.Lock()\n",
    "        self.writer_lock = threading.Lock()\n",
    "        self.write_request = threading.Lock()\n",
    "        self.reader_semaphore = threading.Semaphore(3)\n",
    "\n",
    "    def acquire_read(self):\n",
    "        self.reader_semaphore.acquire()\n",
    "        self.write_request.acquire()\n",
    "        self.reader_lock.acquire()\n",
    "        self.reader_count += 1\n",
    "        if self.reader_count == 1:\n",
    "            self.writer_lock.acquire()\n",
    "        self.reader_lock.release()\n",
    "        self.write_request.release()\n",
    "\n",
    "    def release_read(self):\n",
    "        self.reader_lock.acquire()\n",
    "        self.reader_count -= 1\n",
    "        if self.reader_count == 0:\n",
    "            self.writer_lock.release()\n",
    "        self.reader_lock.release()\n",
    "        self.reader_semaphore.release()\n",
    "\n",
    "    def acquire_write(self):\n",
    "        self.write_request.acquire()\n",
    "        self.writer_lock.acquire()\n",
    "        self.write_request.release()\n",
    "\n",
    "    def release_write(self):\n",
    "        self.writer_lock.release()\n",
    "\n",
    "\n",
    "stop_threads = False\n",
    "\n",
    "if __name__ == \"__main__\":\n",
    "    rw_lock = ReaderWriterLock()\n",
    "\n",
    "    def reader(id):\n",
    "        while not stop_threads:\n",
    "            rw_lock.acquire_read()\n",
    "            print(f\"Reader-{id} is reading\", end=\"\\n\")\n",
    "            time.sleep(1)\n",
    "            rw_lock.release_read()\n",
    "\n",
    "    def writer(id):\n",
    "        while not stop_threads:\n",
    "            rw_lock.acquire_write()\n",
    "            print(f\"Writer-{id} is writing\", end=\"\\n\")\n",
    "            time.sleep(2)\n",
    "            rw_lock.release_write()\n",
    "\n",
    "    for i in range(5):\n",
    "        threading.Thread(target=reader, args=(i,)).start()\n",
    "\n",
    "    writer_thread = threading.Thread(target=writer, args=(1,))\n",
    "    writer_thread.start()\n",
    "\n",
    "    time.sleep(10)\n",
    "    stop_threads = True"
   ]
  }
 ],
 "metadata": {
  "kernelspec": {
   "display_name": "Python 3",
   "language": "python",
   "name": "python3"
  },
  "language_info": {
   "codemirror_mode": {
    "name": "ipython",
    "version": 3
   },
   "file_extension": ".py",
   "mimetype": "text/x-python",
   "name": "python",
   "nbconvert_exporter": "python",
   "pygments_lexer": "ipython3",
   "version": "3.11.5"
  },
  "orig_nbformat": 4
 },
 "nbformat": 4,
 "nbformat_minor": 2
}
