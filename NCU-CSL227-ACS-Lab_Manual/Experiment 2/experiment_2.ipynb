{
 "cells": [
  {
   "attachments": {},
   "cell_type": "markdown",
   "metadata": {},
   "source": [
    "## Experiment 2\n",
    "### Demonstration of descriptive statistical measures."
   ]
  },
  {
   "cell_type": "code",
   "execution_count": 2,
   "metadata": {},
   "outputs": [],
   "source": [
    "# importing required libraries\n",
    "import math\n",
    "import pandas as pd\n",
    "import numpy as np\n",
    "import matplotlib.pyplot as plt\n",
    "import seaborn as snss\n",
    "\n",
    "import scipy\n",
    "from scipy import stats\n",
    "from scipy.stats import zscore, kurtosis, variation, scoreatpercentile\n",
    "from scipy.stats.mstats import gmean"
   ]
  },
  {
   "cell_type": "code",
   "execution_count": 3,
   "metadata": {},
   "outputs": [],
   "source": [
    "# Read the data\n",
    "data = pd.read_csv('iris_dataset.csv')"
   ]
  },
  {
   "cell_type": "code",
   "execution_count": 4,
   "metadata": {},
   "outputs": [],
   "source": [
    "# Drop the Id column\n",
    "data = data.drop('Id', axis=1)"
   ]
  },
  {
   "cell_type": "code",
   "execution_count": 5,
   "metadata": {},
   "outputs": [
    {
     "name": "stdout",
     "output_type": "stream",
     "text": [
      "|    |   SepalLengthCm |   SepalWidthCm |   PetalLengthCm |   PetalWidthCm | Species     |\n",
      "|---:|----------------:|---------------:|----------------:|---------------:|:------------|\n",
      "|  0 |             5.1 |            3.5 |             1.4 |            0.2 | Iris-setosa |\n",
      "|  1 |             4.9 |            3   |             1.4 |            0.2 | Iris-setosa |\n",
      "|  2 |             4.7 |            3.2 |             1.3 |            0.2 | Iris-setosa |\n",
      "|  3 |             4.6 |            3.1 |             1.5 |            0.2 | Iris-setosa |\n",
      "|  4 |             5   |            3.6 |             1.4 |            0.2 | Iris-setosa |\n"
     ]
    }
   ],
   "source": [
    "# Print the first 5 rows of the data\n",
    "print(data.head().to_markdown())"
   ]
  },
  {
   "cell_type": "code",
   "execution_count": 6,
   "metadata": {},
   "outputs": [
    {
     "name": "stdout",
     "output_type": "stream",
     "text": [
      "<class 'pandas.core.frame.DataFrame'>\n",
      "RangeIndex: 150 entries, 0 to 149\n",
      "Data columns (total 5 columns):\n",
      " #   Column         Non-Null Count  Dtype  \n",
      "---  ------         --------------  -----  \n",
      " 0   SepalLengthCm  150 non-null    float64\n",
      " 1   SepalWidthCm   150 non-null    float64\n",
      " 2   PetalLengthCm  150 non-null    float64\n",
      " 3   PetalWidthCm   150 non-null    float64\n",
      " 4   Species        150 non-null    object \n",
      "dtypes: float64(4), object(1)\n",
      "memory usage: 6.0+ KB\n",
      "None\n"
     ]
    }
   ],
   "source": [
    "# Information about the data\n",
    "print(data.info())"
   ]
  },
  {
   "cell_type": "code",
   "execution_count": 7,
   "metadata": {},
   "outputs": [
    {
     "name": "stdout",
     "output_type": "stream",
     "text": [
      "                SepalLengthCm                                               \n",
      "                        count   mean       std  min    25%  50%  75%  max   \n",
      "Species                                                                     \n",
      "Iris-setosa              50.0  5.006  0.352490  4.3  4.800  5.0  5.2  5.8  \\\n",
      "Iris-versicolor          50.0  5.936  0.516171  4.9  5.600  5.9  6.3  7.0   \n",
      "Iris-virginica           50.0  6.588  0.635880  4.9  6.225  6.5  6.9  7.9   \n",
      "\n",
      "                SepalWidthCm         ... PetalLengthCm      PetalWidthCm   \n",
      "                       count   mean  ...           75%  max        count   \n",
      "Species                              ...                                   \n",
      "Iris-setosa             50.0  3.418  ...         1.575  1.9         50.0  \\\n",
      "Iris-versicolor         50.0  2.770  ...         4.600  5.1         50.0   \n",
      "Iris-virginica          50.0  2.974  ...         5.875  6.9         50.0   \n",
      "\n",
      "                                                           \n",
      "                  mean       std  min  25%  50%  75%  max  \n",
      "Species                                                    \n",
      "Iris-setosa      0.244  0.107210  0.1  0.2  0.2  0.3  0.6  \n",
      "Iris-versicolor  1.326  0.197753  1.0  1.2  1.3  1.5  1.8  \n",
      "Iris-virginica   2.026  0.274650  1.4  1.8  2.0  2.3  2.5  \n",
      "\n",
      "[3 rows x 32 columns]\n"
     ]
    }
   ],
   "source": [
    "# Describe the data\n",
    "print(data.groupby('Species').describe())"
   ]
  },
  {
   "cell_type": "markdown",
   "metadata": {},
   "source": [
    "Mean, Median, Mode\n"
   ]
  },
  {
   "cell_type": "code",
   "execution_count": 8,
   "metadata": {},
   "outputs": [
    {
     "name": "stdout",
     "output_type": "stream",
     "text": [
      "| Species         |   SepalLengthCm |   SepalWidthCm |   PetalLengthCm |   PetalWidthCm |\n",
      "|:----------------|----------------:|---------------:|----------------:|---------------:|\n",
      "| Iris-setosa     |           5.006 |          3.418 |           1.464 |          0.244 |\n",
      "| Iris-versicolor |           5.936 |          2.77  |           4.26  |          1.326 |\n",
      "| Iris-virginica  |           6.588 |          2.974 |           5.552 |          2.026 |\n"
     ]
    }
   ],
   "source": [
    "# Mean of the data\n",
    "print(data.groupby('Species').mean().to_markdown())"
   ]
  },
  {
   "cell_type": "code",
   "execution_count": 9,
   "metadata": {},
   "outputs": [
    {
     "name": "stdout",
     "output_type": "stream",
     "text": [
      "| Species         |   SepalLengthCm |   SepalWidthCm |   PetalLengthCm |   PetalWidthCm |\n",
      "|:----------------|----------------:|---------------:|----------------:|---------------:|\n",
      "| Iris-setosa     |             5   |            3.4 |            1.5  |            0.2 |\n",
      "| Iris-versicolor |             5.9 |            2.8 |            4.35 |            1.3 |\n",
      "| Iris-virginica  |             6.5 |            3   |            5.55 |            2   |\n"
     ]
    }
   ],
   "source": [
    "# Median of the data\n",
    "print(data.groupby('Species').median().to_markdown())"
   ]
  },
  {
   "cell_type": "code",
   "execution_count": 10,
   "metadata": {},
   "outputs": [
    {
     "data": {
      "text/plain": [
       "Species         SepalLengthCm  SepalWidthCm  PetalLengthCm  PetalWidthCm\n",
       "Iris-setosa     4.9            3.1           1.5            0.1             3\n",
       "                4.3            3.0           1.1            0.1             1\n",
       "                4.4            2.9           1.4            0.2             1\n",
       "                5.0            3.4           1.5            0.2             1\n",
       "                                             1.6            0.4             1\n",
       "                                                                           ..\n",
       "Iris-virginica  6.5            3.0           5.8            2.2             1\n",
       "                               3.2           5.1            2.0             1\n",
       "                6.7            2.5           5.8            1.8             1\n",
       "                               3.0           5.2            2.3             1\n",
       "                7.9            3.8           6.4            2.0             1\n",
       "Name: count, Length: 147, dtype: int64"
      ]
     },
     "execution_count": 10,
     "metadata": {},
     "output_type": "execute_result"
    }
   ],
   "source": [
    "# Mode of the data\n",
    "data.groupby('Species').value_counts()"
   ]
  },
  {
   "cell_type": "markdown",
   "metadata": {},
   "source": [
    "Geometric Mean and Harmonic Mean\n"
   ]
  },
  {
   "cell_type": "code",
   "execution_count": 11,
   "metadata": {},
   "outputs": [
    {
     "name": "stdout",
     "output_type": "stream",
     "text": [
      "| Species         | 0                                             |\n",
      "|:----------------|:----------------------------------------------|\n",
      "| Iris-setosa     | [4.99384106 3.3969062  1.45373856 0.22346247] |\n",
      "| Iris-versicolor | [5.91397936 2.75187353 4.23308089 1.31118738] |\n",
      "| Iris-virginica  | [6.55779452 2.95701356 5.52578887 2.00721413] |\n",
      "| Species         | 0                                             |\n",
      "|:----------------|:----------------------------------------------|\n",
      "| Iris-setosa     | [4.9816814  3.37529787 1.44318022 0.20449898] |\n",
      "| Iris-versicolor | [5.89193597 2.73301053 4.20449935 1.29602855] |\n",
      "| Iris-virginica  | [6.52735823 2.94008724 5.50023704 1.98786729] |\n"
     ]
    },
    {
     "name": "stderr",
     "output_type": "stream",
     "text": [
      "c:\\Users\\mainp\\AppData\\Local\\Programs\\Python\\Python311\\Lib\\site-packages\\tabulate\\__init__.py:107: FutureWarning: elementwise comparison failed; returning scalar instead, but in the future will perform elementwise comparison\n",
      "  (len(row) >= 1 and row[0] == SEPARATING_LINE)\n",
      "c:\\Users\\mainp\\AppData\\Local\\Programs\\Python\\Python311\\Lib\\site-packages\\tabulate\\__init__.py:108: FutureWarning: elementwise comparison failed; returning scalar instead, but in the future will perform elementwise comparison\n",
      "  or (len(row) >= 2 and row[1] == SEPARATING_LINE)\n",
      "c:\\Users\\mainp\\AppData\\Local\\Programs\\Python\\Python311\\Lib\\site-packages\\tabulate\\__init__.py:107: FutureWarning: elementwise comparison failed; returning scalar instead, but in the future will perform elementwise comparison\n",
      "  (len(row) >= 1 and row[0] == SEPARATING_LINE)\n",
      "c:\\Users\\mainp\\AppData\\Local\\Programs\\Python\\Python311\\Lib\\site-packages\\tabulate\\__init__.py:108: FutureWarning: elementwise comparison failed; returning scalar instead, but in the future will perform elementwise comparison\n",
      "  or (len(row) >= 2 and row[1] == SEPARATING_LINE)\n"
     ]
    }
   ],
   "source": [
    "# gemetric mean of the data\n",
    "print(data.groupby('Species').apply(gmean).to_markdown())\n",
    "\n",
    "# Harmonic mean of the data\n",
    "print(data.groupby('Species').apply(scipy.stats.hmean).to_markdown())"
   ]
  },
  {
   "cell_type": "markdown",
   "metadata": {},
   "source": [
    "Standard Devation\n"
   ]
  },
  {
   "cell_type": "code",
   "execution_count": 12,
   "metadata": {},
   "outputs": [
    {
     "name": "stdout",
     "output_type": "stream",
     "text": [
      "| Species         |   SepalLengthCm |   SepalWidthCm |   PetalLengthCm |   PetalWidthCm |\n",
      "|:----------------|----------------:|---------------:|----------------:|---------------:|\n",
      "| Iris-setosa     |        0.35249  |       0.381024 |        0.173511 |       0.10721  |\n",
      "| Iris-versicolor |        0.516171 |       0.313798 |        0.469911 |       0.197753 |\n",
      "| Iris-virginica  |        0.63588  |       0.322497 |        0.551895 |       0.27465  |\n"
     ]
    }
   ],
   "source": [
    "# Standard Deviation of the data\n",
    "print(data.groupby('Species').std().to_markdown())"
   ]
  },
  {
   "cell_type": "code",
   "execution_count": 13,
   "metadata": {},
   "outputs": [
    {
     "name": "stdout",
     "output_type": "stream",
     "text": [
      "| Species         |   SepalLengthCm |   SepalWidthCm |   PetalLengthCm |   PetalWidthCm |\n",
      "|:----------------|----------------:|---------------:|----------------:|---------------:|\n",
      "| Iris-setosa     |        0.35249  |       0.381024 |        0.173511 |       0.10721  |\n",
      "| Iris-versicolor |        0.516171 |       0.313798 |        0.469911 |       0.197753 |\n",
      "| Iris-virginica  |        0.63588  |       0.322497 |        0.551895 |       0.27465  |\n"
     ]
    }
   ],
   "source": [
    "# Standard Deviation of the data using numpy\n",
    "print(data.groupby('Species').agg(np.std).to_markdown())"
   ]
  },
  {
   "cell_type": "code",
   "execution_count": 14,
   "metadata": {},
   "outputs": [
    {
     "name": "stdout",
     "output_type": "stream",
     "text": [
      "| Species         |   SepalLengthCm |   SepalWidthCm |   PetalLengthCm |   PetalWidthCm |\n",
      "|:----------------|----------------:|---------------:|----------------:|---------------:|\n",
      "| Iris-setosa     |        0.35249  |       0.381024 |        0.173511 |       0.10721  |\n",
      "| Iris-versicolor |        0.516171 |       0.313798 |        0.469911 |       0.197753 |\n",
      "| Iris-virginica  |        0.63588  |       0.322497 |        0.551895 |       0.27465  |\n"
     ]
    }
   ],
   "source": [
    "# Standard Deviation Using Formula\n",
    "variance = data.groupby('Species').var()\n",
    "standard_deviation = np.sqrt(variance)\n",
    "print(standard_deviation.to_markdown())"
   ]
  },
  {
   "cell_type": "markdown",
   "metadata": {},
   "source": [
    "Variance\n"
   ]
  },
  {
   "cell_type": "code",
   "execution_count": 15,
   "metadata": {},
   "outputs": [
    {
     "name": "stdout",
     "output_type": "stream",
     "text": [
      "| Species         |   SepalLengthCm |   SepalWidthCm |   PetalLengthCm |   PetalWidthCm |\n",
      "|:----------------|----------------:|---------------:|----------------:|---------------:|\n",
      "| Iris-setosa     |        0.124249 |      0.14518   |       0.0301061 |      0.0114939 |\n",
      "| Iris-versicolor |        0.266433 |      0.0984694 |       0.220816  |      0.0391061 |\n",
      "| Iris-virginica  |        0.404343 |      0.104004  |       0.304588  |      0.0754327 |\n"
     ]
    }
   ],
   "source": [
    "# Variance of the data\n",
    "print(data.groupby('Species').var().to_markdown())"
   ]
  },
  {
   "cell_type": "code",
   "execution_count": 16,
   "metadata": {},
   "outputs": [
    {
     "name": "stdout",
     "output_type": "stream",
     "text": [
      "| Species         |   SepalLengthCm |   SepalWidthCm |   PetalLengthCm |   PetalWidthCm |\n",
      "|:----------------|----------------:|---------------:|----------------:|---------------:|\n",
      "| Iris-setosa     |        0.124249 |      0.14518   |       0.0301061 |      0.0114939 |\n",
      "| Iris-versicolor |        0.266433 |      0.0984694 |       0.220816  |      0.0391061 |\n",
      "| Iris-virginica  |        0.404343 |      0.104004  |       0.304588  |      0.0754327 |\n"
     ]
    }
   ],
   "source": [
    "# Variance of the data using numpy\n",
    "print(data.groupby('Species').agg(np.var).to_markdown())"
   ]
  },
  {
   "cell_type": "code",
   "execution_count": 17,
   "metadata": {},
   "outputs": [
    {
     "name": "stdout",
     "output_type": "stream",
     "text": [
      "| Species         |   SepalLengthCm |   SepalWidthCm |   PetalLengthCm |   PetalWidthCm |\n",
      "|:----------------|----------------:|---------------:|----------------:|---------------:|\n",
      "| Iris-setosa     |        0.124249 |      0.14518   |       0.0301061 |      0.0114939 |\n",
      "| Iris-versicolor |        0.266433 |      0.0984694 |       0.220816  |      0.0391061 |\n",
      "| Iris-virginica  |        0.404343 |      0.104004  |       0.304588  |      0.0754327 |\n"
     ]
    }
   ],
   "source": [
    "# Variance of the data using formula\n",
    "standard_deviation = data.groupby('Species').std()\n",
    "variance = np.square(standard_deviation)\n",
    "print(variance.to_markdown())"
   ]
  }
 ],
 "metadata": {
  "kernelspec": {
   "display_name": "Python 3",
   "language": "python",
   "name": "python3"
  },
  "language_info": {
   "codemirror_mode": {
    "name": "ipython",
    "version": 3
   },
   "file_extension": ".py",
   "mimetype": "text/x-python",
   "name": "python",
   "nbconvert_exporter": "python",
   "pygments_lexer": "ipython3",
   "version": "3.11.3"
  },
  "orig_nbformat": 4
 },
 "nbformat": 4,
 "nbformat_minor": 2
}
