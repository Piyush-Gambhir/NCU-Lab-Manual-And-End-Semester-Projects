{
 "cells": [
  {
   "cell_type": "markdown",
   "metadata": {},
   "source": [
    "# Experiment 8"
   ]
  },
  {
   "cell_type": "markdown",
   "metadata": {},
   "source": [
    "#### Problem Statement:\n",
    "Using Bayesian network, implement a Python program to calculate probability in disease diagnosis.\n",
    "\n",
    "A medical clinic is trying to determine the probability that a patient has a certain disease. The test which is used to diagnose the disease is not always accurate. The clinic knows that the probability of a false positive is 1%, and the probability of a false negative is 5%. The clinic has a patient who has tested positive for the disease.\n",
    "\n",
    "Knowing that disease occurs in a patient 25% times. They want to use Bayesian Theorem to calculate the probability that the patient actually has the disease. The Bayesian network will consist of two nodes: 'D' (for disease) and 'T' (for test result). conditional probability distributions (CPDs) for the nodes will be based on the provided information\n"
   ]
  },
  {
   "cell_type": "markdown",
   "metadata": {},
   "source": [
    "### Installing Required Libraries\n",
    "\n",
    "```python"
   ]
  },
  {
   "cell_type": "code",
   "execution_count": 1,
   "metadata": {},
   "outputs": [
    {
     "name": "stdout",
     "output_type": "stream",
     "text": [
      "Collecting pgmpy\n",
      "  Downloading pgmpy-0.1.24-py3-none-any.whl.metadata (6.3 kB)\n",
      "Requirement already satisfied: networkx in c:\\users\\mainp\\appdata\\local\\programs\\python\\python310\\lib\\site-packages (from pgmpy) (3.2)\n",
      "Requirement already satisfied: numpy in c:\\users\\mainp\\appdata\\local\\programs\\python\\python310\\lib\\site-packages (from pgmpy) (1.26.1)\n",
      "Requirement already satisfied: scipy in c:\\users\\mainp\\appdata\\local\\programs\\python\\python310\\lib\\site-packages (from pgmpy) (1.11.3)\n",
      "Requirement already satisfied: scikit-learn in c:\\users\\mainp\\appdata\\local\\programs\\python\\python310\\lib\\site-packages (from pgmpy) (1.3.2)\n",
      "Requirement already satisfied: pandas in c:\\users\\mainp\\appdata\\local\\programs\\python\\python310\\lib\\site-packages (from pgmpy) (2.1.1)\n",
      "Requirement already satisfied: pyparsing in c:\\users\\mainp\\appdata\\local\\programs\\python\\python310\\lib\\site-packages (from pgmpy) (3.1.1)\n",
      "Requirement already satisfied: torch in c:\\users\\mainp\\appdata\\local\\programs\\python\\python310\\lib\\site-packages (from pgmpy) (2.1.0)\n",
      "Collecting statsmodels (from pgmpy)\n",
      "  Downloading statsmodels-0.14.0-cp310-cp310-win_amd64.whl (9.2 MB)\n",
      "     ---------------------------------------- 0.0/9.2 MB ? eta -:--:--\n",
      "     - -------------------------------------- 0.5/9.2 MB 14.2 MB/s eta 0:00:01\n",
      "     ---- ----------------------------------- 1.1/9.2 MB 13.9 MB/s eta 0:00:01\n",
      "     ------- -------------------------------- 1.7/9.2 MB 13.8 MB/s eta 0:00:01\n",
      "     ---------- ----------------------------- 2.4/9.2 MB 14.1 MB/s eta 0:00:01\n",
      "     -------------- ------------------------- 3.3/9.2 MB 15.2 MB/s eta 0:00:01\n",
      "     ----------------- ---------------------- 4.0/9.2 MB 15.1 MB/s eta 0:00:01\n",
      "     -------------------- ------------------- 4.7/9.2 MB 15.1 MB/s eta 0:00:01\n",
      "     ------------------------ --------------- 5.7/9.2 MB 15.8 MB/s eta 0:00:01\n",
      "     ---------------------------- ----------- 6.6/9.2 MB 16.8 MB/s eta 0:00:01\n",
      "     -------------------------------- ------- 7.5/9.2 MB 17.1 MB/s eta 0:00:01\n",
      "     ------------------------------------ --- 8.3/9.2 MB 17.1 MB/s eta 0:00:01\n",
      "     -------------------------------------- - 8.9/9.2 MB 16.8 MB/s eta 0:00:01\n",
      "     ---------------------------------------  9.2/9.2 MB 16.3 MB/s eta 0:00:01\n",
      "     ---------------------------------------- 9.2/9.2 MB 15.5 MB/s eta 0:00:00\n",
      "Collecting tqdm (from pgmpy)\n",
      "  Downloading tqdm-4.66.1-py3-none-any.whl.metadata (57 kB)\n",
      "     ---------------------------------------- 0.0/57.6 kB ? eta -:--:--\n",
      "     ---------------------------------------- 57.6/57.6 kB 3.0 MB/s eta 0:00:00\n",
      "Requirement already satisfied: joblib in c:\\users\\mainp\\appdata\\local\\programs\\python\\python310\\lib\\site-packages (from pgmpy) (1.3.2)\n",
      "Requirement already satisfied: opt-einsum in c:\\users\\mainp\\appdata\\local\\programs\\python\\python310\\lib\\site-packages (from pgmpy) (3.3.0)\n",
      "Requirement already satisfied: python-dateutil>=2.8.2 in c:\\users\\mainp\\appdata\\local\\programs\\python\\python310\\lib\\site-packages (from pandas->pgmpy) (2.8.2)\n",
      "Requirement already satisfied: pytz>=2020.1 in c:\\users\\mainp\\appdata\\local\\programs\\python\\python310\\lib\\site-packages (from pandas->pgmpy) (2023.3.post1)\n",
      "Requirement already satisfied: tzdata>=2022.1 in c:\\users\\mainp\\appdata\\local\\programs\\python\\python310\\lib\\site-packages (from pandas->pgmpy) (2023.3)\n",
      "Requirement already satisfied: threadpoolctl>=2.0.0 in c:\\users\\mainp\\appdata\\local\\programs\\python\\python310\\lib\\site-packages (from scikit-learn->pgmpy) (3.2.0)\n",
      "Collecting patsy>=0.5.2 (from statsmodels->pgmpy)\n",
      "  Downloading patsy-0.5.3-py2.py3-none-any.whl (233 kB)\n",
      "     ---------------------------------------- 0.0/233.8 kB ? eta -:--:--\n",
      "     -------------------------------------- 233.8/233.8 kB 7.2 MB/s eta 0:00:00\n",
      "Requirement already satisfied: packaging>=21.3 in c:\\users\\mainp\\appdata\\local\\programs\\python\\python310\\lib\\site-packages (from statsmodels->pgmpy) (23.2)\n",
      "Requirement already satisfied: filelock in c:\\users\\mainp\\appdata\\local\\programs\\python\\python310\\lib\\site-packages (from torch->pgmpy) (3.12.4)\n",
      "Requirement already satisfied: typing-extensions in c:\\users\\mainp\\appdata\\local\\programs\\python\\python310\\lib\\site-packages (from torch->pgmpy) (4.8.0)\n",
      "Requirement already satisfied: sympy in c:\\users\\mainp\\appdata\\local\\programs\\python\\python310\\lib\\site-packages (from torch->pgmpy) (1.12)\n",
      "Requirement already satisfied: jinja2 in c:\\users\\mainp\\appdata\\local\\programs\\python\\python310\\lib\\site-packages (from torch->pgmpy) (3.1.2)\n",
      "Requirement already satisfied: fsspec in c:\\users\\mainp\\appdata\\local\\programs\\python\\python310\\lib\\site-packages (from torch->pgmpy) (2023.10.0)\n",
      "Requirement already satisfied: colorama in c:\\users\\mainp\\appdata\\local\\programs\\python\\python310\\lib\\site-packages (from tqdm->pgmpy) (0.4.6)\n",
      "Requirement already satisfied: six in c:\\users\\mainp\\appdata\\local\\programs\\python\\python310\\lib\\site-packages (from patsy>=0.5.2->statsmodels->pgmpy) (1.16.0)\n",
      "Requirement already satisfied: MarkupSafe>=2.0 in c:\\users\\mainp\\appdata\\local\\programs\\python\\python310\\lib\\site-packages (from jinja2->torch->pgmpy) (2.1.3)\n",
      "Requirement already satisfied: mpmath>=0.19 in c:\\users\\mainp\\appdata\\local\\programs\\python\\python310\\lib\\site-packages (from sympy->torch->pgmpy) (1.3.0)\n",
      "Downloading pgmpy-0.1.24-py3-none-any.whl (2.0 MB)\n",
      "   ---------------------------------------- 0.0/2.0 MB ? eta -:--:--\n",
      "   --------------- ------------------------ 0.7/2.0 MB 11.5 MB/s eta 0:00:01\n",
      "   -------------------------- ------------- 1.3/2.0 MB 11.8 MB/s eta 0:00:01\n",
      "   --------------------------------- ------ 1.7/2.0 MB 10.6 MB/s eta 0:00:01\n",
      "   ---------------------------------------- 2.0/2.0 MB 10.4 MB/s eta 0:00:00\n",
      "Downloading tqdm-4.66.1-py3-none-any.whl (78 kB)\n",
      "   ---------------------------------------- 0.0/78.3 kB ? eta -:--:--\n",
      "   ---------------------------------------- 78.3/78.3 kB ? eta 0:00:00\n",
      "Installing collected packages: tqdm, patsy, statsmodels, pgmpy\n",
      "Successfully installed patsy-0.5.3 pgmpy-0.1.24 statsmodels-0.14.0 tqdm-4.66.1\n",
      "Note: you may need to restart the kernel to use updated packages.\n"
     ]
    }
   ],
   "source": [
    "%pip install pgmpy"
   ]
  },
  {
   "cell_type": "markdown",
   "metadata": {},
   "source": [
    "#### Code:"
   ]
  },
  {
   "cell_type": "code",
   "execution_count": 2,
   "metadata": {},
   "outputs": [
    {
     "name": "stderr",
     "output_type": "stream",
     "text": [
      "c:\\Users\\mainp\\AppData\\Local\\Programs\\Python\\Python310\\lib\\site-packages\\tqdm\\auto.py:21: TqdmWarning: IProgress not found. Please update jupyter and ipywidgets. See https://ipywidgets.readthedocs.io/en/stable/user_install.html\n",
      "  from .autonotebook import tqdm as notebook_tqdm\n"
     ]
    }
   ],
   "source": [
    "# importing required libraries\n",
    "from pgmpy.models import BayesianNetwork\n",
    "from pgmpy.factors.discrete import TabularCPD\n",
    "from pgmpy.inference import VariableElimination"
   ]
  },
  {
   "cell_type": "markdown",
   "metadata": {},
   "source": [
    "##### Bayesian Network Creation using BayesianNetwork from pgmpy AND Defining CPDs using Tabular CPDS"
   ]
  },
  {
   "cell_type": "code",
   "execution_count": 3,
   "metadata": {},
   "outputs": [],
   "source": [
    "def create_bayesian_network():\n",
    "    # TODO: Create a Bayesian Network\n",
    "    model = BayesianNetwork([('D', 'T')])\n",
    "\n",
    "    # TODO: Define conditional probability distributions (CPDs)\n",
    "    # CPD for 'D' (Disease)\n",
    "    cpd_disease = TabularCPD(\n",
    "        variable='D', variable_card=2, values=[[0.75], [0.25]])\n",
    "    # CPD for 'T' (Test Result)\n",
    "\n",
    "    cpd_test = TabularCPD(variable='T', variable_card=2,\n",
    "                          values=[[0.99, 0.05],\n",
    "                                  [0.01, 0.95]],\n",
    "                          evidence=['D'], evidence_card=[2])\n",
    "\n",
    "    # TODO: Add CPDs to the model\n",
    "    # model.add_cpds(cpd_disease, cpd_test)\n",
    "    model.add_cpds(cpd_disease, cpd_test)\n",
    "\n",
    "    # TODO: Check if the model is valid\n",
    "    # assert model.check_model()\n",
    "    assert model.check_model()\n",
    "\n",
    "    # TODO: Return the created model\n",
    "    # return model\n",
    "    return model"
   ]
  },
  {
   "cell_type": "markdown",
   "metadata": {},
   "source": [
    "##### Calculating Disease Bayesian Probablity"
   ]
  },
  {
   "cell_type": "code",
   "execution_count": 4,
   "metadata": {},
   "outputs": [],
   "source": [
    "def calculate_probability_of_disease(model, test_result):\n",
    "    # TODO: Create an inference object\n",
    "    inference = VariableElimination(model)\n",
    "\n",
    "    # TODO: Given the test result, calculate the probability of having the disease\n",
    "    probabilities = inference.query(variables=['D'], evidence={'T': test_result})\n",
    "\n",
    "    # TODO: Return the calculated probability\n",
    "    return probabilities.values[1]  # 1 for positive disease\n"
   ]
  },
  {
   "cell_type": "markdown",
   "metadata": {},
   "source": [
    "##### Main function to solve the problem"
   ]
  },
  {
   "cell_type": "code",
   "execution_count": 5,
   "metadata": {},
   "outputs": [
    {
     "name": "stdout",
     "output_type": "stream",
     "text": [
      "Probability of having the disease given a positive test result: 0.9694\n"
     ]
    }
   ],
   "source": [
    "if __name__ == \"__main__\":\n",
    "    bayesian_network = create_bayesian_network()\n",
    "    test_result = 1  # 1 for positive test result, 0 for negative\n",
    "\n",
    "    probability = calculate_probability_of_disease(bayesian_network, test_result)\n",
    "    print(f\"Probability of having the disease given a positive test result: {probability:.4f}\")"
   ]
  }
 ],
 "metadata": {
  "kernelspec": {
   "display_name": "Python 3",
   "language": "python",
   "name": "python3"
  },
  "language_info": {
   "codemirror_mode": {
    "name": "ipython",
    "version": 3
   },
   "file_extension": ".py",
   "mimetype": "text/x-python",
   "name": "python",
   "nbconvert_exporter": "python",
   "pygments_lexer": "ipython3",
   "version": "3.10.11"
  },
  "orig_nbformat": 4
 },
 "nbformat": 4,
 "nbformat_minor": 2
}
