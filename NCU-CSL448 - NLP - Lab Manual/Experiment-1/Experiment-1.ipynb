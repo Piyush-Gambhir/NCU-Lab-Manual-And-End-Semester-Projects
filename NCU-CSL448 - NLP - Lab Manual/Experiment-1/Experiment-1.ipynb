{
 "cells": [
  {
   "cell_type": "markdown",
   "id": "7aba36ca",
   "metadata": {},
   "source": [
    "# **Experiment 1**"
   ]
  },
  {
   "cell_type": "markdown",
   "id": "4b2a7146",
   "metadata": {},
   "source": [
    "### Objective\n",
    "Explore Python NLTK and all the text corpora available in NLTK."
   ]
  },
  {
   "cell_type": "code",
   "execution_count": 1,
   "id": "8577270e",
   "metadata": {},
   "outputs": [
    {
     "name": "stdout",
     "output_type": "stream",
     "text": [
      "Collecting nltk\n",
      "  Using cached nltk-3.9.1-py3-none-any.whl.metadata (2.9 kB)\n",
      "Requirement already satisfied: pandas in c:\\users\\mainp\\appdata\\local\\programs\\python\\python312\\lib\\site-packages (2.2.3)\n",
      "Requirement already satisfied: click in c:\\users\\mainp\\appdata\\local\\programs\\python\\python312\\lib\\site-packages (from nltk) (8.1.7)\n",
      "Collecting joblib (from nltk)\n",
      "  Using cached joblib-1.4.2-py3-none-any.whl.metadata (5.4 kB)\n",
      "Collecting regex>=2021.8.3 (from nltk)\n",
      "  Downloading regex-2024.11.6-cp312-cp312-win_amd64.whl.metadata (41 kB)\n",
      "Requirement already satisfied: tqdm in c:\\users\\mainp\\appdata\\local\\programs\\python\\python312\\lib\\site-packages (from nltk) (4.67.0)\n",
      "Requirement already satisfied: numpy>=1.26.0 in c:\\users\\mainp\\appdata\\local\\programs\\python\\python312\\lib\\site-packages (from pandas) (2.0.2)\n",
      "Requirement already satisfied: python-dateutil>=2.8.2 in c:\\users\\mainp\\appdata\\roaming\\python\\python312\\site-packages (from pandas) (2.9.0.post0)\n",
      "Requirement already satisfied: pytz>=2020.1 in c:\\users\\mainp\\appdata\\local\\programs\\python\\python312\\lib\\site-packages (from pandas) (2024.2)\n",
      "Requirement already satisfied: tzdata>=2022.7 in c:\\users\\mainp\\appdata\\local\\programs\\python\\python312\\lib\\site-packages (from pandas) (2024.2)\n",
      "Requirement already satisfied: six>=1.5 in c:\\users\\mainp\\appdata\\roaming\\python\\python312\\site-packages (from python-dateutil>=2.8.2->pandas) (1.16.0)\n",
      "Requirement already satisfied: colorama in c:\\users\\mainp\\appdata\\roaming\\python\\python312\\site-packages (from click->nltk) (0.4.6)\n",
      "Using cached nltk-3.9.1-py3-none-any.whl (1.5 MB)\n",
      "Downloading regex-2024.11.6-cp312-cp312-win_amd64.whl (273 kB)\n",
      "Using cached joblib-1.4.2-py3-none-any.whl (301 kB)\n",
      "Installing collected packages: regex, joblib, nltk\n",
      "Successfully installed joblib-1.4.2 nltk-3.9.1 regex-2024.11.6\n",
      "Note: you may need to restart the kernel to use updated packages.\n"
     ]
    },
    {
     "name": "stderr",
     "output_type": "stream",
     "text": [
      "\n",
      "[notice] A new release of pip is available: 24.2 -> 24.3.1\n",
      "[notice] To update, run: python.exe -m pip install --upgrade pip\n"
     ]
    }
   ],
   "source": [
    "%pip install nltk pandas"
   ]
  },
  {
   "cell_type": "code",
   "execution_count": 2,
   "id": "a8c6c25d",
   "metadata": {},
   "outputs": [
    {
     "name": "stderr",
     "output_type": "stream",
     "text": [
      "[nltk_data] Downloading package punkt to C:/nltk_data...\n",
      "[nltk_data]   Package punkt is already up-to-date!\n",
      "[nltk_data] Downloading package stopwords to C:/nltk_data...\n",
      "[nltk_data]   Package stopwords is already up-to-date!\n"
     ]
    },
    {
     "data": {
      "text/plain": [
       "True"
      ]
     },
     "execution_count": 2,
     "metadata": {},
     "output_type": "execute_result"
    }
   ],
   "source": [
    "# Importing necessary libraries from nltk\n",
    "import nltk\n",
    "from nltk.corpus import stopwords\n",
    "from nltk.tokenize import word_tokenize, sent_tokenize\n",
    "from nltk.stem import PorterStemmer\n",
    "\n",
    "# Downloading necessary corpora and resources\n",
    "nltk.download(\"punkt\", download_dir=\"C:/nltk_data\")\n",
    "nltk.download(\"stopwords\", download_dir=\"C:/nltk_data\")\n"
   ]
  },
  {
   "cell_type": "markdown",
   "id": "c4abe084",
   "metadata": {},
   "source": [
    "### **1. Defining Text Examples**"
   ]
  },
  {
   "cell_type": "code",
   "execution_count": 3,
   "id": "1125aa7c",
   "metadata": {},
   "outputs": [],
   "source": [
    "\n",
    "# Initializing the PorterStemmer\n",
    "stemmer = PorterStemmer()\n",
    "\n",
    "# Defining text examples\n",
    "example_string = '''\n",
    "We get the daily newspaper at our doorstep every morning. The newspaper has many pages and has a great deal of information.\n",
    "We can read about happenings of the previous day or earlier in our city, in the rest of our country and around the world too.\n",
    "It includes topics such as politics, economy, science, environment, business and sports. There is also an interesting children’s section.\n",
    "There are important announcements too that are published in the newspaper. There is something useful and interesting for everyone in the family in the day’s paper.\n",
    "And so we like to read the newspaper.\n",
    "'''\n",
    "\n",
    "worf_quote = '''\n",
    "Price is what you pay, value is what you get. The most important quality for an investor is temperament, not intellect.\n",
    "Remember that the stock market is a manic depressive. The most important investment you can make is in yourself.\n",
    "'''\n",
    "\n",
    "string_for_stemming = '''\n",
    "Viserys assures Rhaenyra she remains his heir and can choose her consort. Meanwhile, brothers Hobert and Otto Hightower secretly scheme to make Aegon the successor, furthering their family's power and prestige.\n",
    "'''\n"
   ]
  },
  {
   "cell_type": "markdown",
   "id": "4e985e5c",
   "metadata": {},
   "source": [
    "### **2. Tokenization Example**"
   ]
  },
  {
   "cell_type": "code",
   "execution_count": 4,
   "id": "f2cbce8f",
   "metadata": {},
   "outputs": [
    {
     "name": "stdout",
     "output_type": "stream",
     "text": [
      "Tokenization Example:\n",
      "Tokenized Sentences:  ['\\nWe get the daily newspaper at our doorstep every morning.', 'The newspaper has many pages and has a great deal of information.', 'We can read about happenings of the previous day or earlier in our city, in the rest of our country and around the world too.', 'It includes topics such as politics, economy, science, environment, business and sports.', 'There is also an interesting children’s section.', 'There are important announcements too that are published in the newspaper.', 'There is something useful and interesting for everyone in the family in the day’s paper.', 'And so we like to read the newspaper.']\n",
      "Tokenized Words:  ['We', 'get', 'the', 'daily', 'newspaper', 'at', 'our', 'doorstep', 'every', 'morning', '.', 'The', 'newspaper', 'has', 'many', 'pages', 'and', 'has', 'a', 'great', 'deal', 'of', 'information', '.', 'We', 'can', 'read', 'about', 'happenings', 'of', 'the', 'previous', 'day', 'or', 'earlier', 'in', 'our', 'city', ',', 'in', 'the', 'rest', 'of', 'our', 'country', 'and', 'around', 'the', 'world', 'too', '.', 'It', 'includes', 'topics', 'such', 'as', 'politics', ',', 'economy', ',', 'science', ',', 'environment', ',', 'business', 'and', 'sports', '.', 'There', 'is', 'also', 'an', 'interesting', 'children', '’', 's', 'section', '.', 'There', 'are', 'important', 'announcements', 'too', 'that', 'are', 'published', 'in', 'the', 'newspaper', '.', 'There', 'is', 'something', 'useful', 'and', 'interesting', 'for', 'everyone', 'in', 'the', 'family', 'in', 'the', 'day', '’', 's', 'paper', '.', 'And', 'so', 'we', 'like', 'to', 'read', 'the', 'newspaper', '.']\n"
     ]
    }
   ],
   "source": [
    "\n",
    "# Tokenization Example\n",
    "def tokenize_text(text):\n",
    "    print(\"Tokenized Sentences: \", sent_tokenize(text))\n",
    "    print(\"Tokenized Words: \", word_tokenize(text))\n",
    "\n",
    "# Display tokenization results\n",
    "print(\"Tokenization Example:\")\n",
    "tokenize_text(example_string)\n"
   ]
  },
  {
   "cell_type": "markdown",
   "id": "f6652e05",
   "metadata": {},
   "source": [
    "### **3. Removing Stop Words**"
   ]
  },
  {
   "cell_type": "code",
   "execution_count": 5,
   "id": "51ef1649",
   "metadata": {},
   "outputs": [
    {
     "name": "stdout",
     "output_type": "stream",
     "text": [
      "Stop Words Removal Example:\n",
      "Filtered Words:  ['Price', 'pay', ',', 'value', 'get', '.', 'important', 'quality', 'investor', 'temperament', ',', 'intellect', '.', 'Remember', 'stock', 'market', 'manic', 'depressive', '.', 'important', 'investment', 'make', '.']\n"
     ]
    }
   ],
   "source": [
    "\n",
    "# Removing Stop Words\n",
    "def remove_stopwords(text):\n",
    "    stop_words = set(stopwords.words(\"english\"))\n",
    "    words_in_quote = word_tokenize(text)\n",
    "    filtered_list = [word for word in words_in_quote if word.casefold() not in stop_words]\n",
    "    return filtered_list\n",
    "\n",
    "# Display results after removing stop words\n",
    "print(\"Stop Words Removal Example:\")\n",
    "filtered_words = remove_stopwords(worf_quote)\n",
    "print(\"Filtered Words: \", filtered_words)\n"
   ]
  },
  {
   "cell_type": "markdown",
   "id": "80db3f24",
   "metadata": {},
   "source": [
    "### **4. Stemming Example**"
   ]
  },
  {
   "cell_type": "code",
   "execution_count": 6,
   "id": "fc9713e6",
   "metadata": {},
   "outputs": [
    {
     "name": "stdout",
     "output_type": "stream",
     "text": [
      "Stemming Example:\n",
      "Stemmed Words:  ['viseri', 'assur', 'rhaenyra', 'she', 'remain', 'hi', 'heir', 'and', 'can', 'choos', 'her', 'consort', '.', 'meanwhil', ',', 'brother', 'hobert', 'and', 'otto', 'hightow', 'secretli', 'scheme', 'to', 'make', 'aegon', 'the', 'successor', ',', 'further', 'their', 'famili', \"'s\", 'power', 'and', 'prestig', '.']\n"
     ]
    }
   ],
   "source": [
    "\n",
    "# Stemming Example\n",
    "def perform_stemming(text):\n",
    "    words = word_tokenize(text)\n",
    "    stemmed_words = [stemmer.stem(word) for word in words]\n",
    "    return stemmed_words\n",
    "\n",
    "# Display stemming results\n",
    "print(\"Stemming Example:\")\n",
    "stemmed_output = perform_stemming(string_for_stemming)\n",
    "print(\"Stemmed Words: \", stemmed_output)\n"
   ]
  }
 ],
 "metadata": {
  "kernelspec": {
   "display_name": "Python 3",
   "language": "python",
   "name": "python3"
  },
  "language_info": {
   "codemirror_mode": {
    "name": "ipython",
    "version": 3
   },
   "file_extension": ".py",
   "mimetype": "text/x-python",
   "name": "python",
   "nbconvert_exporter": "python",
   "pygments_lexer": "ipython3",
   "version": "3.12.7"
  }
 },
 "nbformat": 4,
 "nbformat_minor": 5
}
