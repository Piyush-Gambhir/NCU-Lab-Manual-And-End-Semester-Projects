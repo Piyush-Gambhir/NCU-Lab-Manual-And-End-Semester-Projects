{
 "cells": [
  {
   "cell_type": "markdown",
   "metadata": {},
   "source": [
    "# Experiment 8"
   ]
  },
  {
   "cell_type": "markdown",
   "metadata": {},
   "source": [
    "#### Problem Statement: \n",
    "Implement the Round Robin Algorithm."
   ]
  },
  {
   "cell_type": "markdown",
   "metadata": {},
   "source": [
    "#### Code: "
   ]
  },
  {
   "cell_type": "code",
   "execution_count": 1,
   "metadata": {},
   "outputs": [],
   "source": [
    "# importing required libraries\n",
    "import pandas as pd\n",
    "import matplotlib.pyplot as plt"
   ]
  },
  {
   "cell_type": "code",
   "execution_count": 2,
   "metadata": {},
   "outputs": [],
   "source": [
    "# function to generate the gantt chart for round robin scheduling\n",
    "def generate_rr_gantt_chart(processes, burst_time, time_quantum):\n",
    "    # Create DataFrame\n",
    "    df = pd.DataFrame({'Process': processes, 'BurstTime': burst_time})\n",
    "    n = len(processes)\n",
    "\n",
    "    # Initialize Gantt chart\n",
    "    fig, ax = plt.subplots()\n",
    "    fig.set_size_inches(15, 1)\n",
    "\n",
    "    # Variables for time and labels\n",
    "    current_time = 0\n",
    "    labels = []\n",
    "    rem_bt = [0] * n\n",
    "\n",
    "    for i in range(n):\n",
    "        rem_bt[i] = burst_time[i]\n",
    "\n",
    "    # Create Gantt chart\n",
    "    while True:\n",
    "        done = True\n",
    "        for i, row in df.iterrows():\n",
    "            if rem_bt[i] > 0:\n",
    "                done = False\n",
    "                bt = min(time_quantum, rem_bt[i])\n",
    "                ax.broken_barh([(current_time, bt)], (0, 1),\n",
    "                               facecolors='orange', edgecolor='black')\n",
    "                ax.text(current_time + bt / 2 - 0.1, 0.5,\n",
    "                        row['Process'], fontsize=12, verticalalignment='center')\n",
    "                labels.append(str(current_time))\n",
    "                current_time += bt\n",
    "                rem_bt[i] -= bt\n",
    "\n",
    "        if done:\n",
    "            break\n",
    "\n",
    "    labels.append(str(current_time))\n",
    "\n",
    "    # Chart attributes\n",
    "    ax.set_yticks([])\n",
    "    ax.set_xticks([int(label) for label in labels])\n",
    "    ax.set_xticklabels(labels)\n",
    "    ax.set_xlabel(\"Time\")\n",
    "\n",
    "    plt.title(\"Round Robin Gantt Chart\")\n",
    "    plt.show()"
   ]
  },
  {
   "cell_type": "code",
   "execution_count": 3,
   "metadata": {},
   "outputs": [],
   "source": [
    "# function to compute the waiting time for round robin\n",
    "def waiting_time_rr(processes, burst_time, time_quantum):\n",
    "    n = len(processes)\n",
    "    waiting_time = [0] * n\n",
    "    remaining_burst_time = [0] * n\n",
    "    for i in range(n):\n",
    "        remaining_burst_time[i] = burst_time[i]\n",
    "\n",
    "    t = 0\n",
    "    while True:\n",
    "        done = True\n",
    "        for i in range(n):\n",
    "            if remaining_burst_time[i] > 0:\n",
    "                done = False\n",
    "                if remaining_burst_time[i] > time_quantum:\n",
    "                    t += time_quantum\n",
    "                    remaining_burst_time[i] -= time_quantum\n",
    "                else:\n",
    "                    t += remaining_burst_time[i]\n",
    "                    waiting_time[i] = t - burst_time[i]\n",
    "                    remaining_burst_time[i] = 0\n",
    "        if done:\n",
    "            break\n",
    "\n",
    "    # returning the waiting time (dictionary with process as key and waiting time)\n",
    "    return {processes[i]: waiting_time[i] for i in range(n)}"
   ]
  },
  {
   "cell_type": "code",
   "execution_count": 4,
   "metadata": {},
   "outputs": [],
   "source": [
    "# function to compute the turnaround time for round robin\n",
    "def turnaround_time_rr(processes, burst_time, waiting_time):\n",
    "    n = len(processes)\n",
    "    turnaround_time = [0] * n\n",
    "    turnaround_time_dict = {}\n",
    "\n",
    "    for i in range(n):\n",
    "        turnaround_time[i] = burst_time[i] + waiting_time[processes[i]]\n",
    "        turnaround_time_dict[processes[i]] = turnaround_time[i]\n",
    "\n",
    "    # return the turnaround time (dictionary of processes and their turnaround time)\n",
    "    return turnaround_time_dict"
   ]
  },
  {
   "cell_type": "code",
   "execution_count": 5,
   "metadata": {},
   "outputs": [
    {
     "data": {
      "image/png": "[encoded data removed]",
      "text/plain": [
       "<Figure size 1500x100 with 1 Axes>"
      ]
     },
     "metadata": {},
     "output_type": "display_data"
    },
    {
     "name": "stdout",
     "output_type": "stream",
     "text": [
      "| Process   |   Burst Time |   Waiting Time |   Turnaround Time |\n",
      "|:----------|-------------:|---------------:|------------------:|\n",
      "| P1        |           24 |              6 |                30 |\n",
      "| P2        |            3 |              4 |                 7 |\n",
      "| P3        |            3 |              7 |                10 |\n",
      "Average Waiting Time: 5.666666666666667\n",
      "Average Turnaround Time: 15.666666666666666\n"
     ]
    }
   ],
   "source": [
    "# defining processes and burst time\n",
    "processes = ['P1', 'P2', 'P3']\n",
    "burst_time = [24, 3, 3]\n",
    "\n",
    "# defining time quantum\n",
    "time_quantum = 4\n",
    "\n",
    "# generating the gantt chart\n",
    "generate_rr_gantt_chart(processes, burst_time, time_quantum)\n",
    "\n",
    "# computing waiting time\n",
    "waiting_time = waiting_time_rr(processes, burst_time, time_quantum)\n",
    "\n",
    "# computing turnaround time\n",
    "turnaround_time = turnaround_time_rr(processes, burst_time, waiting_time)\n",
    "\n",
    "# creting a dataframe of processes, burst time, waiting time and turnaround time\n",
    "df = pd.DataFrame({'Process': processes, 'Burst Time': burst_time, 'Waiting Time': list(\n",
    "    waiting_time.values()), 'Turnaround Time': list(turnaround_time.values())})\n",
    "\n",
    "# printing the dataframe\n",
    "print(df.to_markdown(index=False))\n",
    "\n",
    "# computing the average waiting time\n",
    "avg_waiting_time = sum(list(waiting_time.values())) / len(waiting_time)\n",
    "print(f'Average Waiting Time: {avg_waiting_time}')\n",
    "\n",
    "# computing the average turnaround time\n",
    "avg_turnaround_time = sum(\n",
    "    list(turnaround_time.values())) / len(turnaround_time)\n",
    "print(f'Average Turnaround Time: {avg_turnaround_time}')"
   ]
  }
 ],
 "metadata": {
  "kernelspec": {
   "display_name": "Python 3",
   "language": "python",
   "name": "python3"
  },
  "language_info": {
   "codemirror_mode": {
    "name": "ipython",
    "version": 3
   },
   "file_extension": ".py",
   "mimetype": "text/x-python",
   "name": "python",
   "nbconvert_exporter": "python",
   "pygments_lexer": "ipython3",
   "version": "3.11.5"
  },
  "orig_nbformat": 4
 },
 "nbformat": 4,
 "nbformat_minor": 2
}
