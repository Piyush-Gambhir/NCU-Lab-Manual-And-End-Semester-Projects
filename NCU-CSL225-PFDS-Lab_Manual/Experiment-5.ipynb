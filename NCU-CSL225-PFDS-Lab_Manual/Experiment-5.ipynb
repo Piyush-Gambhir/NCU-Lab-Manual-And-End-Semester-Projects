{
 "cells": [
  {
   "cell_type": "markdown",
   "id": "79186366",
   "metadata": {},
   "source": [
    "## Problem Statement"
   ]
  },
  {
   "cell_type": "markdown",
   "id": "2739ac73",
   "metadata": {},
   "source": [
    "Program to illustrate use of existing math functions in Python (log, sin, cos, abs etc.)"
   ]
  },
  {
   "cell_type": "code",
   "execution_count": 2,
   "id": "7fbf21c4",
   "metadata": {},
   "outputs": [
    {
     "name": "stdout",
     "output_type": "stream",
     "text": [
      "The log of 14 is 2.6390573296152584\n",
      "The sin of 14 is 0.9906073556948704\n",
      "The cos of 14 is 0.1367372182078336\n",
      "The tan of 14 is 7.2446066160948055\n",
      "The absoulte value of 14 is 14\n"
     ]
    }
   ],
   "source": [
    "import math\n",
    "\n",
    "n = int(input(\"Enter a Number: \"))\n",
    "print(\"The log of {} is {}\".format(n, math.log(n)))\n",
    "print(\"The sin of {} is {}\".format(n, math.sin(n)))\n",
    "print(\"The cos of {} is {}\".format(n, math.cos(n)))\n",
    "print(\"The tan of {} is {}\".format(n, math.tan(n)))\n",
    "print(\"The absoulte value of {} is {}\".format(n, abs(n)))"
   ]
  }
 ],
 "metadata": {
  "kernelspec": {
   "display_name": "Python 3.10.7 64-bit",
   "language": "python",
   "name": "python3"
  },
  "language_info": {
   "codemirror_mode": {
    "name": "ipython",
    "version": 3
   },
   "file_extension": ".py",
   "mimetype": "text/x-python",
   "name": "python",
   "nbconvert_exporter": "python",
   "pygments_lexer": "ipython3",
   "version": "3.10.7"
  },
  "vscode": {
   "interpreter": {
    "hash": "5827bb77950f6316d9e848194dfccdbe99cc9d8eabac60195b2d068013bba3d3"
   }
  }
 },
 "nbformat": 4,
 "nbformat_minor": 5
}
