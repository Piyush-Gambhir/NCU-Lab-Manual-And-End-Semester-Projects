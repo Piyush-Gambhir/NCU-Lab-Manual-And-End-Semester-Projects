{
 "cells": [
  {
   "cell_type": "markdown",
   "id": "79186366",
   "metadata": {},
   "source": [
    "## Problem Statement"
   ]
  },
  {
   "cell_type": "markdown",
   "id": "2739ac73",
   "metadata": {},
   "source": [
    "To create and perform operations on Pandas Series."
   ]
  },
  {
   "cell_type": "code",
   "execution_count": 1,
   "id": "2dfbc8cc",
   "metadata": {},
   "outputs": [
    {
     "name": "stdout",
     "output_type": "stream",
     "text": [
      "0     1\n",
      "1     2\n",
      "2     3\n",
      "3     4\n",
      "4     5\n",
      "5     6\n",
      "6     7\n",
      "7     8\n",
      "8     9\n",
      "9    10\n",
      "dtype: int64\n",
      "\n",
      "\n",
      "0    1\n",
      "1    2\n",
      "2    3\n",
      "3    4\n",
      "4    5\n",
      "dtype: int64\n",
      "\n",
      "\n",
      "5     6\n",
      "6     7\n",
      "7     8\n",
      "8     9\n",
      "9    10\n",
      "dtype: int64\n",
      "\n",
      "\n",
      "5    6\n",
      "6    7\n",
      "7    8\n",
      "dtype: int64\n",
      "\n",
      "\n",
      "[6 7 8]\n",
      "\n",
      "\n",
      "RangeIndex(start=5, stop=8, step=1)\n",
      "\n",
      "\n",
      "5    6\n",
      "6    7\n",
      "7    8\n",
      "8    9\n",
      "dtype: int64\n"
     ]
    }
   ],
   "source": [
    "import pandas as pd\n",
    "import numpy as np\n",
    "\n",
    "series = pd.Series([1, 2, 3, 4, 5, 6, 7, 8, 9, 10])\n",
    "print(series)\n",
    "print(\"\\n\")\n",
    "\n",
    "\n",
    "print(series[:5])\n",
    "print(\"\\n\")\n",
    "\n",
    "print(series[5:])\n",
    "print(\"\\n\")\n",
    "\n",
    "print(series[5:8])\n",
    "print(\"\\n\")\n",
    "\n",
    "print(series[5:8].values)\n",
    "print(\"\\n\")\n",
    "\n",
    "print(series[5:8].index)\n",
    "print(\"\\n\")\n",
    "\n",
    "print(series.loc[5:8])\n",
    "print(\"\\n\")\n",
    "\n",
    "print(series.iloc[5:8])\n",
    "print(\"\\n\")\n",
    "\n",
    "\n"
   ]
  }
 ],
 "metadata": {
  "kernelspec": {
   "display_name": "Python 3 (ipykernel)",
   "language": "python",
   "name": "python3"
  },
  "language_info": {
   "codemirror_mode": {
    "name": "ipython",
    "version": 3
   },
   "file_extension": ".py",
   "mimetype": "text/x-python",
   "name": "python",
   "nbconvert_exporter": "python",
   "pygments_lexer": "ipython3",
   "version": "3.10.8"
  },
  "vscode": {
   "interpreter": {
    "hash": "5827bb77950f6316d9e848194dfccdbe99cc9d8eabac60195b2d068013bba3d3"
   }
  }
 },
 "nbformat": 4,
 "nbformat_minor": 5
}
