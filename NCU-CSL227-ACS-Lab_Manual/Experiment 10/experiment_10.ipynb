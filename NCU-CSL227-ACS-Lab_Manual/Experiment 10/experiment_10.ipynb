{
 "cells": [
  {
   "attachments": {},
   "cell_type": "markdown",
   "metadata": {},
   "source": [
    "## Experiment 10\n",
    "### Write python code to find critical value in normal distribution.\n"
   ]
  },
  {
   "cell_type": "code",
   "execution_count": 2,
   "metadata": {},
   "outputs": [
    {
     "name": "stdout",
     "output_type": "stream",
     "text": [
      "The critical value is: 1.959963984540054\n"
     ]
    }
   ],
   "source": [
    "# import the required libraries\n",
    "from scipy.stats import norm\n",
    "\n",
    "# Set the probability value (alpha)\n",
    "alpha = 0.05\n",
    "\n",
    "# Set the mean and standard deviation of the normal distribution\n",
    "mu = 0\n",
    "sigma = 1\n",
    "\n",
    "# Calculate the critical value\n",
    "critical_value = norm.ppf(1 - alpha/2, loc=mu, scale=sigma)\n",
    "\n",
    "# Print the critical value\n",
    "print(\"The critical value is:\", critical_value)\n"
   ]
  }
 ],
 "metadata": {
  "kernelspec": {
   "display_name": "Python 3",
   "language": "python",
   "name": "python3"
  },
  "language_info": {
   "codemirror_mode": {
    "name": "ipython",
    "version": 3
   },
   "file_extension": ".py",
   "mimetype": "text/x-python",
   "name": "python",
   "nbconvert_exporter": "python",
   "pygments_lexer": "ipython3",
   "version": "3.11.2"
  },
  "orig_nbformat": 4
 },
 "nbformat": 4,
 "nbformat_minor": 2
}
