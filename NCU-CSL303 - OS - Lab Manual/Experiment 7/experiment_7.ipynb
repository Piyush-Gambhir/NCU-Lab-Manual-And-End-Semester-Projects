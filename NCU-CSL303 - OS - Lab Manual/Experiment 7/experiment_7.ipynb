{
 "cells": [
  {
   "cell_type": "markdown",
   "metadata": {},
   "source": [
    "# Experiment 7"
   ]
  },
  {
   "cell_type": "markdown",
   "metadata": {},
   "source": [
    "#### Problem Statement: \n",
    "Implement the priority scheduling."
   ]
  },
  {
   "cell_type": "markdown",
   "metadata": {},
   "source": [
    "#### Code: "
   ]
  },
  {
   "cell_type": "code",
   "execution_count": 1,
   "metadata": {},
   "outputs": [],
   "source": [
    "# importing required libraries\n",
    "import pandas as pd\n",
    "import numpy as np\n",
    "import matplotlib.pyplot as plt\n",
    "from queue import PriorityQueue"
   ]
  },
  {
   "cell_type": "markdown",
   "metadata": {},
   "source": [
    "##### Non-Premeptive Priority Scheduling"
   ]
  },
  {
   "cell_type": "code",
   "execution_count": 2,
   "metadata": {},
   "outputs": [],
   "source": [
    "# function to generate gantt chart for non-premptive priority scheduling\n",
    "def generate_priority_gantt_chart_non_preemptive(process, priority):\n",
    "    df = pd.DataFrame({'Process': process, 'Priority': priority})\n",
    "    df.sort_values('Priority', inplace=True)\n",
    "    current_time = 0\n",
    "    gantt_chart = []\n",
    "\n",
    "    for index, row in df.iterrows():\n",
    "        proc = row['Process']\n",
    "        prio = row['Priority']\n",
    "\n",
    "        gantt_chart.append((proc, current_time, current_time + prio))\n",
    "        current_time += prio\n",
    "\n",
    "    fig, ax = plt.subplots()\n",
    "    fig.set_size_inches(15, 1)\n",
    "    for process, start, end in gantt_chart:\n",
    "        ax.broken_barh([(start, end - start)], (0, 1),\n",
    "                       facecolors=\"orange\", edgecolor=\"black\")\n",
    "        ax.text((start + end) / 2, 0.5, process,\n",
    "                ha='center', va='center', color=\"black\")\n",
    "\n",
    "    ax.set_yticks([])\n",
    "    ax.set_xticks(np.arange(0, current_time + 1, 1))\n",
    "    ax.set_xlabel(\"Time\")\n",
    "    plt.title(\"Non-Preemptive Priority Gantt Chart\")\n",
    "    plt.show()    "
   ]
  },
  {
   "cell_type": "code",
   "execution_count": 3,
   "metadata": {},
   "outputs": [],
   "source": [
    "# function to compute waiting time of all processes for non-preemptive priority scheduling\n",
    "def compute_priority_waiting_time_non_preemptive(process, burst_time, priority):\n",
    "    df = pd.DataFrame(\n",
    "        {'Process': process, 'BurstTime': burst_time, 'Priority': priority})\n",
    "    df_sorted = df.sort_values(by='Priority')\n",
    "    df_sorted = df_sorted.reset_index(drop=True)\n",
    "    df_sorted['WaitingTime'] = 0\n",
    "\n",
    "    for i in range(1, len(df_sorted)):\n",
    "        df_sorted.loc[i, 'WaitingTime'] = df_sorted.loc[i - 1,\n",
    "                                                        'BurstTime'] + df_sorted.loc[i - 1, 'WaitingTime']\n",
    "\n",
    "    return dict(zip(df_sorted['Process'], df_sorted['WaitingTime']))"
   ]
  },
  {
   "cell_type": "code",
   "execution_count": 4,
   "metadata": {},
   "outputs": [],
   "source": [
    "# function to turn around time of all processes for non-preemptive priority scheduling\n",
    "def compute_priority_turnaround_time_non_preemptive(process, burst_time, priority):\n",
    "    n = len(process)\n",
    "    df = pd.DataFrame(\n",
    "        {'Process': process, 'BurstTime': burst_time, 'Priority': priority})\n",
    "    df_sorted = df.sort_values(by='Priority')\n",
    "    df_sorted = df_sorted.reset_index(drop=True)\n",
    "\n",
    "    waiting_time = [0] * n\n",
    "    turnaround_time = [0] * n\n",
    "\n",
    "    waiting_time[0] = 0\n",
    "    for i in range(1, n):\n",
    "        waiting_time[i] = df_sorted.loc[i - 1, 'BurstTime'] + waiting_time[i-1]\n",
    "\n",
    "    for i in range(n):\n",
    "        turnaround_time[i] = df_sorted.loc[i, 'BurstTime'] + waiting_time[i]\n",
    "\n",
    "    return dict(zip(df_sorted['Process'], turnaround_time))"
   ]
  },
  {
   "cell_type": "code",
   "execution_count": 5,
   "metadata": {},
   "outputs": [
    {
     "data": {
      "image/png": "[encoded data removed]",
      "text/plain": [
       "<Figure size 1500x100 with 1 Axes>"
      ]
     },
     "metadata": {},
     "output_type": "display_data"
    },
    {
     "name": "stdout",
     "output_type": "stream",
     "text": [
      "|    | Process   |   BurstTime |   Priority |   WaitingTime |   TurnAroundTime |\n",
      "|---:|:----------|------------:|-----------:|--------------:|-----------------:|\n",
      "|  0 | P1        |          10 |          3 |             0 |                1 |\n",
      "|  1 | P2        |           1 |          1 |             1 |                6 |\n",
      "|  2 | P3        |           2 |          4 |             6 |               16 |\n",
      "|  3 | P4        |           1 |          5 |            16 |               18 |\n",
      "|  4 | P5        |           5 |          2 |            18 |               19 |\n",
      "\n",
      "Average Waiting Time:  8.2 milliseconds\n",
      "\n",
      "Average Turnaround Time:  12.0 milliseconds\n",
      "\n"
     ]
    }
   ],
   "source": [
    "# defining the processes, burst time and priority\n",
    "process = ['P1', 'P2', 'P3', 'P4', 'P5']\n",
    "burst_time = [10, 1, 2, 1, 5]\n",
    "priority = [3, 1, 4, 5, 2]\n",
    "\n",
    "\n",
    "# generating gantt chart for priority scheduling\n",
    "generate_priority_gantt_chart_non_preemptive(process, priority)\n",
    "\n",
    "\n",
    "# computing waiting time of all processes\n",
    "waiting_time = compute_priority_waiting_time_non_preemptive(\n",
    "    process, burst_time, priority)\n",
    "\n",
    "# computing turnaround time of all processes\n",
    "turn_around_time = compute_priority_turnaround_time_non_preemptive(\n",
    "    process, burst_time, priority)\n",
    "\n",
    "# generating dataframe for with waiting time and turnaround time\n",
    "df = pd.DataFrame({'Process': process, 'BurstTime': burst_time, 'Priority': priority,\n",
    "                   'WaitingTime': list(waiting_time.values()),\n",
    "                   'TurnAroundTime': list(turn_around_time.values())})\n",
    "print(df.to_markdown(), end=\"\\n\\n\")\n",
    "\n",
    "\n",
    "# computing and printing average waiting time\n",
    "print(\"Average Waiting Time: \", df['WaitingTime'].mean(), \"milliseconds\\n\")\n",
    "\n",
    "# computing and printing average turnaround time\n",
    "print(\"Average Turnaround Time: \",\n",
    "      df['TurnAroundTime'].mean(), \"milliseconds\\n\")"
   ]
  },
  {
   "cell_type": "markdown",
   "metadata": {},
   "source": [
    "##### Premeptive Priority Scheduling"
   ]
  },
  {
   "cell_type": "code",
   "execution_count": 6,
   "metadata": {},
   "outputs": [
    {
     "name": "stdout",
     "output_type": "stream",
     "text": [
      "Non-preemptive Priority Scheduling:\n",
      "Process\tArrival Time\tBurst Time\tPriority\tCompletion Time\tTurnaround Time\tWaiting Time\n",
      "P2\t1\t\t3\t\t1\t\t4\t\t3\t\t0\n",
      "P1\t0\t\t4\t\t2\t\t8\t\t8\t\t4\n",
      "P3\t2\t\t1\t\t3\t\t9\t\t7\t\t6\n",
      "P4\t3\t\t2\t\t4\t\t11\t\t8\t\t6\n",
      "Average Waiting Time: 4.00\n",
      "\n",
      "Preemptive Priority Scheduling:\n",
      "Process\tArrival Time\tBurst Time\tPriority\tCompletion Time\tTurnaround Time\tWaiting Time\n",
      "P2\t1\t\t3\t\t1\t\t4\t\t3\t\t0\n",
      "P1\t0\t\t4\t\t2\t\t7\t\t7\t\t3\n",
      "P3\t2\t\t1\t\t3\t\t8\t\t6\t\t5\n",
      "P4\t3\t\t2\t\t4\t\t10\t\t7\t\t5\n",
      "Average Waiting Time: 3.25\n"
     ]
    }
   ],
   "source": [
    "class Process:\n",
    "    def __init__(self, name, arrival_time, burst_time, priority):\n",
    "        self.name = name\n",
    "        self.arrival_time = arrival_time\n",
    "        self.burst_time = burst_time\n",
    "        self.priority = priority\n",
    "        self.remaining_time = burst_time\n",
    "\n",
    "def non_preemptive_priority_scheduling(processes):\n",
    "    processes.sort(key=lambda x: (x.priority, x.arrival_time))\n",
    "    n = len(processes)\n",
    "    completion_time = [0] * n\n",
    "    turnaround_time = [0] * n\n",
    "    waiting_time = [0] * n\n",
    "\n",
    "    for i in range(n):\n",
    "        if i == 0:\n",
    "            completion_time[i] = processes[i].arrival_time + processes[i].burst_time\n",
    "        else:\n",
    "            completion_time[i] = max(processes[i].arrival_time, completion_time[i - 1]) + processes[i].burst_time\n",
    "\n",
    "        turnaround_time[i] = completion_time[i] - processes[i].arrival_time\n",
    "        waiting_time[i] = turnaround_time[i] - processes[i].burst_time\n",
    "\n",
    "    total_waiting_time = sum(waiting_time)\n",
    "    avg_waiting_time = total_waiting_time / n\n",
    "\n",
    "    print(\"Non-preemptive Priority Scheduling:\")\n",
    "    print(\"Process\\tArrival Time\\tBurst Time\\tPriority\\tCompletion Time\\tTurnaround Time\\tWaiting Time\")\n",
    "    for i in range(n):\n",
    "        p = processes[i]\n",
    "        print(f\"{p.name}\\t{p.arrival_time}\\t\\t{p.burst_time}\\t\\t{p.priority}\\t\\t{completion_time[i]}\\t\\t{turnaround_time[i]}\\t\\t{waiting_time[i]}\")\n",
    "    print(f\"Average Waiting Time: {avg_waiting_time:.2f}\")\n",
    "\n",
    "def preemptive_priority_scheduling(processes):\n",
    "    n = len(processes)\n",
    "    current_time = 0\n",
    "    completion_time = [0] * n\n",
    "    turnaround_time = [0] * n\n",
    "    waiting_time = [0] * n\n",
    "\n",
    "    while True:\n",
    "        remaining_processes = [p for p in processes if p.remaining_time > 0 and p.arrival_time <= current_time]\n",
    "\n",
    "        if not remaining_processes:\n",
    "            break\n",
    "\n",
    "        highest_priority_process = min(remaining_processes, key=lambda x: x.priority)\n",
    "        index = processes.index(highest_priority_process)\n",
    "\n",
    "        processes[index].remaining_time -= 1\n",
    "        current_time += 1\n",
    "\n",
    "        if processes[index].remaining_time == 0:\n",
    "            completion_time[index] = current_time\n",
    "            turnaround_time[index] = completion_time[index] - processes[index].arrival_time\n",
    "            waiting_time[index] = turnaround_time[index] - processes[index].burst_time\n",
    "\n",
    "    total_waiting_time = sum(waiting_time)\n",
    "    avg_waiting_time = total_waiting_time / n\n",
    "\n",
    "    print(\"\\nPreemptive Priority Scheduling:\")\n",
    "    print(\"Process\\tArrival Time\\tBurst Time\\tPriority\\tCompletion Time\\tTurnaround Time\\tWaiting Time\")\n",
    "    for i in range(n):\n",
    "        p = processes[i]\n",
    "        print(f\"{p.name}\\t{p.arrival_time}\\t\\t{p.burst_time}\\t\\t{p.priority}\\t\\t{completion_time[i]}\\t\\t{turnaround_time[i]}\\t\\t{waiting_time[i]}\")\n",
    "    print(f\"Average Waiting Time: {avg_waiting_time:.2f}\")\n",
    "\n",
    "if __name__ == \"__main__\":\n",
    "    processes = [\n",
    "        Process(\"P1\", 0, 4, 2),\n",
    "        Process(\"P2\", 1, 3, 1),\n",
    "        Process(\"P3\", 2, 1, 3),\n",
    "        Process(\"P4\", 3, 2, 4)\n",
    "    ]\n",
    "\n",
    "    non_preemptive_priority_scheduling(processes)\n",
    "    preemptive_priority_scheduling(processes)"
   ]
  }
 ],
 "metadata": {
  "kernelspec": {
   "display_name": "Python 3",
   "language": "python",
   "name": "python3"
  },
  "language_info": {
   "codemirror_mode": {
    "name": "ipython",
    "version": 3
   },
   "file_extension": ".py",
   "mimetype": "text/x-python",
   "name": "python",
   "nbconvert_exporter": "python",
   "pygments_lexer": "ipython3",
   "version": "3.11.5"
  },
  "orig_nbformat": 4
 },
 "nbformat": 4,
 "nbformat_minor": 2
}
