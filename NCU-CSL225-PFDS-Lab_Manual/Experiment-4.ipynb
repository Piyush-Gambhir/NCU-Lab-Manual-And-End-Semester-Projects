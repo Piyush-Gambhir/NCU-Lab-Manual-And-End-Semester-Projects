{
 "cells": [
  {
   "cell_type": "markdown",
   "id": "79186366",
   "metadata": {},
   "source": [
    "## Problem Statement"
   ]
  },
  {
   "cell_type": "markdown",
   "id": "2739ac73",
   "metadata": {},
   "source": [
    "Check prime and Armstrong number by making functions."
   ]
  },
  {
   "cell_type": "code",
   "execution_count": 4,
   "id": "08e470cb",
   "metadata": {},
   "outputs": [
    {
     "name": "stdout",
     "output_type": "stream",
     "text": [
      "131 is not an Armstrong Number\n",
      "131 is a Prime Number\n"
     ]
    }
   ],
   "source": [
    "def isArmstrong(n):\n",
    "    sum = 0\n",
    "    temp = n\n",
    "    while temp > 0:\n",
    "        digit = temp % 10\n",
    "        sum += digit ** 3\n",
    "        temp //= 10\n",
    "    if n == sum:\n",
    "        return True\n",
    "    else:\n",
    "        return False\n",
    "\n",
    "\n",
    "def isPrime(n):\n",
    "    if (n == 1):\n",
    "        return False\n",
    "    if (n == 2):\n",
    "        return True\n",
    "    for i in range(2, n):\n",
    "        if (n % i == 0):\n",
    "            return False\n",
    "    return True\n",
    "\n",
    "\n",
    "n = int(input(\"Enter a Number: \"))\n",
    "\n",
    "if isArmstrong(n):\n",
    "    print(n, \"is an Armstrong Number\")\n",
    "else:\n",
    "    print(n, \"is not an Armstrong Number\")\n",
    "\n",
    "if isPrime(n):\n",
    "    print(n, \"is a Prime Number\")\n",
    "else:\n",
    "    print(n, \"is not a Prime Number\")\n"
   ]
  }
 ],
 "metadata": {
  "kernelspec": {
   "display_name": "Python 3 (ipykernel)",
   "language": "python",
   "name": "python3"
  },
  "language_info": {
   "codemirror_mode": {
    "name": "ipython",
    "version": 3
   },
   "file_extension": ".py",
   "mimetype": "text/x-python",
   "name": "python",
   "nbconvert_exporter": "python",
   "pygments_lexer": "ipython3",
   "version": "3.10.7"
  },
  "vscode": {
   "interpreter": {
    "hash": "5827bb77950f6316d9e848194dfccdbe99cc9d8eabac60195b2d068013bba3d3"
   }
  }
 },
 "nbformat": 4,
 "nbformat_minor": 5
}
