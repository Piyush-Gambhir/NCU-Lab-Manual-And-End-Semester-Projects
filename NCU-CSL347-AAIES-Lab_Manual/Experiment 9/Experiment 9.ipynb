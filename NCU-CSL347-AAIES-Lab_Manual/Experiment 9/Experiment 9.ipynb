{
 "cells": [
  {
   "cell_type": "markdown",
   "metadata": {},
   "source": [
    "# Experiment 9\n",
    "\n",
    "#### Problem Statement:\n",
    "A manufacturing company is trying to improve their quality control process. They have a dataset of historical quality data, which includes the results of quality tests, as well as the specifications for each product. Implement a Simple Expert system to identify potential quality problems.\n",
    "\n",
    "| Product ID | Test 1 Result | Test 2 Result | Test 3 Result | Specification 1 | Specification 2 | Specification 3 |\n",
    "|------------|---------------|---------------|---------------|-----------------|-----------------|-----------------|\n",
    "| 1          | 95            | 20            | 8             | 100             | 25              | 10              |\n",
    "| 2          | 98            | 22            | 9             | 100             | 20              | 10              |\n",
    "| 3          | 93            | 18            | 7             | 95              | 15              | 8               |\n",
    "| 4          | 100           | 24            | 10            | 100             | 25              | 12              |\n",
    "| 5          | 96            | 21            | 8             | 98              | 20              | 10              |\n",
    "| 6          | 92            | 19            | 6             | 95              | 15              | 8               |\n",
    "| 7          | 90            | 17            | 5             | 95              | 15              | 8               |\n"
   ]
  },
  {
   "cell_type": "markdown",
   "metadata": {},
   "source": [
    "#### Code: "
   ]
  },
  {
   "cell_type": "code",
   "execution_count": 3,
   "metadata": {},
   "outputs": [],
   "source": [
    "# importing required libraries\n",
    "import numpy as np\n",
    "import pandas as pd\n",
    "import matplotlib.pyplot as plt\n",
    "import seaborn as sns"
   ]
  },
  {
   "cell_type": "markdown",
   "metadata": {},
   "source": [
    "##### Load the dataset into a DataFrame"
   ]
  },
  {
   "cell_type": "code",
   "execution_count": 4,
   "metadata": {},
   "outputs": [],
   "source": [
    "# Load the dataset into a DataFrame\n",
    "def load_dataset():\n",
    "    # TODO: Load the dataset from a CSV file or define it here as a dictionary and create a DataFrame.\n",
    "    import pandas as pd\n",
    "\n",
    "    data = {\n",
    "        'Product ID': [1, 2, 3, 4, 5, 6, 7],\n",
    "        'Test 1 Result': [95, 98, 93, 100, 96, 92, 90],\n",
    "        'Test 2 Result': [20, 22, 18, 24, 21, 19, 17],\n",
    "        'Test 3 Result': [8, 9, 7, 10, 8, 6, 5],\n",
    "        'Specification 1': [100, 100, 95, 100, 98, 95, 95],\n",
    "        'Specification 2': [25, 20, 15, 25, 20, 15, 15],\n",
    "        'Specification 3': [10, 10, 8, 12, 10, 8, 8]\n",
    "    }\n",
    "\n",
    "    df = pd.DataFrame(data)\n",
    "    return df\n"
   ]
  },
  {
   "cell_type": "markdown",
   "metadata": {},
   "source": [
    "##### Identify Quality problems for a single product"
   ]
  },
  {
   "cell_type": "code",
   "execution_count": 5,
   "metadata": {},
   "outputs": [],
   "source": [
    "# Function to identify quality problems for a single product\n",
    "def identify_quality_problems_for_product(product_id, test_results, specifications):\n",
    "    problems = []\n",
    "    for i in range(3):\n",
    "        if test_results[i] < specifications[i]:\n",
    "            problems.append(f\"Product {product_id} failed Test {i+1}. Expected: {specifications[i]}, Got: {test_results[i]}\")\n",
    "    return problems"
   ]
  },
  {
   "cell_type": "markdown",
   "metadata": {},
   "source": [
    "##### Identify Quality problems for entire dataset"
   ]
  },
  {
   "cell_type": "code",
   "execution_count": 6,
   "metadata": {},
   "outputs": [],
   "source": [
    "# Function to identify quality problems in the entire dataset\n",
    "def identify_quality_problems(df):\n",
    "    problems = []\n",
    "    for index, row in df.iterrows():\n",
    "        product_id = row['Product ID']\n",
    "        test_results = [row['Test 1 Result'], row['Test 2 Result'], row['Test 3 Result']]\n",
    "        specifications = [row['Specification 1'], row['Specification 2'], row['Specification 3']]\n",
    "        \n",
    "        product_problems = identify_quality_problems_for_product(product_id, test_results, specifications)\n",
    "        problems.extend(product_problems)\n",
    "    return problems"
   ]
  },
  {
   "cell_type": "markdown",
   "metadata": {},
   "source": [
    "##### Main function to solve the problem"
   ]
  },
  {
   "cell_type": "code",
   "execution_count": 7,
   "metadata": {},
   "outputs": [
    {
     "name": "stdout",
     "output_type": "stream",
     "text": [
      "Quality problems detected:\n",
      "Product 1 failed Test 1. Expected: 100, Got: 95\n",
      "Product 1 failed Test 2. Expected: 25, Got: 20\n",
      "Product 1 failed Test 3. Expected: 10, Got: 8\n",
      "Product 2 failed Test 1. Expected: 100, Got: 98\n",
      "Product 2 failed Test 3. Expected: 10, Got: 9\n",
      "Product 3 failed Test 1. Expected: 95, Got: 93\n",
      "Product 3 failed Test 3. Expected: 8, Got: 7\n",
      "Product 4 failed Test 2. Expected: 25, Got: 24\n",
      "Product 4 failed Test 3. Expected: 12, Got: 10\n",
      "Product 5 failed Test 1. Expected: 98, Got: 96\n",
      "Product 5 failed Test 3. Expected: 10, Got: 8\n",
      "Product 6 failed Test 1. Expected: 95, Got: 92\n",
      "Product 6 failed Test 3. Expected: 8, Got: 6\n",
      "Product 7 failed Test 1. Expected: 95, Got: 90\n",
      "Product 7 failed Test 3. Expected: 8, Got: 5\n"
     ]
    }
   ],
   "source": [
    "# Main function to run the expert system\n",
    "def main():\n",
    "    df = load_dataset()\n",
    "    quality_problems = identify_quality_problems(df)\n",
    "\n",
    "    if len(quality_problems) == 0:\n",
    "        print(\"No quality problems detected.\")\n",
    "    else:\n",
    "        print(\"Quality problems detected:\")\n",
    "        for problem in quality_problems:\n",
    "                print(problem)\n",
    "\n",
    "if __name__ == \"__main__\":\n",
    "    main()"
   ]
  }
 ],
 "metadata": {
  "kernelspec": {
   "display_name": "Python 3",
   "language": "python",
   "name": "python3"
  },
  "language_info": {
   "codemirror_mode": {
    "name": "ipython",
    "version": 3
   },
   "file_extension": ".py",
   "mimetype": "text/x-python",
   "name": "python",
   "nbconvert_exporter": "python",
   "pygments_lexer": "ipython3",
   "version": "3.12.0"
  },
  "orig_nbformat": 4
 },
 "nbformat": 4,
 "nbformat_minor": 2
}
