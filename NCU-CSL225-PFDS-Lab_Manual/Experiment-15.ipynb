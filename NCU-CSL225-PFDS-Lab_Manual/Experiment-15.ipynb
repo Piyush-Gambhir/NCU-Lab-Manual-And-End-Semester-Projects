{
 "cells": [
  {
   "cell_type": "markdown",
   "id": "79186366",
   "metadata": {},
   "source": [
    "## Problem Statement"
   ]
  },
  {
   "cell_type": "markdown",
   "id": "2739ac73",
   "metadata": {},
   "source": [
    "Create a class “Person” with at least five attributes. Create five objects and display."
   ]
  },
  {
   "cell_type": "code",
   "execution_count": 13,
   "id": "2dfbc8cc",
   "metadata": {},
   "outputs": [
    {
     "name": "stdout",
     "output_type": "stream",
     "text": [
      "Name: John Doe\n",
      "Birthdate: 1990-01-01\n",
      "Address: Dwarka\n",
      "Telephone: 9895321458\n",
      "Email: john@mail.com\n",
      "\n",
      "Name: Dave Noah\n",
      "Birthdate: 1992-01-06\n",
      "Address: Palam\n",
      "Telephone: 989532143\n",
      "Email: dave@mail.com\n",
      "\n",
      "Name: Piyush Gambhir\n",
      "Birthdate: 1991-06-02\n",
      "Address: Gurugram\n",
      "Telephone: 9565321458\n",
      "Email: piyush@mail.com\n",
      "\n",
      "Name: Riten Dhawan\n",
      "Birthdate: 1996-04-01\n",
      "Address: Haryana\n",
      "Telephone: 9895644458\n",
      "Email: riten@mail.com\n",
      "\n",
      "Name: Pridhi Singh\n",
      "Birthdate: 1996-11-03\n",
      "Address: Chandigarh\n",
      "Telephone: 3433321458\n",
      "Email: pridhi@mail.com\n",
      "\n"
     ]
    }
   ],
   "source": [
    "import datetime\n",
    "\n",
    "\n",
    "class Person:\n",
    "\n",
    "    def __init__(self, name, surname, birthdate, address, telephone, email):\n",
    "        self.name = name\n",
    "        self.surname = surname\n",
    "        self.birthdate = birthdate\n",
    "        self.address = address\n",
    "        self.telephone = telephone\n",
    "        self.email = email\n",
    "\n",
    "    def __str__(self):\n",
    "        return \"Name: \" + self.name + \" \" + self.surname + \"\\n\" + \"Birthdate: \" \\\n",
    "            + str(self.birthdate) + \"\\n\" + \"Address: \" + self.address + \"\\n\" + \\\n",
    "            \"Telephone: \" + self.telephone + \"\\n\" + \"Email: \" + self.email + \"\\n\"\n",
    "\n",
    "\n",
    "john = Person(\"John\", \"Doe\", datetime.date(1990, 1, 1),\n",
    "              \"Dwarka\", \"9895321458\", \"john@mail.com\")\n",
    "print(john)\n",
    "\n",
    "dave = Person(\"Dave\", \"Noah\", datetime.date(1992, 1, 6),\n",
    "              \"Palam\", \"989532143\", \"dave@mail.com\")\n",
    "print(dave)\n",
    "piyush = Person(\"Piyush\", \"Gambhir\", datetime.date(1991, 6, 2),\n",
    "                \"Gurugram\", \"9565321458\", \"piyush@mail.com\")\n",
    "print(piyush)\n",
    "riten = Person(\"Riten\", \"Dhawan\", datetime.date(1996, 4, 1),\n",
    "               \"Haryana\", \"9895644458\", \"riten@mail.com\")\n",
    "print(riten)\n",
    "pridhi = Person(\"Pridhi\", \"Singh\", datetime.date(1996, 11, 3),\n",
    "                \"Chandigarh\", \"3433321458\", \"pridhi@mail.com\")\n",
    "print(pridhi)\n"
   ]
  }
 ],
 "metadata": {
  "kernelspec": {
   "display_name": "Python 3 (ipykernel)",
   "language": "python",
   "name": "python3"
  },
  "language_info": {
   "codemirror_mode": {
    "name": "ipython",
    "version": 3
   },
   "file_extension": ".py",
   "mimetype": "text/x-python",
   "name": "python",
   "nbconvert_exporter": "python",
   "pygments_lexer": "ipython3",
   "version": "3.10.8"
  },
  "vscode": {
   "interpreter": {
    "hash": "5827bb77950f6316d9e848194dfccdbe99cc9d8eabac60195b2d068013bba3d3"
   }
  }
 },
 "nbformat": 4,
 "nbformat_minor": 5
}
