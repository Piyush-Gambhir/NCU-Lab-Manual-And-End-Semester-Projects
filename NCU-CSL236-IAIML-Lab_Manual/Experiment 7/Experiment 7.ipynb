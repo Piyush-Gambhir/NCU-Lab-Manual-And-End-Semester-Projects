{
 "cells": [
  {
   "cell_type": "markdown",
   "metadata": {},
   "source": [
    "# Experiment 7"
   ]
  },
  {
   "cell_type": "markdown",
   "metadata": {},
   "source": [
    "#### Problem Statement: \n",
    "Verifying Linear Regression using Ordinary Least Scale."
   ]
  },
  {
   "cell_type": "markdown",
   "metadata": {},
   "source": [
    "#### Code: "
   ]
  },
  {
   "cell_type": "code",
   "execution_count": 18,
   "metadata": {},
   "outputs": [],
   "source": [
    "# import required libraries\n",
    "from sklearn.linear_model import LinearRegression\n",
    "import pandas as pd"
   ]
  },
  {
   "cell_type": "code",
   "execution_count": 19,
   "metadata": {},
   "outputs": [],
   "source": [
    "# create a dataframe with sample data\n",
    "df = pd.DataFrame({'X': [95, 85, 80, 70, 60], 'Y': [85, 95, 70, 65, 70]})"
   ]
  },
  {
   "cell_type": "code",
   "execution_count": 20,
   "metadata": {},
   "outputs": [
    {
     "name": "stdout",
     "output_type": "stream",
     "text": [
      "The value of Y is:  33.21917808219178\n"
     ]
    }
   ],
   "source": [
    "# computer the mean of X and Y\n",
    "x_mean = df['X'].mean()\n",
    "y_mean = df['Y'].mean()\n",
    "\n",
    "# compute the slope and intercept\n",
    "slope = ((df['X'] - x_mean) * (df['Y'] - y_mean)).sum() / \\\n",
    "    ((df['X'] - x_mean) ** 2).sum()\n",
    "intercept = y_mean - slope * x_mean\n",
    "\n",
    "# taking input from user\n",
    "x = int(input(\"Enter the value of X: \"))\n",
    "y = intercept + slope * x\n",
    "print(\"The value of Y is: \", y)"
   ]
  },
  {
   "cell_type": "code",
   "execution_count": 21,
   "metadata": {},
   "outputs": [
    {
     "name": "stdout",
     "output_type": "stream",
     "text": [
      "The value of Y is:  33.21917808219179\n"
     ]
    }
   ],
   "source": [
    "# reshaping the data\n",
    "X = df['X'].values.reshape(-1, 1)\n",
    "Y = df['Y'].values.reshape(-1, 1)\n",
    "\n",
    "# applying linear regression model\n",
    "reg = LinearRegression().fit(X, Y)\n",
    "\n",
    "# taking input from user\n",
    "x = int(input(\"Enter the value of X: \"))\n",
    "y = reg.predict([[x]])\n",
    "\n",
    "# printing the value of Y\n",
    "print(\"The value of Y is: \", y[0][0])"
   ]
  }
 ],
 "metadata": {
  "kernelspec": {
   "display_name": "Python 3",
   "language": "python",
   "name": "python3"
  },
  "language_info": {
   "codemirror_mode": {
    "name": "ipython",
    "version": 3
   },
   "file_extension": ".py",
   "mimetype": "text/x-python",
   "name": "python",
   "nbconvert_exporter": "python",
   "pygments_lexer": "ipython3",
   "version": "3.11.5"
  }
 },
 "nbformat": 4,
 "nbformat_minor": 2
}
