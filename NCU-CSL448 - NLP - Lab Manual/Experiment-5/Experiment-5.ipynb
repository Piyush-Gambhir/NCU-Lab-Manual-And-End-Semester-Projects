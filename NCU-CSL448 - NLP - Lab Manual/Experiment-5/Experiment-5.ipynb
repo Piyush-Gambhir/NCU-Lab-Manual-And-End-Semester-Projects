{
 "cells": [
  {
   "cell_type": "markdown",
   "id": "5acd2396",
   "metadata": {},
   "source": [
    "# **Experiment-5**"
   ]
  },
  {
   "cell_type": "markdown",
   "id": "a0937bb1",
   "metadata": {},
   "source": [
    "### Objective: \n",
    "Write a program to perform add-one smoothing on a sparse bigram table."
   ]
  },
  {
   "cell_type": "code",
   "execution_count": 1,
   "id": "d04d0cd6",
   "metadata": {},
   "outputs": [
    {
     "name": "stdout",
     "output_type": "stream",
     "text": [
      "Requirement already satisfied: nltk in c:\\users\\mainp\\appdata\\local\\programs\\python\\python312\\lib\\site-packages (3.9.1)\n",
      "Requirement already satisfied: pandas in c:\\users\\mainp\\appdata\\local\\programs\\python\\python312\\lib\\site-packages (2.2.3)\n",
      "Requirement already satisfied: click in c:\\users\\mainp\\appdata\\local\\programs\\python\\python312\\lib\\site-packages (from nltk) (8.1.7)\n",
      "Requirement already satisfied: joblib in c:\\users\\mainp\\appdata\\local\\programs\\python\\python312\\lib\\site-packages (from nltk) (1.4.2)\n",
      "Requirement already satisfied: regex>=2021.8.3 in c:\\users\\mainp\\appdata\\local\\programs\\python\\python312\\lib\\site-packages (from nltk) (2024.11.6)\n",
      "Requirement already satisfied: tqdm in c:\\users\\mainp\\appdata\\local\\programs\\python\\python312\\lib\\site-packages (from nltk) (4.67.0)\n",
      "Requirement already satisfied: numpy>=1.26.0 in c:\\users\\mainp\\appdata\\local\\programs\\python\\python312\\lib\\site-packages (from pandas) (2.0.2)\n",
      "Requirement already satisfied: python-dateutil>=2.8.2 in c:\\users\\mainp\\appdata\\roaming\\python\\python312\\site-packages (from pandas) (2.9.0.post0)\n",
      "Requirement already satisfied: pytz>=2020.1 in c:\\users\\mainp\\appdata\\local\\programs\\python\\python312\\lib\\site-packages (from pandas) (2024.2)\n",
      "Requirement already satisfied: tzdata>=2022.7 in c:\\users\\mainp\\appdata\\local\\programs\\python\\python312\\lib\\site-packages (from pandas) (2024.2)\n",
      "Requirement already satisfied: six>=1.5 in c:\\users\\mainp\\appdata\\roaming\\python\\python312\\site-packages (from python-dateutil>=2.8.2->pandas) (1.16.0)\n",
      "Requirement already satisfied: colorama in c:\\users\\mainp\\appdata\\roaming\\python\\python312\\site-packages (from click->nltk) (0.4.6)\n",
      "Note: you may need to restart the kernel to use updated packages.\n"
     ]
    },
    {
     "name": "stderr",
     "output_type": "stream",
     "text": [
      "\n",
      "[notice] A new release of pip is available: 24.2 -> 24.3.1\n",
      "[notice] To update, run: python.exe -m pip install --upgrade pip\n"
     ]
    }
   ],
   "source": [
    "%pip install nltk pandas"
   ]
  },
  {
   "cell_type": "markdown",
   "id": "8114dc54",
   "metadata": {},
   "source": [
    "### **Importing Libraries**"
   ]
  },
  {
   "cell_type": "code",
   "execution_count": 2,
   "id": "bacebd0c",
   "metadata": {},
   "outputs": [
    {
     "name": "stderr",
     "output_type": "stream",
     "text": [
      "[nltk_data] Downloading package punkt to C:/nltk_data...\n",
      "[nltk_data]   Package punkt is already up-to-date!\n"
     ]
    },
    {
     "data": {
      "text/plain": [
       "True"
      ]
     },
     "execution_count": 2,
     "metadata": {},
     "output_type": "execute_result"
    }
   ],
   "source": [
    "# Import necessary libraries\n",
    "import nltk\n",
    "import pandas as pd\n",
    "from nltk import bigrams\n",
    "from nltk.probability import FreqDist, ConditionalFreqDist\n",
    "\n",
    "# Download necessary NLTK data files\n",
    "nltk.download(\"punkt\", download_dir=\"C:/nltk_data\")"
   ]
  },
  {
   "cell_type": "markdown",
   "id": "4c0a62ac",
   "metadata": {},
   "source": [
    "### **Reading Text from a Text File**"
   ]
  },
  {
   "cell_type": "code",
   "execution_count": 3,
   "id": "9e0aa3bd",
   "metadata": {},
   "outputs": [
    {
     "name": "stdout",
     "output_type": "stream",
     "text": [
      "Tokens: ['microsoft', 'announced', 'a', 'new', 'product', 'launch', 'event', 'in', 'new', 'york', 'city', 'on', 'december', '1st', ',', '2024.', 'elon', 'musk', ',', 'the', 'ceo', 'of', 'tesla', ',', 'hinted', 'at', 'a', 'partnership', 'with', 'nasa', 'for', 'a', 'mars', 'mission', '.', 'the', 'gdp', 'of', 'india', 'grew', 'by', '7', '%', 'in', 'the', 'first', 'quarter', 'of', '2023', ',', 'according', 'to', 'a', 'report', 'by', 'reuters', '.', 'amazon', 'is', 'planning', 'to', 'open', 'a', 'new', 'data', 'center', 'in', 'dublin', ',', 'ireland', 'next', 'year', '.', 'barack', 'obama', 'gave', 'a', 'keynote', 'speech', 'at', 'stanford', 'university', 'last', 'thursday', '.', 'bitcoin', 'reached', 'an', 'all-time', 'high', 'of', '$', '68,000', 'in', 'november', '2021.', 'the', 'louvre', 'museum', 'in', 'paris', 'saw', 'record-breaking', 'attendance', 'last', 'summer', '.']\n"
     ]
    }
   ],
   "source": [
    "def read_text_file(file_path):\n",
    "    \"\"\"Read text data from the specified file.\"\"\"\n",
    "    with open(file_path, 'r', encoding='utf-8') as file:\n",
    "        text = file.read()\n",
    "    return text\n",
    "\n",
    "# Specify the file path\n",
    "file_path = 'input.txt'\n",
    "\n",
    "# Read and tokenize the text\n",
    "text = read_text_file(file_path)\n",
    "tokens = nltk.word_tokenize(text.lower())\n",
    "print(\"Tokens:\", tokens)"
   ]
  },
  {
   "cell_type": "code",
   "execution_count": 4,
   "id": "0f9a54d2",
   "metadata": {},
   "outputs": [
    {
     "data": {
      "text/html": [
       "<div>\n",
       "<style scoped>\n",
       "    .dataframe tbody tr th:only-of-type {\n",
       "        vertical-align: middle;\n",
       "    }\n",
       "\n",
       "    .dataframe tbody tr th {\n",
       "        vertical-align: top;\n",
       "    }\n",
       "\n",
       "    .dataframe thead th {\n",
       "        text-align: right;\n",
       "    }\n",
       "</style>\n",
       "<table border=\"1\" class=\"dataframe\">\n",
       "  <thead>\n",
       "    <tr style=\"text-align: right;\">\n",
       "      <th></th>\n",
       "      <th>Word1</th>\n",
       "      <th>Word2</th>\n",
       "      <th>Frequency</th>\n",
       "    </tr>\n",
       "  </thead>\n",
       "  <tbody>\n",
       "    <tr>\n",
       "      <th>0</th>\n",
       "      <td>microsoft</td>\n",
       "      <td>announced</td>\n",
       "      <td>1</td>\n",
       "    </tr>\n",
       "    <tr>\n",
       "      <th>1</th>\n",
       "      <td>announced</td>\n",
       "      <td>a</td>\n",
       "      <td>1</td>\n",
       "    </tr>\n",
       "    <tr>\n",
       "      <th>2</th>\n",
       "      <td>a</td>\n",
       "      <td>new</td>\n",
       "      <td>2</td>\n",
       "    </tr>\n",
       "    <tr>\n",
       "      <th>3</th>\n",
       "      <td>new</td>\n",
       "      <td>product</td>\n",
       "      <td>1</td>\n",
       "    </tr>\n",
       "    <tr>\n",
       "      <th>4</th>\n",
       "      <td>product</td>\n",
       "      <td>launch</td>\n",
       "      <td>1</td>\n",
       "    </tr>\n",
       "    <tr>\n",
       "      <th>...</th>\n",
       "      <td>...</td>\n",
       "      <td>...</td>\n",
       "      <td>...</td>\n",
       "    </tr>\n",
       "    <tr>\n",
       "      <th>100</th>\n",
       "      <td>saw</td>\n",
       "      <td>record-breaking</td>\n",
       "      <td>1</td>\n",
       "    </tr>\n",
       "    <tr>\n",
       "      <th>101</th>\n",
       "      <td>record-breaking</td>\n",
       "      <td>attendance</td>\n",
       "      <td>1</td>\n",
       "    </tr>\n",
       "    <tr>\n",
       "      <th>102</th>\n",
       "      <td>attendance</td>\n",
       "      <td>last</td>\n",
       "      <td>1</td>\n",
       "    </tr>\n",
       "    <tr>\n",
       "      <th>103</th>\n",
       "      <td>last</td>\n",
       "      <td>summer</td>\n",
       "      <td>1</td>\n",
       "    </tr>\n",
       "    <tr>\n",
       "      <th>104</th>\n",
       "      <td>summer</td>\n",
       "      <td>.</td>\n",
       "      <td>1</td>\n",
       "    </tr>\n",
       "  </tbody>\n",
       "</table>\n",
       "<p>105 rows × 3 columns</p>\n",
       "</div>"
      ],
      "text/plain": [
       "               Word1            Word2  Frequency\n",
       "0          microsoft        announced          1\n",
       "1          announced                a          1\n",
       "2                  a              new          2\n",
       "3                new          product          1\n",
       "4            product           launch          1\n",
       "..               ...              ...        ...\n",
       "100              saw  record-breaking          1\n",
       "101  record-breaking       attendance          1\n",
       "102       attendance             last          1\n",
       "103             last           summer          1\n",
       "104           summer                .          1\n",
       "\n",
       "[105 rows x 3 columns]"
      ]
     },
     "execution_count": 4,
     "metadata": {},
     "output_type": "execute_result"
    }
   ],
   "source": [
    "# Create a frequency distribution of bigrams\n",
    "bigram_fd = FreqDist(bigrams(tokens))\n",
    "\n",
    "# Create a frequency distribution of unigrams\n",
    "unigram_fd = FreqDist(tokens)\n",
    "\n",
    "# Display the bigram frequency table\n",
    "bigram_df = pd.DataFrame(\n",
    "    [(w1, w2, count) for (w1, w2), count in bigram_fd.items()],\n",
    "    columns=[\"Word1\", \"Word2\", \"Frequency\"]\n",
    ")\n",
    "bigram_df"
   ]
  },
  {
   "cell_type": "code",
   "execution_count": 5,
   "id": "0351afb9",
   "metadata": {},
   "outputs": [],
   "source": [
    "def add_one_smoothing(bigram_fd, unigram_fd, vocabulary_size):\n",
    "    \"\"\"Apply Add-One Smoothing to the bigram frequency table.\"\"\"\n",
    "    smoothed_bigram_probs = {}\n",
    "    for (w1, w2), count in bigram_fd.items():\n",
    "        # Calculate smoothed probability\n",
    "        smoothed_prob = (count + 1) / (unigram_fd[w1] + vocabulary_size)\n",
    "        smoothed_bigram_probs[(w1, w2)] = smoothed_prob\n",
    "\n",
    "    return smoothed_bigram_probs\n",
    "\n",
    "# Calculate the vocabulary size\n",
    "vocabulary_size = len(unigram_fd)\n",
    "\n",
    "# Apply Add-One Smoothing\n",
    "smoothed_probs = add_one_smoothing(bigram_fd, unigram_fd, vocabulary_size)"
   ]
  },
  {
   "cell_type": "code",
   "execution_count": 6,
   "id": "83e947dd",
   "metadata": {},
   "outputs": [
    {
     "data": {
      "text/html": [
       "<div>\n",
       "<style scoped>\n",
       "    .dataframe tbody tr th:only-of-type {\n",
       "        vertical-align: middle;\n",
       "    }\n",
       "\n",
       "    .dataframe tbody tr th {\n",
       "        vertical-align: top;\n",
       "    }\n",
       "\n",
       "    .dataframe thead th {\n",
       "        text-align: right;\n",
       "    }\n",
       "</style>\n",
       "<table border=\"1\" class=\"dataframe\">\n",
       "  <thead>\n",
       "    <tr style=\"text-align: right;\">\n",
       "      <th></th>\n",
       "      <th>Word1</th>\n",
       "      <th>Word2</th>\n",
       "      <th>Smoothed Probability</th>\n",
       "    </tr>\n",
       "  </thead>\n",
       "  <tbody>\n",
       "    <tr>\n",
       "      <th>0</th>\n",
       "      <td>microsoft</td>\n",
       "      <td>announced</td>\n",
       "      <td>0.025316</td>\n",
       "    </tr>\n",
       "    <tr>\n",
       "      <th>1</th>\n",
       "      <td>announced</td>\n",
       "      <td>a</td>\n",
       "      <td>0.025316</td>\n",
       "    </tr>\n",
       "    <tr>\n",
       "      <th>2</th>\n",
       "      <td>a</td>\n",
       "      <td>new</td>\n",
       "      <td>0.035714</td>\n",
       "    </tr>\n",
       "    <tr>\n",
       "      <th>3</th>\n",
       "      <td>new</td>\n",
       "      <td>product</td>\n",
       "      <td>0.024691</td>\n",
       "    </tr>\n",
       "    <tr>\n",
       "      <th>4</th>\n",
       "      <td>product</td>\n",
       "      <td>launch</td>\n",
       "      <td>0.025316</td>\n",
       "    </tr>\n",
       "    <tr>\n",
       "      <th>...</th>\n",
       "      <td>...</td>\n",
       "      <td>...</td>\n",
       "      <td>...</td>\n",
       "    </tr>\n",
       "    <tr>\n",
       "      <th>100</th>\n",
       "      <td>saw</td>\n",
       "      <td>record-breaking</td>\n",
       "      <td>0.025316</td>\n",
       "    </tr>\n",
       "    <tr>\n",
       "      <th>101</th>\n",
       "      <td>record-breaking</td>\n",
       "      <td>attendance</td>\n",
       "      <td>0.025316</td>\n",
       "    </tr>\n",
       "    <tr>\n",
       "      <th>102</th>\n",
       "      <td>attendance</td>\n",
       "      <td>last</td>\n",
       "      <td>0.025316</td>\n",
       "    </tr>\n",
       "    <tr>\n",
       "      <th>103</th>\n",
       "      <td>last</td>\n",
       "      <td>summer</td>\n",
       "      <td>0.025000</td>\n",
       "    </tr>\n",
       "    <tr>\n",
       "      <th>104</th>\n",
       "      <td>summer</td>\n",
       "      <td>.</td>\n",
       "      <td>0.025316</td>\n",
       "    </tr>\n",
       "  </tbody>\n",
       "</table>\n",
       "<p>105 rows × 3 columns</p>\n",
       "</div>"
      ],
      "text/plain": [
       "               Word1            Word2  Smoothed Probability\n",
       "0          microsoft        announced              0.025316\n",
       "1          announced                a              0.025316\n",
       "2                  a              new              0.035714\n",
       "3                new          product              0.024691\n",
       "4            product           launch              0.025316\n",
       "..               ...              ...                   ...\n",
       "100              saw  record-breaking              0.025316\n",
       "101  record-breaking       attendance              0.025316\n",
       "102       attendance             last              0.025316\n",
       "103             last           summer              0.025000\n",
       "104           summer                .              0.025316\n",
       "\n",
       "[105 rows x 3 columns]"
      ]
     },
     "execution_count": 6,
     "metadata": {},
     "output_type": "execute_result"
    }
   ],
   "source": [
    "# Convert smoothed probabilities to a DataFrame\n",
    "df_smoothed_probs = pd.DataFrame(\n",
    "    [(w1, w2, prob) for (w1, w2), prob in smoothed_probs.items()],\n",
    "    columns=[\"Word1\", \"Word2\", \"Smoothed Probability\"]\n",
    ")\n",
    "\n",
    "# Display the smoothed bigram probabilities\n",
    "df_smoothed_probs"
   ]
  }
 ],
 "metadata": {
  "kernelspec": {
   "display_name": "Python 3",
   "language": "python",
   "name": "python3"
  },
  "language_info": {
   "codemirror_mode": {
    "name": "ipython",
    "version": 3
   },
   "file_extension": ".py",
   "mimetype": "text/x-python",
   "name": "python",
   "nbconvert_exporter": "python",
   "pygments_lexer": "ipython3",
   "version": "3.12.7"
  }
 },
 "nbformat": 4,
 "nbformat_minor": 5
}
